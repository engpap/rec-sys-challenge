{
 "cells": [
  {
   "cell_type": "code",
   "execution_count": 1,
   "metadata": {},
   "outputs": [
    {
     "name": "stdout",
     "output_type": "stream",
     "text": [
      "Using randomized datasets. k=10, val_percentage=0.1\n",
      "Warning: 2766 (6.64 %) of 41629 users have no sampled items\n",
      "Warning: 2897 (6.96 %) of 41629 users have no sampled items\n",
      "Warning: 2808 (6.75 %) of 41629 users have no sampled items\n",
      "Warning: 2811 (6.75 %) of 41629 users have no sampled items\n",
      "Warning: 2863 (6.88 %) of 41629 users have no sampled items\n",
      "Warning: 2849 (6.84 %) of 41629 users have no sampled items\n",
      "Warning: 2811 (6.75 %) of 41629 users have no sampled items\n",
      "Warning: 2876 (6.91 %) of 41629 users have no sampled items\n",
      "Warning: 2916 (7.00 %) of 41629 users have no sampled items\n",
      "Warning: 2774 (6.66 %) of 41629 users have no sampled items\n",
      "Initalizing all k recommenders of type EASE_R_Recommender...\n",
      "EASE_R_Recommender: URM Detected 3461 (12.4%) items with no interactions.\n",
      "EASE_R_Recommender: URM Detected 3461 (12.4%) items with no interactions.\n",
      "EASE_R_Recommender: URM Detected 3461 (12.4%) items with no interactions.\n",
      "EASE_R_Recommender: URM Detected 3461 (12.4%) items with no interactions.\n",
      "EASE_R_Recommender: URM Detected 3461 (12.4%) items with no interactions.\n",
      "EASE_R_Recommender: URM Detected 3461 (12.4%) items with no interactions.\n",
      "EASE_R_Recommender: URM Detected 3461 (12.4%) items with no interactions.\n",
      "EASE_R_Recommender: URM Detected 3461 (12.4%) items with no interactions.\n",
      "EASE_R_Recommender: URM Detected 3461 (12.4%) items with no interactions.\n",
      "EASE_R_Recommender: URM Detected 3461 (12.4%) items with no interactions.\n",
      "Finished initialization!\n",
      "Starting fitting and evaluating...\n"
     ]
    }
   ],
   "source": [
    "import numpy as np\n",
    "\n",
    "from hybrid import *\n",
    "from Recommenders.KNN.UserKNN_CFCBF_Hybrid_Recommender import UserKNN_CFCBF_Hybrid_Recommender\n",
    "from Recommenders.KNN.ItemKNN_CFCBF_Hybrid_Recommender import ItemKNN_CFCBF_Hybrid_Recommender\n",
    "from Recommenders.KNN.UserKNNCFRecommender import UserKNNCFRecommender\n",
    "\n",
    "from k_fold_hyperparam_search.Utility import Utility\n",
    "from k_fold_hyperparam_search.evaluate import evaluate_algorithm\n",
    "from k_fold_hyperparam_search.hyperparam_def import names, spaces\n",
    "\n",
    "\n",
    "# Set parameters\n",
    "n_calls = 25\n",
    "k = 10\n",
    "validation_percentage = 0.1\n",
    "recommender_class = EASE_R_Recommender\n",
    "\n",
    "utility = Utility()\n",
    "\n",
    "\n",
    "print(\"Using randomized datasets. k={}, val_percentage={}\".format(k, validation_percentage))\n",
    "\n",
    "URM_aug_trains, URM_pow_trains, ICM, UCM, URM_tests = utility.give_me_randomized_k_folds_with_val_percentage(k, validation_percentage)\n",
    "\n",
    "assert len(URM_aug_trains) == len(URM_tests)\n",
    "\n",
    "print(\"Initalizing all k recommenders of type {}...\".format(recommender_class.__name__))\n",
    "\n",
    "recommenders = []\n",
    "if(recommender_class == HybridRecommender_7):\n",
    "    for URM_train_aug, URM_train_pow in zip(URM_aug_trains, URM_pow_trains):\n",
    "        recommenders.append(recommender_class(\n",
    "            URM_train_aug, URM_train_pow, UCM))\n",
    "\n",
    "elif(recommender_class == UserKNN_CFCBF_Hybrid_Recommender):\n",
    "    for URM_train_aug in URM_aug_trains:\n",
    "        recommenders.append(recommender_class(URM_train_aug, UCM))\n",
    "\n",
    "elif(recommender_class == ItemKNN_CFCBF_Hybrid_Recommender):\n",
    "    for URM_train_pow in URM_pow_trains:\n",
    "        recommenders.append(recommender_class(URM_train_pow,ICM))\n",
    "\n",
    "elif(recommender_class == UserKNNCFRecommender):\n",
    "    for URM_train_aug in URM_aug_trains:\n",
    "        recommenders.append(recommender_class(URM_train_aug))\n",
    "\n",
    "elif(recommender_class == EASE_R_Recommender):\n",
    "    for URM_train_aug in URM_aug_trains:\n",
    "        recommenders.append(recommender_class(URM_train_aug))\n",
    "\n",
    "elif(recommender_class == SLIMElasticNetRecommender or recommender_class == RP3betaRecommender):\n",
    "    for URM_train_pow in URM_pow_trains:\n",
    "        recommenders.append(recommender_class(URM_train_pow))\n",
    "\n",
    "elif(recommender_class==Hybrid_User_and_Item_KNN_CFCBF_Hybrid):\n",
    "    for URM_train_aug, URM_train_pow in zip(URM_aug_trains, URM_pow_trains):\n",
    "        _ItemKNN_CFCBF_Hybrid_Recommender = ItemKNN_CFCBF_Hybrid_Recommender(URM_train_aug,ICM)\n",
    "        _ItemKNN_CFCBF_Hybrid_Recommender.fit(0.011278462705558101,topK=661,shrink=36)\n",
    "\n",
    "        _UserKNN_CFCBF_Hybrid_Recommender = UserKNN_CFCBF_Hybrid_Recommender(URM_train_aug,UCM)\n",
    "        _UserKNN_CFCBF_Hybrid_Recommender.fit(0.01,topK=669,shrink=50)\n",
    "\n",
    "        recommenders.append(recommender_class(URM_train_aug,URM_train_pow,_ItemKNN_CFCBF_Hybrid_Recommender,_UserKNN_CFCBF_Hybrid_Recommender))\n",
    "elif(recommender_class == Hybrid_006022):\n",
    "    for URM_train_aug, URM_train_pow in zip(URM_aug_trains, URM_pow_trains):\n",
    "        UserKNNCF = UserKNNCFRecommender(URM_train_aug)\n",
    "        UserKNNCF.fit()\n",
    "\n",
    "        RP3beta_aug = RP3betaRecommender(URM_train_aug)\n",
    "        RP3beta_aug.fit()\n",
    "\n",
    "        S_SLIM = SLIMElasticNetRecommender(URM_train_pow)\n",
    "        S_SLIM.fit()\n",
    "\n",
    "        Hybrid_SSLIM_RP3B_aug = Hybrid_SSLIM_RP3B_aug(\n",
    "            URM_train_aug, S_SLIM, RP3beta_aug)\n",
    "        Hybrid_SSLIM_RP3B_aug.fit(alpha = 0.7447123958484749)\n",
    "\n",
    "        Hybrid_006022 = Hybrid_006022(URM_train_aug, URM_train_pow, ICM, UCM, Hybrid_SSLIM_RP3B_aug, UserKNNCF)\n",
    "        Hybrid_006022.fit(Hybrid_1_tier1_weight= 0.4730071105820606, Hybrid_2_tier1_weight= 1.0, Hybrid_1_tier2_weight= 1.0, Hybrid_2_tier2_weight= 1.0, Hybrid_1_tier3_weight=1.0)\n",
    "\n",
    "else:\n",
    "    for URM_train_aug, URM_train_pow in zip(URM_aug_trains, URM_pow_trains):\n",
    "        recommenders.append(recommender_class(\n",
    "            URM_train_aug, URM_train_pow))\n",
    "\n",
    "print(\"Finished initialization!\\nStarting fitting and evaluating...\")"
   ]
  },
  {
   "cell_type": "code",
   "execution_count": 3,
   "metadata": {},
   "outputs": [
    {
     "name": "stdout",
     "output_type": "stream",
     "text": [
      "EASE_R_Recommender: Fitting model... \n",
      "EASE_R_Recommender: Fitting model... done in 5.58 min\n",
      "Evaluated fold number: 1\n",
      "EASE_R_Recommender: Fitting model... \n",
      "EASE_R_Recommender: Fitting model... done in 5.32 min\n",
      "Evaluated fold number: 2\n",
      "EASE_R_Recommender: Fitting model... \n",
      "EASE_R_Recommender: Fitting model... done in 6.65 min\n"
     ]
    },
    {
     "ename": "KeyboardInterrupt",
     "evalue": "",
     "output_type": "error",
     "traceback": [
      "\u001b[0;31m---------------------------------------------------------------------------\u001b[0m",
      "\u001b[0;31mKeyboardInterrupt\u001b[0m                         Traceback (most recent call last)",
      "Cell \u001b[0;32mIn [3], line 5\u001b[0m\n\u001b[1;32m      3\u001b[0m \u001b[39mfor\u001b[39;00m recommender, test \u001b[39min\u001b[39;00m \u001b[39mzip\u001b[39m(recommenders, URM_tests):\n\u001b[1;32m      4\u001b[0m     recommender\u001b[39m.\u001b[39mfit(topK \u001b[39m=\u001b[39m \u001b[39m373\u001b[39m, l2_norm \u001b[39m=\u001b[39m \u001b[39m111.12863230985445\u001b[39m)    \n\u001b[0;32m----> 5\u001b[0m     _, _, MAP \u001b[39m=\u001b[39m evaluate_algorithm(test, recommender)\n\u001b[1;32m      6\u001b[0m     scores\u001b[39m.\u001b[39mappend(MAP)\n\u001b[1;32m      7\u001b[0m     \u001b[39mprint\u001b[39m(\u001b[39m\"\u001b[39m\u001b[39mEvaluated fold number: \u001b[39m\u001b[39m{}\u001b[39;00m\u001b[39m\"\u001b[39m\u001b[39m.\u001b[39mformat(count))\n",
      "File \u001b[0;32m~/Desktop/UNIVERSITA/MAGISTRALE/PRIMO ANNO/PRIMO SEMESTRE/RECOMMENDER SYSTEMS/Challenge/Git Folder/rec-sys-challenge/k_fold_hyperparam_search/evaluate.py:43\u001b[0m, in \u001b[0;36mevaluate_algorithm\u001b[0;34m(URM_test, recommender_object)\u001b[0m\n\u001b[1;32m     41\u001b[0m         cumulative_precision \u001b[39m+\u001b[39m\u001b[39m=\u001b[39m precision(recommended_items, relevant_items)\n\u001b[1;32m     42\u001b[0m         cumulative_recall \u001b[39m+\u001b[39m\u001b[39m=\u001b[39m recall(recommended_items, relevant_items)\n\u001b[0;32m---> 43\u001b[0m         cumulative_MAP \u001b[39m+\u001b[39m\u001b[39m=\u001b[39m MAP(recommended_items, relevant_items)\n\u001b[1;32m     45\u001b[0m cumulative_precision \u001b[39m/\u001b[39m\u001b[39m=\u001b[39m num_eval\n\u001b[1;32m     46\u001b[0m cumulative_recall \u001b[39m/\u001b[39m\u001b[39m=\u001b[39m num_eval\n",
      "File \u001b[0;32m~/Desktop/UNIVERSITA/MAGISTRALE/PRIMO ANNO/PRIMO SEMESTRE/RECOMMENDER SYSTEMS/Challenge/Git Folder/rec-sys-challenge/k_fold_hyperparam_search/evaluate.py:19\u001b[0m, in \u001b[0;36mMAP\u001b[0;34m(recommended_items, relevant_items)\u001b[0m\n\u001b[1;32m     18\u001b[0m \u001b[39mdef\u001b[39;00m \u001b[39mMAP\u001b[39m(recommended_items, relevant_items):\n\u001b[0;32m---> 19\u001b[0m     is_relevant \u001b[39m=\u001b[39m np\u001b[39m.\u001b[39;49min1d(recommended_items, relevant_items, assume_unique\u001b[39m=\u001b[39;49m\u001b[39mTrue\u001b[39;49;00m)\n\u001b[1;32m     20\u001b[0m     \u001b[39m# Cumulative sum: precision at 1, at 2, at 3 ...\u001b[39;00m\n\u001b[1;32m     21\u001b[0m     p_at_k \u001b[39m=\u001b[39m is_relevant \u001b[39m*\u001b[39m np\u001b[39m.\u001b[39mcumsum(is_relevant, dtype\u001b[39m=\u001b[39mnp\u001b[39m.\u001b[39mfloat32) \u001b[39m/\u001b[39m (\u001b[39m1\u001b[39m \u001b[39m+\u001b[39m np\u001b[39m.\u001b[39marange(is_relevant\u001b[39m.\u001b[39mshape[\u001b[39m0\u001b[39m]))\n",
      "File \u001b[0;32m<__array_function__ internals>:180\u001b[0m, in \u001b[0;36min1d\u001b[0;34m(*args, **kwargs)\u001b[0m\n",
      "File \u001b[0;32m~/opt/miniconda3/envs/tensorflow/lib/python3.9/site-packages/numpy/lib/arraysetops.py:590\u001b[0m, in \u001b[0;36min1d\u001b[0;34m(ar1, ar2, assume_unique, invert)\u001b[0m\n\u001b[1;32m    525\u001b[0m \u001b[39m\"\"\"\u001b[39;00m\n\u001b[1;32m    526\u001b[0m \u001b[39mTest whether each element of a 1-D array is also present in a second array.\u001b[39;00m\n\u001b[1;32m    527\u001b[0m \n\u001b[0;32m   (...)\u001b[0m\n\u001b[1;32m    587\u001b[0m \u001b[39marray([1, 5])\u001b[39;00m\n\u001b[1;32m    588\u001b[0m \u001b[39m\"\"\"\u001b[39;00m\n\u001b[1;32m    589\u001b[0m \u001b[39m# Ravel both arrays, behavior for the first array could be different\u001b[39;00m\n\u001b[0;32m--> 590\u001b[0m ar1 \u001b[39m=\u001b[39m np\u001b[39m.\u001b[39;49masarray(ar1)\u001b[39m.\u001b[39mravel()\n\u001b[1;32m    591\u001b[0m ar2 \u001b[39m=\u001b[39m np\u001b[39m.\u001b[39masarray(ar2)\u001b[39m.\u001b[39mravel()\n\u001b[1;32m    593\u001b[0m \u001b[39m# Ensure that iteration through object arrays yields size-1 arrays\u001b[39;00m\n",
      "\u001b[0;31mKeyboardInterrupt\u001b[0m: "
     ]
    }
   ],
   "source": [
    "scores = []\n",
    "count=1\n",
    "for recommender, test in zip(recommenders, URM_tests):\n",
    "    recommender.fit(topK = 373, l2_norm = 111.12863230985445)    \n",
    "    _, _, MAP = evaluate_algorithm(test, recommender)\n",
    "    scores.append(MAP)\n",
    "    print(\"Evaluated fold number: {}\".format(count))\n",
    "    count=count+1\n",
    "\n",
    "print(\"Finished fit & evaluation!\")\n",
    "\n",
    "print(\">>> Average MAP: {}, DIFF (= max_map - min_map): {}\".format(sum(scores) / len(scores), max(scores) - min(scores)))\n"
   ]
  }
 ],
 "metadata": {
  "kernelspec": {
   "display_name": "tensorflow",
   "language": "python",
   "name": "python3"
  },
  "language_info": {
   "codemirror_mode": {
    "name": "ipython",
    "version": 3
   },
   "file_extension": ".py",
   "mimetype": "text/x-python",
   "name": "python",
   "nbconvert_exporter": "python",
   "pygments_lexer": "ipython3",
   "version": "3.9.15 | packaged by conda-forge | (main, Nov 22 2022, 08:48:25) \n[Clang 14.0.6 ]"
  },
  "orig_nbformat": 4,
  "vscode": {
   "interpreter": {
    "hash": "924875a864510efb8ec566d64580ebd057fcb8e77e67729a27391833cbf8b66e"
   }
  }
 },
 "nbformat": 4,
 "nbformat_minor": 2
}
