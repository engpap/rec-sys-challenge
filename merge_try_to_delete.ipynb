{
 "cells": [
  {
   "cell_type": "code",
   "execution_count": 1,
   "metadata": {},
   "outputs": [
    {
     "name": "stdout",
     "output_type": "stream",
     "text": [
      "Tensorflow is not available\n",
      "Tensorflow is not available\n"
     ]
    }
   ],
   "source": [
    "from BaseHybridSimilarity import BaseHybridSimilarity\n",
    "from hybrid import *\n",
    "from Data_Handler.DataReader import DataReader\n",
    "from Data_manager.split_functions.split_train_validation_random_holdout import split_train_in_two_percentage_global_sample\n",
    "from tqdm import tqdm\n",
    "from evaluator import evaluate\n",
    "from HyperparameterTuning.run_hyperparameter_search import runHyperparameterSearch_Collaborative\n",
    "from Recommenders.SLIM.SLIMElasticNetRecommender import SLIMElasticNetRecommender\n",
    "from Recommenders.KNN.ItemKNNCFRecommender import ItemKNNCFRecommender\n",
    "from Recommenders.GraphBased.RP3betaRecommender import RP3betaRecommender\n",
    "from Recommenders.GraphBased.P3alphaRecommender import P3alphaRecommender\n",
    "from Recommenders.EASE_R.EASE_R_Recommender import EASE_R_Recommender\n",
    "from Recommenders.KNN.UserKNN_CFCBF_Hybrid_Recommender import UserKNN_CFCBF_Hybrid_Recommender\n",
    "from Recommenders.KNN.UserKNNCBFRecommender import UserKNNCBFRecommender\n",
    "from Recommenders.KNN.ItemKNNCBFRecommender import ItemKNNCBFRecommender\n",
    "\n",
    "from Evaluation.Evaluator import EvaluatorHoldout\n",
    "from Recommenders.DataIO import DataIO\n",
    "from HyperparameterTuning.SearchBayesianSkopt import SearchBayesianSkopt\n",
    "from HyperparameterTuning.SearchAbstractClass import SearchInputRecommenderArgs\n",
    "from skopt.space import Real, Integer, Categorical\n",
    "import os\n",
    "\n",
    "\n",
    "############################# READ & SPLIT DATA ##############################\n",
    "dataReader = DataReader()\n",
    "\n",
    "target = dataReader.load_target()\n",
    "\n",
    "UCM = dataReader.load_aug_ucm()\n",
    "URM = dataReader.load_augmented_binary_urm()\n",
    "URM_aug, ICM = dataReader.pad_with_zeros_ICMandURM(URM)\n",
    "URM_train_aug, URM_validation = split_train_in_two_percentage_global_sample(URM_aug, train_percentage=0.9)\n",
    "\n",
    "URM_train_pow = dataReader.stackMatrixes(URM_train_aug)\n",
    "\n",
    "ICM_stacked_with_weighted_impressions = dataReader.load_ICM_stacked_with_weighted_impressions(0)\n",
    "\n",
    "URM_train_pow_padded, ICM_stacked_with_weighted_impressions_padded = dataReader.pad_with_zeros_given_ICMandURM(ICM_stacked_with_weighted_impressions, URM_train_pow)\n",
    "\n",
    "URM_train_super_pow = dataReader.load_super_powerful_URM(URM_train_pow_padded, ICM_stacked_with_weighted_impressions_padded, 0.8)\n"
   ]
  },
  {
   "cell_type": "code",
   "execution_count": null,
   "metadata": {},
   "outputs": [],
   "source": [
    "UserKNNCF = UserKNNCFRecommender(URM_train_aug)\n",
    "UserKNNCF.fit()\n",
    "\n",
    "ItemKNNCF = ItemKNNCFRecommender(URM_train_aug)\n",
    "ItemKNNCF.fit()\n",
    "\n",
    "recommender = BaseHybridSimilarity(URM_train_aug,UserKNNCF,ItemKNNCF)\n",
    "recommender.fit(topK=400,alpha=0.5)"
   ]
  },
  {
   "cell_type": "code",
   "execution_count": null,
   "metadata": {},
   "outputs": [],
   "source": [
    "f = open(\"submission.csv\", \"w+\")\n",
    "f.write(\"user_id,item_list\\n\")\n",
    "recommended_items_for_each_user = {}\n",
    "for user_id in tqdm(target):\n",
    "    recommended_items = recommender.recommend(\n",
    "        user_id, cutoff=10, remove_seen_flag=True)\n",
    "    # recommended_items=impressions.update_ranking(user_id,recommended_items,dataReader)\n",
    "    recommended_items_for_each_user[int(user_id)] = recommended_items\n",
    "    well_formatted = \" \".join([str(x) for x in recommended_items])\n",
    "    f.write(f\"{user_id}, {well_formatted}\\n\")\n",
    "\n",
    "# Evaluate recommended items\n",
    "map = evaluate(recommended_items_for_each_user, URM_validation, target)\n",
    "print('MAP score: {}'.format(map))"
   ]
  }
 ],
 "metadata": {
  "kernelspec": {
   "display_name": "Python 3",
   "language": "python",
   "name": "python3"
  },
  "language_info": {
   "codemirror_mode": {
    "name": "ipython",
    "version": 3
   },
   "file_extension": ".py",
   "mimetype": "text/x-python",
   "name": "python",
   "nbconvert_exporter": "python",
   "pygments_lexer": "ipython3",
   "version": "3.10.8"
  },
  "orig_nbformat": 4,
  "vscode": {
   "interpreter": {
    "hash": "6847c98a8f86b01c6a19c518cd2f366693b80566b266804d5ca763cbb223f52b"
   }
  }
 },
 "nbformat": 4,
 "nbformat_minor": 2
}
