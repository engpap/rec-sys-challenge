{
 "cells": [
  {
   "cell_type": "code",
   "execution_count": 68,
   "metadata": {},
   "outputs": [
    {
     "data": {
      "text/plain": [
       "True"
      ]
     },
     "execution_count": 68,
     "metadata": {},
     "output_type": "execute_result"
    }
   ],
   "source": [
    "import scipy.sparse as sps\n",
    "from Data_manager.split_functions.split_train_validation_random_holdout import split_train_in_two_percentage_global_sample\n",
    "import pandas as pd\n",
    "import numpy as np\n",
    "from pandas.api.types import CategoricalDtype\n",
    "from Evaluation.Evaluator import EvaluatorHoldout\n",
    "import scipy.sparse as sps\n",
    "from collections import Counter\n",
    "from tqdm import tqdm\n",
    "# imports for .env usage\n",
    "import os\n",
    "from dotenv import load_dotenv\n",
    "load_dotenv()"
   ]
  },
  {
   "cell_type": "code",
   "execution_count": 69,
   "metadata": {},
   "outputs": [],
   "source": [
    "def dataframe_to_csr(dataframe,row_name,col_name,cell_name):\n",
    "        \"\"\"This method converts a dataframe object into a csr\n",
    "\n",
    "        Args:\n",
    "            dataframe (dataframe)\n",
    "            row_name (str): For example, \"UserID\"\n",
    "            col_name (str): For example, \"ItemID\"\n",
    "            cell_name (str): For example, \"Data\"\n",
    "        Returns:\n",
    "            csr\n",
    "        \"\"\"\n",
    "        rows = dataframe[row_name].unique()\n",
    "        columns = dataframe[col_name].unique()\n",
    "\n",
    "        shape = (len(rows), len(columns))\n",
    "\n",
    "        # Create indices for users and items\n",
    "        row_cat = CategoricalDtype(categories=sorted(rows), ordered=True)\n",
    "        col_cat = CategoricalDtype(categories=sorted(columns), ordered=True)\n",
    "        row_index = dataframe[row_name].astype(row_cat).cat.codes\n",
    "        col_index = dataframe[col_name].astype(col_cat).cat.codes\n",
    "\n",
    "        # Conversion via COO matrix\n",
    "        coo = sps.coo_matrix(\n",
    "            (dataframe[cell_name], (row_index.values, col_index.values)), shape=shape)\n",
    "        csr = coo.tocsr()\n",
    "        return csr"
   ]
  },
  {
   "cell_type": "code",
   "execution_count": 70,
   "metadata": {},
   "outputs": [
    {
     "name": "stdout",
     "output_type": "stream",
     "text": [
      "(24507,)\n",
      "(2,)\n",
      "(41629,)\n"
     ]
    },
    {
     "data": {
      "text/html": [
       "<div>\n",
       "<style scoped>\n",
       "    .dataframe tbody tr th:only-of-type {\n",
       "        vertical-align: middle;\n",
       "    }\n",
       "\n",
       "    .dataframe tbody tr th {\n",
       "        vertical-align: top;\n",
       "    }\n",
       "\n",
       "    .dataframe thead th {\n",
       "        text-align: right;\n",
       "    }\n",
       "</style>\n",
       "<table border=\"1\" class=\"dataframe\">\n",
       "  <thead>\n",
       "    <tr style=\"text-align: right;\">\n",
       "      <th></th>\n",
       "      <th>UserID</th>\n",
       "      <th>ItemID</th>\n",
       "      <th>Data</th>\n",
       "    </tr>\n",
       "  </thead>\n",
       "  <tbody>\n",
       "    <tr>\n",
       "      <th>0</th>\n",
       "      <td>0</td>\n",
       "      <td>11</td>\n",
       "      <td>1</td>\n",
       "    </tr>\n",
       "    <tr>\n",
       "      <th>1</th>\n",
       "      <td>0</td>\n",
       "      <td>21</td>\n",
       "      <td>1</td>\n",
       "    </tr>\n",
       "    <tr>\n",
       "      <th>13</th>\n",
       "      <td>0</td>\n",
       "      <td>22</td>\n",
       "      <td>1</td>\n",
       "    </tr>\n",
       "    <tr>\n",
       "      <th>28</th>\n",
       "      <td>0</td>\n",
       "      <td>24</td>\n",
       "      <td>1</td>\n",
       "    </tr>\n",
       "    <tr>\n",
       "      <th>29</th>\n",
       "      <td>0</td>\n",
       "      <td>44</td>\n",
       "      <td>1</td>\n",
       "    </tr>\n",
       "    <tr>\n",
       "      <th>...</th>\n",
       "      <td>...</td>\n",
       "      <td>...</td>\n",
       "      <td>...</td>\n",
       "    </tr>\n",
       "    <tr>\n",
       "      <th>5826501</th>\n",
       "      <td>41628</td>\n",
       "      <td>20448</td>\n",
       "      <td>1</td>\n",
       "    </tr>\n",
       "    <tr>\n",
       "      <th>5826502</th>\n",
       "      <td>41628</td>\n",
       "      <td>20896</td>\n",
       "      <td>1</td>\n",
       "    </tr>\n",
       "    <tr>\n",
       "      <th>5826503</th>\n",
       "      <td>41628</td>\n",
       "      <td>21506</td>\n",
       "      <td>1</td>\n",
       "    </tr>\n",
       "    <tr>\n",
       "      <th>5826504</th>\n",
       "      <td>41628</td>\n",
       "      <td>22882</td>\n",
       "      <td>1</td>\n",
       "    </tr>\n",
       "    <tr>\n",
       "      <th>5826505</th>\n",
       "      <td>41628</td>\n",
       "      <td>23757</td>\n",
       "      <td>1</td>\n",
       "    </tr>\n",
       "  </tbody>\n",
       "</table>\n",
       "<p>1554640 rows × 3 columns</p>\n",
       "</div>"
      ],
      "text/plain": [
       "         UserID  ItemID  Data\n",
       "0             0      11     1\n",
       "1             0      21     1\n",
       "13            0      22     1\n",
       "28            0      24     1\n",
       "29            0      44     1\n",
       "...         ...     ...   ...\n",
       "5826501   41628   20448     1\n",
       "5826502   41628   20896     1\n",
       "5826503   41628   21506     1\n",
       "5826504   41628   22882     1\n",
       "5826505   41628   23757     1\n",
       "\n",
       "[1554640 rows x 3 columns]"
      ]
     },
     "execution_count": 70,
     "metadata": {},
     "output_type": "execute_result"
    }
   ],
   "source": [
    "interactions_and_impressions = pd.read_csv(filepath_or_buffer=os.getenv('INTERACTIONS_AND_IMPRESSIONS_PATH'),\n",
    "                                            sep=',',\n",
    "                                            names=[\n",
    "    'UserID', 'ItemID', 'Impressions', 'Data'],\n",
    "    header=0,\n",
    "    dtype={'UserID': np.int32, 'ItemID': np.int32, 'Impressions': np.object0, 'Data': np.int32})\n",
    "interactions = interactions_and_impressions.drop(['Impressions'], axis=1)\n",
    "items = interactions['ItemID'].unique()\n",
    "data = interactions['Data'].unique()\n",
    "users = interactions['UserID'].unique()\n",
    "print(items.shape)\n",
    "print(data.shape)\n",
    "print(users.shape)\n",
    "interactions = interactions.replace({'Data': {0: 1}})\n",
    "interactions = interactions.drop_duplicates(keep='first')\n",
    "urm = dataframe_to_csr(interactions,'UserID','ItemID','Data')\n",
    "interactions"
   ]
  },
  {
   "cell_type": "code",
   "execution_count": 71,
   "metadata": {},
   "outputs": [
    {
     "name": "stdout",
     "output_type": "stream",
     "text": [
      "24507\n",
      "41629\n"
     ]
    }
   ],
   "source": [
    "print(interactions.ItemID.unique().size)\n",
    "print(interactions.UserID.unique().size)"
   ]
  },
  {
   "cell_type": "code",
   "execution_count": 72,
   "metadata": {},
   "outputs": [],
   "source": [
    "URM_train, URM_validation = split_train_in_two_percentage_global_sample(urm, train_percentage = 0.5)"
   ]
  },
  {
   "cell_type": "code",
   "execution_count": 73,
   "metadata": {},
   "outputs": [
    {
     "name": "stdout",
     "output_type": "stream",
     "text": [
      "<bound method spmatrix.get_shape of <41629x24507 sparse matrix of type '<class 'numpy.float64'>'\n",
      "\twith 777320 stored elements in Compressed Sparse Row format>>\n"
     ]
    }
   ],
   "source": [
    "print(URM_train.get_shape)"
   ]
  },
  {
   "cell_type": "code",
   "execution_count": 74,
   "metadata": {},
   "outputs": [],
   "source": [
    "data_icm_type = pd.read_csv(filepath_or_buffer=os.getenv('DATA_ICM_TYPE_PATH'),\n",
    "                            sep=',',\n",
    "                            names=[\n",
    "    'item_id', 'feature_id', 'data'],\n",
    "    header=0,\n",
    "    dtype={'item_id': np.int32, 'feature_id': np.int32, 'data': np.int32})\n",
    "\n",
    "features = data_icm_type['feature_id'].unique()\n",
    "items = data_icm_type['item_id'].unique()\n",
    "shape = (len(items), len(features))\n",
    "\n",
    "\n",
    "# Create indices for users and items\n",
    "features_cat = CategoricalDtype(categories=sorted(features), ordered=True)\n",
    "item_cat = CategoricalDtype(categories=sorted(items), ordered=True)\n",
    "features_index = data_icm_type[\"feature_id\"].astype(features_cat).cat.codes\n",
    "item_index = data_icm_type[\"item_id\"].astype(item_cat).cat.codes\n",
    "coo = sps.coo_matrix(\n",
    "    (data_icm_type[\"data\"], (item_index.values, features_index.values)), shape=shape)\n",
    "ICM = coo.tocsr()\n"
   ]
  },
  {
   "cell_type": "code",
   "execution_count": 75,
   "metadata": {},
   "outputs": [
    {
     "name": "stdout",
     "output_type": "stream",
     "text": [
      "  (0, 0)\t1\n",
      "  (1, 2)\t1\n",
      "  (2, 3)\t1\n",
      "  (3, 0)\t1\n",
      "  (4, 2)\t1\n",
      "  (5, 1)\t1\n",
      "  (6, 0)\t1\n",
      "  (7, 2)\t1\n",
      "  (8, 0)\t1\n",
      "  (9, 0)\t1\n",
      "  (10, 0)\t1\n",
      "  (11, 0)\t1\n",
      "  (12, 2)\t1\n",
      "  (13, 0)\t1\n",
      "  (14, 0)\t1\n",
      "  (15, 2)\t1\n",
      "  (16, 0)\t1\n",
      "  (17, 0)\t1\n",
      "  (18, 3)\t1\n",
      "  (19, 3)\t1\n",
      "  (20, 1)\t1\n",
      "  (21, 2)\t1\n",
      "  (22, 0)\t1\n",
      "  (23, 0)\t1\n",
      "  (24, 3)\t1\n",
      "  :\t:\n",
      "  (23066, 3)\t1\n",
      "  (23067, 2)\t1\n",
      "  (23068, 0)\t1\n",
      "  (23069, 2)\t1\n",
      "  (23070, 2)\t1\n",
      "  (23071, 0)\t1\n",
      "  (23072, 0)\t1\n",
      "  (23073, 0)\t1\n",
      "  (23074, 0)\t1\n",
      "  (23075, 3)\t1\n",
      "  (23076, 0)\t1\n",
      "  (23077, 0)\t1\n",
      "  (23078, 3)\t1\n",
      "  (23079, 0)\t1\n",
      "  (23080, 2)\t1\n",
      "  (23081, 0)\t1\n",
      "  (23082, 2)\t1\n",
      "  (23083, 3)\t1\n",
      "  (23084, 0)\t1\n",
      "  (23085, 3)\t1\n",
      "  (23086, 0)\t1\n",
      "  (23087, 1)\t1\n",
      "  (23088, 0)\t1\n",
      "  (23089, 0)\t1\n",
      "  (23090, 3)\t1\n"
     ]
    }
   ],
   "source": [
    "print(ICM)"
   ]
  },
  {
   "cell_type": "code",
   "execution_count": 76,
   "metadata": {},
   "outputs": [
    {
     "name": "stdout",
     "output_type": "stream",
     "text": [
      "[    9    14    23 ... 24486 24492 24499]\n"
     ]
    }
   ],
   "source": [
    "diff = np.setdiff1d(interactions['ItemID'].unique(), data_icm_type['item_id'].unique())\n",
    "print(diff)"
   ]
  },
  {
   "cell_type": "code",
   "execution_count": 77,
   "metadata": {},
   "outputs": [
    {
     "name": "stdout",
     "output_type": "stream",
     "text": [
      "4877\n"
     ]
    }
   ],
   "source": [
    "print(diff.size)"
   ]
  },
  {
   "cell_type": "code",
   "execution_count": 78,
   "metadata": {},
   "outputs": [
    {
     "name": "stdout",
     "output_type": "stream",
     "text": [
      "[24507 24508 24509 ... 27965 27966 27967]\n"
     ]
    }
   ],
   "source": [
    "diff_1 = np.setdiff1d(data_icm_type['item_id'].unique(), interactions['ItemID'].unique())\n",
    "print(diff_1)"
   ]
  },
  {
   "cell_type": "code",
   "execution_count": 79,
   "metadata": {},
   "outputs": [
    {
     "name": "stdout",
     "output_type": "stream",
     "text": [
      "3461\n"
     ]
    }
   ],
   "source": [
    "print(diff_1.size)"
   ]
  },
  {
   "cell_type": "code",
   "execution_count": 80,
   "metadata": {},
   "outputs": [],
   "source": [
    "from Data_Handler.DataReader import DataReader\n",
    "dataReader = DataReader()"
   ]
  },
  {
   "cell_type": "code",
   "execution_count": 81,
   "metadata": {},
   "outputs": [
    {
     "name": "stdout",
     "output_type": "stream",
     "text": [
      "Warning: 2798 (6.72 %) of 41629 users have no sampled items\n"
     ]
    }
   ],
   "source": [
    "URM_train, URM_validation = split_train_in_two_percentage_global_sample(dataReader.load_augmented_binary_urm(), train_percentage = 0.9)"
   ]
  },
  {
   "cell_type": "code",
   "execution_count": 87,
   "metadata": {},
   "outputs": [
    {
     "name": "stdout",
     "output_type": "stream",
     "text": [
      "  (0, 11)\t0.825\n",
      "  (0, 21)\t0.825\n",
      "  (0, 22)\t0.825\n",
      "  (0, 24)\t0.825\n",
      "  (0, 44)\t0.825\n",
      "  (0, 54)\t0.825\n",
      "  (0, 124)\t0.825\n",
      "  (0, 159)\t0.825\n",
      "  (0, 239)\t0.825\n",
      "  (0, 575)\t0.825\n",
      "  (0, 751)\t0.825\n",
      "  (0, 808)\t0.825\n",
      "  (0, 987)\t0.825\n",
      "  (0, 1326)\t0.825\n",
      "  (0, 1715)\t0.825\n",
      "  (0, 1995)\t0.825\n",
      "  (0, 2218)\t0.825\n",
      "  (0, 2256)\t0.825\n",
      "  (0, 2257)\t0.825\n",
      "  (0, 2292)\t0.825\n",
      "  (0, 2730)\t0.825\n",
      "  (0, 4007)\t0.825\n",
      "  (0, 4337)\t0.825\n",
      "  (0, 4383)\t0.825\n",
      "  (0, 5068)\t0.825\n",
      "  :\t:\n",
      "  (41632, 27866)\t0.175\n",
      "  (41632, 27870)\t0.175\n",
      "  (41632, 27873)\t0.175\n",
      "  (41632, 27877)\t0.175\n",
      "  (41632, 27880)\t0.175\n",
      "  (41632, 27883)\t0.175\n",
      "  (41632, 27889)\t0.175\n",
      "  (41632, 27896)\t0.175\n",
      "  (41632, 27900)\t0.175\n",
      "  (41632, 27907)\t0.175\n",
      "  (41632, 27911)\t0.175\n",
      "  (41632, 27917)\t0.175\n",
      "  (41632, 27922)\t0.175\n",
      "  (41632, 27942)\t0.175\n",
      "  (41632, 27943)\t0.175\n",
      "  (41632, 27952)\t0.175\n",
      "  (41632, 27955)\t0.175\n",
      "  (41632, 27960)\t0.175\n",
      "  (41632, 27962)\t0.175\n",
      "  (41632, 27967)\t0.175\n",
      "  (41633, 97)\t0.175\n",
      "  (41633, 14789)\t0.175\n",
      "  (41633, 16522)\t0.175\n",
      "  (41633, 20523)\t0.175\n",
      "  (41633, 24130)\t0.175\n"
     ]
    }
   ],
   "source": [
    "urm=dataReader.csr_to_dataframe(URM_train)\n",
    "f=dataReader.load_icm_df()\n",
    "swap_list = [\"feature_id\", \"item_id\", \"data\"]\n",
    "f = f.reindex(columns=swap_list)\n",
    "f = f.rename({'feature_id': 'UserID', 'item_id': 'ItemID', 'data': 'Data'}, axis=1)\n",
    "\n",
    "urm['Data'] = 0.825 * urm['Data']\n",
    "# f times (1-aplha)\n",
    "f['Data'] = 0.175 * f['Data']\n",
    "# Change UserIDs of f matrix in order to make recommender work\n",
    "f['UserID'] = 41634 + f['UserID']\n",
    "\n",
    "powerful_urm = pd.concat([urm, f], ignore_index=True).sort_values(['UserID', 'ItemID'])\n",
    "powerful_urm = dataReader.dataframe_to_csr(powerful_urm,'UserID', 'ItemID','Data')\n",
    "print(powerful_urm)"
   ]
  },
  {
   "cell_type": "code",
   "execution_count": null,
   "metadata": {},
   "outputs": [
    {
     "name": "stdout",
     "output_type": "stream",
     "text": [
      "4877\n",
      "[1 3 4 2 7]\n",
      "24385\n",
      "[    9    14    23 ... 24486 24492 24499]\n",
      "[1 2 3 4 7]\n",
      "  (9, 1)\t0\n",
      "  (14, 1)\t0\n",
      "  (23, 1)\t0\n",
      "  (24, 1)\t0\n",
      "  (29, 1)\t0\n",
      "  (32, 1)\t0\n",
      "  (34, 1)\t0\n",
      "  (45, 1)\t0\n",
      "  (50, 1)\t0\n",
      "  (60, 1)\t0\n",
      "  (64, 1)\t0\n",
      "  (66, 1)\t0\n",
      "  (74, 1)\t0\n",
      "  (78, 1)\t0\n",
      "  (85, 1)\t0\n",
      "  (90, 1)\t0\n",
      "  (91, 1)\t0\n",
      "  (92, 1)\t0\n",
      "  (101, 1)\t0\n",
      "  (112, 1)\t0\n",
      "  (115, 1)\t0\n",
      "  (121, 1)\t0\n",
      "  (123, 1)\t0\n",
      "  (131, 1)\t0\n",
      "  (132, 1)\t0\n",
      "  :\t:\n",
      "  (24373, 7)\t0\n",
      "  (24381, 7)\t0\n",
      "  (24384, 7)\t0\n",
      "  (24385, 7)\t0\n",
      "  (24386, 7)\t0\n",
      "  (24403, 7)\t0\n",
      "  (24405, 7)\t0\n",
      "  (24407, 7)\t0\n",
      "  (24408, 7)\t0\n",
      "  (24409, 7)\t0\n",
      "  (24411, 7)\t0\n",
      "  (24412, 7)\t0\n",
      "  (24413, 7)\t0\n",
      "  (24414, 7)\t0\n",
      "  (24422, 7)\t0\n",
      "  (24435, 7)\t0\n",
      "  (24442, 7)\t0\n",
      "  (24446, 7)\t0\n",
      "  (24448, 7)\t0\n",
      "  (24457, 7)\t0\n",
      "  (24463, 7)\t0\n",
      "  (24470, 7)\t0\n",
      "  (24486, 7)\t0\n",
      "  (24492, 7)\t0\n",
      "  (24499, 7)\t0\n",
      "icm (23091, 5)\n",
      "int32\n",
      "pad (24500, 8)\n",
      "int32\n"
     ]
    },
    {
     "ename": "ValueError",
     "evalue": "incompatible dimensions for axis 1",
     "output_type": "error",
     "traceback": [
      "\u001b[1;31m---------------------------------------------------------------------------\u001b[0m",
      "\u001b[1;31mValueError\u001b[0m                                Traceback (most recent call last)",
      "Cell \u001b[1;32mIn [67], line 32\u001b[0m\n\u001b[0;32m     30\u001b[0m \u001b[39mprint\u001b[39m(\u001b[39m\"\u001b[39m\u001b[39mpad\u001b[39m\u001b[39m\"\u001b[39m,padICM\u001b[39m.\u001b[39mget_shape())\n\u001b[0;32m     31\u001b[0m \u001b[39mprint\u001b[39m(padICM\u001b[39m.\u001b[39mdtype\u001b[39m.\u001b[39mname)\n\u001b[1;32m---> 32\u001b[0m paddedICM \u001b[39m=\u001b[39m sps\u001b[39m.\u001b[39;49mvstack([dataReader\u001b[39m.\u001b[39;49mload_icm(), padICM])\n\u001b[0;32m     33\u001b[0m \u001b[39m#result=sps.vstack(URM_train, paddedICM.T)\u001b[39;00m\n",
      "File \u001b[1;32mc:\\Users\\andre\\AppData\\Local\\Programs\\Python\\Python310\\lib\\site-packages\\scipy\\sparse\\_construct.py:566\u001b[0m, in \u001b[0;36mvstack\u001b[1;34m(blocks, format, dtype)\u001b[0m\n\u001b[0;32m    535\u001b[0m \u001b[39mdef\u001b[39;00m \u001b[39mvstack\u001b[39m(blocks, \u001b[39mformat\u001b[39m\u001b[39m=\u001b[39m\u001b[39mNone\u001b[39;00m, dtype\u001b[39m=\u001b[39m\u001b[39mNone\u001b[39;00m):\n\u001b[0;32m    536\u001b[0m     \u001b[39m\"\"\"\u001b[39;00m\n\u001b[0;32m    537\u001b[0m \u001b[39m    Stack sparse matrices vertically (row wise)\u001b[39;00m\n\u001b[0;32m    538\u001b[0m \n\u001b[1;32m   (...)\u001b[0m\n\u001b[0;32m    564\u001b[0m \n\u001b[0;32m    565\u001b[0m \u001b[39m    \"\"\"\u001b[39;00m\n\u001b[1;32m--> 566\u001b[0m     \u001b[39mreturn\u001b[39;00m bmat([[b] \u001b[39mfor\u001b[39;49;00m b \u001b[39min\u001b[39;49;00m blocks], \u001b[39mformat\u001b[39;49m\u001b[39m=\u001b[39;49m\u001b[39mformat\u001b[39;49m, dtype\u001b[39m=\u001b[39;49mdtype)\n",
      "File \u001b[1;32mc:\\Users\\andre\\AppData\\Local\\Programs\\Python\\Python310\\lib\\site-packages\\scipy\\sparse\\_construct.py:629\u001b[0m, in \u001b[0;36mbmat\u001b[1;34m(blocks, format, dtype)\u001b[0m\n\u001b[0;32m    626\u001b[0m     blocks \u001b[39m=\u001b[39m np\u001b[39m.\u001b[39masarray(blocks, dtype\u001b[39m=\u001b[39m\u001b[39m'\u001b[39m\u001b[39mobject\u001b[39m\u001b[39m'\u001b[39m)\n\u001b[0;32m    628\u001b[0m \u001b[39m# stack along rows (axis 0):\u001b[39;00m\n\u001b[1;32m--> 629\u001b[0m A \u001b[39m=\u001b[39m _compressed_sparse_stack(blocks[:, \u001b[39m0\u001b[39;49m], \u001b[39m0\u001b[39;49m)\n\u001b[0;32m    630\u001b[0m \u001b[39mif\u001b[39;00m dtype \u001b[39mis\u001b[39;00m \u001b[39mnot\u001b[39;00m \u001b[39mNone\u001b[39;00m:\n\u001b[0;32m    631\u001b[0m     A \u001b[39m=\u001b[39m A\u001b[39m.\u001b[39mastype(dtype)\n",
      "File \u001b[1;32mc:\\Users\\andre\\AppData\\Local\\Programs\\Python\\Python310\\lib\\site-packages\\scipy\\sparse\\_construct.py:428\u001b[0m, in \u001b[0;36m_compressed_sparse_stack\u001b[1;34m(blocks, axis)\u001b[0m\n\u001b[0;32m    426\u001b[0m \u001b[39mfor\u001b[39;00m b \u001b[39min\u001b[39;00m blocks:\n\u001b[0;32m    427\u001b[0m     \u001b[39mif\u001b[39;00m b\u001b[39m.\u001b[39mshape[other_axis] \u001b[39m!=\u001b[39m constant_dim:\n\u001b[1;32m--> 428\u001b[0m         \u001b[39mraise\u001b[39;00m \u001b[39mValueError\u001b[39;00m(\u001b[39mf\u001b[39m\u001b[39m'\u001b[39m\u001b[39mincompatible dimensions for axis \u001b[39m\u001b[39m{\u001b[39;00mother_axis\u001b[39m}\u001b[39;00m\u001b[39m'\u001b[39m)\n\u001b[0;32m    429\u001b[0m     indices[sum_indices:sum_indices\u001b[39m+\u001b[39mb\u001b[39m.\u001b[39mindices\u001b[39m.\u001b[39msize] \u001b[39m=\u001b[39m b\u001b[39m.\u001b[39mindices\n\u001b[0;32m    430\u001b[0m     sum_indices \u001b[39m+\u001b[39m\u001b[39m=\u001b[39m b\u001b[39m.\u001b[39mindices\u001b[39m.\u001b[39msize\n",
      "\u001b[1;31mValueError\u001b[0m: incompatible dimensions for axis 1"
     ]
    }
   ],
   "source": [
    "pad_items_ids = np.setdiff1d(dataReader.load_augmented_binary_urm_df()['ItemID'].unique(), dataReader.load_icm_df()['item_id'].unique())\n",
    "print(pad_items_ids.size)\n",
    "feature_ids = dataReader.load_icm_df()['feature_id'].unique()\n",
    "print(feature_ids)\n",
    "\n",
    "col = []\n",
    "for feature_id in feature_ids:\n",
    "    for item_id in range(len(pad_items_ids)):\n",
    "        col.append(feature_id)\n",
    "col = np.array(col,dtype=np.int32)\n",
    "\n",
    "row=[]\n",
    "for item_id in pad_items_ids:\n",
    "    for feature_id in range(len(feature_ids)):\n",
    "        row.append(item_id)\n",
    "row=np.array(row,dtype=np.int32)\n",
    "\n",
    "data = np.zeros((row.size),dtype=np.int32)\n",
    "print(data.size)\n",
    "\n",
    "print(np.unique(row))\n",
    "print(np.unique(col))\n",
    "\n",
    "padICM = sps.csr_matrix((data,(row,col)))\n",
    "print(padICM)\n",
    "\n",
    "print(\"icm\",dataReader.load_icm().get_shape())\n",
    "print(dataReader.load_icm().dtype.name)\n",
    "\n",
    "print(\"pad\",padICM.get_shape())\n",
    "print(padICM.dtype.name)\n",
    "paddedICM = sps.vstack([dataReader.load_icm(), padICM])\n",
    "#result=sps.vstack(URM_train, paddedICM.T)"
   ]
  },
  {
   "cell_type": "code",
   "execution_count": null,
   "metadata": {},
   "outputs": [],
   "source": []
  }
 ],
 "metadata": {
  "kernelspec": {
   "display_name": "Python 3.10.8 64-bit",
   "language": "python",
   "name": "python3"
  },
  "language_info": {
   "codemirror_mode": {
    "name": "ipython",
    "version": 3
   },
   "file_extension": ".py",
   "mimetype": "text/x-python",
   "name": "python",
   "nbconvert_exporter": "python",
   "pygments_lexer": "ipython3",
   "version": "3.10.8"
  },
  "orig_nbformat": 4,
  "vscode": {
   "interpreter": {
    "hash": "6847c98a8f86b01c6a19c518cd2f366693b80566b266804d5ca763cbb223f52b"
   }
  }
 },
 "nbformat": 4,
 "nbformat_minor": 2
}
