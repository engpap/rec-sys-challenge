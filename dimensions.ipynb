{
 "cells": [
  {
   "cell_type": "code",
   "execution_count": 1,
   "metadata": {},
   "outputs": [
    {
     "data": {
      "text/plain": [
       "True"
      ]
     },
     "execution_count": 1,
     "metadata": {},
     "output_type": "execute_result"
    }
   ],
   "source": [
    "import scipy.sparse as sps\n",
    "from Data_manager.split_functions.split_train_validation_random_holdout import split_train_in_two_percentage_global_sample\n",
    "import pandas as pd\n",
    "import numpy as np\n",
    "from pandas.api.types import CategoricalDtype\n",
    "from Evaluation.Evaluator import EvaluatorHoldout\n",
    "import scipy.sparse as sps\n",
    "from collections import Counter\n",
    "from tqdm import tqdm\n",
    "# imports for .env usage\n",
    "import os\n",
    "from dotenv import load_dotenv\n",
    "load_dotenv()"
   ]
  },
  {
   "cell_type": "code",
   "execution_count": 2,
   "metadata": {},
   "outputs": [],
   "source": [
    "def dataframe_to_csr(dataframe,row_name,col_name,cell_name):\n",
    "        \"\"\"This method converts a dataframe object into a csr\n",
    "\n",
    "        Args:\n",
    "            dataframe (dataframe)\n",
    "            row_name (str): For example, \"UserID\"\n",
    "            col_name (str): For example, \"ItemID\"\n",
    "            cell_name (str): For example, \"Data\"\n",
    "        Returns:\n",
    "            csr\n",
    "        \"\"\"\n",
    "        rows = dataframe[row_name].unique()\n",
    "        columns = dataframe[col_name].unique()\n",
    "\n",
    "        shape = (len(rows), len(columns))\n",
    "\n",
    "        # Create indices for users and items\n",
    "        row_cat = CategoricalDtype(categories=sorted(rows), ordered=True)\n",
    "        col_cat = CategoricalDtype(categories=sorted(columns), ordered=True)\n",
    "        row_index = dataframe[row_name].astype(row_cat).cat.codes\n",
    "        col_index = dataframe[col_name].astype(col_cat).cat.codes\n",
    "\n",
    "        # Conversion via COO matrix\n",
    "        coo = sps.coo_matrix(\n",
    "            (dataframe[cell_name], (row_index.values, col_index.values)), shape=shape)\n",
    "        csr = coo.tocsr()\n",
    "        return csr"
   ]
  },
  {
   "cell_type": "code",
   "execution_count": 3,
   "metadata": {},
   "outputs": [],
   "source": [
    "interactions_and_impressions = pd.read_csv(filepath_or_buffer=os.getenv('INTERACTIONS_AND_IMPRESSIONS_PATH'),\n",
    "                                            sep=',',\n",
    "                                            names=[\n",
    "    'UserID', 'ItemID', 'Impressions', 'Data'],\n",
    "    header=0,\n",
    "    dtype={'UserID': np.int32, 'ItemID': np.int32, 'Impressions': np.object0, 'Data': np.int32})\n",
    "interactions = interactions_and_impressions.drop(['Impressions'], axis=1)\n",
    "items = interactions['ItemID'].unique()\n",
    "interactions = interactions.replace({'Data': {0: 1}})\n",
    "interactions = interactions.drop_duplicates(keep='first')\n",
    "urm = dataframe_to_csr(interactions,'UserID','ItemID','Data')"
   ]
  },
  {
   "cell_type": "code",
   "execution_count": 4,
   "metadata": {},
   "outputs": [
    {
     "name": "stdout",
     "output_type": "stream",
     "text": [
      "Warning: 2882 (6.92 %) of 41629 users have no sampled items\n"
     ]
    }
   ],
   "source": [
    "URM_train, URM_validation = split_train_in_two_percentage_global_sample(urm, train_percentage = 0.9)"
   ]
  },
  {
   "cell_type": "code",
   "execution_count": 16,
   "metadata": {},
   "outputs": [
    {
     "ename": "TypeError",
     "evalue": "'tuple' object is not callable",
     "output_type": "error",
     "traceback": [
      "\u001b[0;31m---------------------------------------------------------------------------\u001b[0m",
      "\u001b[0;31mTypeError\u001b[0m                                 Traceback (most recent call last)",
      "Cell \u001b[0;32mIn [16], line 1\u001b[0m\n\u001b[0;32m----> 1\u001b[0m interactions[\u001b[39m'\u001b[39;49m\u001b[39mItemID\u001b[39;49m\u001b[39m'\u001b[39;49m]\u001b[39m.\u001b[39;49munique()\u001b[39m.\u001b[39;49mshape()\n",
      "\u001b[0;31mTypeError\u001b[0m: 'tuple' object is not callable"
     ]
    }
   ],
   "source": [
    "interactions['ItemID'].unique().shape()"
   ]
  },
  {
   "cell_type": "code",
   "execution_count": null,
   "metadata": {},
   "outputs": [],
   "source": []
  }
 ],
 "metadata": {
  "kernelspec": {
   "display_name": "Python 3.9.15 ('tensorflow')",
   "language": "python",
   "name": "python3"
  },
  "language_info": {
   "codemirror_mode": {
    "name": "ipython",
    "version": 3
   },
   "file_extension": ".py",
   "mimetype": "text/x-python",
   "name": "python",
   "nbconvert_exporter": "python",
   "pygments_lexer": "ipython3",
   "version": "3.9.15"
  },
  "orig_nbformat": 4,
  "vscode": {
   "interpreter": {
    "hash": "924875a864510efb8ec566d64580ebd057fcb8e77e67729a27391833cbf8b66e"
   }
  }
 },
 "nbformat": 4,
 "nbformat_minor": 2
}
