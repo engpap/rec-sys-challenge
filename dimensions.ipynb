{
 "cells": [
  {
   "cell_type": "code",
   "execution_count": 56,
   "metadata": {},
   "outputs": [
    {
     "data": {
      "text/plain": [
       "True"
      ]
     },
     "execution_count": 56,
     "metadata": {},
     "output_type": "execute_result"
    }
   ],
   "source": [
    "import scipy.sparse as sps\n",
    "from Data_manager.split_functions.split_train_validation_random_holdout import split_train_in_two_percentage_global_sample\n",
    "import pandas as pd\n",
    "import numpy as np\n",
    "from pandas.api.types import CategoricalDtype\n",
    "from Evaluation.Evaluator import EvaluatorHoldout\n",
    "import scipy.sparse as sps\n",
    "from collections import Counter\n",
    "from tqdm import tqdm\n",
    "# imports for .env usage\n",
    "import os\n",
    "from dotenv import load_dotenv\n",
    "load_dotenv()"
   ]
  },
  {
   "cell_type": "code",
   "execution_count": 57,
   "metadata": {},
   "outputs": [],
   "source": [
    "def dataframe_to_csr(dataframe,row_name,col_name,cell_name):\n",
    "        \"\"\"This method converts a dataframe object into a csr\n",
    "\n",
    "        Args:\n",
    "            dataframe (dataframe)\n",
    "            row_name (str): For example, \"UserID\"\n",
    "            col_name (str): For example, \"ItemID\"\n",
    "            cell_name (str): For example, \"Data\"\n",
    "        Returns:\n",
    "            csr\n",
    "        \"\"\"\n",
    "        rows = dataframe[row_name].unique()\n",
    "        columns = dataframe[col_name].unique()\n",
    "\n",
    "        shape = (len(rows), len(columns))\n",
    "\n",
    "        # Create indices for users and items\n",
    "        row_cat = CategoricalDtype(categories=sorted(rows), ordered=True)\n",
    "        col_cat = CategoricalDtype(categories=sorted(columns), ordered=True)\n",
    "        row_index = dataframe[row_name].astype(row_cat).cat.codes\n",
    "        col_index = dataframe[col_name].astype(col_cat).cat.codes\n",
    "\n",
    "        # Conversion via COO matrix\n",
    "        coo = sps.coo_matrix(\n",
    "            (dataframe[cell_name], (row_index.values, col_index.values)), shape=shape)\n",
    "        csr = coo.tocsr()\n",
    "        return csr"
   ]
  },
  {
   "cell_type": "code",
   "execution_count": 116,
   "metadata": {},
   "outputs": [
    {
     "name": "stdout",
     "output_type": "stream",
     "text": [
      "(5826506,)\n",
      "(5826506,)\n",
      "(5826506,)\n"
     ]
    },
    {
     "data": {
      "text/html": [
       "<div>\n",
       "<style scoped>\n",
       "    .dataframe tbody tr th:only-of-type {\n",
       "        vertical-align: middle;\n",
       "    }\n",
       "\n",
       "    .dataframe tbody tr th {\n",
       "        vertical-align: top;\n",
       "    }\n",
       "\n",
       "    .dataframe thead th {\n",
       "        text-align: right;\n",
       "    }\n",
       "</style>\n",
       "<table border=\"1\" class=\"dataframe\">\n",
       "  <thead>\n",
       "    <tr style=\"text-align: right;\">\n",
       "      <th></th>\n",
       "      <th>UserID</th>\n",
       "      <th>ItemID</th>\n",
       "      <th>Data</th>\n",
       "    </tr>\n",
       "  </thead>\n",
       "  <tbody>\n",
       "    <tr>\n",
       "      <th>0</th>\n",
       "      <td>0</td>\n",
       "      <td>11</td>\n",
       "      <td>1</td>\n",
       "    </tr>\n",
       "    <tr>\n",
       "      <th>1</th>\n",
       "      <td>0</td>\n",
       "      <td>21</td>\n",
       "      <td>1</td>\n",
       "    </tr>\n",
       "    <tr>\n",
       "      <th>13</th>\n",
       "      <td>0</td>\n",
       "      <td>22</td>\n",
       "      <td>1</td>\n",
       "    </tr>\n",
       "    <tr>\n",
       "      <th>28</th>\n",
       "      <td>0</td>\n",
       "      <td>24</td>\n",
       "      <td>1</td>\n",
       "    </tr>\n",
       "    <tr>\n",
       "      <th>29</th>\n",
       "      <td>0</td>\n",
       "      <td>44</td>\n",
       "      <td>1</td>\n",
       "    </tr>\n",
       "    <tr>\n",
       "      <th>...</th>\n",
       "      <td>...</td>\n",
       "      <td>...</td>\n",
       "      <td>...</td>\n",
       "    </tr>\n",
       "    <tr>\n",
       "      <th>5826501</th>\n",
       "      <td>41628</td>\n",
       "      <td>20448</td>\n",
       "      <td>1</td>\n",
       "    </tr>\n",
       "    <tr>\n",
       "      <th>5826502</th>\n",
       "      <td>41628</td>\n",
       "      <td>20896</td>\n",
       "      <td>1</td>\n",
       "    </tr>\n",
       "    <tr>\n",
       "      <th>5826503</th>\n",
       "      <td>41628</td>\n",
       "      <td>21506</td>\n",
       "      <td>1</td>\n",
       "    </tr>\n",
       "    <tr>\n",
       "      <th>5826504</th>\n",
       "      <td>41628</td>\n",
       "      <td>22882</td>\n",
       "      <td>1</td>\n",
       "    </tr>\n",
       "    <tr>\n",
       "      <th>5826505</th>\n",
       "      <td>41628</td>\n",
       "      <td>23757</td>\n",
       "      <td>1</td>\n",
       "    </tr>\n",
       "  </tbody>\n",
       "</table>\n",
       "<p>1554640 rows × 3 columns</p>\n",
       "</div>"
      ],
      "text/plain": [
       "         UserID  ItemID  Data\n",
       "0             0      11     1\n",
       "1             0      21     1\n",
       "13            0      22     1\n",
       "28            0      24     1\n",
       "29            0      44     1\n",
       "...         ...     ...   ...\n",
       "5826501   41628   20448     1\n",
       "5826502   41628   20896     1\n",
       "5826503   41628   21506     1\n",
       "5826504   41628   22882     1\n",
       "5826505   41628   23757     1\n",
       "\n",
       "[1554640 rows x 3 columns]"
      ]
     },
     "execution_count": 116,
     "metadata": {},
     "output_type": "execute_result"
    }
   ],
   "source": [
    "interactions_and_impressions = pd.read_csv(filepath_or_buffer=os.getenv('INTERACTIONS_AND_IMPRESSIONS_PATH'),\n",
    "                                            sep=',',\n",
    "                                            names=[\n",
    "    'UserID', 'ItemID', 'Impressions', 'Data'],\n",
    "    header=0,\n",
    "    dtype={'UserID': np.int32, 'ItemID': np.int32, 'Impressions': np.object0, 'Data': np.int32})\n",
    "interactions = interactions_and_impressions.drop(['Impressions'], axis=1)\n",
    "items = interactions['ItemID'].unique()\n",
    "data = interactions['Data'].unique()\n",
    "users = interactions['UserID'].unique()\n",
    "print(items.shape)\n",
    "print(data.shape)\n",
    "print(users.shape)\n",
    "interactions = interactions.replace({'Data': {0: 1}})\n",
    "interactions = interactions.drop_duplicates(keep='first')\n",
    "urm = dataframe_to_csr(interactions,'UserID','ItemID','Data')\n",
    "interactions"
   ]
  },
  {
   "cell_type": "code",
   "execution_count": 59,
   "metadata": {},
   "outputs": [
    {
     "name": "stdout",
     "output_type": "stream",
     "text": [
      "24507\n",
      "41629\n"
     ]
    }
   ],
   "source": [
    "print(interactions.ItemID.unique().size)\n",
    "print(interactions.UserID.unique().size)"
   ]
  },
  {
   "cell_type": "code",
   "execution_count": 60,
   "metadata": {},
   "outputs": [],
   "source": [
    "URM_train, URM_validation = split_train_in_two_percentage_global_sample(urm, train_percentage = 0.5)"
   ]
  },
  {
   "cell_type": "code",
   "execution_count": 61,
   "metadata": {},
   "outputs": [
    {
     "name": "stdout",
     "output_type": "stream",
     "text": [
      "<bound method spmatrix.get_shape of <41629x24507 sparse matrix of type '<class 'numpy.float64'>'\n",
      "\twith 777320 stored elements in Compressed Sparse Row format>>\n"
     ]
    }
   ],
   "source": [
    "print(URM_train.get_shape)"
   ]
  },
  {
   "cell_type": "code",
   "execution_count": 62,
   "metadata": {},
   "outputs": [],
   "source": [
    "data_icm_type = pd.read_csv(filepath_or_buffer=os.getenv('DATA_ICM_TYPE_PATH'),\n",
    "                            sep=',',\n",
    "                            names=[\n",
    "    'item_id', 'feature_id', 'data'],\n",
    "    header=0,\n",
    "    dtype={'item_id': np.int32, 'feature_id': np.int32, 'data': np.int32})\n",
    "\n",
    "features = data_icm_type['feature_id'].unique()\n",
    "items = data_icm_type['item_id'].unique()\n",
    "shape = (len(items), len(features))\n",
    "\n",
    "\n",
    "# Create indices for users and items\n",
    "features_cat = CategoricalDtype(categories=sorted(features), ordered=True)\n",
    "item_cat = CategoricalDtype(categories=sorted(items), ordered=True)\n",
    "features_index = data_icm_type[\"feature_id\"].astype(features_cat).cat.codes\n",
    "item_index = data_icm_type[\"item_id\"].astype(item_cat).cat.codes\n",
    "coo = sps.coo_matrix(\n",
    "    (data_icm_type[\"data\"], (item_index.values, features_index.values)), shape=shape)\n",
    "ICM = coo.tocsr()\n"
   ]
  },
  {
   "cell_type": "code",
   "execution_count": 63,
   "metadata": {},
   "outputs": [
    {
     "name": "stdout",
     "output_type": "stream",
     "text": [
      "  (0, 0)\t1\n",
      "  (1, 2)\t1\n",
      "  (2, 3)\t1\n",
      "  (3, 0)\t1\n",
      "  (4, 2)\t1\n",
      "  (5, 1)\t1\n",
      "  (6, 0)\t1\n",
      "  (7, 2)\t1\n",
      "  (8, 0)\t1\n",
      "  (9, 0)\t1\n",
      "  (10, 0)\t1\n",
      "  (11, 0)\t1\n",
      "  (12, 2)\t1\n",
      "  (13, 0)\t1\n",
      "  (14, 0)\t1\n",
      "  (15, 2)\t1\n",
      "  (16, 0)\t1\n",
      "  (17, 0)\t1\n",
      "  (18, 3)\t1\n",
      "  (19, 3)\t1\n",
      "  (20, 1)\t1\n",
      "  (21, 2)\t1\n",
      "  (22, 0)\t1\n",
      "  (23, 0)\t1\n",
      "  (24, 3)\t1\n",
      "  :\t:\n",
      "  (23066, 3)\t1\n",
      "  (23067, 2)\t1\n",
      "  (23068, 0)\t1\n",
      "  (23069, 2)\t1\n",
      "  (23070, 2)\t1\n",
      "  (23071, 0)\t1\n",
      "  (23072, 0)\t1\n",
      "  (23073, 0)\t1\n",
      "  (23074, 0)\t1\n",
      "  (23075, 3)\t1\n",
      "  (23076, 0)\t1\n",
      "  (23077, 0)\t1\n",
      "  (23078, 3)\t1\n",
      "  (23079, 0)\t1\n",
      "  (23080, 2)\t1\n",
      "  (23081, 0)\t1\n",
      "  (23082, 2)\t1\n",
      "  (23083, 3)\t1\n",
      "  (23084, 0)\t1\n",
      "  (23085, 3)\t1\n",
      "  (23086, 0)\t1\n",
      "  (23087, 1)\t1\n",
      "  (23088, 0)\t1\n",
      "  (23089, 0)\t1\n",
      "  (23090, 3)\t1\n"
     ]
    }
   ],
   "source": [
    "print(ICM)"
   ]
  },
  {
   "cell_type": "code",
   "execution_count": 64,
   "metadata": {},
   "outputs": [
    {
     "name": "stdout",
     "output_type": "stream",
     "text": [
      "[    9    14    23 ... 24486 24492 24499]\n"
     ]
    }
   ],
   "source": [
    "diff = np.setdiff1d(interactions['ItemID'].unique(), data_icm_type['item_id'].unique())\n",
    "print(diff)"
   ]
  },
  {
   "cell_type": "code",
   "execution_count": 65,
   "metadata": {},
   "outputs": [
    {
     "name": "stdout",
     "output_type": "stream",
     "text": [
      "4877\n"
     ]
    }
   ],
   "source": [
    "print(diff.size)"
   ]
  },
  {
   "cell_type": "code",
   "execution_count": 66,
   "metadata": {},
   "outputs": [
    {
     "name": "stdout",
     "output_type": "stream",
     "text": [
      "[24507 24508 24509 ... 27965 27966 27967]\n"
     ]
    }
   ],
   "source": [
    "diff_1 = np.setdiff1d(data_icm_type['item_id'].unique(), interactions['ItemID'].unique())\n",
    "print(diff_1)"
   ]
  },
  {
   "cell_type": "code",
   "execution_count": 67,
   "metadata": {},
   "outputs": [
    {
     "name": "stdout",
     "output_type": "stream",
     "text": [
      "3461\n"
     ]
    }
   ],
   "source": [
    "print(diff_1.size)"
   ]
  },
  {
   "cell_type": "code",
   "execution_count": 68,
   "metadata": {},
   "outputs": [],
   "source": [
    "from Data_Handler.DataReader import DataReader\n",
    "dataReader = DataReader()"
   ]
  },
  {
   "cell_type": "code",
   "execution_count": 119,
   "metadata": {},
   "outputs": [
    {
     "name": "stdout",
     "output_type": "stream",
     "text": [
      "(24385,)\n",
      "(24385,)\n",
      "(24385,)\n"
     ]
    },
    {
     "ename": "AttributeError",
     "evalue": "'numpy.ndarray' object has no attribute 'values'",
     "output_type": "error",
     "traceback": [
      "\u001b[0;31m---------------------------------------------------------------------------\u001b[0m",
      "\u001b[0;31mAttributeError\u001b[0m                            Traceback (most recent call last)",
      "Cell \u001b[0;32mIn [119], line 36\u001b[0m\n\u001b[1;32m     26\u001b[0m shape \u001b[39m=\u001b[39m (\u001b[39mlen\u001b[39m(row), \u001b[39mlen\u001b[39m(col))\n\u001b[1;32m     28\u001b[0m \u001b[39m# Create indices for users and items\u001b[39;00m\n\u001b[1;32m     29\u001b[0m \u001b[39m#row_cat = CategoricalDtype(categories=sorted(row), ordered=True)\u001b[39;00m\n\u001b[1;32m     30\u001b[0m \u001b[39m#col_cat = CategoricalDtype(categories=sorted(col), ordered=True)\u001b[39;00m\n\u001b[0;32m   (...)\u001b[0m\n\u001b[1;32m     33\u001b[0m \n\u001b[1;32m     34\u001b[0m \u001b[39m# Conversion via COO matrix\u001b[39;00m\n\u001b[1;32m     35\u001b[0m coo \u001b[39m=\u001b[39m sps\u001b[39m.\u001b[39mcoo_matrix(\n\u001b[0;32m---> 36\u001b[0m     (data, (row\u001b[39m.\u001b[39;49mvalues, col\u001b[39m.\u001b[39mvalues)), shape\u001b[39m=\u001b[39mshape)\n\u001b[1;32m     37\u001b[0m csr \u001b[39m=\u001b[39m coo\u001b[39m.\u001b[39mtocsr()\n\u001b[1;32m     38\u001b[0m csr\n",
      "\u001b[0;31mAttributeError\u001b[0m: 'numpy.ndarray' object has no attribute 'values'"
     ]
    }
   ],
   "source": [
    "pad_items_ids = np.setdiff1d(dataReader.load_augmented_binary_urm_df()['ItemID'].unique(), dataReader.load_icm_df()['item_id'].unique())\n",
    "feature_ids = dataReader.load_icm_df()['feature_id'].unique()\n",
    "col = []\n",
    "for feature_id in feature_ids:\n",
    "    for item_id in range(len(pad_items_ids)):\n",
    "        col.append(feature_id)\n",
    "col = np.array(col)\n",
    "row=[]\n",
    "for item_id in pad_items_ids:\n",
    "    for feature_id in range(len(feature_ids)):\n",
    "        row.append(item_id)\n",
    "row=np.array(row)\n",
    "#print(col)\n",
    "#print(row)\n",
    "#print(pad_items_ids.size)\n",
    "#print(feature_ids)\n",
    "#print(data)\n",
    "data = np.zeros((row.size),dtype=int)\n",
    "col = np.transpose(col)\n",
    "print(col.shape)\n",
    "print(row.shape)\n",
    "print(data.shape)\n",
    "#padICM = sps.coo_matrix((data,(row,col)),shape=(row.size, col.size))\n",
    "#paddedICM = sps.vstack(ICM, padICM)\n",
    "#sps.vstack(URM_train, paddedICM.T)\n",
    "shape = (len(row), len(col))\n",
    "\n",
    "# Create indices for users and items\n",
    "#row_cat = CategoricalDtype(categories=sorted(row), ordered=True)\n",
    "#col_cat = CategoricalDtype(categories=sorted(col), ordered=True)\n",
    "#row_index = dataframe[row_name].astype(row_cat).cat.codes\n",
    "#col_index = dataframe[col_name].astype(col_cat).cat.codes\n",
    "\n",
    "# Conversion via COO matrix\n",
    "coo = sps.coo_matrix(\n",
    "    (data, (row.values, col.values)), shape=shape)\n",
    "csr = coo.tocsr()\n",
    "csr"
   ]
  },
  {
   "cell_type": "code",
   "execution_count": null,
   "metadata": {},
   "outputs": [],
   "source": []
  }
 ],
 "metadata": {
  "kernelspec": {
   "display_name": "Python 3.9.15 ('tensorflow')",
   "language": "python",
   "name": "python3"
  },
  "language_info": {
   "codemirror_mode": {
    "name": "ipython",
    "version": 3
   },
   "file_extension": ".py",
   "mimetype": "text/x-python",
   "name": "python",
   "nbconvert_exporter": "python",
   "pygments_lexer": "ipython3",
   "version": "3.9.15"
  },
  "orig_nbformat": 4,
  "vscode": {
   "interpreter": {
    "hash": "924875a864510efb8ec566d64580ebd057fcb8e77e67729a27391833cbf8b66e"
   }
  }
 },
 "nbformat": 4,
 "nbformat_minor": 2
}
