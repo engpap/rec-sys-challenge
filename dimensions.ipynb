{
 "cells": [
  {
   "cell_type": "code",
   "execution_count": 88,
   "metadata": {},
   "outputs": [],
   "source": [
    "import scipy.sparse as sps\n",
    "from Data_manager.split_functions.split_train_validation_random_holdout import split_train_in_two_percentage_global_sample\n",
    "import pandas as pd\n",
    "import numpy as np\n",
    "from pandas.api.types import CategoricalDtype\n",
    "from Evaluation.Evaluator import EvaluatorHoldout\n",
    "import scipy.sparse as sps\n",
    "from collections import Counter\n",
    "from tqdm import tqdm\n",
    "# imports for .env usage\n",
    "import os\n",
    "from dotenv import load_dotenv\n",
    "load_dotenv()\n",
    "from Data_Handler.DataReader import DataReader"
   ]
  },
  {
   "cell_type": "code",
   "execution_count": 89,
   "metadata": {},
   "outputs": [],
   "source": [
    "def dataframe_to_csr(dataframe,row_name,col_name,cell_name):\n",
    "        \"\"\"This method converts a dataframe object into a csr\n",
    "\n",
    "        Args:\n",
    "            dataframe (dataframe)\n",
    "            row_name (str): For example, \"UserID\"\n",
    "            col_name (str): For example, \"ItemID\"\n",
    "            cell_name (str): For example, \"Data\"\n",
    "        Returns:\n",
    "            csr\n",
    "        \"\"\"\n",
    "        rows = dataframe[row_name].unique()\n",
    "        columns = dataframe[col_name].unique()\n",
    "\n",
    "        shape = (len(rows), len(columns))\n",
    "\n",
    "        # Create indices for users and items\n",
    "        row_cat = CategoricalDtype(categories=sorted(rows), ordered=True)\n",
    "        col_cat = CategoricalDtype(categories=sorted(columns), ordered=True)\n",
    "        row_index = dataframe[row_name].astype(row_cat).cat.codes\n",
    "        col_index = dataframe[col_name].astype(col_cat).cat.codes\n",
    "\n",
    "        # Conversion via COO matrix\n",
    "        coo = sps.coo_matrix(\n",
    "            (dataframe[cell_name], (row_index.values, col_index.values)), shape=shape)\n",
    "        csr = coo.tocsr()\n",
    "        return csr"
   ]
  },
  {
   "cell_type": "code",
   "execution_count": 90,
   "metadata": {},
   "outputs": [
    {
     "name": "stdout",
     "output_type": "stream",
     "text": [
      "(24507,)\n",
      "(2,)\n",
      "(41629,)\n"
     ]
    },
    {
     "data": {
      "text/html": [
       "<div>\n",
       "<style scoped>\n",
       "    .dataframe tbody tr th:only-of-type {\n",
       "        vertical-align: middle;\n",
       "    }\n",
       "\n",
       "    .dataframe tbody tr th {\n",
       "        vertical-align: top;\n",
       "    }\n",
       "\n",
       "    .dataframe thead th {\n",
       "        text-align: right;\n",
       "    }\n",
       "</style>\n",
       "<table border=\"1\" class=\"dataframe\">\n",
       "  <thead>\n",
       "    <tr style=\"text-align: right;\">\n",
       "      <th></th>\n",
       "      <th>UserID</th>\n",
       "      <th>ItemID</th>\n",
       "      <th>Data</th>\n",
       "    </tr>\n",
       "  </thead>\n",
       "  <tbody>\n",
       "    <tr>\n",
       "      <th>0</th>\n",
       "      <td>0</td>\n",
       "      <td>11</td>\n",
       "      <td>1</td>\n",
       "    </tr>\n",
       "    <tr>\n",
       "      <th>1</th>\n",
       "      <td>0</td>\n",
       "      <td>21</td>\n",
       "      <td>1</td>\n",
       "    </tr>\n",
       "    <tr>\n",
       "      <th>13</th>\n",
       "      <td>0</td>\n",
       "      <td>22</td>\n",
       "      <td>1</td>\n",
       "    </tr>\n",
       "    <tr>\n",
       "      <th>28</th>\n",
       "      <td>0</td>\n",
       "      <td>24</td>\n",
       "      <td>1</td>\n",
       "    </tr>\n",
       "    <tr>\n",
       "      <th>29</th>\n",
       "      <td>0</td>\n",
       "      <td>44</td>\n",
       "      <td>1</td>\n",
       "    </tr>\n",
       "    <tr>\n",
       "      <th>...</th>\n",
       "      <td>...</td>\n",
       "      <td>...</td>\n",
       "      <td>...</td>\n",
       "    </tr>\n",
       "    <tr>\n",
       "      <th>5826501</th>\n",
       "      <td>41628</td>\n",
       "      <td>20448</td>\n",
       "      <td>1</td>\n",
       "    </tr>\n",
       "    <tr>\n",
       "      <th>5826502</th>\n",
       "      <td>41628</td>\n",
       "      <td>20896</td>\n",
       "      <td>1</td>\n",
       "    </tr>\n",
       "    <tr>\n",
       "      <th>5826503</th>\n",
       "      <td>41628</td>\n",
       "      <td>21506</td>\n",
       "      <td>1</td>\n",
       "    </tr>\n",
       "    <tr>\n",
       "      <th>5826504</th>\n",
       "      <td>41628</td>\n",
       "      <td>22882</td>\n",
       "      <td>1</td>\n",
       "    </tr>\n",
       "    <tr>\n",
       "      <th>5826505</th>\n",
       "      <td>41628</td>\n",
       "      <td>23757</td>\n",
       "      <td>1</td>\n",
       "    </tr>\n",
       "  </tbody>\n",
       "</table>\n",
       "<p>1554640 rows × 3 columns</p>\n",
       "</div>"
      ],
      "text/plain": [
       "         UserID  ItemID  Data\n",
       "0             0      11     1\n",
       "1             0      21     1\n",
       "13            0      22     1\n",
       "28            0      24     1\n",
       "29            0      44     1\n",
       "...         ...     ...   ...\n",
       "5826501   41628   20448     1\n",
       "5826502   41628   20896     1\n",
       "5826503   41628   21506     1\n",
       "5826504   41628   22882     1\n",
       "5826505   41628   23757     1\n",
       "\n",
       "[1554640 rows x 3 columns]"
      ]
     },
     "execution_count": 90,
     "metadata": {},
     "output_type": "execute_result"
    }
   ],
   "source": [
    "interactions_and_impressions = pd.read_csv(filepath_or_buffer=os.getenv('INTERACTIONS_AND_IMPRESSIONS_PATH'),\n",
    "                                            sep=',',\n",
    "                                            names=[\n",
    "    'UserID', 'ItemID', 'Impressions', 'Data'],\n",
    "    header=0,\n",
    "    dtype={'UserID': np.int32, 'ItemID': np.int32, 'Impressions': np.object0, 'Data': np.int32})\n",
    "interactions = interactions_and_impressions.drop(['Impressions'], axis=1)\n",
    "items = interactions['ItemID'].unique()\n",
    "data = interactions['Data'].unique()\n",
    "users = interactions['UserID'].unique()\n",
    "print(items.shape)\n",
    "print(data.shape)\n",
    "print(users.shape)\n",
    "interactions = interactions.replace({'Data': {0: 1}})\n",
    "interactions = interactions.drop_duplicates(keep='first')\n",
    "urm = dataframe_to_csr(interactions,'UserID','ItemID','Data')\n",
    "interactions"
   ]
  },
  {
   "cell_type": "code",
   "execution_count": 91,
   "metadata": {},
   "outputs": [
    {
     "name": "stdout",
     "output_type": "stream",
     "text": [
      "24507\n",
      "41629\n"
     ]
    }
   ],
   "source": [
    "print(interactions.ItemID.unique().size)\n",
    "print(interactions.UserID.unique().size)"
   ]
  },
  {
   "cell_type": "code",
   "execution_count": 92,
   "metadata": {},
   "outputs": [
    {
     "name": "stdout",
     "output_type": "stream",
     "text": [
      "Warning: 1 (0.00 %) of 41629 users have no sampled items\n"
     ]
    }
   ],
   "source": [
    "URM_train, URM_validation = split_train_in_two_percentage_global_sample(urm, train_percentage = 0.5)"
   ]
  },
  {
   "cell_type": "code",
   "execution_count": 93,
   "metadata": {},
   "outputs": [
    {
     "name": "stdout",
     "output_type": "stream",
     "text": [
      "<bound method spmatrix.get_shape of <41629x24507 sparse matrix of type '<class 'numpy.float64'>'\n",
      "\twith 777320 stored elements in Compressed Sparse Row format>>\n"
     ]
    }
   ],
   "source": [
    "print(URM_train.get_shape)"
   ]
  },
  {
   "cell_type": "code",
   "execution_count": 94,
   "metadata": {},
   "outputs": [],
   "source": [
    "data_icm_type = pd.read_csv(filepath_or_buffer=os.getenv('DATA_ICM_TYPE_PATH'),\n",
    "                            sep=',',\n",
    "                            names=[\n",
    "    'item_id', 'feature_id', 'data'],\n",
    "    header=0,\n",
    "    dtype={'item_id': np.int32, 'feature_id': np.int32, 'data': np.int32})\n",
    "\n",
    "features = data_icm_type['feature_id'].unique()\n",
    "items = data_icm_type['item_id'].unique()\n",
    "shape = (len(items), len(features))\n",
    "\n",
    "\n",
    "# Create indices for users and items\n",
    "features_cat = CategoricalDtype(categories=sorted(features), ordered=True)\n",
    "item_cat = CategoricalDtype(categories=sorted(items), ordered=True)\n",
    "features_index = data_icm_type[\"feature_id\"].astype(features_cat).cat.codes\n",
    "item_index = data_icm_type[\"item_id\"].astype(item_cat).cat.codes\n",
    "coo = sps.coo_matrix(\n",
    "    (data_icm_type[\"data\"], (item_index.values, features_index.values)), shape=shape)\n",
    "ICM = coo.tocsr()\n"
   ]
  },
  {
   "cell_type": "code",
   "execution_count": 95,
   "metadata": {},
   "outputs": [
    {
     "name": "stdout",
     "output_type": "stream",
     "text": [
      "  (0, 0)\t1\n",
      "  (1, 2)\t1\n",
      "  (2, 3)\t1\n",
      "  (3, 0)\t1\n",
      "  (4, 2)\t1\n",
      "  (5, 1)\t1\n",
      "  (6, 0)\t1\n",
      "  (7, 2)\t1\n",
      "  (8, 0)\t1\n",
      "  (9, 0)\t1\n",
      "  (10, 0)\t1\n",
      "  (11, 0)\t1\n",
      "  (12, 2)\t1\n",
      "  (13, 0)\t1\n",
      "  (14, 0)\t1\n",
      "  (15, 2)\t1\n",
      "  (16, 0)\t1\n",
      "  (17, 0)\t1\n",
      "  (18, 3)\t1\n",
      "  (19, 3)\t1\n",
      "  (20, 1)\t1\n",
      "  (21, 2)\t1\n",
      "  (22, 0)\t1\n",
      "  (23, 0)\t1\n",
      "  (24, 3)\t1\n",
      "  :\t:\n",
      "  (23066, 3)\t1\n",
      "  (23067, 2)\t1\n",
      "  (23068, 0)\t1\n",
      "  (23069, 2)\t1\n",
      "  (23070, 2)\t1\n",
      "  (23071, 0)\t1\n",
      "  (23072, 0)\t1\n",
      "  (23073, 0)\t1\n",
      "  (23074, 0)\t1\n",
      "  (23075, 3)\t1\n",
      "  (23076, 0)\t1\n",
      "  (23077, 0)\t1\n",
      "  (23078, 3)\t1\n",
      "  (23079, 0)\t1\n",
      "  (23080, 2)\t1\n",
      "  (23081, 0)\t1\n",
      "  (23082, 2)\t1\n",
      "  (23083, 3)\t1\n",
      "  (23084, 0)\t1\n",
      "  (23085, 3)\t1\n",
      "  (23086, 0)\t1\n",
      "  (23087, 1)\t1\n",
      "  (23088, 0)\t1\n",
      "  (23089, 0)\t1\n",
      "  (23090, 3)\t1\n"
     ]
    }
   ],
   "source": [
    "print(ICM)"
   ]
  },
  {
   "cell_type": "code",
   "execution_count": 96,
   "metadata": {},
   "outputs": [
    {
     "name": "stdout",
     "output_type": "stream",
     "text": [
      "[    9    14    23 ... 24486 24492 24499]\n"
     ]
    }
   ],
   "source": [
    "diff = np.setdiff1d(interactions['ItemID'].unique(), data_icm_type['item_id'].unique())\n",
    "print(diff)"
   ]
  },
  {
   "cell_type": "code",
   "execution_count": 97,
   "metadata": {},
   "outputs": [
    {
     "name": "stdout",
     "output_type": "stream",
     "text": [
      "4877\n"
     ]
    }
   ],
   "source": [
    "print(diff.size)"
   ]
  },
  {
   "cell_type": "code",
   "execution_count": 98,
   "metadata": {},
   "outputs": [
    {
     "name": "stdout",
     "output_type": "stream",
     "text": [
      "[24507 24508 24509 ... 27965 27966 27967]\n"
     ]
    }
   ],
   "source": [
    "diff_1 = np.setdiff1d(data_icm_type['item_id'].unique(), interactions['ItemID'].unique())\n",
    "print(diff_1)"
   ]
  },
  {
   "cell_type": "code",
   "execution_count": 99,
   "metadata": {},
   "outputs": [
    {
     "name": "stdout",
     "output_type": "stream",
     "text": [
      "3461\n"
     ]
    }
   ],
   "source": [
    "print(diff_1.size)"
   ]
  },
  {
   "cell_type": "code",
   "execution_count": 100,
   "metadata": {},
   "outputs": [],
   "source": [
    "from Data_Handler.DataReader import DataReader\n",
    "dataReader = DataReader()"
   ]
  },
  {
   "cell_type": "code",
   "execution_count": 101,
   "metadata": {},
   "outputs": [
    {
     "name": "stdout",
     "output_type": "stream",
     "text": [
      "Warning: 2940 (7.06 %) of 41629 users have no sampled items\n"
     ]
    }
   ],
   "source": [
    "URM_train, URM_validation = split_train_in_two_percentage_global_sample(dataReader.load_augmented_binary_urm(), train_percentage = 0.9)"
   ]
  },
  {
   "cell_type": "code",
   "execution_count": 102,
   "metadata": {},
   "outputs": [
    {
     "name": "stdout",
     "output_type": "stream",
     "text": [
      "  (0, 11)\t0.825\n",
      "  (0, 21)\t0.825\n",
      "  (0, 22)\t0.825\n",
      "  (0, 24)\t0.825\n",
      "  (0, 54)\t0.825\n",
      "  (0, 124)\t0.825\n",
      "  (0, 239)\t0.825\n",
      "  (0, 575)\t0.825\n",
      "  (0, 751)\t0.825\n",
      "  (0, 987)\t0.825\n",
      "  (0, 1326)\t0.825\n",
      "  (0, 1715)\t0.825\n",
      "  (0, 2218)\t0.825\n",
      "  (0, 2256)\t0.825\n",
      "  (0, 2257)\t0.825\n",
      "  (0, 2292)\t0.825\n",
      "  (0, 2730)\t0.825\n",
      "  (0, 4007)\t0.825\n",
      "  (0, 4047)\t0.825\n",
      "  (0, 4383)\t0.825\n",
      "  (0, 5336)\t0.825\n",
      "  (0, 5735)\t0.825\n",
      "  (0, 5752)\t0.825\n",
      "  (0, 6351)\t0.825\n",
      "  (0, 7301)\t0.825\n",
      "  :\t:\n",
      "  (41632, 27866)\t0.175\n",
      "  (41632, 27870)\t0.175\n",
      "  (41632, 27873)\t0.175\n",
      "  (41632, 27877)\t0.175\n",
      "  (41632, 27880)\t0.175\n",
      "  (41632, 27883)\t0.175\n",
      "  (41632, 27889)\t0.175\n",
      "  (41632, 27896)\t0.175\n",
      "  (41632, 27900)\t0.175\n",
      "  (41632, 27907)\t0.175\n",
      "  (41632, 27911)\t0.175\n",
      "  (41632, 27917)\t0.175\n",
      "  (41632, 27922)\t0.175\n",
      "  (41632, 27942)\t0.175\n",
      "  (41632, 27943)\t0.175\n",
      "  (41632, 27952)\t0.175\n",
      "  (41632, 27955)\t0.175\n",
      "  (41632, 27960)\t0.175\n",
      "  (41632, 27962)\t0.175\n",
      "  (41632, 27967)\t0.175\n",
      "  (41633, 97)\t0.175\n",
      "  (41633, 14789)\t0.175\n",
      "  (41633, 16522)\t0.175\n",
      "  (41633, 20523)\t0.175\n",
      "  (41633, 24130)\t0.175\n"
     ]
    }
   ],
   "source": [
    "urm=dataReader.csr_to_dataframe(URM_train)\n",
    "f=dataReader.load_icm_df()\n",
    "swap_list = [\"feature_id\", \"item_id\", \"data\"]\n",
    "f = f.reindex(columns=swap_list)\n",
    "f = f.rename({'feature_id': 'UserID', 'item_id': 'ItemID', 'data': 'Data'}, axis=1)\n",
    "\n",
    "urm['Data'] = 0.825 * urm['Data']\n",
    "# f times (1-aplha)\n",
    "f['Data'] = 0.175 * f['Data']\n",
    "# Change UserIDs of f matrix in order to make recommender work\n",
    "f['UserID'] = 41634 + f['UserID']\n",
    "\n",
    "powerful_urm = pd.concat([urm, f], ignore_index=True).sort_values(['UserID', 'ItemID'])\n",
    "powerful_urm = dataReader.dataframe_to_csr(powerful_urm,'UserID', 'ItemID','Data')\n",
    "print(powerful_urm)"
   ]
  },
  {
   "cell_type": "code",
   "execution_count": 103,
   "metadata": {},
   "outputs": [
    {
     "name": "stdout",
     "output_type": "stream",
     "text": [
      "4877\n",
      "[1 3 4 2 7]\n"
     ]
    },
    {
     "data": {
      "text/plain": [
       "'data = np.zeros((row.size),dtype=np.int32)\\nprint(data.size)\\n\\nprint(np.unique(row))\\nprint(np.unique(col))\\n\\npadICM = sps.csr_matrix((data,(row,col)))\\nprint(padICM)\\n\\nprint(\"icm\",dataReader.load_icm().get_shape())\\nprint(dataReader.load_icm().dtype.name)\\n\\nprint(\"pad\",padICM.get_shape())\\nprint(padICM.dtype.name)\\npaddedICM = sps.vstack([dataReader.load_icm(), padICM])\\n#result=sps.vstack(URM_train, paddedICM.T)'"
      ]
     },
     "execution_count": 103,
     "metadata": {},
     "output_type": "execute_result"
    }
   ],
   "source": [
    "pad_items_ids = np.setdiff1d(dataReader.load_augmented_binary_urm_df()['ItemID'].unique(), dataReader.load_icm_df()['item_id'].unique())\n",
    "print(pad_items_ids.size)\n",
    "feature_ids = dataReader.load_icm_df()['feature_id'].unique()\n",
    "print(feature_ids)\n",
    "\n",
    "col = []\n",
    "for feature_id in feature_ids:\n",
    "    for item_id in range(len(pad_items_ids)):\n",
    "        col.append(feature_id)\n",
    "col = np.array(col,dtype=np.int32)\n",
    "\n",
    "row=[]\n",
    "for item_id in pad_items_ids:\n",
    "    for feature_id in range(len(feature_ids)):\n",
    "        row.append(item_id)\n",
    "row=np.array(row,dtype=np.int32)\n",
    "\n",
    "'''data = np.zeros((row.size),dtype=np.int32)\n",
    "print(data.size)\n",
    "\n",
    "print(np.unique(row))\n",
    "print(np.unique(col))\n",
    "\n",
    "padICM = sps.csr_matrix((data,(row,col)))\n",
    "print(padICM)\n",
    "\n",
    "print(\"icm\",dataReader.load_icm().get_shape())\n",
    "print(dataReader.load_icm().dtype.name)\n",
    "\n",
    "print(\"pad\",padICM.get_shape())\n",
    "print(padICM.dtype.name)\n",
    "paddedICM = sps.vstack([dataReader.load_icm(), padICM])\n",
    "#result=sps.vstack(URM_train, paddedICM.T)'''"
   ]
  },
  {
   "cell_type": "code",
   "execution_count": 104,
   "metadata": {},
   "outputs": [],
   "source": [
    "dataReader = DataReader()\n"
   ]
  },
  {
   "cell_type": "code",
   "execution_count": 128,
   "metadata": {},
   "outputs": [
    {
     "name": "stdout",
     "output_type": "stream",
     "text": [
      "4877\n"
     ]
    }
   ],
   "source": [
    "urm=dataReader.csr_to_dataframe(URM_train)\n",
    "icm=dataReader.load_icm_df()\n",
    "DiffURM_ICM = np.setdiff1d(urm['ItemID'].unique(), icm['item_id'].unique())\n",
    "DiffICM_URM = np.setdiff1d( icm['item_id'].unique(), urm['ItemID'].unique())\n",
    "print(DiffURM_ICM.size)"
   ]
  },
  {
   "cell_type": "code",
   "execution_count": 133,
   "metadata": {},
   "outputs": [],
   "source": [
    "for id in DiffURM_ICM:\n",
    "    icm.loc[len(icm.index)] = [id, 1, 0]"
   ]
  },
  {
   "cell_type": "code",
   "execution_count": 134,
   "metadata": {},
   "outputs": [
    {
     "name": "stdout",
     "output_type": "stream",
     "text": [
      "27968\n"
     ]
    }
   ],
   "source": [
    "a = icm['item_id'].unique()\n",
    "print(a.size)"
   ]
  },
  {
   "cell_type": "code",
   "execution_count": 135,
   "metadata": {},
   "outputs": [],
   "source": [
    "sorted_icm = icm.sort_values('item_id').reset_index(drop= True)"
   ]
  },
  {
   "cell_type": "code",
   "execution_count": 136,
   "metadata": {},
   "outputs": [],
   "source": [
    "sorted_icm.to_csv('/Users/francescomattioli/Desktop/newicm.csv')"
   ]
  },
  {
   "cell_type": "code",
   "execution_count": 137,
   "metadata": {},
   "outputs": [],
   "source": [
    "for id in DiffICM_URM:\n",
    "    urm.loc[len(urm.index)] = [1, id, 0]"
   ]
  },
  {
   "cell_type": "code",
   "execution_count": 138,
   "metadata": {},
   "outputs": [
    {
     "name": "stdout",
     "output_type": "stream",
     "text": [
      "27968\n"
     ]
    }
   ],
   "source": [
    "b = urm['ItemID'].unique()\n",
    "print(b.size)"
   ]
  },
  {
   "cell_type": "code",
   "execution_count": 139,
   "metadata": {},
   "outputs": [],
   "source": [
    "sorted_urm = urm.sort_values('UserID').reset_index(drop= True)"
   ]
  },
  {
   "cell_type": "code",
   "execution_count": 140,
   "metadata": {},
   "outputs": [],
   "source": [
    "sorted_icm.to_csv('/Users/francescomattioli/Desktop/newurm.csv')"
   ]
  },
  {
   "cell_type": "code",
   "execution_count": 148,
   "metadata": {},
   "outputs": [],
   "source": [
    "URM = dataReader.dataframe_to_csr(sorted_urm, 'UserID', 'ItemID', 'Data')\n",
    "ICM = dataReader.dataframe_to_csr(sorted_icm, 'item_id', 'feature_id', 'data')"
   ]
  },
  {
   "cell_type": "code",
   "execution_count": 150,
   "metadata": {},
   "outputs": [
    {
     "name": "stdout",
     "output_type": "stream",
     "text": [
      "  (0, 0)\t1\n",
      "  (1, 2)\t1\n",
      "  (2, 3)\t1\n",
      "  (3, 0)\t1\n",
      "  (4, 2)\t1\n",
      "  (5, 1)\t1\n",
      "  (6, 0)\t1\n",
      "  (7, 2)\t1\n",
      "  (8, 0)\t1\n",
      "  (9, 0)\t0\n",
      "  (10, 0)\t1\n",
      "  (11, 0)\t1\n",
      "  (12, 0)\t1\n",
      "  (13, 2)\t1\n",
      "  (14, 0)\t0\n",
      "  (15, 0)\t1\n",
      "  (16, 0)\t1\n",
      "  (17, 2)\t1\n",
      "  (18, 0)\t1\n",
      "  (19, 0)\t1\n",
      "  (20, 3)\t1\n",
      "  (21, 3)\t1\n",
      "  (22, 1)\t1\n",
      "  (23, 0)\t0\n",
      "  (24, 0)\t0\n",
      "  :\t:\n",
      "  (27943, 3)\t1\n",
      "  (27944, 2)\t1\n",
      "  (27945, 0)\t1\n",
      "  (27946, 2)\t1\n",
      "  (27947, 2)\t1\n",
      "  (27948, 0)\t1\n",
      "  (27949, 0)\t1\n",
      "  (27950, 0)\t1\n",
      "  (27951, 0)\t1\n",
      "  (27952, 3)\t1\n",
      "  (27953, 0)\t1\n",
      "  (27954, 0)\t1\n",
      "  (27955, 3)\t1\n",
      "  (27956, 0)\t1\n",
      "  (27957, 2)\t1\n",
      "  (27958, 0)\t1\n",
      "  (27959, 2)\t1\n",
      "  (27960, 3)\t1\n",
      "  (27961, 0)\t1\n",
      "  (27962, 3)\t1\n",
      "  (27963, 0)\t1\n",
      "  (27964, 1)\t1\n",
      "  (27965, 0)\t1\n",
      "  (27966, 0)\t1\n",
      "  (27967, 3)\t1\n"
     ]
    }
   ],
   "source": [
    "#print(URM)\n",
    "print(ICM)"
   ]
  },
  {
   "cell_type": "code",
   "execution_count": null,
   "metadata": {},
   "outputs": [],
   "source": []
  }
 ],
 "metadata": {
  "kernelspec": {
   "display_name": "Python 3.9.15 ('tensorflow')",
   "language": "python",
   "name": "python3"
  },
  "language_info": {
   "codemirror_mode": {
    "name": "ipython",
    "version": 3
   },
   "file_extension": ".py",
   "mimetype": "text/x-python",
   "name": "python",
   "nbconvert_exporter": "python",
   "pygments_lexer": "ipython3",
   "version": "3.9.15"
  },
  "orig_nbformat": 4,
  "vscode": {
   "interpreter": {
    "hash": "924875a864510efb8ec566d64580ebd057fcb8e77e67729a27391833cbf8b66e"
   }
  }
 },
 "nbformat": 4,
 "nbformat_minor": 2
}
