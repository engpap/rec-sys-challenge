{
 "cells": [
  {
   "cell_type": "code",
   "execution_count": 7,
   "metadata": {},
   "outputs": [
    {
     "name": "stdout",
     "output_type": "stream",
     "text": [
      "Counter({'1': 3, '2': 2, '3': 1})\n"
     ]
    },
    {
     "data": {
      "text/plain": [
       "{1: 3, 2: 2}"
      ]
     },
     "execution_count": 7,
     "metadata": {},
     "output_type": "execute_result"
    }
   ],
   "source": [
    "from collections import Counter \n",
    "impressions=['1','1','2','3','1','2']\n",
    "counts = Counter(impressions)\n",
    "print(counts)\n",
    "presentations = {}\n",
    "for item in [1,2]:\n",
    "    presentations[int(item)] = counts[str(item)]\n",
    "presentations"
   ]
  },
  {
   "cell_type": "code",
   "execution_count": 6,
   "metadata": {},
   "outputs": [
    {
     "name": "stdout",
     "output_type": "stream",
     "text": [
      "Counter({1: 4, 2: 1, 3: 1})\n"
     ]
    },
    {
     "data": {
      "text/plain": [
       "{1: 4, 2: 1}"
      ]
     },
     "execution_count": 6,
     "metadata": {},
     "output_type": "execute_result"
    }
   ],
   "source": [
    "from collections import Counter \n",
    "impressions=[1,1,2,3,1,1]\n",
    "counts = Counter(impressions)\n",
    "print(counts)\n",
    "presentations = {}\n",
    "for item in [1,2]:\n",
    "    presentations[item] = counts[item]\n",
    "presentations"
   ]
  }
 ],
 "metadata": {
  "kernelspec": {
   "display_name": "Python 3.10.8 64-bit",
   "language": "python",
   "name": "python3"
  },
  "language_info": {
   "codemirror_mode": {
    "name": "ipython",
    "version": 3
   },
   "file_extension": ".py",
   "mimetype": "text/x-python",
   "name": "python",
   "nbconvert_exporter": "python",
   "pygments_lexer": "ipython3",
   "version": "3.10.8 (tags/v3.10.8:aaaf517, Oct 11 2022, 16:50:30) [MSC v.1933 64 bit (AMD64)]"
  },
  "orig_nbformat": 4,
  "vscode": {
   "interpreter": {
    "hash": "6847c98a8f86b01c6a19c518cd2f366693b80566b266804d5ca763cbb223f52b"
   }
  }
 },
 "nbformat": 4,
 "nbformat_minor": 2
}
