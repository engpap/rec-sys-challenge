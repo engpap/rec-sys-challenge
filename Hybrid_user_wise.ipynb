{
 "cells": [
  {
   "cell_type": "code",
   "execution_count": 24,
   "metadata": {},
   "outputs": [
    {
     "data": {
      "text/plain": [
       "True"
      ]
     },
     "execution_count": 24,
     "metadata": {},
     "output_type": "execute_result"
    }
   ],
   "source": [
    "import scipy.sparse as sps\n",
    "from Data_manager.split_functions.split_train_validation_random_holdout import split_train_in_two_percentage_global_sample\n",
    "import pandas as pd\n",
    "import numpy as np\n",
    "from pandas.api.types import CategoricalDtype\n",
    "from Evaluation.Evaluator import EvaluatorHoldout\n",
    "from Data_Handler.DataReader import DataReader\n",
    "import scipy.sparse as sps\n",
    "from collections import Counter\n",
    "from tqdm import tqdm\n",
    "# imports for .env usage\n",
    "import os\n",
    "from dotenv import load_dotenv\n",
    "load_dotenv()\n",
    "\n"
   ]
  },
  {
   "cell_type": "code",
   "execution_count": 25,
   "metadata": {},
   "outputs": [
    {
     "name": "stdout",
     "output_type": "stream",
     "text": [
      "Warning: 2913 (7.00 %) of 41629 users have no sampled items\n",
      "Warning: 2881 (6.92 %) of 41634 users have no sampled items\n"
     ]
    }
   ],
   "source": [
    "from Data_Handler.DataReader import DataReader \n",
    "dataReader=DataReader()\n",
    "urm=dataReader.load_augmented_binary_urm()\n",
    "powerful_urm=dataReader.load_powerful_binary_urm()\n",
    "\n",
    "URM_train, URM_validation = split_train_in_two_percentage_global_sample(urm, train_percentage = 0.9)\n",
    "train_powerful, val_powerful = split_train_in_two_percentage_global_sample(powerful_urm, train_percentage = 0.9)\n",
    "#train_pad, val_pad = split_train_in_two_percentage_global_sample(urm_pad, train_percentage = 0.9)"
   ]
  },
  {
   "cell_type": "code",
   "execution_count": 26,
   "metadata": {},
   "outputs": [
    {
     "data": {
      "text/plain": [
       "(array([60, 18, 89, ..., 19, 49, 19], dtype=int32), (41629,))"
      ]
     },
     "execution_count": 26,
     "metadata": {},
     "output_type": "execute_result"
    }
   ],
   "source": [
    "profile_length = np.ediff1d(sps.csr_matrix(URM_train).indptr)\n",
    "profile_length, profile_length.shape"
   ]
  },
  {
   "cell_type": "code",
   "execution_count": 27,
   "metadata": {},
   "outputs": [
    {
     "data": {
      "text/plain": [
       "4162"
      ]
     },
     "execution_count": 27,
     "metadata": {},
     "output_type": "execute_result"
    }
   ],
   "source": [
    "block_size = int(len(profile_length)*0.1)\n",
    "block_size"
   ]
  },
  {
   "cell_type": "code",
   "execution_count": 28,
   "metadata": {},
   "outputs": [
    {
     "data": {
      "text/plain": [
       "array([ 4769, 25061, 39253, ..., 19407,  8693, 12454])"
      ]
     },
     "execution_count": 28,
     "metadata": {},
     "output_type": "execute_result"
    }
   ],
   "source": [
    "sorted_users = np.argsort(profile_length)\n",
    "sorted_users"
   ]
  },
  {
   "cell_type": "code",
   "execution_count": 29,
   "metadata": {},
   "outputs": [
    {
     "name": "stdout",
     "output_type": "stream",
     "text": [
      "Group 0, #users in group 4162, average p.len 12.86, median 13.0, min 3, max 15\n",
      "Group 1, #users in group 4162, average p.len 16.66, median 17.0, min 15, max 18\n",
      "Group 2, #users in group 4162, average p.len 19.14, median 19.0, min 18, max 20\n",
      "Group 3, #users in group 4162, average p.len 21.64, median 22.0, min 20, max 23\n",
      "Group 4, #users in group 4162, average p.len 24.27, median 24.0, min 23, max 26\n",
      "Group 5, #users in group 4162, average p.len 27.49, median 27.0, min 26, max 29\n",
      "Group 6, #users in group 4162, average p.len 31.82, median 32.0, min 29, max 35\n",
      "Group 7, #users in group 4162, average p.len 38.34, median 38.0, min 35, max 43\n",
      "Group 8, #users in group 4162, average p.len 49.56, median 49.0, min 43, max 59\n",
      "Group 9, #users in group 4162, average p.len 92.81, median 77.0, min 59, max 508\n"
     ]
    }
   ],
   "source": [
    "for group_id in range(0, 10):\n",
    "    start_pos = group_id * block_size\n",
    "    end_pos = min((group_id+1) * block_size, len(profile_length))\n",
    "    \n",
    "    users_in_group = sorted_users[start_pos:end_pos]\n",
    "    \n",
    "    users_in_group_p_len = profile_length[users_in_group]\n",
    "    \n",
    "    print(\"Group {}, #users in group {}, average p.len {:.2f}, median {}, min {}, max {}\".format(\n",
    "        group_id, \n",
    "        users_in_group.shape[0],\n",
    "        users_in_group_p_len.mean(),\n",
    "        np.median(users_in_group_p_len),\n",
    "        users_in_group_p_len.min(),\n",
    "        users_in_group_p_len.max()))"
   ]
  },
  {
   "cell_type": "code",
   "execution_count": 30,
   "metadata": {},
   "outputs": [
    {
     "name": "stdout",
     "output_type": "stream",
     "text": [
      "SLIMElasticNetRecommender: URM Detected 356 ( 1.3%) items with no interactions.\n",
      "SLIMElasticNetRecommender: Processed 6625 (23.7%) in 5.00 min. Items per second: 22.08\n",
      "SLIMElasticNetRecommender: Processed 13611 (48.7%) in 10.00 min. Items per second: 22.68\n",
      "SLIMElasticNetRecommender: Processed 21534 (77.0%) in 15.00 min. Items per second: 23.92\n",
      "SLIMElasticNetRecommender: Processed 27968 (100.0%) in 19.44 min. Items per second: 23.97\n",
      "Unable to load Cython Compute_Similarity, reverting to Python\n",
      "Similarity column 41629 (100.0%), 780.09 column/sec. Elapsed time 53.36 sec\n",
      "Unable to load Cython Compute_Similarity, reverting to Python\n",
      "Similarity column 24507 (100.0%), 869.37 column/sec. Elapsed time 28.19 sec\n",
      "RP3betaRecommender: Similarity column 24507 (100.0%), 2216.92 column/sec. Elapsed time 11.05 sec\n"
     ]
    }
   ],
   "source": [
    "from Recommenders.NonPersonalizedRecommender import TopPop\n",
    "from Recommenders.KNN.UserKNNCFRecommender import UserKNNCFRecommender\n",
    "from Recommenders.KNN.ItemKNNCFRecommender import ItemKNNCFRecommender\n",
    "from Recommenders.SLIM.Cython.SLIM_BPR_Cython import SLIM_BPR_Cython\n",
    "from Recommenders.SLIM.SLIMElasticNetRecommender import SLIMElasticNetRecommender\n",
    "from Recommenders.GraphBased.P3alphaRecommender import P3alphaRecommender\n",
    "from Recommenders.GraphBased.RP3betaRecommender import RP3betaRecommender\n",
    "from Recommenders.MatrixFactorization.Cython.MatrixFactorization_Cython import MatrixFactorization_BPR_Cython, MatrixFactorization_FunkSVD_Cython, MatrixFactorization_AsySVD_Cython\n",
    "from Recommenders.MatrixFactorization.PureSVDRecommender import PureSVDRecommender\n",
    "from Recommenders.MatrixFactorization.IALSRecommender import IALSRecommender\n",
    "from Recommenders.MatrixFactorization.NMFRecommender import NMFRecommender\n",
    "from Recommenders.KNN.ItemKNNCBFRecommender import ItemKNNCBFRecommender\n",
    "from Recommenders.KNN.ItemKNN_CFCBF_Hybrid_Recommender import ItemKNN_CFCBF_Hybrid_Recommender\n",
    "from Recommenders.FactorizationMachines.LightFMRecommender import LightFMItemHybridRecommender\n",
    "\n",
    "MAP_recommender_per_group = {}\n",
    "\n",
    "collaborative_recommender_class = {\n",
    "        \"SLIMElasticNetRecommender\": SLIMElasticNetRecommender,\n",
    "        \"UserKNNCF\": UserKNNCFRecommender,\n",
    "        \"ItemKNNCF\": ItemKNNCFRecommender,\n",
    "        \"RP3beta\": RP3betaRecommender,\n",
    "        \"TopPop\": TopPop,\n",
    "}\n",
    "\n",
    "recommender_object_dict = {}\n",
    "recommended_items_for_each_user = {}\n",
    "\n",
    "for label, recommender_class in collaborative_recommender_class.items():\n",
    "    if(label == \"SLIMElasticNetRecommender\"):\n",
    "        recommender_object = recommender_class(train_powerful)\n",
    "        recommender_object.fit()\n",
    "    else:\n",
    "        recommender_object = recommender_class(URM_train)\n",
    "        recommender_object.fit()\n",
    "    recommender_object_dict[label] = recommender_object\n"
   ]
  },
  {
   "cell_type": "code",
   "execution_count": 31,
   "metadata": {},
   "outputs": [
    {
     "name": "stdout",
     "output_type": "stream",
     "text": [
      "EvaluatorHoldout: Ignoring 2913 ( 7.0%) Users that have less than 1 test interactions\n"
     ]
    }
   ],
   "source": [
    "evaluator=EvaluatorHoldout(URM_validation, cutoff_list=[10])"
   ]
  },
  {
   "cell_type": "code",
   "execution_count": 32,
   "metadata": {},
   "outputs": [
    {
     "name": "stdout",
     "output_type": "stream",
     "text": [
      "Group 0, #users in group 4162, average p.len 12.86, median 13.0, min 3, max 15\n",
      "EvaluatorHoldout: Ignoring 2913 ( 7.0%) Users that have less than 1 test interactions\n",
      "EvaluatorHoldout: Ignoring 37467 Users\n",
      "EvaluatorHoldout: Ignoring 2881 ( 6.9%) Users that have less than 1 test interactions\n",
      "EvaluatorHoldout: Ignoring 37467 Users\n",
      "EvaluatorHoldout: Processed 3296 (100.0%) in 1.94 sec. Users per second: 1697\n",
      "EvaluatorHoldout: Processed 3603 (100.0%) in 2.30 sec. Users per second: 1569\n",
      "EvaluatorHoldout: Processed 3603 (100.0%) in 2.50 sec. Users per second: 1444\n",
      "EvaluatorHoldout: Processed 3603 (100.0%) in 1.68 sec. Users per second: 2145\n",
      "EvaluatorHoldout: Processed 3603 (100.0%) in 1.76 sec. Users per second: 2051\n",
      "Group 1, #users in group 4162, average p.len 16.66, median 17.0, min 15, max 18\n",
      "EvaluatorHoldout: Ignoring 2913 ( 7.0%) Users that have less than 1 test interactions\n",
      "EvaluatorHoldout: Ignoring 37467 Users\n",
      "EvaluatorHoldout: Ignoring 2881 ( 6.9%) Users that have less than 1 test interactions\n",
      "EvaluatorHoldout: Ignoring 37467 Users\n",
      "EvaluatorHoldout: Processed 3530 (100.0%) in 2.21 sec. Users per second: 1594\n",
      "EvaluatorHoldout: Processed 3626 (100.0%) in 2.42 sec. Users per second: 1501\n",
      "EvaluatorHoldout: Processed 3626 (100.0%) in 2.70 sec. Users per second: 1342\n",
      "EvaluatorHoldout: Processed 3626 (100.0%) in 1.80 sec. Users per second: 2013\n",
      "EvaluatorHoldout: Processed 3626 (100.0%) in 1.79 sec. Users per second: 2030\n",
      "Group 2, #users in group 4162, average p.len 19.14, median 19.0, min 18, max 20\n",
      "EvaluatorHoldout: Ignoring 2913 ( 7.0%) Users that have less than 1 test interactions\n",
      "EvaluatorHoldout: Ignoring 37467 Users\n",
      "EvaluatorHoldout: Ignoring 2881 ( 6.9%) Users that have less than 1 test interactions\n",
      "EvaluatorHoldout: Ignoring 37467 Users\n",
      "EvaluatorHoldout: Processed 3736 (100.0%) in 2.46 sec. Users per second: 1519\n",
      "EvaluatorHoldout: Processed 3648 (100.0%) in 2.48 sec. Users per second: 1474\n",
      "EvaluatorHoldout: Processed 3648 (100.0%) in 2.86 sec. Users per second: 1275\n",
      "EvaluatorHoldout: Processed 3648 (100.0%) in 1.85 sec. Users per second: 1969\n",
      "EvaluatorHoldout: Processed 3648 (100.0%) in 1.86 sec. Users per second: 1965\n",
      "Group 3, #users in group 4162, average p.len 21.64, median 22.0, min 20, max 23\n",
      "EvaluatorHoldout: Ignoring 2913 ( 7.0%) Users that have less than 1 test interactions\n",
      "EvaluatorHoldout: Ignoring 37467 Users\n",
      "EvaluatorHoldout: Ignoring 2881 ( 6.9%) Users that have less than 1 test interactions\n",
      "EvaluatorHoldout: Ignoring 37467 Users\n",
      "EvaluatorHoldout: Processed 3836 (100.0%) in 2.63 sec. Users per second: 1458\n",
      "EvaluatorHoldout: Processed 3765 (100.0%) in 2.63 sec. Users per second: 1430\n",
      "EvaluatorHoldout: Processed 3765 (100.0%) in 3.04 sec. Users per second: 1237\n",
      "EvaluatorHoldout: Processed 3765 (100.0%) in 1.95 sec. Users per second: 1927\n",
      "EvaluatorHoldout: Processed 3765 (100.0%) in 1.93 sec. Users per second: 1951\n",
      "Group 4, #users in group 4162, average p.len 24.27, median 24.0, min 23, max 26\n",
      "EvaluatorHoldout: Ignoring 2913 ( 7.0%) Users that have less than 1 test interactions\n",
      "EvaluatorHoldout: Ignoring 37467 Users\n",
      "EvaluatorHoldout: Ignoring 2881 ( 6.9%) Users that have less than 1 test interactions\n",
      "EvaluatorHoldout: Ignoring 37467 Users\n",
      "EvaluatorHoldout: Processed 3899 (100.0%) in 2.80 sec. Users per second: 1391\n",
      "EvaluatorHoldout: Processed 3803 (100.0%) in 2.75 sec. Users per second: 1381\n",
      "EvaluatorHoldout: Processed 3803 (100.0%) in 3.17 sec. Users per second: 1200\n",
      "EvaluatorHoldout: Processed 3803 (100.0%) in 2.02 sec. Users per second: 1886\n",
      "EvaluatorHoldout: Processed 3803 (100.0%) in 1.95 sec. Users per second: 1949\n",
      "Group 5, #users in group 4162, average p.len 27.49, median 27.0, min 26, max 29\n",
      "EvaluatorHoldout: Ignoring 2913 ( 7.0%) Users that have less than 1 test interactions\n",
      "EvaluatorHoldout: Ignoring 37467 Users\n",
      "EvaluatorHoldout: Ignoring 2881 ( 6.9%) Users that have less than 1 test interactions\n",
      "EvaluatorHoldout: Ignoring 37467 Users\n",
      "EvaluatorHoldout: Processed 3990 (100.0%) in 3.04 sec. Users per second: 1311\n",
      "EvaluatorHoldout: Processed 3901 (100.0%) in 2.98 sec. Users per second: 1307\n",
      "EvaluatorHoldout: Processed 3901 (100.0%) in 3.39 sec. Users per second: 1150\n",
      "EvaluatorHoldout: Processed 3901 (100.0%) in 2.15 sec. Users per second: 1817\n",
      "EvaluatorHoldout: Processed 3901 (100.0%) in 2.02 sec. Users per second: 1932\n",
      "Group 6, #users in group 4162, average p.len 31.82, median 32.0, min 29, max 35\n",
      "EvaluatorHoldout: Ignoring 2913 ( 7.0%) Users that have less than 1 test interactions\n",
      "EvaluatorHoldout: Ignoring 37467 Users\n",
      "EvaluatorHoldout: Ignoring 2881 ( 6.9%) Users that have less than 1 test interactions\n",
      "EvaluatorHoldout: Ignoring 37467 Users\n",
      "EvaluatorHoldout: Processed 4057 (100.0%) in 3.25 sec. Users per second: 1247\n",
      "EvaluatorHoldout: Processed 3992 (100.0%) in 3.31 sec. Users per second: 1205\n",
      "EvaluatorHoldout: Processed 3992 (100.0%) in 3.58 sec. Users per second: 1115\n",
      "EvaluatorHoldout: Processed 3992 (100.0%) in 2.24 sec. Users per second: 1782\n",
      "EvaluatorHoldout: Processed 3992 (100.0%) in 2.02 sec. Users per second: 1979\n",
      "Group 7, #users in group 4162, average p.len 38.34, median 38.0, min 35, max 43\n",
      "EvaluatorHoldout: Ignoring 2913 ( 7.0%) Users that have less than 1 test interactions\n",
      "EvaluatorHoldout: Ignoring 37467 Users\n",
      "EvaluatorHoldout: Ignoring 2881 ( 6.9%) Users that have less than 1 test interactions\n",
      "EvaluatorHoldout: Ignoring 37467 Users\n",
      "EvaluatorHoldout: Processed 4120 (100.0%) in 3.51 sec. Users per second: 1175\n",
      "EvaluatorHoldout: Processed 4079 (100.0%) in 3.70 sec. Users per second: 1102\n",
      "EvaluatorHoldout: Processed 4079 (100.0%) in 3.84 sec. Users per second: 1062\n",
      "EvaluatorHoldout: Processed 4079 (100.0%) in 2.37 sec. Users per second: 1723\n",
      "EvaluatorHoldout: Processed 4079 (100.0%) in 2.10 sec. Users per second: 1945\n",
      "Group 8, #users in group 4162, average p.len 49.56, median 49.0, min 43, max 59\n",
      "EvaluatorHoldout: Ignoring 2913 ( 7.0%) Users that have less than 1 test interactions\n",
      "EvaluatorHoldout: Ignoring 37467 Users\n",
      "EvaluatorHoldout: Ignoring 2881 ( 6.9%) Users that have less than 1 test interactions\n",
      "EvaluatorHoldout: Ignoring 37467 Users\n",
      "EvaluatorHoldout: Processed 4150 (100.0%) in 3.80 sec. Users per second: 1091\n",
      "EvaluatorHoldout: Processed 4132 (100.0%) in 4.22 sec. Users per second: 980\n",
      "EvaluatorHoldout: Processed 4132 (100.0%) in 4.23 sec. Users per second: 976\n",
      "EvaluatorHoldout: Processed 4132 (100.0%) in 2.56 sec. Users per second: 1612\n",
      "EvaluatorHoldout: Processed 4132 (100.0%) in 2.09 sec. Users per second: 1974\n",
      "Group 9, #users in group 4162, average p.len 92.81, median 77.0, min 59, max 508\n",
      "EvaluatorHoldout: Ignoring 2913 ( 7.0%) Users that have less than 1 test interactions\n",
      "EvaluatorHoldout: Ignoring 37467 Users\n",
      "EvaluatorHoldout: Ignoring 2881 ( 6.9%) Users that have less than 1 test interactions\n",
      "EvaluatorHoldout: Ignoring 37467 Users\n",
      "EvaluatorHoldout: Processed 4166 (100.0%) in 4.40 sec. Users per second: 947\n",
      "EvaluatorHoldout: Processed 4158 (100.0%) in 4.93 sec. Users per second: 843\n",
      "EvaluatorHoldout: Processed 4158 (100.0%) in 5.27 sec. Users per second: 788\n",
      "EvaluatorHoldout: Processed 4158 (100.0%) in 3.10 sec. Users per second: 1342\n",
      "EvaluatorHoldout: Processed 4158 (100.0%) in 2.08 sec. Users per second: 1995\n"
     ]
    }
   ],
   "source": [
    "from evaluator import evaluate\n",
    "cutoff = 10\n",
    "\n",
    "for group_id in range(0, 10):\n",
    "    \n",
    "    start_pos = group_id*block_size\n",
    "    end_pos = min((group_id+1)*block_size, len(profile_length))\n",
    "    \n",
    "    users_in_group = sorted_users[start_pos:end_pos]\n",
    "    \n",
    "    users_in_group_p_len = profile_length[users_in_group]\n",
    "    \n",
    "    print(\"Group {}, #users in group {}, average p.len {:.2f}, median {}, min {}, max {}\".format(\n",
    "        group_id, \n",
    "        users_in_group.shape[0],\n",
    "        users_in_group_p_len.mean(),\n",
    "        np.median(users_in_group_p_len),\n",
    "        users_in_group_p_len.min(),\n",
    "        users_in_group_p_len.max()))\n",
    "    \n",
    "    \n",
    "    users_not_in_group_flag = np.isin(sorted_users, users_in_group, invert=True)\n",
    "    users_not_in_group = sorted_users[users_not_in_group_flag]\n",
    "    \n",
    "    evaluator_test = EvaluatorHoldout(URM_validation, cutoff_list=[cutoff], ignore_users=users_not_in_group)\n",
    "    evaluator_power = EvaluatorHoldout(val_powerful, cutoff_list=[cutoff], ignore_users=users_not_in_group)\n",
    "    #evaluator_pad = EvaluatorHoldout(val_pad, cutoff_list=[cutoff], ignore_users=users_not_in_group)\n",
    "\n",
    "    for label, recommender in recommender_object_dict.items():\n",
    "        if(label == \"SLIMElasticNetRecommender\"):\n",
    "            #map=evaluate(recommended_items_for_each_user,val_powerful,target)\n",
    "            result_df, _ = evaluator_power.evaluateRecommender(recommender)\n",
    "        \n",
    "        else:\n",
    "            #map=evaluate(recommended_items_for_each_user,URM_validation,target)\n",
    "            result_df, _ = evaluator_test.evaluateRecommender(recommender)\n",
    "            \n",
    "        if label in MAP_recommender_per_group:\n",
    "            MAP_recommender_per_group[label].append(result_df.loc[cutoff][\"MAP\"])\n",
    "            #MAP_recommender_per_group[label].append(map)\n",
    "        else:\n",
    "            MAP_recommender_per_group[label] = [result_df.loc[cutoff][\"MAP\"]]\n",
    "            #MAP_recommender_per_group[label] = [map]\n"
   ]
  },
  {
   "cell_type": "code",
   "execution_count": 33,
   "metadata": {},
   "outputs": [
    {
     "name": "stdout",
     "output_type": "stream",
     "text": [
      "10\n",
      "10\n",
      "10\n",
      "10\n",
      "10\n"
     ]
    },
    {
     "data": {
      "image/png": "[encoded data removed]",
      "text/plain": [
       "<Figure size 1600x900 with 1 Axes>"
      ]
     },
     "metadata": {},
     "output_type": "display_data"
    }
   ],
   "source": [
    "import matplotlib.pyplot as plt\n",
    "%matplotlib inline  \n",
    "\n",
    "_ = plt.figure(figsize=(16, 9))\n",
    "for label, recommender in recommender_object_dict.items():\n",
    "    results = MAP_recommender_per_group[label]\n",
    "    plt.scatter(x=np.arange(0,len(results)), y=results, label=label)\n",
    "    print(len(results))\n",
    "plt.ylabel('MAP')\n",
    "plt.xlabel('User Group')\n",
    "plt.legend()\n",
    "plt.show()"
   ]
  }
 ],
 "metadata": {
  "kernelspec": {
   "display_name": "Python 3.9.15 ('tensorflow')",
   "language": "python",
   "name": "python3"
  },
  "language_info": {
   "codemirror_mode": {
    "name": "ipython",
    "version": 3
   },
   "file_extension": ".py",
   "mimetype": "text/x-python",
   "name": "python",
   "nbconvert_exporter": "python",
   "pygments_lexer": "ipython3",
   "version": "3.9.15"
  },
  "orig_nbformat": 4,
  "vscode": {
   "interpreter": {
    "hash": "924875a864510efb8ec566d64580ebd057fcb8e77e67729a27391833cbf8b66e"
   }
  }
 },
 "nbformat": 4,
 "nbformat_minor": 2
}
