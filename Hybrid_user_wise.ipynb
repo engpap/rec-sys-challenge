{
 "cells": [
  {
   "cell_type": "code",
   "execution_count": 8,
   "metadata": {},
   "outputs": [
    {
     "data": {
      "text/plain": [
       "True"
      ]
     },
     "execution_count": 8,
     "metadata": {},
     "output_type": "execute_result"
    }
   ],
   "source": [
    "import scipy.sparse as sps\n",
    "from Data_manager.split_functions.split_train_validation_random_holdout import split_train_in_two_percentage_global_sample\n",
    "import pandas as pd\n",
    "import numpy as np\n",
    "from pandas.api.types import CategoricalDtype\n",
    "from Evaluation.Evaluator import EvaluatorHoldout\n",
    "from Data_Handler.DataReader import DataReader\n",
    "import scipy.sparse as sps\n",
    "from collections import Counter\n",
    "from tqdm import tqdm\n",
    "# imports for .env usage\n",
    "import os\n",
    "from dotenv import load_dotenv\n",
    "load_dotenv()\n",
    "\n"
   ]
  },
  {
   "cell_type": "code",
   "execution_count": 9,
   "metadata": {},
   "outputs": [
    {
     "name": "stdout",
     "output_type": "stream",
     "text": [
      "4877\n",
      "Warning: 2789 (6.70 %) of 41629 users have no sampled items\n"
     ]
    }
   ],
   "source": [
    "from Data_Handler.DataReader import DataReader \n",
    "dataReader=DataReader()\n",
    "'''urm=dataReader.load_augmented_binary_urm()\n",
    "powerful_urm=dataReader.load_powerful_binary_urm()\n",
    "URM_pad,icm = dataReader.pad_with_zeros_ICMandURM(urm)\n",
    "URM_train, URM_validation = split_train_in_two_percentage_global_sample(urm, train_percentage = 0.9)\n",
    "train_powerful, val_powerful = split_train_in_two_percentage_global_sample(powerful_urm, train_percentage = 0.9)\n",
    "train_pad, val_pad = split_train_in_two_percentage_global_sample(URM_pad, train_percentage = 0.9)'''\n",
    "\n",
    "URM = dataReader.load_augmented_binary_urm()\n",
    "URM_aug,icm = dataReader.pad_with_zeros_ICMandURM(URM)\n",
    "\n",
    "URM_train_aug, URM_validation = split_train_in_two_percentage_global_sample(URM_aug, train_percentage = 0.9)\n",
    "URM_train_pow = dataReader.stackMatrixes(URM_train_aug)\n",
    "UCM = dataReader.load_aug_ucm()\n"
   ]
  },
  {
   "cell_type": "code",
   "execution_count": 10,
   "metadata": {},
   "outputs": [
    {
     "data": {
      "text/plain": [
       "(array([60, 20, 95, ..., 19, 46, 22], dtype=int32), (41629,))"
      ]
     },
     "execution_count": 10,
     "metadata": {},
     "output_type": "execute_result"
    }
   ],
   "source": [
    "profile_length = np.ediff1d(sps.csr_matrix(URM_train_aug).indptr)\n",
    "profile_length, profile_length.shape"
   ]
  },
  {
   "cell_type": "code",
   "execution_count": 11,
   "metadata": {},
   "outputs": [
    {
     "data": {
      "text/plain": [
       "2081"
      ]
     },
     "execution_count": 11,
     "metadata": {},
     "output_type": "execute_result"
    }
   ],
   "source": [
    "block_size = int(len(profile_length)*0.05)\n",
    "block_size"
   ]
  },
  {
   "cell_type": "code",
   "execution_count": 12,
   "metadata": {},
   "outputs": [
    {
     "data": {
      "text/plain": [
       "array([38400, 21852, 36572, ..., 19407,  8693, 12454])"
      ]
     },
     "execution_count": 12,
     "metadata": {},
     "output_type": "execute_result"
    }
   ],
   "source": [
    "sorted_users = np.argsort(profile_length)\n",
    "sorted_users"
   ]
  },
  {
   "cell_type": "code",
   "execution_count": 13,
   "metadata": {},
   "outputs": [
    {
     "name": "stdout",
     "output_type": "stream",
     "text": [
      "Group 0, #users in group 2081, average p.len 11.44, median 12.0, min 4, max 13\n",
      "Group 1, #users in group 2081, average p.len 14.31, median 14.0, min 13, max 15\n",
      "Group 2, #users in group 2081, average p.len 15.96, median 16.0, min 15, max 17\n",
      "Group 3, #users in group 2081, average p.len 17.37, median 17.0, min 17, max 18\n",
      "Group 4, #users in group 2081, average p.len 18.55, median 19.0, min 18, max 19\n",
      "Group 5, #users in group 2081, average p.len 19.71, median 20.0, min 19, max 20\n",
      "Group 6, #users in group 2081, average p.len 20.95, median 21.0, min 20, max 22\n",
      "Group 7, #users in group 2081, average p.len 22.26, median 22.0, min 22, max 23\n",
      "Group 8, #users in group 2081, average p.len 23.50, median 23.0, min 23, max 24\n",
      "Group 9, #users in group 2081, average p.len 24.96, median 25.0, min 24, max 26\n",
      "Group 10, #users in group 2081, average p.len 26.52, median 27.0, min 26, max 27\n",
      "Group 11, #users in group 2081, average p.len 28.44, median 28.0, min 27, max 29\n",
      "Group 12, #users in group 2081, average p.len 30.62, median 31.0, min 29, max 32\n",
      "Group 13, #users in group 2081, average p.len 33.15, median 33.0, min 32, max 35\n",
      "Group 14, #users in group 2081, average p.len 36.34, median 36.0, min 35, max 38\n",
      "Group 15, #users in group 2081, average p.len 40.36, median 40.0, min 38, max 43\n",
      "Group 16, #users in group 2081, average p.len 45.69, median 46.0, min 43, max 49\n",
      "Group 17, #users in group 2081, average p.len 53.50, median 53.0, min 49, max 59\n",
      "Group 18, #users in group 2081, average p.len 66.47, median 66.0, min 59, max 77\n",
      "Group 19, #users in group 2081, average p.len 119.04, median 100.0, min 77, max 518\n"
     ]
    }
   ],
   "source": [
    "for group_id in range(0, 20):\n",
    "    start_pos = group_id * block_size\n",
    "    end_pos = min((group_id+1) * block_size, len(profile_length))\n",
    "    \n",
    "    users_in_group = sorted_users[start_pos:end_pos]\n",
    "    \n",
    "    users_in_group_p_len = profile_length[users_in_group]\n",
    "    \n",
    "    print(\"Group {}, #users in group {}, average p.len {:.2f}, median {}, min {}, max {}\".format(\n",
    "        group_id, \n",
    "        users_in_group.shape[0],\n",
    "        users_in_group_p_len.mean(),\n",
    "        np.median(users_in_group_p_len),\n",
    "        users_in_group_p_len.min(),\n",
    "        users_in_group_p_len.max()))"
   ]
  },
  {
   "cell_type": "code",
   "execution_count": 14,
   "metadata": {},
   "outputs": [
    {
     "name": "stdout",
     "output_type": "stream",
     "text": [
      "SLIMElasticNetRecommender: Processed 7713 (27.6%) in 5.00 min. Items per second: 25.71\n",
      "SLIMElasticNetRecommender: Processed 16226 (58.0%) in 10.00 min. Items per second: 27.04\n",
      "SLIMElasticNetRecommender: Processed 26214 (93.7%) in 15.00 min. Items per second: 29.12\n",
      "SLIMElasticNetRecommender: Processed 27968 (100.0%) in 15.19 min. Items per second: 30.69\n",
      "UserKNNCFRecommender: URM Detected 3461 (12.4%) items with no interactions.\n",
      "Unable to load Cython Compute_Similarity, reverting to Python\n",
      "Similarity column 41629 (100.0%), 817.41 column/sec. Elapsed time 50.93 sec\n",
      "ItemKNNCFRecommender: URM Detected 3461 (12.4%) items with no interactions.\n",
      "Unable to load Cython Compute_Similarity, reverting to Python\n",
      "Similarity column 27968 (100.0%), 936.49 column/sec. Elapsed time 29.86 sec\n",
      "RP3betaRecommender: URM Detected 3461 (12.4%) items with no interactions.\n",
      "RP3betaRecommender: Similarity column 27968 (100.0%), 4769.88 column/sec. Elapsed time 5.86 sec\n",
      "EASE_R_Recommender: URM Detected 3461 (12.4%) items with no interactions.\n",
      "EASE_R_Recommender: Fitting model... \n",
      "EASE_R_Recommender: Fitting model... done in 4.98 min\n"
     ]
    }
   ],
   "source": [
    "from Recommenders.KNN.UserKNNCFRecommender import UserKNNCFRecommender\n",
    "from Recommenders.KNN.ItemKNNCFRecommender import ItemKNNCFRecommender\n",
    "from Recommenders.GraphBased.RP3betaRecommender import RP3betaRecommender\n",
    "from Recommenders.KNN.ItemKNNCBFRecommender import ItemKNNCBFRecommender\n",
    "from Recommenders.EASE_R.EASE_R_Recommender import EASE_R_Recommender\n",
    "from Recommenders.SLIM.SLIMElasticNetRecommender import SLIMElasticNetRecommender\n",
    "from Recommenders.KNN.UserKNN_CFCBF_Hybrid_Recommender import UserKNN_CFCBF_Hybrid_Recommender\n",
    "from hybrid import HybridRecommender_4\n",
    "from Recommenders.SLIM.SLIMElasticNetRecommender import *\n",
    "from Recommenders.KNN.ItemKNN_CFCBF_Hybrid_Recommender import ItemKNN_CFCBF_Hybrid_Recommender\n",
    "\n",
    "from Recommenders.FactorizationMachines.LightFMRecommender import LightFMItemHybridRecommender\n",
    "\n",
    "MAP_recommender_per_group = {}\n",
    "\n",
    "#UserKNNCF = UserKNNCFRecommender(URM_train_aug)\n",
    "#UserKNNCF.fit()\n",
    "\n",
    "#RP3beta_pow = RP3betaRecommender(URM_train_pow)\n",
    "#RP3beta_pow.fit(alpha=0.3648761546066018,beta=0.5058870363874656, topK=480, normalize_similarity=True)\n",
    "\n",
    "#S_SLIM = SLIMElasticNetRecommender(URM_train_pow)\n",
    "#S_SLIM.fit()\n",
    "\n",
    "collaborative_recommender_class = {\n",
    "        \"SLIMElasticNetRecommender\": SLIMElasticNetRecommender,\n",
    "        \"UserKNNCF\": UserKNNCFRecommender,\n",
    "        \"ItemKNNCF\": ItemKNNCFRecommender,\n",
    "        \"RP3betaRecommender\": RP3betaRecommender,\n",
    "        \"EASE_R\": EASE_R_Recommender,\n",
    "        #\"Hybrid_Recommender_5\" : HybridRecommender_4,\n",
    "        #\"UserKNN_CFCBF_Hybrid_Recommender\": UserKNN_CFCBF_Hybrid_Recommender,\n",
    "}\n",
    "\n",
    "recommender_object_dict = {}\n",
    "recommended_items_for_each_user = {}\n",
    "\n",
    "for label, recommender_class in collaborative_recommender_class.items():\n",
    "    if(label == \"SLIMElasticNetRecommender\"):\n",
    "        recommender_object = recommender_class(URM_train_pow)\n",
    "        recommender_object.fit()\n",
    "    \n",
    "    #elif label == \"HybridRecommender_4\":\n",
    "        #recommender_object = recommender_class(URM_train_aug, URM_train_pow, UserKNNCF, RP3beta_pow, S_SLIM)\n",
    "        #recommender_object.fit(UserKNNCF_tier1_weight=0.9, RP3beta_pow_tier1_weight=0.6,UserKNNCF_tier2_weight=0.7, RP3beta_pow_tier2_weight=0.9, RP3beta_pow_tier3_weight=0.6, S_SLIM_tier3_weight=1.0)\n",
    "\n",
    "    elif label == \"UserKNN_CFCBF_Hybrid_Recommender\":\n",
    "            recommender_object = recommender_class(URM_train_aug, UCM)\n",
    "            recommender_object.fit(UCM_weight = 0.030666039949562303, topK = 374, shrink = 44, normalize = True)\n",
    "\n",
    "    else:\n",
    "        recommender_object = recommender_class(URM_train_aug)\n",
    "        recommender_object.fit()\n",
    "    recommender_object_dict[label] = recommender_object\n"
   ]
  },
  {
   "cell_type": "code",
   "execution_count": 15,
   "metadata": {},
   "outputs": [
    {
     "name": "stdout",
     "output_type": "stream",
     "text": [
      "EvaluatorHoldout: Ignoring 2789 ( 6.7%) Users that have less than 1 test interactions\n"
     ]
    }
   ],
   "source": [
    "evaluator=EvaluatorHoldout(URM_validation, cutoff_list=[10])"
   ]
  },
  {
   "cell_type": "code",
   "execution_count": 16,
   "metadata": {},
   "outputs": [
    {
     "name": "stdout",
     "output_type": "stream",
     "text": [
      "Group 0, #users in group 2081, average p.len 11.44, median 12.0, min 4, max 13\n",
      "EvaluatorHoldout: Ignoring 2789 ( 6.7%) Users that have less than 1 test interactions\n",
      "EvaluatorHoldout: Ignoring 39548 Users\n",
      "EvaluatorHoldout: Processed 1802 (100.0%) in 1.48 sec. Users per second: 1221\n",
      "EvaluatorHoldout: Processed 1802 (100.0%) in 1.64 sec. Users per second: 1100\n",
      "EvaluatorHoldout: Processed 1802 (100.0%) in 1.91 sec. Users per second: 943\n",
      "EvaluatorHoldout: Processed 1802 (100.0%) in 0.94 sec. Users per second: 1925\n",
      "EvaluatorHoldout: Processed 1802 (100.0%) in 1.17 sec. Users per second: 1540\n",
      "Group 1, #users in group 2081, average p.len 14.31, median 14.0, min 13, max 15\n",
      "EvaluatorHoldout: Ignoring 2789 ( 6.7%) Users that have less than 1 test interactions\n",
      "EvaluatorHoldout: Ignoring 39548 Users\n",
      "EvaluatorHoldout: Processed 1795 (100.0%) in 1.26 sec. Users per second: 1425\n",
      "EvaluatorHoldout: Processed 1795 (100.0%) in 1.56 sec. Users per second: 1150\n",
      "EvaluatorHoldout: Processed 1795 (100.0%) in 1.54 sec. Users per second: 1169\n",
      "EvaluatorHoldout: Processed 1795 (100.0%) in 0.87 sec. Users per second: 2058\n",
      "EvaluatorHoldout: Processed 1795 (100.0%) in 1.18 sec. Users per second: 1518\n",
      "Group 2, #users in group 2081, average p.len 15.96, median 16.0, min 15, max 17\n",
      "EvaluatorHoldout: Ignoring 2789 ( 6.7%) Users that have less than 1 test interactions\n",
      "EvaluatorHoldout: Ignoring 39548 Users\n",
      "EvaluatorHoldout: Processed 1809 (100.0%) in 1.29 sec. Users per second: 1401\n",
      "EvaluatorHoldout: Processed 1809 (100.0%) in 1.52 sec. Users per second: 1194\n",
      "EvaluatorHoldout: Processed 1809 (100.0%) in 1.58 sec. Users per second: 1146\n",
      "EvaluatorHoldout: Processed 1809 (100.0%) in 0.88 sec. Users per second: 2055\n",
      "EvaluatorHoldout: Processed 1809 (100.0%) in 1.21 sec. Users per second: 1501\n",
      "Group 3, #users in group 2081, average p.len 17.37, median 17.0, min 17, max 18\n",
      "EvaluatorHoldout: Ignoring 2789 ( 6.7%) Users that have less than 1 test interactions\n",
      "EvaluatorHoldout: Ignoring 39548 Users\n",
      "EvaluatorHoldout: Processed 1795 (100.0%) in 1.31 sec. Users per second: 1368\n",
      "EvaluatorHoldout: Processed 1795 (100.0%) in 1.49 sec. Users per second: 1202\n",
      "EvaluatorHoldout: Processed 1795 (100.0%) in 1.60 sec. Users per second: 1119\n",
      "EvaluatorHoldout: Processed 1795 (100.0%) in 0.89 sec. Users per second: 2024\n",
      "EvaluatorHoldout: Processed 1795 (100.0%) in 1.21 sec. Users per second: 1483\n",
      "Group 4, #users in group 2081, average p.len 18.55, median 19.0, min 18, max 19\n",
      "EvaluatorHoldout: Ignoring 2789 ( 6.7%) Users that have less than 1 test interactions\n",
      "EvaluatorHoldout: Ignoring 39548 Users\n",
      "EvaluatorHoldout: Processed 1836 (100.0%) in 1.38 sec. Users per second: 1335\n",
      "EvaluatorHoldout: Processed 1836 (100.0%) in 1.50 sec. Users per second: 1220\n",
      "EvaluatorHoldout: Processed 1836 (100.0%) in 1.67 sec. Users per second: 1099\n",
      "EvaluatorHoldout: Processed 1836 (100.0%) in 0.90 sec. Users per second: 2050\n",
      "EvaluatorHoldout: Processed 1836 (100.0%) in 1.25 sec. Users per second: 1467\n",
      "Group 5, #users in group 2081, average p.len 19.71, median 20.0, min 19, max 20\n",
      "EvaluatorHoldout: Ignoring 2789 ( 6.7%) Users that have less than 1 test interactions\n",
      "EvaluatorHoldout: Ignoring 39548 Users\n",
      "EvaluatorHoldout: Processed 1865 (100.0%) in 1.40 sec. Users per second: 1334\n",
      "EvaluatorHoldout: Processed 1865 (100.0%) in 1.51 sec. Users per second: 1235\n",
      "EvaluatorHoldout: Processed 1865 (100.0%) in 1.70 sec. Users per second: 1096\n",
      "EvaluatorHoldout: Processed 1865 (100.0%) in 0.91 sec. Users per second: 2049\n",
      "EvaluatorHoldout: Processed 1865 (100.0%) in 1.27 sec. Users per second: 1470\n",
      "Group 6, #users in group 2081, average p.len 20.95, median 21.0, min 20, max 22\n",
      "EvaluatorHoldout: Ignoring 2789 ( 6.7%) Users that have less than 1 test interactions\n",
      "EvaluatorHoldout: Ignoring 39548 Users\n",
      "EvaluatorHoldout: Processed 1868 (100.0%) in 1.44 sec. Users per second: 1297\n",
      "EvaluatorHoldout: Processed 1868 (100.0%) in 1.52 sec. Users per second: 1225\n",
      "EvaluatorHoldout: Processed 1868 (100.0%) in 1.72 sec. Users per second: 1083\n",
      "EvaluatorHoldout: Processed 1868 (100.0%) in 0.91 sec. Users per second: 2055\n",
      "EvaluatorHoldout: Processed 1868 (100.0%) in 1.29 sec. Users per second: 1451\n",
      "Group 7, #users in group 2081, average p.len 22.26, median 22.0, min 22, max 23\n",
      "EvaluatorHoldout: Ignoring 2789 ( 6.7%) Users that have less than 1 test interactions\n",
      "EvaluatorHoldout: Ignoring 39548 Users\n",
      "EvaluatorHoldout: Processed 1906 (100.0%) in 1.49 sec. Users per second: 1280\n",
      "EvaluatorHoldout: Processed 1906 (100.0%) in 1.57 sec. Users per second: 1211\n",
      "EvaluatorHoldout: Processed 1906 (100.0%) in 1.78 sec. Users per second: 1072\n",
      "EvaluatorHoldout: Processed 1906 (100.0%) in 0.93 sec. Users per second: 2056\n",
      "EvaluatorHoldout: Processed 1906 (100.0%) in 1.33 sec. Users per second: 1433\n",
      "Group 8, #users in group 2081, average p.len 23.50, median 23.0, min 23, max 24\n",
      "EvaluatorHoldout: Ignoring 2789 ( 6.7%) Users that have less than 1 test interactions\n",
      "EvaluatorHoldout: Ignoring 39548 Users\n",
      "EvaluatorHoldout: Processed 1895 (100.0%) in 1.51 sec. Users per second: 1254\n",
      "EvaluatorHoldout: Processed 1895 (100.0%) in 1.58 sec. Users per second: 1202\n",
      "EvaluatorHoldout: Processed 1895 (100.0%) in 1.80 sec. Users per second: 1051\n",
      "EvaluatorHoldout: Processed 1895 (100.0%) in 0.93 sec. Users per second: 2041\n",
      "EvaluatorHoldout: Processed 1895 (100.0%) in 1.33 sec. Users per second: 1420\n",
      "Group 9, #users in group 2081, average p.len 24.96, median 25.0, min 24, max 26\n",
      "EvaluatorHoldout: Ignoring 2789 ( 6.7%) Users that have less than 1 test interactions\n",
      "EvaluatorHoldout: Ignoring 39548 Users\n",
      "EvaluatorHoldout: Processed 1961 (100.0%) in 1.58 sec. Users per second: 1242\n",
      "EvaluatorHoldout: Processed 1961 (100.0%) in 1.66 sec. Users per second: 1185\n",
      "EvaluatorHoldout: Processed 1961 (100.0%) in 1.87 sec. Users per second: 1049\n",
      "EvaluatorHoldout: Processed 1961 (100.0%) in 0.94 sec. Users per second: 2077\n",
      "EvaluatorHoldout: Processed 1961 (100.0%) in 1.38 sec. Users per second: 1422\n",
      "Group 10, #users in group 2081, average p.len 26.52, median 27.0, min 26, max 27\n",
      "EvaluatorHoldout: Ignoring 2789 ( 6.7%) Users that have less than 1 test interactions\n",
      "EvaluatorHoldout: Ignoring 39548 Users\n",
      "EvaluatorHoldout: Processed 1949 (100.0%) in 1.61 sec. Users per second: 1212\n",
      "EvaluatorHoldout: Processed 1949 (100.0%) in 1.74 sec. Users per second: 1118\n",
      "EvaluatorHoldout: Processed 1949 (100.0%) in 1.92 sec. Users per second: 1017\n",
      "EvaluatorHoldout: Processed 1949 (100.0%) in 0.97 sec. Users per second: 2000\n",
      "EvaluatorHoldout: Processed 1949 (100.0%) in 1.40 sec. Users per second: 1396\n",
      "Group 11, #users in group 2081, average p.len 28.44, median 28.0, min 27, max 29\n",
      "EvaluatorHoldout: Ignoring 2789 ( 6.7%) Users that have less than 1 test interactions\n",
      "EvaluatorHoldout: Ignoring 39548 Users\n",
      "EvaluatorHoldout: Processed 1977 (100.0%) in 1.67 sec. Users per second: 1181\n",
      "EvaluatorHoldout: Processed 1977 (100.0%) in 1.76 sec. Users per second: 1125\n",
      "EvaluatorHoldout: Processed 1977 (100.0%) in 1.95 sec. Users per second: 1013\n",
      "EvaluatorHoldout: Processed 1977 (100.0%) in 0.96 sec. Users per second: 2051\n",
      "EvaluatorHoldout: Processed 1977 (100.0%) in 1.41 sec. Users per second: 1400\n",
      "Group 12, #users in group 2081, average p.len 30.62, median 31.0, min 29, max 32\n",
      "EvaluatorHoldout: Ignoring 2789 ( 6.7%) Users that have less than 1 test interactions\n",
      "EvaluatorHoldout: Ignoring 39548 Users\n",
      "EvaluatorHoldout: Processed 1990 (100.0%) in 1.72 sec. Users per second: 1157\n",
      "EvaluatorHoldout: Processed 1990 (100.0%) in 1.78 sec. Users per second: 1119\n",
      "EvaluatorHoldout: Processed 1990 (100.0%) in 1.97 sec. Users per second: 1009\n",
      "EvaluatorHoldout: Processed 1990 (100.0%) in 0.96 sec. Users per second: 2075\n",
      "EvaluatorHoldout: Processed 1990 (100.0%) in 1.44 sec. Users per second: 1383\n",
      "Group 13, #users in group 2081, average p.len 33.15, median 33.0, min 32, max 35\n",
      "EvaluatorHoldout: Ignoring 2789 ( 6.7%) Users that have less than 1 test interactions\n",
      "EvaluatorHoldout: Ignoring 39548 Users\n",
      "EvaluatorHoldout: Processed 2007 (100.0%) in 1.77 sec. Users per second: 1132\n",
      "EvaluatorHoldout: Processed 2007 (100.0%) in 1.88 sec. Users per second: 1065\n",
      "EvaluatorHoldout: Processed 2007 (100.0%) in 2.03 sec. Users per second: 990\n",
      "EvaluatorHoldout: Processed 2007 (100.0%) in 0.98 sec. Users per second: 2052\n",
      "EvaluatorHoldout: Processed 2007 (100.0%) in 1.46 sec. Users per second: 1375\n",
      "Group 14, #users in group 2081, average p.len 36.34, median 36.0, min 35, max 38\n",
      "EvaluatorHoldout: Ignoring 2789 ( 6.7%) Users that have less than 1 test interactions\n",
      "EvaluatorHoldout: Ignoring 39548 Users\n",
      "EvaluatorHoldout: Processed 2040 (100.0%) in 1.86 sec. Users per second: 1098\n",
      "EvaluatorHoldout: Processed 2040 (100.0%) in 1.98 sec. Users per second: 1032\n",
      "EvaluatorHoldout: Processed 2040 (100.0%) in 2.10 sec. Users per second: 970\n",
      "EvaluatorHoldout: Processed 2040 (100.0%) in 0.98 sec. Users per second: 2076\n",
      "EvaluatorHoldout: Processed 2040 (100.0%) in 1.51 sec. Users per second: 1348\n",
      "Group 15, #users in group 2081, average p.len 40.36, median 40.0, min 38, max 43\n",
      "EvaluatorHoldout: Ignoring 2789 ( 6.7%) Users that have less than 1 test interactions\n",
      "EvaluatorHoldout: Ignoring 39548 Users\n",
      "EvaluatorHoldout: Processed 2050 (100.0%) in 1.92 sec. Users per second: 1066\n",
      "EvaluatorHoldout: Processed 2050 (100.0%) in 2.08 sec. Users per second: 986\n",
      "EvaluatorHoldout: Processed 2050 (100.0%) in 2.19 sec. Users per second: 938\n",
      "EvaluatorHoldout: Processed 2050 (100.0%) in 1.05 sec. Users per second: 1954\n",
      "EvaluatorHoldout: Processed 2050 (100.0%) in 1.58 sec. Users per second: 1297\n",
      "Group 16, #users in group 2081, average p.len 45.69, median 46.0, min 43, max 49\n",
      "EvaluatorHoldout: Ignoring 2789 ( 6.7%) Users that have less than 1 test interactions\n",
      "EvaluatorHoldout: Ignoring 39548 Users\n",
      "EvaluatorHoldout: Processed 2057 (100.0%) in 2.01 sec. Users per second: 1022\n",
      "EvaluatorHoldout: Processed 2057 (100.0%) in 2.24 sec. Users per second: 918\n",
      "EvaluatorHoldout: Processed 2057 (100.0%) in 2.27 sec. Users per second: 906\n",
      "EvaluatorHoldout: Processed 2057 (100.0%) in 1.03 sec. Users per second: 1995\n",
      "EvaluatorHoldout: Processed 2057 (100.0%) in 1.61 sec. Users per second: 1279\n",
      "Group 17, #users in group 2081, average p.len 53.50, median 53.0, min 49, max 59\n",
      "EvaluatorHoldout: Ignoring 2789 ( 6.7%) Users that have less than 1 test interactions\n",
      "EvaluatorHoldout: Ignoring 39548 Users\n",
      "EvaluatorHoldout: Processed 2069 (100.0%) in 2.09 sec. Users per second: 989\n",
      "EvaluatorHoldout: Processed 2069 (100.0%) in 2.33 sec. Users per second: 886\n",
      "EvaluatorHoldout: Processed 2069 (100.0%) in 2.37 sec. Users per second: 873\n",
      "EvaluatorHoldout: Processed 2069 (100.0%) in 1.05 sec. Users per second: 1974\n",
      "EvaluatorHoldout: Processed 2069 (100.0%) in 1.68 sec. Users per second: 1235\n",
      "Group 18, #users in group 2081, average p.len 66.47, median 66.0, min 59, max 77\n",
      "EvaluatorHoldout: Ignoring 2789 ( 6.7%) Users that have less than 1 test interactions\n",
      "EvaluatorHoldout: Ignoring 39548 Users\n",
      "EvaluatorHoldout: Processed 2079 (100.0%) in 2.20 sec. Users per second: 946\n",
      "EvaluatorHoldout: Processed 2079 (100.0%) in 2.48 sec. Users per second: 840\n",
      "EvaluatorHoldout: Processed 2079 (100.0%) in 2.56 sec. Users per second: 814\n",
      "EvaluatorHoldout: Processed 2079 (100.0%) in 1.08 sec. Users per second: 1930\n",
      "EvaluatorHoldout: Processed 2079 (100.0%) in 1.80 sec. Users per second: 1152\n",
      "Group 19, #users in group 2081, average p.len 119.04, median 100.0, min 77, max 518\n",
      "EvaluatorHoldout: Ignoring 2789 ( 6.7%) Users that have less than 1 test interactions\n",
      "EvaluatorHoldout: Ignoring 39548 Users\n",
      "EvaluatorHoldout: Processed 2081 (100.0%) in 2.46 sec. Users per second: 846\n",
      "EvaluatorHoldout: Processed 2081 (100.0%) in 2.67 sec. Users per second: 779\n",
      "EvaluatorHoldout: Processed 2081 (100.0%) in 3.16 sec. Users per second: 659\n",
      "EvaluatorHoldout: Processed 2081 (100.0%) in 1.24 sec. Users per second: 1674\n",
      "EvaluatorHoldout: Processed 2081 (100.0%) in 2.24 sec. Users per second: 929\n"
     ]
    }
   ],
   "source": [
    "from evaluator import evaluate\n",
    "cutoff = 10\n",
    "\n",
    "for group_id in range(0, 20):\n",
    "    \n",
    "    start_pos = group_id*block_size\n",
    "    end_pos = min((group_id+1)*block_size, len(profile_length))\n",
    "    \n",
    "    users_in_group = sorted_users[start_pos:end_pos]\n",
    "    \n",
    "    users_in_group_p_len = profile_length[users_in_group]\n",
    "    \n",
    "    print(\"Group {}, #users in group {}, average p.len {:.2f}, median {}, min {}, max {}\".format(\n",
    "        group_id, \n",
    "        users_in_group.shape[0],\n",
    "        users_in_group_p_len.mean(),\n",
    "        np.median(users_in_group_p_len),\n",
    "        users_in_group_p_len.min(),\n",
    "        users_in_group_p_len.max()))\n",
    "    \n",
    "    \n",
    "    users_not_in_group_flag = np.isin(sorted_users, users_in_group, invert=True)\n",
    "    users_not_in_group = sorted_users[users_not_in_group_flag]\n",
    "    \n",
    "    evaluator_test = EvaluatorHoldout(URM_validation, cutoff_list=[cutoff], ignore_users=users_not_in_group)\n",
    "    #evaluator_power = EvaluatorHoldout(val_powerful, cutoff_list=[cutoff], ignore_users=users_not_in_group)\n",
    "    #evaluator_pad = EvaluatorHoldout(val_pad, cutoff_list=[cutoff], ignore_users=users_not_in_group)\n",
    "\n",
    "    for label, recommender in recommender_object_dict.items():\n",
    "        '''if(label == \"SLIMElasticNetRecommender\"):\n",
    "            #map=evaluate(recommended_items_for_each_user,val_powerful,target)\n",
    "            result_df, _ = evaluator_power.evaluateRecommender(recommender)'''\n",
    "        \n",
    "        #map=evaluate(recommended_items_for_each_user,URM_validation,target)\n",
    "        result_df, _ = evaluator_test.evaluateRecommender(recommender)\n",
    "            \n",
    "        if label in MAP_recommender_per_group:\n",
    "            MAP_recommender_per_group[label].append(result_df.loc[cutoff][\"MAP\"])\n",
    "            #MAP_recommender_per_group[label].append(map)\n",
    "        else:\n",
    "            MAP_recommender_per_group[label] = [result_df.loc[cutoff][\"MAP\"]]\n",
    "            #MAP_recommender_per_group[label] = [map]\n"
   ]
  },
  {
   "cell_type": "code",
   "execution_count": 17,
   "metadata": {},
   "outputs": [
    {
     "name": "stdout",
     "output_type": "stream",
     "text": [
      "20\n",
      "20\n",
      "20\n",
      "20\n",
      "20\n"
     ]
    },
    {
     "data": {
      "image/png": "[encoded data removed]",
      "text/plain": [
       "<Figure size 1600x900 with 1 Axes>"
      ]
     },
     "metadata": {},
     "output_type": "display_data"
    }
   ],
   "source": [
    "import matplotlib.pyplot as plt\n",
    "%matplotlib inline  \n",
    "\n",
    "_ = plt.figure(figsize=(16, 9))\n",
    "for label, recommender in recommender_object_dict.items():\n",
    "    results = MAP_recommender_per_group[label]\n",
    "    plt.scatter(x=np.arange(0,len(results)), y=results, label=label)\n",
    "    print(len(results))\n",
    "plt.ylabel('MAP')\n",
    "plt.xlabel('User Group')\n",
    "plt.legend()\n",
    "plt.show()"
   ]
  }
 ],
 "metadata": {
  "kernelspec": {
   "display_name": "tensorflow",
   "language": "python",
   "name": "python3"
  },
  "language_info": {
   "codemirror_mode": {
    "name": "ipython",
    "version": 3
   },
   "file_extension": ".py",
   "mimetype": "text/x-python",
   "name": "python",
   "nbconvert_exporter": "python",
   "pygments_lexer": "ipython3",
   "version": "3.9.15"
  },
  "orig_nbformat": 4,
  "vscode": {
   "interpreter": {
    "hash": "924875a864510efb8ec566d64580ebd057fcb8e77e67729a27391833cbf8b66e"
   }
  }
 },
 "nbformat": 4,
 "nbformat_minor": 2
}
