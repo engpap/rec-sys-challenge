{
 "cells": [
  {
   "cell_type": "code",
   "execution_count": 2,
   "metadata": {},
   "outputs": [
    {
     "data": {
      "text/plain": [
       "True"
      ]
     },
     "execution_count": 2,
     "metadata": {},
     "output_type": "execute_result"
    }
   ],
   "source": [
    "import scipy.sparse as sps\n",
    "from Data_manager.split_functions.split_train_validation_random_holdout import split_train_in_two_percentage_global_sample\n",
    "import pandas as pd\n",
    "import numpy as np\n",
    "from pandas.api.types import CategoricalDtype\n",
    "from Evaluation.Evaluator import EvaluatorHoldout\n",
    "import scipy.sparse as sps\n",
    "from collections import Counter\n",
    "from tqdm import tqdm\n",
    "# imports for .env usage\n",
    "import os\n",
    "from dotenv import load_dotenv\n",
    "load_dotenv()"
   ]
  },
  {
   "cell_type": "code",
   "execution_count": 3,
   "metadata": {},
   "outputs": [],
   "source": [
    "def dataframe_to_csr(dataframe,row_name,col_name,cell_name):\n",
    "        \"\"\"This method converts a dataframe object into a csr\n",
    "\n",
    "        Args:\n",
    "            dataframe (dataframe)\n",
    "            row_name (str): For example, \"UserID\"\n",
    "            col_name (str): For example, \"ItemID\"\n",
    "            cell_name (str): For example, \"Data\"\n",
    "        Returns:\n",
    "            csr\n",
    "        \"\"\"\n",
    "        rows = dataframe[row_name].unique()\n",
    "        columns = dataframe[col_name].unique()\n",
    "\n",
    "        shape = (len(rows), len(columns))\n",
    "\n",
    "        # Create indices for users and items\n",
    "        row_cat = CategoricalDtype(categories=sorted(rows), ordered=True)\n",
    "        col_cat = CategoricalDtype(categories=sorted(columns), ordered=True)\n",
    "        row_index = dataframe[row_name].astype(row_cat).cat.codes\n",
    "        col_index = dataframe[col_name].astype(col_cat).cat.codes\n",
    "\n",
    "        # Conversion via COO matrix\n",
    "        coo = sps.coo_matrix(\n",
    "            (dataframe[cell_name], (row_index.values, col_index.values)), shape=shape)\n",
    "        csr = coo.tocsr()\n",
    "        return csr"
   ]
  },
  {
   "cell_type": "code",
   "execution_count": 4,
   "metadata": {},
   "outputs": [],
   "source": [
    "interactions_and_impressions = pd.read_csv(filepath_or_buffer=os.getenv('INTERACTIONS_AND_IMPRESSIONS_PATH'),\n",
    "                                            sep=',',\n",
    "                                            names=[\n",
    "    'UserID', 'ItemID', 'Impressions', 'Data'],\n",
    "    header=0,\n",
    "    dtype={'UserID': np.int32, 'ItemID': np.int32, 'Impressions': np.object0, 'Data': np.int32})\n",
    "interactions = interactions_and_impressions.drop(['Impressions'], axis=1)\n",
    "items = interactions['ItemID'].unique()\n",
    "interactions = interactions.replace({'Data': {0: 1}})\n",
    "interactions = interactions.drop_duplicates(keep='first')\n",
    "urm = dataframe_to_csr(interactions,'UserID','ItemID','Data')"
   ]
  },
  {
   "cell_type": "code",
   "execution_count": 5,
   "metadata": {},
   "outputs": [],
   "source": [
    "data_icm_type = pd.read_csv(filepath_or_buffer=os.getenv('DATA_ICM_TYPE_PATH'),\n",
    "                            sep=',',\n",
    "                            names=[\n",
    "    'item_id', 'feature_id', 'data'],\n",
    "    header=0,\n",
    "    dtype={'item_id': np.int32, 'feature_id': np.int32, 'data': np.int32})\n",
    "\n",
    "features = data_icm_type['feature_id'].unique()\n",
    "items = data_icm_type['item_id'].unique()\n",
    "shape = (len(items), len(features))\n",
    "\n",
    "\n",
    "# Create indices for users and items\n",
    "features_cat = CategoricalDtype(categories=sorted(features), ordered=True)\n",
    "item_cat = CategoricalDtype(categories=sorted(items), ordered=True)\n",
    "features_index = data_icm_type[\"feature_id\"].astype(features_cat).cat.codes\n",
    "item_index = data_icm_type[\"item_id\"].astype(item_cat).cat.codes\n",
    "coo = sps.coo_matrix(\n",
    "    (data_icm_type[\"data\"], (item_index.values, features_index.values)), shape=shape)\n",
    "icm = coo.tocsr()\n",
    "    "
   ]
  },
  {
   "cell_type": "code",
   "execution_count": 6,
   "metadata": {},
   "outputs": [],
   "source": [
    "df_original = pd.read_csv(filepath_or_buffer=os.getenv('TARGET_PATH'),\n",
    "                            sep=',',\n",
    "                            header=0,\n",
    "                            dtype={'user_id': np.int32})\n",
    "df_original.columns = ['user_id']\n",
    "user_id_list = df_original['user_id'].values\n",
    "target = np.unique(user_id_list)"
   ]
  },
  {
   "cell_type": "code",
   "execution_count": 7,
   "metadata": {},
   "outputs": [
    {
     "name": "stdout",
     "output_type": "stream",
     "text": [
      "Warning: 2924 (7.02 %) of 41629 users have no sampled items\n",
      "Warning: 2811 (6.75 %) of 41629 users have no sampled items\n"
     ]
    }
   ],
   "source": [
    "URM_train, URM_validation = split_train_in_two_percentage_global_sample(urm, train_percentage = 0.9)\n",
    "train_powerful, val_powerful = split_train_in_two_percentage_global_sample(urm, train_percentage = 0.9)"
   ]
  },
  {
   "cell_type": "code",
   "execution_count": 8,
   "metadata": {},
   "outputs": [
    {
     "data": {
      "text/plain": [
       "(array([61, 20, 90, ..., 23, 46, 20], dtype=int32), (41629,))"
      ]
     },
     "execution_count": 8,
     "metadata": {},
     "output_type": "execute_result"
    }
   ],
   "source": [
    "profile_length = np.ediff1d(sps.csr_matrix(URM_train).indptr)\n",
    "profile_length, profile_length.shape"
   ]
  },
  {
   "cell_type": "code",
   "execution_count": 9,
   "metadata": {},
   "outputs": [
    {
     "data": {
      "text/plain": [
       "2081"
      ]
     },
     "execution_count": 9,
     "metadata": {},
     "output_type": "execute_result"
    }
   ],
   "source": [
    "block_size = int(len(profile_length)*0.05)\n",
    "block_size"
   ]
  },
  {
   "cell_type": "code",
   "execution_count": 10,
   "metadata": {},
   "outputs": [
    {
     "data": {
      "text/plain": [
       "array([36989, 35899, 38400, ..., 19407,  8693, 12454])"
      ]
     },
     "execution_count": 10,
     "metadata": {},
     "output_type": "execute_result"
    }
   ],
   "source": [
    "sorted_users = np.argsort(profile_length)\n",
    "sorted_users"
   ]
  },
  {
   "cell_type": "code",
   "execution_count": 11,
   "metadata": {},
   "outputs": [
    {
     "name": "stdout",
     "output_type": "stream",
     "text": [
      "Group 0, #users in group 2081, average p.len 11.44, median 12.0, min 5, max 13\n",
      "Group 1, #users in group 2081, average p.len 14.37, median 14.0, min 13, max 15\n",
      "Group 2, #users in group 2081, average p.len 15.97, median 16.0, min 15, max 17\n",
      "Group 3, #users in group 2081, average p.len 17.38, median 17.0, min 17, max 18\n",
      "Group 4, #users in group 2081, average p.len 18.56, median 19.0, min 18, max 19\n",
      "Group 5, #users in group 2081, average p.len 19.72, median 20.0, min 19, max 20\n",
      "Group 6, #users in group 2081, average p.len 20.99, median 21.0, min 20, max 22\n",
      "Group 7, #users in group 2081, average p.len 22.26, median 22.0, min 22, max 23\n",
      "Group 8, #users in group 2081, average p.len 23.53, median 24.0, min 23, max 24\n",
      "Group 9, #users in group 2081, average p.len 25.06, median 25.0, min 24, max 26\n",
      "Group 10, #users in group 2081, average p.len 26.58, median 27.0, min 26, max 27\n",
      "Group 11, #users in group 2081, average p.len 28.43, median 28.0, min 27, max 29\n",
      "Group 12, #users in group 2081, average p.len 30.53, median 30.0, min 29, max 32\n",
      "Group 13, #users in group 2081, average p.len 33.09, median 33.0, min 32, max 35\n",
      "Group 14, #users in group 2081, average p.len 36.28, median 36.0, min 35, max 38\n",
      "Group 15, #users in group 2081, average p.len 40.35, median 40.0, min 38, max 43\n",
      "Group 16, #users in group 2081, average p.len 45.70, median 46.0, min 43, max 49\n",
      "Group 17, #users in group 2081, average p.len 53.41, median 53.0, min 49, max 59\n",
      "Group 18, #users in group 2081, average p.len 66.44, median 66.0, min 59, max 77\n",
      "Group 19, #users in group 2081, average p.len 119.07, median 100.0, min 77, max 517\n"
     ]
    }
   ],
   "source": [
    "for group_id in range(0, 20):\n",
    "    start_pos = group_id * block_size\n",
    "    end_pos = min((group_id+1) * block_size, len(profile_length))\n",
    "    \n",
    "    users_in_group = sorted_users[start_pos:end_pos]\n",
    "    \n",
    "    users_in_group_p_len = profile_length[users_in_group]\n",
    "    \n",
    "    print(\"Group {}, #users in group {}, average p.len {:.2f}, median {}, min {}, max {}\".format(\n",
    "        group_id, \n",
    "        users_in_group.shape[0],\n",
    "        users_in_group_p_len.mean(),\n",
    "        np.median(users_in_group_p_len),\n",
    "        users_in_group_p_len.min(),\n",
    "        users_in_group_p_len.max()))"
   ]
  },
  {
   "cell_type": "code",
   "execution_count": 12,
   "metadata": {},
   "outputs": [
    {
     "name": "stderr",
     "output_type": "stream",
     "text": [
      "100%|██████████| 41116/41116 [00:11<00:00, 3426.45it/s]\n"
     ]
    },
    {
     "name": "stdout",
     "output_type": "stream",
     "text": [
      "Unable to load Cython Compute_Similarity, reverting to Python\n",
      "Similarity column 41629 (100.0%), 1467.36 column/sec. Elapsed time 28.37 sec\n"
     ]
    },
    {
     "name": "stderr",
     "output_type": "stream",
     "text": [
      "100%|██████████| 41116/41116 [00:08<00:00, 4651.01it/s]\n"
     ]
    },
    {
     "name": "stdout",
     "output_type": "stream",
     "text": [
      "Unable to load Cython Compute_Similarity, reverting to Python\n",
      "Similarity column 24507 (100.0%), 1645.86 column/sec. Elapsed time 14.89 sec\n"
     ]
    },
    {
     "name": "stderr",
     "output_type": "stream",
     "text": [
      "100%|██████████| 41116/41116 [00:18<00:00, 2282.39it/s]\n"
     ]
    },
    {
     "name": "stdout",
     "output_type": "stream",
     "text": [
      "P3alphaRecommender: Similarity column 24507 (100.0%), 4755.52 column/sec. Elapsed time 5.15 sec\n"
     ]
    },
    {
     "name": "stderr",
     "output_type": "stream",
     "text": [
      "100%|██████████| 41116/41116 [00:08<00:00, 4976.75it/s]\n"
     ]
    },
    {
     "name": "stdout",
     "output_type": "stream",
     "text": [
      "RP3betaRecommender: Similarity column 24507 (100.0%), 4722.11 column/sec. Elapsed time 5.19 sec\n"
     ]
    },
    {
     "name": "stderr",
     "output_type": "stream",
     "text": [
      "100%|██████████| 41116/41116 [00:09<00:00, 4126.73it/s]\n"
     ]
    },
    {
     "name": "stdout",
     "output_type": "stream",
     "text": [
      "PureSVDRecommender: Computing SVD decomposition...\n",
      "PureSVDRecommender: Computing SVD decomposition... done in 1.55 sec\n"
     ]
    },
    {
     "name": "stderr",
     "output_type": "stream",
     "text": [
      "100%|██████████| 41116/41116 [03:37<00:00, 188.64it/s]\n"
     ]
    },
    {
     "name": "stdout",
     "output_type": "stream",
     "text": [
      "NMFRecommender: Computing NMF decomposition...\n",
      "NMFRecommender: Computing NMF decomposition... done in 9.89 sec\n"
     ]
    },
    {
     "name": "stderr",
     "output_type": "stream",
     "text": [
      "100%|██████████| 41116/41116 [00:18<00:00, 2179.39it/s]\n"
     ]
    },
    {
     "name": "stdout",
     "output_type": "stream",
     "text": [
      "SLIMElasticNetRecommender: Processed 7750 (31.6%) in 5.00 min. Items per second: 25.83\n",
      "SLIMElasticNetRecommender: Processed 15940 (65.0%) in 10.00 min. Items per second: 26.56\n",
      "SLIMElasticNetRecommender: Processed 24478 (99.9%) in 15.00 min. Items per second: 27.20\n",
      "SLIMElasticNetRecommender: Processed 24507 (100.0%) in 15.02 min. Items per second: 27.20\n"
     ]
    },
    {
     "name": "stderr",
     "output_type": "stream",
     "text": [
      "100%|██████████| 41116/41116 [00:20<00:00, 1980.59it/s]\n"
     ]
    },
    {
     "data": {
      "text/plain": [
       "'for label, recommender_class in content_recommender_class.items():\\n    recommender_object = recommender_class(URM_train, icm)\\n    recommender_object.fit()\\n    recommender_object_dict[label] = recommender_object'"
      ]
     },
     "execution_count": 12,
     "metadata": {},
     "output_type": "execute_result"
    }
   ],
   "source": [
    "from Recommenders.NonPersonalizedRecommender import TopPop\n",
    "from Recommenders.KNN.UserKNNCFRecommender import UserKNNCFRecommender\n",
    "from Recommenders.KNN.ItemKNNCFRecommender import ItemKNNCFRecommender\n",
    "from Recommenders.SLIM.Cython.SLIM_BPR_Cython import SLIM_BPR_Cython\n",
    "from Recommenders.SLIM.SLIMElasticNetRecommender import SLIMElasticNetRecommender\n",
    "from Recommenders.GraphBased.P3alphaRecommender import P3alphaRecommender\n",
    "from Recommenders.GraphBased.RP3betaRecommender import RP3betaRecommender\n",
    "from Recommenders.MatrixFactorization.Cython.MatrixFactorization_Cython import MatrixFactorization_BPR_Cython, MatrixFactorization_FunkSVD_Cython, MatrixFactorization_AsySVD_Cython\n",
    "from Recommenders.MatrixFactorization.PureSVDRecommender import PureSVDRecommender\n",
    "from Recommenders.MatrixFactorization.IALSRecommender import IALSRecommender\n",
    "from Recommenders.MatrixFactorization.NMFRecommender import NMFRecommender\n",
    "from Recommenders.KNN.ItemKNNCBFRecommender import ItemKNNCBFRecommender\n",
    "from Recommenders.KNN.ItemKNN_CFCBF_Hybrid_Recommender import ItemKNN_CFCBF_Hybrid_Recommender\n",
    "\n",
    "MAP_recommender_per_group = {}\n",
    "\n",
    "collaborative_recommender_class = {\"TopPop\": TopPop,\n",
    "                                   \"UserKNNCF\": UserKNNCFRecommender,\n",
    "                                   \"ItemKNNCF\": ItemKNNCFRecommender,\n",
    "                                   \"P3alpha\": P3alphaRecommender,\n",
    "                                   \"RP3beta\": RP3betaRecommender,\n",
    "                                   \"PureSVD\": PureSVDRecommender,\n",
    "                                   \"NMF\": NMFRecommender,\n",
    "                                   #\"FunkSVD\": MatrixFactorization_FunkSVD_Cython,\n",
    "                                   #\"SLIMBPR\": SLIM_BPR_Cython,\n",
    "                                   \"SLIMElasticNetRecommender\": SLIMElasticNetRecommender,\n",
    "                                   }\n",
    "\n",
    "'''content_recommender_class = {\"ItemKNNCBF\": ItemKNNCBFRecommender,\n",
    "                             \"ItemKNNCFCBF\": ItemKNN_CFCBF_Hybrid_Recommender\n",
    "                            }'''\n",
    "\n",
    "recommender_object_dict = {}\n",
    "recommended_items_for_each_user = {}\n",
    "\n",
    "for label, recommender_class in collaborative_recommender_class.items():\n",
    "    if(label == \"SLIMElasticNetRecommender\"):\n",
    "        recommender_object = recommender_class(train_powerful)\n",
    "        recommender_object.fit()\n",
    "        recommender_object_dict[label] = recommender_object\n",
    "        for user_id in tqdm(target):\n",
    "            recommended_items = recommender_object.recommend(user_id, cutoff=10, remove_seen_flag=True)\n",
    "            recommended_items_for_each_user[int(user_id)]=recommended_items\n",
    "    else:\n",
    "        recommender_object = recommender_class(URM_train)\n",
    "        recommender_object.fit()\n",
    "        recommender_object_dict[label] = recommender_object\n",
    "        for user_id in tqdm(target):\n",
    "            recommended_items = recommender_object.recommend(user_id, cutoff=10, remove_seen_flag=True)\n",
    "            recommended_items_for_each_user[int(user_id)]=recommended_items\n",
    "\n",
    "'''for label, recommender_class in content_recommender_class.items():\n",
    "    recommender_object = recommender_class(URM_train, icm)\n",
    "    recommender_object.fit()\n",
    "    recommender_object_dict[label] = recommender_object'''"
   ]
  },
  {
   "cell_type": "code",
   "execution_count": 13,
   "metadata": {},
   "outputs": [
    {
     "name": "stdout",
     "output_type": "stream",
     "text": [
      "EvaluatorHoldout: Ignoring 2924 ( 7.0%) Users that have less than 1 test interactions\n"
     ]
    }
   ],
   "source": [
    "evaluator=EvaluatorHoldout(URM_validation, cutoff_list=[10])"
   ]
  },
  {
   "cell_type": "code",
   "execution_count": 14,
   "metadata": {},
   "outputs": [
    {
     "name": "stdout",
     "output_type": "stream",
     "text": [
      "Group 0, #users in group 2081, average p.len 11.44, median 12.0, min 5, max 13\n",
      "EvaluatorHoldout: Ignoring 2924 ( 7.0%) Users that have less than 1 test interactions\n",
      "EvaluatorHoldout: Ignoring 39548 Users\n",
      "EvaluatorHoldout: Ignoring 2811 ( 6.8%) Users that have less than 1 test interactions\n",
      "EvaluatorHoldout: Ignoring 39548 Users\n"
     ]
    },
    {
     "name": "stderr",
     "output_type": "stream",
     "text": [
      "100%|██████████| 41116/41116 [00:00<00:00, 61305.79it/s]\n",
      "100%|██████████| 41116/41116 [00:00<00:00, 60455.01it/s]\n",
      "100%|██████████| 41116/41116 [00:00<00:00, 56988.72it/s]\n",
      "100%|██████████| 41116/41116 [00:00<00:00, 57166.60it/s]\n",
      "100%|██████████| 41116/41116 [00:00<00:00, 57997.26it/s]\n",
      "100%|██████████| 41116/41116 [00:00<00:00, 59884.09it/s]\n",
      "100%|██████████| 41116/41116 [00:00<00:00, 60671.96it/s]\n",
      "100%|██████████| 41116/41116 [00:00<00:00, 60998.99it/s]\n"
     ]
    },
    {
     "name": "stdout",
     "output_type": "stream",
     "text": [
      "Group 1, #users in group 2081, average p.len 14.37, median 14.0, min 13, max 15\n",
      "EvaluatorHoldout: Ignoring 2924 ( 7.0%) Users that have less than 1 test interactions\n",
      "EvaluatorHoldout: Ignoring 39548 Users\n",
      "EvaluatorHoldout: Ignoring 2811 ( 6.8%) Users that have less than 1 test interactions\n",
      "EvaluatorHoldout: Ignoring 39548 Users\n"
     ]
    },
    {
     "name": "stderr",
     "output_type": "stream",
     "text": [
      "100%|██████████| 41116/41116 [00:00<00:00, 60756.18it/s]\n",
      "100%|██████████| 41116/41116 [00:00<00:00, 60744.47it/s]\n",
      "100%|██████████| 41116/41116 [00:00<00:00, 61357.72it/s]\n",
      "100%|██████████| 41116/41116 [00:00<00:00, 58157.13it/s]\n",
      "100%|██████████| 41116/41116 [00:00<00:00, 60589.08it/s]\n",
      "100%|██████████| 41116/41116 [00:00<00:00, 60132.11it/s]\n",
      "100%|██████████| 41116/41116 [00:00<00:00, 61812.66it/s]\n",
      "100%|██████████| 41116/41116 [00:00<00:00, 60566.25it/s]\n"
     ]
    },
    {
     "name": "stdout",
     "output_type": "stream",
     "text": [
      "Group 2, #users in group 2081, average p.len 15.97, median 16.0, min 15, max 17\n",
      "EvaluatorHoldout: Ignoring 2924 ( 7.0%) Users that have less than 1 test interactions\n",
      "EvaluatorHoldout: Ignoring 39548 Users\n",
      "EvaluatorHoldout: Ignoring 2811 ( 6.8%) Users that have less than 1 test interactions\n",
      "EvaluatorHoldout: Ignoring 39548 Users\n"
     ]
    },
    {
     "name": "stderr",
     "output_type": "stream",
     "text": [
      "100%|██████████| 41116/41116 [00:00<00:00, 61610.67it/s]\n",
      "100%|██████████| 41116/41116 [00:00<00:00, 61541.67it/s]\n",
      "100%|██████████| 41116/41116 [00:00<00:00, 60242.88it/s]\n",
      "100%|██████████| 41116/41116 [00:00<00:00, 58566.39it/s]\n",
      "100%|██████████| 41116/41116 [00:00<00:00, 60551.91it/s]\n",
      "100%|██████████| 41116/41116 [00:00<00:00, 59049.34it/s]\n",
      "100%|██████████| 41116/41116 [00:00<00:00, 61490.96it/s]\n",
      "100%|██████████| 41116/41116 [00:00<00:00, 61396.85it/s]\n"
     ]
    },
    {
     "name": "stdout",
     "output_type": "stream",
     "text": [
      "Group 3, #users in group 2081, average p.len 17.38, median 17.0, min 17, max 18\n",
      "EvaluatorHoldout: Ignoring 2924 ( 7.0%) Users that have less than 1 test interactions\n",
      "EvaluatorHoldout: Ignoring 39548 Users\n",
      "EvaluatorHoldout: Ignoring 2811 ( 6.8%) Users that have less than 1 test interactions\n",
      "EvaluatorHoldout: Ignoring 39548 Users\n"
     ]
    },
    {
     "name": "stderr",
     "output_type": "stream",
     "text": [
      "100%|██████████| 41116/41116 [00:00<00:00, 60605.52it/s]\n",
      "100%|██████████| 41116/41116 [00:00<00:00, 61483.44it/s]\n",
      "100%|██████████| 41116/41116 [00:00<00:00, 61769.05it/s]\n",
      "100%|██████████| 41116/41116 [00:00<00:00, 61112.59it/s]\n",
      "100%|██████████| 41116/41116 [00:00<00:00, 60462.56it/s]\n",
      "100%|██████████| 41116/41116 [00:00<00:00, 60719.28it/s]\n",
      "100%|██████████| 41116/41116 [00:00<00:00, 60517.39it/s]\n",
      "100%|██████████| 41116/41116 [00:00<00:00, 61140.32it/s]\n"
     ]
    },
    {
     "name": "stdout",
     "output_type": "stream",
     "text": [
      "Group 4, #users in group 2081, average p.len 18.56, median 19.0, min 18, max 19\n",
      "EvaluatorHoldout: Ignoring 2924 ( 7.0%) Users that have less than 1 test interactions\n",
      "EvaluatorHoldout: Ignoring 39548 Users\n",
      "EvaluatorHoldout: Ignoring 2811 ( 6.8%) Users that have less than 1 test interactions\n",
      "EvaluatorHoldout: Ignoring 39548 Users\n"
     ]
    },
    {
     "name": "stderr",
     "output_type": "stream",
     "text": [
      "100%|██████████| 41116/41116 [00:00<00:00, 62199.13it/s]\n",
      "100%|██████████| 41116/41116 [00:00<00:00, 60424.53it/s]\n",
      "100%|██████████| 41116/41116 [00:00<00:00, 61318.56it/s]\n",
      "100%|██████████| 41116/41116 [00:00<00:00, 60708.25it/s]\n",
      "100%|██████████| 41116/41116 [00:00<00:00, 61392.46it/s]\n",
      "100%|██████████| 41116/41116 [00:00<00:00, 61955.07it/s]\n",
      "100%|██████████| 41116/41116 [00:00<00:00, 61347.77it/s]\n",
      "100%|██████████| 41116/41116 [00:00<00:00, 61489.95it/s]\n"
     ]
    },
    {
     "name": "stdout",
     "output_type": "stream",
     "text": [
      "Group 5, #users in group 2081, average p.len 19.72, median 20.0, min 19, max 20\n",
      "EvaluatorHoldout: Ignoring 2924 ( 7.0%) Users that have less than 1 test interactions\n",
      "EvaluatorHoldout: Ignoring 39548 Users\n",
      "EvaluatorHoldout: Ignoring 2811 ( 6.8%) Users that have less than 1 test interactions\n",
      "EvaluatorHoldout: Ignoring 39548 Users\n"
     ]
    },
    {
     "name": "stderr",
     "output_type": "stream",
     "text": [
      "100%|██████████| 41116/41116 [00:00<00:00, 61366.35it/s]\n",
      "100%|██████████| 41116/41116 [00:00<00:00, 61366.04it/s]\n",
      "100%|██████████| 41116/41116 [00:00<00:00, 61904.81it/s]\n",
      "100%|██████████| 41116/41116 [00:00<00:00, 61761.53it/s]\n",
      "100%|██████████| 41116/41116 [00:00<00:00, 61567.49it/s]\n",
      "100%|██████████| 41116/41116 [00:00<00:00, 60957.75it/s]\n",
      "100%|██████████| 41116/41116 [00:00<00:00, 61697.07it/s]\n",
      "100%|██████████| 41116/41116 [00:00<00:00, 61483.82it/s]\n"
     ]
    },
    {
     "name": "stdout",
     "output_type": "stream",
     "text": [
      "Group 6, #users in group 2081, average p.len 20.99, median 21.0, min 20, max 22\n",
      "EvaluatorHoldout: Ignoring 2924 ( 7.0%) Users that have less than 1 test interactions\n",
      "EvaluatorHoldout: Ignoring 39548 Users\n",
      "EvaluatorHoldout: Ignoring 2811 ( 6.8%) Users that have less than 1 test interactions\n",
      "EvaluatorHoldout: Ignoring 39548 Users\n"
     ]
    },
    {
     "name": "stderr",
     "output_type": "stream",
     "text": [
      "100%|██████████| 41116/41116 [00:00<00:00, 61489.98it/s]\n",
      "100%|██████████| 41116/41116 [00:00<00:00, 61005.75it/s]\n",
      "100%|██████████| 41116/41116 [00:00<00:00, 60255.40it/s]\n",
      "100%|██████████| 41116/41116 [00:00<00:00, 61912.19it/s]\n",
      "100%|██████████| 41116/41116 [00:00<00:00, 60669.82it/s]\n",
      "100%|██████████| 41116/41116 [00:00<00:00, 59654.63it/s]\n",
      "100%|██████████| 41116/41116 [00:00<00:00, 59509.83it/s]\n",
      "100%|██████████| 41116/41116 [00:00<00:00, 58837.60it/s]\n"
     ]
    },
    {
     "name": "stdout",
     "output_type": "stream",
     "text": [
      "Group 7, #users in group 2081, average p.len 22.26, median 22.0, min 22, max 23\n",
      "EvaluatorHoldout: Ignoring 2924 ( 7.0%) Users that have less than 1 test interactions\n",
      "EvaluatorHoldout: Ignoring 39548 Users\n",
      "EvaluatorHoldout: Ignoring 2811 ( 6.8%) Users that have less than 1 test interactions\n",
      "EvaluatorHoldout: Ignoring 39548 Users\n"
     ]
    },
    {
     "name": "stderr",
     "output_type": "stream",
     "text": [
      "100%|██████████| 41116/41116 [00:00<00:00, 59100.62it/s]\n",
      "100%|██████████| 41116/41116 [00:00<00:00, 58961.30it/s]\n",
      "100%|██████████| 41116/41116 [00:00<00:00, 61006.50it/s]\n",
      "100%|██████████| 41116/41116 [00:00<00:00, 61108.78it/s]\n",
      "100%|██████████| 41116/41116 [00:00<00:00, 61692.86it/s]\n",
      "100%|██████████| 41116/41116 [00:00<00:00, 61189.15it/s]\n",
      "100%|██████████| 41116/41116 [00:00<00:00, 61305.77it/s]\n",
      "100%|██████████| 41116/41116 [00:00<00:00, 60130.71it/s]\n"
     ]
    },
    {
     "name": "stdout",
     "output_type": "stream",
     "text": [
      "Group 8, #users in group 2081, average p.len 23.53, median 24.0, min 23, max 24\n",
      "EvaluatorHoldout: Ignoring 2924 ( 7.0%) Users that have less than 1 test interactions\n",
      "EvaluatorHoldout: Ignoring 39548 Users\n",
      "EvaluatorHoldout: Ignoring 2811 ( 6.8%) Users that have less than 1 test interactions\n",
      "EvaluatorHoldout: Ignoring 39548 Users\n"
     ]
    },
    {
     "name": "stderr",
     "output_type": "stream",
     "text": [
      "100%|██████████| 41116/41116 [00:00<00:00, 57906.41it/s]\n",
      "100%|██████████| 41116/41116 [00:00<00:00, 61960.31it/s]\n",
      "100%|██████████| 41116/41116 [00:00<00:00, 61205.83it/s]\n",
      "100%|██████████| 41116/41116 [00:00<00:00, 59964.09it/s]\n",
      "100%|██████████| 41116/41116 [00:00<00:00, 61709.41it/s]\n",
      "100%|██████████| 41116/41116 [00:00<00:00, 58207.70it/s]\n",
      "100%|██████████| 41116/41116 [00:00<00:00, 61349.87it/s]\n",
      "100%|██████████| 41116/41116 [00:00<00:00, 59470.76it/s]\n"
     ]
    },
    {
     "name": "stdout",
     "output_type": "stream",
     "text": [
      "Group 9, #users in group 2081, average p.len 25.06, median 25.0, min 24, max 26\n",
      "EvaluatorHoldout: Ignoring 2924 ( 7.0%) Users that have less than 1 test interactions\n",
      "EvaluatorHoldout: Ignoring 39548 Users\n",
      "EvaluatorHoldout: Ignoring 2811 ( 6.8%) Users that have less than 1 test interactions\n",
      "EvaluatorHoldout: Ignoring 39548 Users\n"
     ]
    },
    {
     "name": "stderr",
     "output_type": "stream",
     "text": [
      "100%|██████████| 41116/41116 [00:00<00:00, 61629.49it/s]\n",
      "100%|██████████| 41116/41116 [00:00<00:00, 61788.52it/s]\n",
      "100%|██████████| 41116/41116 [00:00<00:00, 61539.76it/s]\n",
      "100%|██████████| 41116/41116 [00:00<00:00, 61772.65it/s]\n",
      "100%|██████████| 41116/41116 [00:00<00:00, 60989.39it/s]\n",
      "100%|██████████| 41116/41116 [00:00<00:00, 61597.38it/s]\n",
      "100%|██████████| 41116/41116 [00:00<00:00, 61456.25it/s]\n",
      "100%|██████████| 41116/41116 [00:00<00:00, 60689.17it/s]\n"
     ]
    },
    {
     "name": "stdout",
     "output_type": "stream",
     "text": [
      "Group 10, #users in group 2081, average p.len 26.58, median 27.0, min 26, max 27\n",
      "EvaluatorHoldout: Ignoring 2924 ( 7.0%) Users that have less than 1 test interactions\n",
      "EvaluatorHoldout: Ignoring 39548 Users\n",
      "EvaluatorHoldout: Ignoring 2811 ( 6.8%) Users that have less than 1 test interactions\n",
      "EvaluatorHoldout: Ignoring 39548 Users\n"
     ]
    },
    {
     "name": "stderr",
     "output_type": "stream",
     "text": [
      "100%|██████████| 41116/41116 [00:00<00:00, 60588.83it/s]\n",
      "100%|██████████| 41116/41116 [00:00<00:00, 60924.13it/s]\n",
      "100%|██████████| 41116/41116 [00:00<00:00, 58768.72it/s]\n",
      "100%|██████████| 41116/41116 [00:00<00:00, 61473.41it/s]\n",
      "100%|██████████| 41116/41116 [00:00<00:00, 60531.21it/s]\n",
      "100%|██████████| 41116/41116 [00:00<00:00, 61798.11it/s]\n",
      "100%|██████████| 41116/41116 [00:00<00:00, 60554.30it/s]\n",
      "100%|██████████| 41116/41116 [00:00<00:00, 60278.36it/s]\n"
     ]
    },
    {
     "name": "stdout",
     "output_type": "stream",
     "text": [
      "Group 11, #users in group 2081, average p.len 28.43, median 28.0, min 27, max 29\n",
      "EvaluatorHoldout: Ignoring 2924 ( 7.0%) Users that have less than 1 test interactions\n",
      "EvaluatorHoldout: Ignoring 39548 Users\n",
      "EvaluatorHoldout: Ignoring 2811 ( 6.8%) Users that have less than 1 test interactions\n",
      "EvaluatorHoldout: Ignoring 39548 Users\n"
     ]
    },
    {
     "name": "stderr",
     "output_type": "stream",
     "text": [
      "100%|██████████| 41116/41116 [00:00<00:00, 61772.74it/s]\n",
      "100%|██████████| 41116/41116 [00:00<00:00, 62002.74it/s]\n",
      "100%|██████████| 41116/41116 [00:00<00:00, 61746.95it/s]\n",
      "100%|██████████| 41116/41116 [00:00<00:00, 61634.40it/s]\n",
      "100%|██████████| 41116/41116 [00:00<00:00, 60239.59it/s]\n",
      "100%|██████████| 41116/41116 [00:00<00:00, 59348.27it/s]\n",
      "100%|██████████| 41116/41116 [00:00<00:00, 59684.24it/s]\n",
      "100%|██████████| 41116/41116 [00:00<00:00, 60775.38it/s]\n"
     ]
    },
    {
     "name": "stdout",
     "output_type": "stream",
     "text": [
      "Group 12, #users in group 2081, average p.len 30.53, median 30.0, min 29, max 32\n",
      "EvaluatorHoldout: Ignoring 2924 ( 7.0%) Users that have less than 1 test interactions\n",
      "EvaluatorHoldout: Ignoring 39548 Users\n",
      "EvaluatorHoldout: Ignoring 2811 ( 6.8%) Users that have less than 1 test interactions\n",
      "EvaluatorHoldout: Ignoring 39548 Users\n"
     ]
    },
    {
     "name": "stderr",
     "output_type": "stream",
     "text": [
      "100%|██████████| 41116/41116 [00:00<00:00, 60378.31it/s]\n",
      "100%|██████████| 41116/41116 [00:00<00:00, 62062.07it/s]\n",
      "100%|██████████| 41116/41116 [00:00<00:00, 61102.13it/s]\n",
      "100%|██████████| 41116/41116 [00:00<00:00, 60772.30it/s]\n",
      "100%|██████████| 41116/41116 [00:00<00:00, 60491.21it/s]\n",
      "100%|██████████| 41116/41116 [00:00<00:00, 60248.71it/s]\n",
      "100%|██████████| 41116/41116 [00:00<00:00, 59541.64it/s]\n",
      "100%|██████████| 41116/41116 [00:00<00:00, 59121.77it/s]\n"
     ]
    },
    {
     "name": "stdout",
     "output_type": "stream",
     "text": [
      "Group 13, #users in group 2081, average p.len 33.09, median 33.0, min 32, max 35\n",
      "EvaluatorHoldout: Ignoring 2924 ( 7.0%) Users that have less than 1 test interactions\n",
      "EvaluatorHoldout: Ignoring 39548 Users\n",
      "EvaluatorHoldout: Ignoring 2811 ( 6.8%) Users that have less than 1 test interactions\n",
      "EvaluatorHoldout: Ignoring 39548 Users\n"
     ]
    },
    {
     "name": "stderr",
     "output_type": "stream",
     "text": [
      "100%|██████████| 41116/41116 [00:00<00:00, 61725.71it/s]\n",
      "100%|██████████| 41116/41116 [00:00<00:00, 61818.25it/s]\n",
      "100%|██████████| 41116/41116 [00:00<00:00, 61929.42it/s]\n",
      "100%|██████████| 41116/41116 [00:00<00:00, 57342.01it/s]\n",
      "100%|██████████| 41116/41116 [00:00<00:00, 62154.05it/s]\n",
      "100%|██████████| 41116/41116 [00:00<00:00, 60488.64it/s]\n",
      "100%|██████████| 41116/41116 [00:00<00:00, 60778.06it/s]\n",
      "100%|██████████| 41116/41116 [00:00<00:00, 60930.63it/s]\n"
     ]
    },
    {
     "name": "stdout",
     "output_type": "stream",
     "text": [
      "Group 14, #users in group 2081, average p.len 36.28, median 36.0, min 35, max 38\n",
      "EvaluatorHoldout: Ignoring 2924 ( 7.0%) Users that have less than 1 test interactions\n",
      "EvaluatorHoldout: Ignoring 39548 Users\n",
      "EvaluatorHoldout: Ignoring 2811 ( 6.8%) Users that have less than 1 test interactions\n",
      "EvaluatorHoldout: Ignoring 39548 Users\n"
     ]
    },
    {
     "name": "stderr",
     "output_type": "stream",
     "text": [
      "100%|██████████| 41116/41116 [00:00<00:00, 61791.29it/s]\n",
      "100%|██████████| 41116/41116 [00:00<00:00, 58881.39it/s]\n",
      "100%|██████████| 41116/41116 [00:00<00:00, 61463.92it/s]\n",
      "100%|██████████| 41116/41116 [00:00<00:00, 60041.75it/s]\n",
      "100%|██████████| 41116/41116 [00:00<00:00, 61581.69it/s]\n",
      "100%|██████████| 41116/41116 [00:00<00:00, 61393.00it/s]\n",
      "100%|██████████| 41116/41116 [00:00<00:00, 61190.44it/s]\n",
      "100%|██████████| 41116/41116 [00:00<00:00, 61667.49it/s]\n"
     ]
    },
    {
     "name": "stdout",
     "output_type": "stream",
     "text": [
      "Group 15, #users in group 2081, average p.len 40.35, median 40.0, min 38, max 43\n",
      "EvaluatorHoldout: Ignoring 2924 ( 7.0%) Users that have less than 1 test interactions\n",
      "EvaluatorHoldout: Ignoring 39548 Users\n",
      "EvaluatorHoldout: Ignoring 2811 ( 6.8%) Users that have less than 1 test interactions\n",
      "EvaluatorHoldout: Ignoring 39548 Users\n"
     ]
    },
    {
     "name": "stderr",
     "output_type": "stream",
     "text": [
      "100%|██████████| 41116/41116 [00:00<00:00, 62313.30it/s]\n",
      "100%|██████████| 41116/41116 [00:00<00:00, 61657.87it/s]\n",
      "100%|██████████| 41116/41116 [00:00<00:00, 60266.62it/s]\n",
      "100%|██████████| 41116/41116 [00:00<00:00, 62129.31it/s]\n",
      "100%|██████████| 41116/41116 [00:00<00:00, 61907.12it/s]\n",
      "100%|██████████| 41116/41116 [00:00<00:00, 61389.42it/s]\n",
      "100%|██████████| 41116/41116 [00:00<00:00, 62011.44it/s]\n",
      "100%|██████████| 41116/41116 [00:00<00:00, 61442.17it/s]\n"
     ]
    },
    {
     "name": "stdout",
     "output_type": "stream",
     "text": [
      "Group 16, #users in group 2081, average p.len 45.70, median 46.0, min 43, max 49\n",
      "EvaluatorHoldout: Ignoring 2924 ( 7.0%) Users that have less than 1 test interactions\n",
      "EvaluatorHoldout: Ignoring 39548 Users\n",
      "EvaluatorHoldout: Ignoring 2811 ( 6.8%) Users that have less than 1 test interactions\n",
      "EvaluatorHoldout: Ignoring 39548 Users\n"
     ]
    },
    {
     "name": "stderr",
     "output_type": "stream",
     "text": [
      "100%|██████████| 41116/41116 [00:00<00:00, 61377.88it/s]\n",
      "100%|██████████| 41116/41116 [00:00<00:00, 60005.05it/s]\n",
      "100%|██████████| 41116/41116 [00:00<00:00, 59961.82it/s]\n",
      "100%|██████████| 41116/41116 [00:00<00:00, 59086.87it/s]\n",
      "100%|██████████| 41116/41116 [00:00<00:00, 58875.83it/s]\n",
      "100%|██████████| 41116/41116 [00:00<00:00, 61879.36it/s]\n",
      "100%|██████████| 41116/41116 [00:00<00:00, 61642.45it/s]\n",
      "100%|██████████| 41116/41116 [00:00<00:00, 61800.50it/s]\n"
     ]
    },
    {
     "name": "stdout",
     "output_type": "stream",
     "text": [
      "Group 17, #users in group 2081, average p.len 53.41, median 53.0, min 49, max 59\n",
      "EvaluatorHoldout: Ignoring 2924 ( 7.0%) Users that have less than 1 test interactions\n",
      "EvaluatorHoldout: Ignoring 39548 Users\n",
      "EvaluatorHoldout: Ignoring 2811 ( 6.8%) Users that have less than 1 test interactions\n",
      "EvaluatorHoldout: Ignoring 39548 Users\n"
     ]
    },
    {
     "name": "stderr",
     "output_type": "stream",
     "text": [
      "100%|██████████| 41116/41116 [00:00<00:00, 61699.52it/s]\n",
      "100%|██████████| 41116/41116 [00:00<00:00, 61262.19it/s]\n",
      "100%|██████████| 41116/41116 [00:00<00:00, 61028.85it/s]\n",
      "100%|██████████| 41116/41116 [00:00<00:00, 58743.84it/s]\n",
      "100%|██████████| 41116/41116 [00:00<00:00, 59653.06it/s]\n",
      "100%|██████████| 41116/41116 [00:00<00:00, 59189.00it/s]\n",
      "100%|██████████| 41116/41116 [00:00<00:00, 60503.35it/s]\n",
      "100%|██████████| 41116/41116 [00:00<00:00, 60534.85it/s]\n"
     ]
    },
    {
     "name": "stdout",
     "output_type": "stream",
     "text": [
      "Group 18, #users in group 2081, average p.len 66.44, median 66.0, min 59, max 77\n",
      "EvaluatorHoldout: Ignoring 2924 ( 7.0%) Users that have less than 1 test interactions\n",
      "EvaluatorHoldout: Ignoring 39548 Users\n",
      "EvaluatorHoldout: Ignoring 2811 ( 6.8%) Users that have less than 1 test interactions\n",
      "EvaluatorHoldout: Ignoring 39548 Users\n"
     ]
    },
    {
     "name": "stderr",
     "output_type": "stream",
     "text": [
      "100%|██████████| 41116/41116 [00:00<00:00, 61093.80it/s]\n",
      "100%|██████████| 41116/41116 [00:00<00:00, 60166.08it/s]\n",
      "100%|██████████| 41116/41116 [00:00<00:00, 61825.98it/s]\n",
      "100%|██████████| 41116/41116 [00:00<00:00, 61141.23it/s]\n",
      "100%|██████████| 41116/41116 [00:00<00:00, 61627.47it/s]\n",
      "100%|██████████| 41116/41116 [00:00<00:00, 61966.87it/s]\n",
      "100%|██████████| 41116/41116 [00:00<00:00, 61152.83it/s]\n",
      "100%|██████████| 41116/41116 [00:00<00:00, 60998.99it/s]\n"
     ]
    },
    {
     "name": "stdout",
     "output_type": "stream",
     "text": [
      "Group 19, #users in group 2081, average p.len 119.07, median 100.0, min 77, max 517\n",
      "EvaluatorHoldout: Ignoring 2924 ( 7.0%) Users that have less than 1 test interactions\n",
      "EvaluatorHoldout: Ignoring 39548 Users\n",
      "EvaluatorHoldout: Ignoring 2811 ( 6.8%) Users that have less than 1 test interactions\n",
      "EvaluatorHoldout: Ignoring 39548 Users\n"
     ]
    },
    {
     "name": "stderr",
     "output_type": "stream",
     "text": [
      "100%|██████████| 41116/41116 [00:00<00:00, 59067.08it/s]\n",
      "100%|██████████| 41116/41116 [00:00<00:00, 58750.99it/s]\n",
      "100%|██████████| 41116/41116 [00:00<00:00, 60107.32it/s]\n",
      "100%|██████████| 41116/41116 [00:00<00:00, 62151.12it/s]\n",
      "100%|██████████| 41116/41116 [00:00<00:00, 59435.75it/s]\n",
      "100%|██████████| 41116/41116 [00:00<00:00, 60817.80it/s]\n",
      "100%|██████████| 41116/41116 [00:00<00:00, 59026.02it/s]\n",
      "100%|██████████| 41116/41116 [00:00<00:00, 61212.39it/s]\n"
     ]
    }
   ],
   "source": [
    "from evaluator import evaluate\n",
    "cutoff = 10\n",
    "\n",
    "for group_id in range(0, 20):\n",
    "    \n",
    "    start_pos = group_id*block_size\n",
    "    end_pos = min((group_id+1)*block_size, len(profile_length))\n",
    "    \n",
    "    users_in_group = sorted_users[start_pos:end_pos]\n",
    "    \n",
    "    users_in_group_p_len = profile_length[users_in_group]\n",
    "    \n",
    "    print(\"Group {}, #users in group {}, average p.len {:.2f}, median {}, min {}, max {}\".format(\n",
    "        group_id, \n",
    "        users_in_group.shape[0],\n",
    "        users_in_group_p_len.mean(),\n",
    "        np.median(users_in_group_p_len),\n",
    "        users_in_group_p_len.min(),\n",
    "        users_in_group_p_len.max()))\n",
    "    \n",
    "    \n",
    "    users_not_in_group_flag = np.isin(sorted_users, users_in_group, invert=True)\n",
    "    users_not_in_group = sorted_users[users_not_in_group_flag]\n",
    "    \n",
    "    evaluator_test = EvaluatorHoldout(URM_validation, cutoff_list=[cutoff], ignore_users=users_not_in_group)\n",
    "    evaluator_power = EvaluatorHoldout(val_powerful, cutoff_list=[cutoff], ignore_users=users_not_in_group)\n",
    "\n",
    "    for label, recommender in recommender_object_dict.items():\n",
    "        if(label == \"SLIMElasticNetRecommender\"):\n",
    "            map=evaluate(recommended_items_for_each_user,val_powerful,target)\n",
    "            #result_df, _ = evaluator_power.evaluateRecommender(recommender)\n",
    "        else:\n",
    "            map=evaluate(recommended_items_for_each_user,URM_validation,target)\n",
    "            #result_df, _ = evaluator_test.evaluateRecommender(recommender)\n",
    "        if label in MAP_recommender_per_group:\n",
    "            #MAP_recommender_per_group[label].append(result_df.loc[cutoff][\"MAP\"])\n",
    "            MAP_recommender_per_group[label].append(map)\n",
    "        else:\n",
    "            #MAP_recommender_per_group[label] = [result_df.loc[cutoff][\"MAP\"]]\n",
    "            MAP_recommender_per_group[label] = [map]\n"
   ]
  },
  {
   "cell_type": "code",
   "execution_count": 19,
   "metadata": {},
   "outputs": [
    {
     "data": {
      "image/png": "[encoded data removed]",
      "text/plain": [
       "<Figure size 1600x900 with 1 Axes>"
      ]
     },
     "metadata": {},
     "output_type": "display_data"
    }
   ],
   "source": [
    "import matplotlib.pyplot as plt\n",
    "%matplotlib inline  \n",
    "\n",
    "_ = plt.figure(figsize=(16, 9))\n",
    "for label, recommender in recommender_object_dict.items():\n",
    "    results = MAP_recommender_per_group[\"SLIMElasticNetRecommender\"]\n",
    "    plt.scatter(x=np.arange(0,len(results)), y=results, label=label)\n",
    "plt.ylabel('MAP')\n",
    "plt.xlabel('User Group')\n",
    "plt.legend()\n",
    "plt.show()"
   ]
  }
 ],
 "metadata": {
  "kernelspec": {
   "display_name": "Python 3.9.15 ('tensorflow')",
   "language": "python",
   "name": "python3"
  },
  "language_info": {
   "codemirror_mode": {
    "name": "ipython",
    "version": 3
   },
   "file_extension": ".py",
   "mimetype": "text/x-python",
   "name": "python",
   "nbconvert_exporter": "python",
   "pygments_lexer": "ipython3",
   "version": "3.9.15"
  },
  "orig_nbformat": 4,
  "vscode": {
   "interpreter": {
    "hash": "924875a864510efb8ec566d64580ebd057fcb8e77e67729a27391833cbf8b66e"
   }
  }
 },
 "nbformat": 4,
 "nbformat_minor": 2
}
