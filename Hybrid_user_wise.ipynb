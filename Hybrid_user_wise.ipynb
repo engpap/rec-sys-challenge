{
 "cells": [
  {
   "cell_type": "code",
   "execution_count": 107,
   "metadata": {},
   "outputs": [
    {
     "data": {
      "text/plain": [
       "True"
      ]
     },
     "execution_count": 107,
     "metadata": {},
     "output_type": "execute_result"
    }
   ],
   "source": [
    "import scipy.sparse as sps\n",
    "from Data_manager.split_functions.split_train_validation_random_holdout import split_train_in_two_percentage_global_sample\n",
    "import pandas as pd\n",
    "import numpy as np\n",
    "from pandas.api.types import CategoricalDtype\n",
    "from Evaluation.Evaluator import EvaluatorHoldout\n",
    "import scipy.sparse as sps\n",
    "from collections import Counter\n",
    "from tqdm import tqdm\n",
    "# imports for .env usage\n",
    "import os\n",
    "from dotenv import load_dotenv\n",
    "load_dotenv()"
   ]
  },
  {
   "cell_type": "code",
   "execution_count": 108,
   "metadata": {},
   "outputs": [],
   "source": [
    "def dataframe_to_csr(dataframe,row_name,col_name,cell_name):\n",
    "        \"\"\"This method converts a dataframe object into a csr\n",
    "\n",
    "        Args:\n",
    "            dataframe (dataframe)\n",
    "            row_name (str): For example, \"UserID\"\n",
    "            col_name (str): For example, \"ItemID\"\n",
    "            cell_name (str): For example, \"Data\"\n",
    "        Returns:\n",
    "            csr\n",
    "        \"\"\"\n",
    "        rows = dataframe[row_name].unique()\n",
    "        columns = dataframe[col_name].unique()\n",
    "\n",
    "        shape = (len(rows), len(columns))\n",
    "\n",
    "        # Create indices for users and items\n",
    "        row_cat = CategoricalDtype(categories=sorted(rows), ordered=True)\n",
    "        col_cat = CategoricalDtype(categories=sorted(columns), ordered=True)\n",
    "        row_index = dataframe[row_name].astype(row_cat).cat.codes\n",
    "        col_index = dataframe[col_name].astype(col_cat).cat.codes\n",
    "\n",
    "        # Conversion via COO matrix\n",
    "        coo = sps.coo_matrix(\n",
    "            (dataframe[cell_name], (row_index.values, col_index.values)), shape=shape)\n",
    "        csr = coo.tocsr()\n",
    "        return csr"
   ]
  },
  {
   "cell_type": "code",
   "execution_count": 109,
   "metadata": {},
   "outputs": [],
   "source": [
    "interactions_and_impressions = pd.read_csv(filepath_or_buffer=os.getenv('INTERACTIONS_AND_IMPRESSIONS_PATH'),\n",
    "                                            sep=',',\n",
    "                                            names=[\n",
    "    'UserID', 'ItemID', 'Impressions', 'Data'],\n",
    "    header=0,\n",
    "    dtype={'UserID': np.int32, 'ItemID': np.int32, 'Impressions': np.object0, 'Data': np.int32})\n",
    "interactions = interactions_and_impressions.drop(['Impressions'], axis=1)\n",
    "items = interactions['ItemID'].unique()\n",
    "interactions = interactions.replace({'Data': {0: 1}})\n",
    "interactions = interactions.drop_duplicates(keep='first')\n",
    "urm = dataframe_to_csr(interactions,'UserID','ItemID','Data')"
   ]
  },
  {
   "cell_type": "code",
   "execution_count": 110,
   "metadata": {},
   "outputs": [],
   "source": [
    "data_icm_type = pd.read_csv(filepath_or_buffer=os.getenv('DATA_ICM_TYPE_PATH'),\n",
    "                            sep=',',\n",
    "                            names=[\n",
    "    'item_id', 'feature_id', 'data'],\n",
    "    header=0,\n",
    "    dtype={'item_id': np.int32, 'feature_id': np.int32, 'data': np.int32})\n",
    "\n",
    "features = data_icm_type['feature_id'].unique()\n",
    "items = data_icm_type['item_id'].unique()\n",
    "shape = (len(items), len(features))\n",
    "\n",
    "\n",
    "# Create indices for users and items\n",
    "features_cat = CategoricalDtype(categories=sorted(features), ordered=True)\n",
    "item_cat = CategoricalDtype(categories=sorted(items), ordered=True)\n",
    "features_index = data_icm_type[\"feature_id\"].astype(features_cat).cat.codes\n",
    "item_index = data_icm_type[\"item_id\"].astype(item_cat).cat.codes\n",
    "coo = sps.coo_matrix(\n",
    "    (data_icm_type[\"data\"], (item_index.values, features_index.values)), shape=shape)\n",
    "icm = coo.tocsr()\n",
    "    "
   ]
  },
  {
   "cell_type": "code",
   "execution_count": 111,
   "metadata": {},
   "outputs": [],
   "source": [
    "data_icm_type = pd.read_csv(filepath_or_buffer=os.getenv('DATA_ICM_TYPE_PATH'),\n",
    "                            sep=',',\n",
    "                            names=[\n",
    "    'item_id', 'feature_id', 'data'],\n",
    "    header=0,\n",
    "    dtype={'item_id': np.int32, 'feature_id': np.int32, 'data': np.int32})\n",
    "# Swap the columns from (item_id, feature_id, data) to (feature_id, item_id, data)\n",
    "swap_list = [\"feature_id\", \"item_id\", \"data\"]\n",
    "f = data_icm_type.reindex(columns=swap_list)\n",
    "f = f.rename(\n",
    "    {'feature_id': 'UserID', 'item_id': 'ItemID', 'data': 'Data'}, axis=1)\n",
    "\n",
    "urm_power = interactions\n",
    "\n",
    "# urm times alpha\n",
    "urm_power['Data'] = 0.825 * urm_power['Data']\n",
    "# f times (1-aplha)\n",
    "f['Data'] = 0.175 * f['Data']\n",
    "# Change UserIDs of f matrix in order to make recommender work\n",
    "f['UserID'] = 41634 + f['UserID']\n",
    "\n",
    "powerful_urm = pd.concat(\n",
    "    [urm_power, f], ignore_index=True).sort_values(['UserID', 'ItemID'])\n",
    "\n",
    "powerful = dataframe_to_csr(powerful_urm,'UserID','ItemID','Data')"
   ]
  },
  {
   "cell_type": "code",
   "execution_count": 112,
   "metadata": {},
   "outputs": [],
   "source": [
    "df_original = pd.read_csv(filepath_or_buffer=os.getenv('TARGET_PATH'),\n",
    "                            sep=',',\n",
    "                            header=0,\n",
    "                            dtype={'user_id': np.int32})\n",
    "df_original.columns = ['user_id']\n",
    "user_id_list = df_original['user_id'].values\n",
    "target = np.unique(user_id_list)"
   ]
  },
  {
   "cell_type": "code",
   "execution_count": 113,
   "metadata": {},
   "outputs": [
    {
     "name": "stdout",
     "output_type": "stream",
     "text": [
      "Warning: 2858 (6.87 %) of 41629 users have no sampled items\n",
      "Warning: 2822 (6.78 %) of 41629 users have no sampled items\n"
     ]
    }
   ],
   "source": [
    "URM_train, URM_validation = split_train_in_two_percentage_global_sample(urm, train_percentage = 0.9)\n",
    "train_powerful, val_powerful = split_train_in_two_percentage_global_sample(urm, train_percentage = 0.9)"
   ]
  },
  {
   "cell_type": "code",
   "execution_count": 114,
   "metadata": {},
   "outputs": [
    {
     "data": {
      "text/plain": [
       "(array([63, 19, 93, ..., 22, 46, 20], dtype=int32), (41629,))"
      ]
     },
     "execution_count": 114,
     "metadata": {},
     "output_type": "execute_result"
    }
   ],
   "source": [
    "profile_length = np.ediff1d(sps.csr_matrix(URM_train).indptr)\n",
    "profile_length, profile_length.shape"
   ]
  },
  {
   "cell_type": "code",
   "execution_count": 115,
   "metadata": {},
   "outputs": [
    {
     "data": {
      "text/plain": [
       "2081"
      ]
     },
     "execution_count": 115,
     "metadata": {},
     "output_type": "execute_result"
    }
   ],
   "source": [
    "block_size = int(len(profile_length)*0.05)\n",
    "block_size"
   ]
  },
  {
   "cell_type": "code",
   "execution_count": 116,
   "metadata": {},
   "outputs": [
    {
     "data": {
      "text/plain": [
       "array([21810, 38400, 24829, ..., 19407,  8693, 12454])"
      ]
     },
     "execution_count": 116,
     "metadata": {},
     "output_type": "execute_result"
    }
   ],
   "source": [
    "sorted_users = np.argsort(profile_length)\n",
    "sorted_users"
   ]
  },
  {
   "cell_type": "code",
   "execution_count": 117,
   "metadata": {},
   "outputs": [
    {
     "name": "stdout",
     "output_type": "stream",
     "text": [
      "Group 0, #users in group 2081, average p.len 11.42, median 12.0, min 5, max 13\n",
      "Group 1, #users in group 2081, average p.len 14.31, median 14.0, min 13, max 15\n",
      "Group 2, #users in group 2081, average p.len 15.91, median 16.0, min 15, max 17\n",
      "Group 3, #users in group 2081, average p.len 17.34, median 17.0, min 17, max 18\n",
      "Group 4, #users in group 2081, average p.len 18.54, median 19.0, min 18, max 19\n",
      "Group 5, #users in group 2081, average p.len 19.73, median 20.0, min 19, max 20\n",
      "Group 6, #users in group 2081, average p.len 20.93, median 21.0, min 20, max 22\n",
      "Group 7, #users in group 2081, average p.len 22.23, median 22.0, min 22, max 23\n",
      "Group 8, #users in group 2081, average p.len 23.52, median 24.0, min 23, max 24\n",
      "Group 9, #users in group 2081, average p.len 25.01, median 25.0, min 24, max 26\n",
      "Group 10, #users in group 2081, average p.len 26.58, median 27.0, min 26, max 28\n",
      "Group 11, #users in group 2081, average p.len 28.47, median 28.0, min 28, max 29\n",
      "Group 12, #users in group 2081, average p.len 30.61, median 31.0, min 29, max 32\n",
      "Group 13, #users in group 2081, average p.len 33.18, median 33.0, min 32, max 35\n",
      "Group 14, #users in group 2081, average p.len 36.41, median 36.0, min 35, max 38\n",
      "Group 15, #users in group 2081, average p.len 40.36, median 40.0, min 38, max 43\n",
      "Group 16, #users in group 2081, average p.len 45.63, median 45.0, min 43, max 49\n",
      "Group 17, #users in group 2081, average p.len 53.45, median 53.0, min 49, max 59\n",
      "Group 18, #users in group 2081, average p.len 66.51, median 66.0, min 59, max 77\n",
      "Group 19, #users in group 2081, average p.len 119.01, median 100.0, min 77, max 523\n"
     ]
    }
   ],
   "source": [
    "for group_id in range(0, 20):\n",
    "    start_pos = group_id * block_size\n",
    "    end_pos = min((group_id+1) * block_size, len(profile_length))\n",
    "    \n",
    "    users_in_group = sorted_users[start_pos:end_pos]\n",
    "    \n",
    "    users_in_group_p_len = profile_length[users_in_group]\n",
    "    \n",
    "    print(\"Group {}, #users in group {}, average p.len {:.2f}, median {}, min {}, max {}\".format(\n",
    "        group_id, \n",
    "        users_in_group.shape[0],\n",
    "        users_in_group_p_len.mean(),\n",
    "        np.median(users_in_group_p_len),\n",
    "        users_in_group_p_len.min(),\n",
    "        users_in_group_p_len.max()))"
   ]
  },
  {
   "cell_type": "code",
   "execution_count": 118,
   "metadata": {},
   "outputs": [
    {
     "name": "stderr",
     "output_type": "stream",
     "text": [
      "100%|██████████| 41116/41116 [00:11<00:00, 3686.92it/s]\n"
     ]
    },
    {
     "name": "stdout",
     "output_type": "stream",
     "text": [
      "Unable to load Cython Compute_Similarity, reverting to Python\n",
      "Similarity column 41629 (100.0%), 1414.28 column/sec. Elapsed time 29.43 sec\n"
     ]
    },
    {
     "name": "stderr",
     "output_type": "stream",
     "text": [
      "100%|██████████| 41116/41116 [00:08<00:00, 4859.19it/s]\n"
     ]
    },
    {
     "name": "stdout",
     "output_type": "stream",
     "text": [
      "Unable to load Cython Compute_Similarity, reverting to Python\n",
      "Similarity column 24507 (100.0%), 1521.57 column/sec. Elapsed time 16.11 sec\n"
     ]
    },
    {
     "name": "stderr",
     "output_type": "stream",
     "text": [
      "100%|██████████| 41116/41116 [00:17<00:00, 2315.47it/s]\n"
     ]
    },
    {
     "name": "stdout",
     "output_type": "stream",
     "text": [
      "P3alphaRecommender: Similarity column 24507 (100.0%), 4677.22 column/sec. Elapsed time 5.24 sec\n"
     ]
    },
    {
     "name": "stderr",
     "output_type": "stream",
     "text": [
      "100%|██████████| 41116/41116 [00:08<00:00, 4892.47it/s]\n"
     ]
    },
    {
     "name": "stdout",
     "output_type": "stream",
     "text": [
      "RP3betaRecommender: Similarity column 24507 (100.0%), 4391.99 column/sec. Elapsed time 5.58 sec\n"
     ]
    },
    {
     "name": "stderr",
     "output_type": "stream",
     "text": [
      "100%|██████████| 41116/41116 [00:09<00:00, 4221.48it/s]\n"
     ]
    },
    {
     "name": "stdout",
     "output_type": "stream",
     "text": [
      "PureSVDRecommender: Computing SVD decomposition...\n",
      "PureSVDRecommender: Computing SVD decomposition... done in 1.42 sec\n"
     ]
    },
    {
     "name": "stderr",
     "output_type": "stream",
     "text": [
      "100%|██████████| 41116/41116 [03:36<00:00, 190.17it/s]\n"
     ]
    },
    {
     "name": "stdout",
     "output_type": "stream",
     "text": [
      "NMFRecommender: Computing NMF decomposition...\n",
      "NMFRecommender: Computing NMF decomposition... done in 9.76 sec\n"
     ]
    },
    {
     "name": "stderr",
     "output_type": "stream",
     "text": [
      "100%|██████████| 41116/41116 [00:19<00:00, 2111.89it/s]\n"
     ]
    }
   ],
   "source": [
    "from Recommenders.NonPersonalizedRecommender import TopPop\n",
    "from Recommenders.KNN.UserKNNCFRecommender import UserKNNCFRecommender\n",
    "from Recommenders.KNN.ItemKNNCFRecommender import ItemKNNCFRecommender\n",
    "from Recommenders.SLIM.Cython.SLIM_BPR_Cython import SLIM_BPR_Cython\n",
    "from Recommenders.SLIM.SLIMElasticNetRecommender import SLIMElasticNetRecommender\n",
    "from Recommenders.GraphBased.P3alphaRecommender import P3alphaRecommender\n",
    "from Recommenders.GraphBased.RP3betaRecommender import RP3betaRecommender\n",
    "from Recommenders.MatrixFactorization.Cython.MatrixFactorization_Cython import MatrixFactorization_BPR_Cython, MatrixFactorization_FunkSVD_Cython, MatrixFactorization_AsySVD_Cython\n",
    "from Recommenders.MatrixFactorization.PureSVDRecommender import PureSVDRecommender\n",
    "from Recommenders.MatrixFactorization.IALSRecommender import IALSRecommender\n",
    "from Recommenders.MatrixFactorization.NMFRecommender import NMFRecommender\n",
    "from Recommenders.KNN.ItemKNNCBFRecommender import ItemKNNCBFRecommender\n",
    "from Recommenders.KNN.ItemKNN_CFCBF_Hybrid_Recommender import ItemKNN_CFCBF_Hybrid_Recommender\n",
    "\n",
    "MAP_recommender_per_group = {}\n",
    "\n",
    "collaborative_recommender_class = {\"TopPop\": TopPop,\n",
    "                                   \"UserKNNCF\": UserKNNCFRecommender,\n",
    "                                   \"ItemKNNCF\": ItemKNNCFRecommender,\n",
    "                                   \"P3alpha\": P3alphaRecommender,\n",
    "                                   \"RP3beta\": RP3betaRecommender,\n",
    "                                   \"PureSVD\": PureSVDRecommender,\n",
    "                                   \"NMF\": NMFRecommender,\n",
    "                                   #\"FunkSVD\": MatrixFactorization_FunkSVD_Cython,\n",
    "                                   #\"SLIMBPR\": SLIM_BPR_Cython,\n",
    "                                   \"SLIMElasticNetRecommender\": SLIMElasticNetRecommender,\n",
    "                                   }\n",
    "\n",
    "'''content_recommender_class = {\"ItemKNNCBF\": ItemKNNCBFRecommender,\n",
    "                             \"ItemKNNCFCBF\": ItemKNN_CFCBF_Hybrid_Recommender\n",
    "                            }'''\n",
    "\n",
    "recommender_object_dict = {}\n",
    "recommended_items_for_each_user = {}\n",
    "\n",
    "for label, recommender_class in collaborative_recommender_class.items():\n",
    "    if(label == \"SLIMElasticNetRecommender\"):\n",
    "        recommender_object = recommender_class(train_powerful)\n",
    "        recommender_object.fit()\n",
    "        recommender_object_dict[label] = recommender_object\n",
    "        for user_id in tqdm(target):\n",
    "            recommended_items = recommender_object.recommend(user_id, cutoff=10, remove_seen_flag=True)\n",
    "            recommended_items_for_each_user[int(user_id)]=recommended_items\n",
    "    else:\n",
    "        recommender_object = recommender_class(URM_train)\n",
    "        recommender_object.fit()\n",
    "        recommender_object_dict[label] = recommender_object\n",
    "        for user_id in tqdm(target):\n",
    "            recommended_items = recommender_object.recommend(user_id, cutoff=10, remove_seen_flag=True)\n",
    "            recommended_items_for_each_user[int(user_id)]=recommended_items\n",
    "\n",
    "'''for label, recommender_class in content_recommender_class.items():\n",
    "    recommender_object = recommender_class(URM_train, icm)\n",
    "    recommender_object.fit()\n",
    "    recommender_object_dict[label] = recommender_object'''"
   ]
  },
  {
   "cell_type": "code",
   "execution_count": null,
   "metadata": {},
   "outputs": [
    {
     "name": "stdout",
     "output_type": "stream",
     "text": [
      "EvaluatorHoldout: Ignoring 2789 ( 6.7%) Users that have less than 1 test interactions\n"
     ]
    }
   ],
   "source": [
    "evaluator=EvaluatorHoldout(URM_validation, cutoff_list=[10])"
   ]
  },
  {
   "cell_type": "code",
   "execution_count": null,
   "metadata": {},
   "outputs": [
    {
     "name": "stdout",
     "output_type": "stream",
     "text": [
      "Group 0, #users in group 2081, average p.len 11.41, median 12.0, min 4, max 13\n",
      "EvaluatorHoldout: Ignoring 2789 ( 6.7%) Users that have less than 1 test interactions\n",
      "EvaluatorHoldout: Ignoring 39548 Users\n",
      "EvaluatorHoldout: Ignoring 2870 ( 6.9%) Users that have less than 1 test interactions\n",
      "EvaluatorHoldout: Ignoring 39548 Users\n",
      "EvaluatorHoldout: Processed 1792 (100.0%) in 1.18 sec. Users per second: 1514\n",
      "EvaluatorHoldout: Processed 1792 (100.0%) in 0.84 sec. Users per second: 2138\n",
      "EvaluatorHoldout: Processed 1792 (100.0%) in 0.96 sec. Users per second: 1866\n",
      "EvaluatorHoldout: Processed 1792 (100.0%) in 0.86 sec. Users per second: 2090\n",
      "EvaluatorHoldout: Processed 1792 (100.0%) in 0.87 sec. Users per second: 2070\n",
      "EvaluatorHoldout: Processed 1792 (100.0%) in 1.17 sec. Users per second: 1527\n",
      "EvaluatorHoldout: Processed 1792 (100.0%) in 1.15 sec. Users per second: 1556\n",
      "EvaluatorHoldout: Processed 1565 (100.0%) in 0.75 sec. Users per second: 2086\n",
      "Group 1, #users in group 2081, average p.len 14.31, median 14.0, min 13, max 15\n",
      "EvaluatorHoldout: Ignoring 2789 ( 6.7%) Users that have less than 1 test interactions\n",
      "EvaluatorHoldout: Ignoring 39548 Users\n",
      "EvaluatorHoldout: Ignoring 2870 ( 6.9%) Users that have less than 1 test interactions\n",
      "EvaluatorHoldout: Ignoring 39548 Users\n",
      "EvaluatorHoldout: Processed 1796 (100.0%) in 1.19 sec. Users per second: 1504\n",
      "EvaluatorHoldout: Processed 1796 (100.0%) in 0.83 sec. Users per second: 2163\n",
      "EvaluatorHoldout: Processed 1796 (100.0%) in 1.00 sec. Users per second: 1789\n",
      "EvaluatorHoldout: Processed 1796 (100.0%) in 0.85 sec. Users per second: 2119\n",
      "EvaluatorHoldout: Processed 1796 (100.0%) in 0.89 sec. Users per second: 2026\n",
      "EvaluatorHoldout: Processed 1796 (100.0%) in 1.18 sec. Users per second: 1528\n",
      "EvaluatorHoldout: Processed 1796 (100.0%) in 1.18 sec. Users per second: 1522\n",
      "EvaluatorHoldout: Processed 1726 (100.0%) in 0.80 sec. Users per second: 2151\n",
      "Group 2, #users in group 2081, average p.len 15.90, median 16.0, min 15, max 17\n",
      "EvaluatorHoldout: Ignoring 2789 ( 6.7%) Users that have less than 1 test interactions\n",
      "EvaluatorHoldout: Ignoring 39548 Users\n",
      "EvaluatorHoldout: Ignoring 2870 ( 6.9%) Users that have less than 1 test interactions\n",
      "EvaluatorHoldout: Ignoring 39548 Users\n",
      "EvaluatorHoldout: Processed 1804 (100.0%) in 1.23 sec. Users per second: 1463\n",
      "EvaluatorHoldout: Processed 1804 (100.0%) in 0.83 sec. Users per second: 2166\n",
      "EvaluatorHoldout: Processed 1804 (100.0%) in 1.07 sec. Users per second: 1694\n",
      "EvaluatorHoldout: Processed 1804 (100.0%) in 0.88 sec. Users per second: 2053\n",
      "EvaluatorHoldout: Processed 1804 (100.0%) in 0.91 sec. Users per second: 1983\n",
      "EvaluatorHoldout: Processed 1804 (100.0%) in 1.15 sec. Users per second: 1565\n",
      "EvaluatorHoldout: Processed 1804 (100.0%) in 1.17 sec. Users per second: 1548\n",
      "EvaluatorHoldout: Processed 1764 (100.0%) in 0.81 sec. Users per second: 2179\n",
      "Group 3, #users in group 2081, average p.len 17.35, median 17.0, min 17, max 18\n",
      "EvaluatorHoldout: Ignoring 2789 ( 6.7%) Users that have less than 1 test interactions\n",
      "EvaluatorHoldout: Ignoring 39548 Users\n",
      "EvaluatorHoldout: Ignoring 2870 ( 6.9%) Users that have less than 1 test interactions\n",
      "EvaluatorHoldout: Ignoring 39548 Users\n",
      "EvaluatorHoldout: Processed 1809 (100.0%) in 1.22 sec. Users per second: 1489\n",
      "EvaluatorHoldout: Processed 1809 (100.0%) in 0.83 sec. Users per second: 2191\n",
      "EvaluatorHoldout: Processed 1809 (100.0%) in 1.07 sec. Users per second: 1697\n",
      "EvaluatorHoldout: Processed 1809 (100.0%) in 0.88 sec. Users per second: 2065\n",
      "EvaluatorHoldout: Processed 1809 (100.0%) in 0.91 sec. Users per second: 1987\n",
      "EvaluatorHoldout: Processed 1809 (100.0%) in 1.17 sec. Users per second: 1550\n",
      "EvaluatorHoldout: Processed 1809 (100.0%) in 1.19 sec. Users per second: 1518\n",
      "EvaluatorHoldout: Processed 1805 (100.0%) in 0.82 sec. Users per second: 2193\n",
      "Group 4, #users in group 2081, average p.len 18.54, median 19.0, min 18, max 19\n",
      "EvaluatorHoldout: Ignoring 2789 ( 6.7%) Users that have less than 1 test interactions\n",
      "EvaluatorHoldout: Ignoring 39548 Users\n",
      "EvaluatorHoldout: Ignoring 2870 ( 6.9%) Users that have less than 1 test interactions\n",
      "EvaluatorHoldout: Ignoring 39548 Users\n",
      "EvaluatorHoldout: Processed 1850 (100.0%) in 1.23 sec. Users per second: 1506\n",
      "EvaluatorHoldout: Processed 1850 (100.0%) in 0.84 sec. Users per second: 2207\n",
      "EvaluatorHoldout: Processed 1850 (100.0%) in 1.11 sec. Users per second: 1666\n",
      "EvaluatorHoldout: Processed 1850 (100.0%) in 0.91 sec. Users per second: 2030\n",
      "EvaluatorHoldout: Processed 1850 (100.0%) in 0.93 sec. Users per second: 1990\n",
      "EvaluatorHoldout: Processed 1850 (100.0%) in 1.21 sec. Users per second: 1534\n",
      "EvaluatorHoldout: Processed 1850 (100.0%) in 1.22 sec. Users per second: 1519\n",
      "EvaluatorHoldout: Processed 1823 (100.0%) in 0.83 sec. Users per second: 2186\n",
      "Group 5, #users in group 2081, average p.len 19.72, median 20.0, min 19, max 20\n",
      "EvaluatorHoldout: Ignoring 2789 ( 6.7%) Users that have less than 1 test interactions\n",
      "EvaluatorHoldout: Ignoring 39548 Users\n",
      "EvaluatorHoldout: Ignoring 2870 ( 6.9%) Users that have less than 1 test interactions\n",
      "EvaluatorHoldout: Ignoring 39548 Users\n",
      "EvaluatorHoldout: Processed 1866 (100.0%) in 1.23 sec. Users per second: 1521\n",
      "EvaluatorHoldout: Processed 1866 (100.0%) in 0.85 sec. Users per second: 2204\n",
      "EvaluatorHoldout: Processed 1866 (100.0%) in 1.12 sec. Users per second: 1663\n",
      "EvaluatorHoldout: Processed 1866 (100.0%) in 0.89 sec. Users per second: 2089\n",
      "EvaluatorHoldout: Processed 1866 (100.0%) in 0.94 sec. Users per second: 1989\n",
      "EvaluatorHoldout: Processed 1866 (100.0%) in 1.20 sec. Users per second: 1550\n",
      "EvaluatorHoldout: Processed 1866 (100.0%) in 1.21 sec. Users per second: 1540\n",
      "EvaluatorHoldout: Processed 1857 (100.0%) in 0.84 sec. Users per second: 2223\n",
      "Group 6, #users in group 2081, average p.len 20.92, median 21.0, min 20, max 22\n",
      "EvaluatorHoldout: Ignoring 2789 ( 6.7%) Users that have less than 1 test interactions\n",
      "EvaluatorHoldout: Ignoring 39548 Users\n",
      "EvaluatorHoldout: Ignoring 2870 ( 6.9%) Users that have less than 1 test interactions\n",
      "EvaluatorHoldout: Ignoring 39548 Users\n",
      "EvaluatorHoldout: Processed 1882 (100.0%) in 1.24 sec. Users per second: 1515\n",
      "EvaluatorHoldout: Processed 1882 (100.0%) in 0.85 sec. Users per second: 2207\n",
      "EvaluatorHoldout: Processed 1882 (100.0%) in 1.17 sec. Users per second: 1613\n",
      "EvaluatorHoldout: Processed 1882 (100.0%) in 0.90 sec. Users per second: 2090\n",
      "EvaluatorHoldout: Processed 1882 (100.0%) in 0.96 sec. Users per second: 1956\n",
      "EvaluatorHoldout: Processed 1882 (100.0%) in 1.19 sec. Users per second: 1582\n",
      "EvaluatorHoldout: Processed 1882 (100.0%) in 1.19 sec. Users per second: 1578\n",
      "EvaluatorHoldout: Processed 1896 (100.0%) in 0.82 sec. Users per second: 2306\n",
      "Group 7, #users in group 2081, average p.len 22.26, median 22.0, min 22, max 23\n",
      "EvaluatorHoldout: Ignoring 2789 ( 6.7%) Users that have less than 1 test interactions\n",
      "EvaluatorHoldout: Ignoring 39548 Users\n",
      "EvaluatorHoldout: Ignoring 2870 ( 6.9%) Users that have less than 1 test interactions\n",
      "EvaluatorHoldout: Ignoring 39548 Users\n",
      "EvaluatorHoldout: Processed 1909 (100.0%) in 1.24 sec. Users per second: 1544\n",
      "EvaluatorHoldout: Processed 1909 (100.0%) in 0.86 sec. Users per second: 2221\n",
      "EvaluatorHoldout: Processed 1909 (100.0%) in 1.22 sec. Users per second: 1566\n",
      "EvaluatorHoldout: Processed 1909 (100.0%) in 0.91 sec. Users per second: 2104\n",
      "EvaluatorHoldout: Processed 1909 (100.0%) in 0.97 sec. Users per second: 1972\n",
      "EvaluatorHoldout: Processed 1909 (100.0%) in 1.22 sec. Users per second: 1559\n",
      "EvaluatorHoldout: Processed 1909 (100.0%) in 1.20 sec. Users per second: 1586\n",
      "EvaluatorHoldout: Processed 1936 (100.0%) in 0.83 sec. Users per second: 2320\n",
      "Group 8, #users in group 2081, average p.len 23.52, median 24.0, min 23, max 24\n",
      "EvaluatorHoldout: Ignoring 2789 ( 6.7%) Users that have less than 1 test interactions\n",
      "EvaluatorHoldout: Ignoring 39548 Users\n",
      "EvaluatorHoldout: Ignoring 2870 ( 6.9%) Users that have less than 1 test interactions\n",
      "EvaluatorHoldout: Ignoring 39548 Users\n",
      "EvaluatorHoldout: Processed 1920 (100.0%) in 1.24 sec. Users per second: 1551\n",
      "EvaluatorHoldout: Processed 1920 (100.0%) in 0.88 sec. Users per second: 2171\n",
      "EvaluatorHoldout: Processed 1920 (100.0%) in 1.30 sec. Users per second: 1477\n",
      "EvaluatorHoldout: Processed 1920 (100.0%) in 0.94 sec. Users per second: 2045\n",
      "EvaluatorHoldout: Processed 1920 (100.0%) in 1.00 sec. Users per second: 1927\n",
      "EvaluatorHoldout: Processed 1920 (100.0%) in 1.24 sec. Users per second: 1547\n",
      "EvaluatorHoldout: Processed 1920 (100.0%) in 1.27 sec. Users per second: 1512\n",
      "EvaluatorHoldout: Processed 1947 (100.0%) in 0.88 sec. Users per second: 2223\n",
      "Group 9, #users in group 2081, average p.len 24.97, median 25.0, min 24, max 26\n",
      "EvaluatorHoldout: Ignoring 2789 ( 6.7%) Users that have less than 1 test interactions\n",
      "EvaluatorHoldout: Ignoring 39548 Users\n",
      "EvaluatorHoldout: Ignoring 2870 ( 6.9%) Users that have less than 1 test interactions\n",
      "EvaluatorHoldout: Ignoring 39548 Users\n",
      "EvaluatorHoldout: Processed 1931 (100.0%) in 1.27 sec. Users per second: 1521\n",
      "EvaluatorHoldout: Processed 1931 (100.0%) in 0.88 sec. Users per second: 2183\n",
      "EvaluatorHoldout: Processed 1931 (100.0%) in 1.28 sec. Users per second: 1514\n",
      "EvaluatorHoldout: Processed 1931 (100.0%) in 0.92 sec. Users per second: 2107\n",
      "EvaluatorHoldout: Processed 1931 (100.0%) in 0.98 sec. Users per second: 1974\n",
      "EvaluatorHoldout: Processed 1931 (100.0%) in 1.25 sec. Users per second: 1543\n",
      "EvaluatorHoldout: Processed 1931 (100.0%) in 1.20 sec. Users per second: 1611\n",
      "EvaluatorHoldout: Processed 1952 (100.0%) in 0.85 sec. Users per second: 2305\n",
      "Group 10, #users in group 2081, average p.len 26.55, median 27.0, min 26, max 27\n",
      "EvaluatorHoldout: Ignoring 2789 ( 6.7%) Users that have less than 1 test interactions\n",
      "EvaluatorHoldout: Ignoring 39548 Users\n",
      "EvaluatorHoldout: Ignoring 2870 ( 6.9%) Users that have less than 1 test interactions\n",
      "EvaluatorHoldout: Ignoring 39548 Users\n",
      "EvaluatorHoldout: Processed 1955 (100.0%) in 1.26 sec. Users per second: 1557\n",
      "EvaluatorHoldout: Processed 1955 (100.0%) in 0.88 sec. Users per second: 2210\n",
      "EvaluatorHoldout: Processed 1955 (100.0%) in 1.32 sec. Users per second: 1486\n",
      "EvaluatorHoldout: Processed 1955 (100.0%) in 0.93 sec. Users per second: 2109\n",
      "EvaluatorHoldout: Processed 1955 (100.0%) in 0.99 sec. Users per second: 1980\n",
      "EvaluatorHoldout: Processed 1955 (100.0%) in 1.21 sec. Users per second: 1614\n",
      "EvaluatorHoldout: Processed 1955 (100.0%) in 1.21 sec. Users per second: 1614\n",
      "EvaluatorHoldout: Processed 1976 (100.0%) in 0.85 sec. Users per second: 2330\n",
      "Group 11, #users in group 2081, average p.len 28.46, median 28.0, min 27, max 29\n",
      "EvaluatorHoldout: Ignoring 2789 ( 6.7%) Users that have less than 1 test interactions\n",
      "EvaluatorHoldout: Ignoring 39548 Users\n",
      "EvaluatorHoldout: Ignoring 2870 ( 6.9%) Users that have less than 1 test interactions\n",
      "EvaluatorHoldout: Ignoring 39548 Users\n",
      "EvaluatorHoldout: Processed 1969 (100.0%) in 1.26 sec. Users per second: 1566\n",
      "EvaluatorHoldout: Processed 1969 (100.0%) in 0.89 sec. Users per second: 2202\n",
      "EvaluatorHoldout: Processed 1969 (100.0%) in 1.38 sec. Users per second: 1431\n",
      "EvaluatorHoldout: Processed 1969 (100.0%) in 0.95 sec. Users per second: 2082\n",
      "EvaluatorHoldout: Processed 1969 (100.0%) in 1.01 sec. Users per second: 1959\n",
      "EvaluatorHoldout: Processed 1969 (100.0%) in 1.25 sec. Users per second: 1576\n",
      "EvaluatorHoldout: Processed 1969 (100.0%) in 1.26 sec. Users per second: 1566\n",
      "EvaluatorHoldout: Processed 2010 (100.0%) in 0.87 sec. Users per second: 2318\n",
      "Group 12, #users in group 2081, average p.len 30.63, median 31.0, min 29, max 32\n",
      "EvaluatorHoldout: Ignoring 2789 ( 6.7%) Users that have less than 1 test interactions\n",
      "EvaluatorHoldout: Ignoring 39548 Users\n",
      "EvaluatorHoldout: Ignoring 2870 ( 6.9%) Users that have less than 1 test interactions\n",
      "EvaluatorHoldout: Ignoring 39548 Users\n",
      "EvaluatorHoldout: Processed 1989 (100.0%) in 1.28 sec. Users per second: 1552\n",
      "EvaluatorHoldout: Processed 1989 (100.0%) in 0.93 sec. Users per second: 2139\n",
      "EvaluatorHoldout: Processed 1989 (100.0%) in 1.44 sec. Users per second: 1384\n",
      "EvaluatorHoldout: Processed 1989 (100.0%) in 0.94 sec. Users per second: 2122\n",
      "EvaluatorHoldout: Processed 1989 (100.0%) in 1.02 sec. Users per second: 1956\n",
      "EvaluatorHoldout: Processed 1989 (100.0%) in 1.23 sec. Users per second: 1614\n",
      "EvaluatorHoldout: Processed 1989 (100.0%) in 1.23 sec. Users per second: 1615\n",
      "EvaluatorHoldout: Processed 2031 (100.0%) in 0.85 sec. Users per second: 2377\n",
      "Group 13, #users in group 2081, average p.len 33.15, median 33.0, min 32, max 35\n",
      "EvaluatorHoldout: Ignoring 2789 ( 6.7%) Users that have less than 1 test interactions\n",
      "EvaluatorHoldout: Ignoring 39548 Users\n",
      "EvaluatorHoldout: Ignoring 2870 ( 6.9%) Users that have less than 1 test interactions\n",
      "EvaluatorHoldout: Ignoring 39548 Users\n",
      "EvaluatorHoldout: Processed 2003 (100.0%) in 1.28 sec. Users per second: 1562\n",
      "EvaluatorHoldout: Processed 2003 (100.0%) in 0.94 sec. Users per second: 2140\n",
      "EvaluatorHoldout: Processed 2003 (100.0%) in 1.48 sec. Users per second: 1354\n",
      "EvaluatorHoldout: Processed 2003 (100.0%) in 0.97 sec. Users per second: 2073\n",
      "EvaluatorHoldout: Processed 2003 (100.0%) in 1.05 sec. Users per second: 1901\n",
      "EvaluatorHoldout: Processed 2003 (100.0%) in 1.25 sec. Users per second: 1602\n",
      "EvaluatorHoldout: Processed 2003 (100.0%) in 1.24 sec. Users per second: 1621\n",
      "EvaluatorHoldout: Processed 2034 (100.0%) in 0.86 sec. Users per second: 2354\n",
      "Group 14, #users in group 2081, average p.len 36.30, median 36.0, min 35, max 38\n",
      "EvaluatorHoldout: Ignoring 2789 ( 6.7%) Users that have less than 1 test interactions\n",
      "EvaluatorHoldout: Ignoring 39548 Users\n",
      "EvaluatorHoldout: Ignoring 2870 ( 6.9%) Users that have less than 1 test interactions\n",
      "EvaluatorHoldout: Ignoring 39548 Users\n",
      "EvaluatorHoldout: Processed 2026 (100.0%) in 1.28 sec. Users per second: 1587\n",
      "EvaluatorHoldout: Processed 2026 (100.0%) in 0.95 sec. Users per second: 2143\n",
      "EvaluatorHoldout: Processed 2026 (100.0%) in 1.53 sec. Users per second: 1327\n",
      "EvaluatorHoldout: Processed 2026 (100.0%) in 0.96 sec. Users per second: 2121\n",
      "EvaluatorHoldout: Processed 2026 (100.0%) in 1.05 sec. Users per second: 1932\n",
      "EvaluatorHoldout: Processed 2026 (100.0%) in 1.26 sec. Users per second: 1605\n",
      "EvaluatorHoldout: Processed 2026 (100.0%) in 1.25 sec. Users per second: 1621\n",
      "EvaluatorHoldout: Processed 2052 (100.0%) in 0.86 sec. Users per second: 2388\n",
      "Group 15, #users in group 2081, average p.len 40.38, median 40.0, min 38, max 43\n",
      "EvaluatorHoldout: Ignoring 2789 ( 6.7%) Users that have less than 1 test interactions\n",
      "EvaluatorHoldout: Ignoring 39548 Users\n",
      "EvaluatorHoldout: Ignoring 2870 ( 6.9%) Users that have less than 1 test interactions\n",
      "EvaluatorHoldout: Ignoring 39548 Users\n",
      "EvaluatorHoldout: Processed 2043 (100.0%) in 1.27 sec. Users per second: 1615\n",
      "EvaluatorHoldout: Processed 2043 (100.0%) in 0.97 sec. Users per second: 2100\n",
      "EvaluatorHoldout: Processed 2043 (100.0%) in 1.55 sec. Users per second: 1314\n",
      "EvaluatorHoldout: Processed 2043 (100.0%) in 0.94 sec. Users per second: 2166\n",
      "EvaluatorHoldout: Processed 2043 (100.0%) in 1.06 sec. Users per second: 1928\n",
      "EvaluatorHoldout: Processed 2043 (100.0%) in 1.27 sec. Users per second: 1610\n",
      "EvaluatorHoldout: Processed 2043 (100.0%) in 1.28 sec. Users per second: 1592\n",
      "EvaluatorHoldout: Processed 2068 (100.0%) in 0.87 sec. Users per second: 2388\n",
      "Group 16, #users in group 2081, average p.len 45.68, median 46.0, min 43, max 49\n",
      "EvaluatorHoldout: Ignoring 2789 ( 6.7%) Users that have less than 1 test interactions\n",
      "EvaluatorHoldout: Ignoring 39548 Users\n",
      "EvaluatorHoldout: Ignoring 2870 ( 6.9%) Users that have less than 1 test interactions\n",
      "EvaluatorHoldout: Ignoring 39548 Users\n",
      "EvaluatorHoldout: Processed 2061 (100.0%) in 1.23 sec. Users per second: 1673\n",
      "EvaluatorHoldout: Processed 2061 (100.0%) in 1.03 sec. Users per second: 2000\n",
      "EvaluatorHoldout: Processed 2061 (100.0%) in 1.68 sec. Users per second: 1227\n",
      "EvaluatorHoldout: Processed 2061 (100.0%) in 0.99 sec. Users per second: 2074\n",
      "EvaluatorHoldout: Processed 2061 (100.0%) in 1.11 sec. Users per second: 1863\n",
      "EvaluatorHoldout: Processed 2061 (100.0%) in 1.36 sec. Users per second: 1514\n",
      "EvaluatorHoldout: Processed 2061 (100.0%) in 1.27 sec. Users per second: 1622\n",
      "EvaluatorHoldout: Processed 2074 (100.0%) in 0.87 sec. Users per second: 2377\n",
      "Group 17, #users in group 2081, average p.len 53.55, median 53.0, min 49, max 59\n",
      "EvaluatorHoldout: Ignoring 2789 ( 6.7%) Users that have less than 1 test interactions\n",
      "EvaluatorHoldout: Ignoring 39548 Users\n",
      "EvaluatorHoldout: Ignoring 2870 ( 6.9%) Users that have less than 1 test interactions\n",
      "EvaluatorHoldout: Ignoring 39548 Users\n",
      "EvaluatorHoldout: Processed 2070 (100.0%) in 1.31 sec. Users per second: 1583\n",
      "EvaluatorHoldout: Processed 2070 (100.0%) in 1.10 sec. Users per second: 1886\n",
      "EvaluatorHoldout: Processed 2070 (100.0%) in 1.72 sec. Users per second: 1201\n",
      "EvaluatorHoldout: Processed 2070 (100.0%) in 0.99 sec. Users per second: 2091\n",
      "EvaluatorHoldout: Processed 2070 (100.0%) in 1.15 sec. Users per second: 1805\n",
      "EvaluatorHoldout: Processed 2070 (100.0%) in 1.32 sec. Users per second: 1570\n",
      "EvaluatorHoldout: Processed 2070 (100.0%) in 1.30 sec. Users per second: 1595\n",
      "EvaluatorHoldout: Processed 2074 (100.0%) in 0.88 sec. Users per second: 2346\n",
      "Group 18, #users in group 2081, average p.len 66.57, median 66.0, min 59, max 77\n",
      "EvaluatorHoldout: Ignoring 2789 ( 6.7%) Users that have less than 1 test interactions\n",
      "EvaluatorHoldout: Ignoring 39548 Users\n",
      "EvaluatorHoldout: Ignoring 2870 ( 6.9%) Users that have less than 1 test interactions\n",
      "EvaluatorHoldout: Ignoring 39548 Users\n",
      "EvaluatorHoldout: Processed 2075 (100.0%) in 1.32 sec. Users per second: 1575\n",
      "EvaluatorHoldout: Processed 2075 (100.0%) in 1.18 sec. Users per second: 1760\n",
      "EvaluatorHoldout: Processed 2075 (100.0%) in 1.80 sec. Users per second: 1150\n",
      "EvaluatorHoldout: Processed 2075 (100.0%) in 1.01 sec. Users per second: 2054\n",
      "EvaluatorHoldout: Processed 2075 (100.0%) in 1.18 sec. Users per second: 1757\n",
      "EvaluatorHoldout: Processed 2075 (100.0%) in 1.32 sec. Users per second: 1576\n",
      "EvaluatorHoldout: Processed 2075 (100.0%) in 1.28 sec. Users per second: 1619\n",
      "EvaluatorHoldout: Processed 2079 (100.0%) in 0.87 sec. Users per second: 2387\n",
      "Group 19, #users in group 2081, average p.len 119.01, median 100.0, min 77, max 517\n",
      "EvaluatorHoldout: Ignoring 2789 ( 6.7%) Users that have less than 1 test interactions\n",
      "EvaluatorHoldout: Ignoring 39548 Users\n",
      "EvaluatorHoldout: Ignoring 2870 ( 6.9%) Users that have less than 1 test interactions\n",
      "EvaluatorHoldout: Ignoring 39548 Users\n",
      "EvaluatorHoldout: Processed 2081 (100.0%) in 1.31 sec. Users per second: 1591\n",
      "EvaluatorHoldout: Processed 2081 (100.0%) in 1.45 sec. Users per second: 1432\n",
      "EvaluatorHoldout: Processed 2081 (100.0%) in 2.00 sec. Users per second: 1041\n",
      "EvaluatorHoldout: Processed 2081 (100.0%) in 1.09 sec. Users per second: 1906\n",
      "EvaluatorHoldout: Processed 2081 (100.0%) in 1.33 sec. Users per second: 1570\n",
      "EvaluatorHoldout: Processed 2081 (100.0%) in 1.31 sec. Users per second: 1584\n",
      "EvaluatorHoldout: Processed 2081 (100.0%) in 1.29 sec. Users per second: 1614\n",
      "EvaluatorHoldout: Processed 2081 (100.0%) in 0.89 sec. Users per second: 2329\n"
     ]
    }
   ],
   "source": [
    "cutoff = 10\n",
    "\n",
    "for group_id in range(0, 20):\n",
    "    \n",
    "    start_pos = group_id*block_size\n",
    "    end_pos = min((group_id+1)*block_size, len(profile_length))\n",
    "    \n",
    "    users_in_group = sorted_users[start_pos:end_pos]\n",
    "    \n",
    "    users_in_group_p_len = profile_length[users_in_group]\n",
    "    \n",
    "    print(\"Group {}, #users in group {}, average p.len {:.2f}, median {}, min {}, max {}\".format(\n",
    "        group_id, \n",
    "        users_in_group.shape[0],\n",
    "        users_in_group_p_len.mean(),\n",
    "        np.median(users_in_group_p_len),\n",
    "        users_in_group_p_len.min(),\n",
    "        users_in_group_p_len.max()))\n",
    "    \n",
    "    \n",
    "    users_not_in_group_flag = np.isin(sorted_users, users_in_group, invert=True)\n",
    "    users_not_in_group = sorted_users[users_not_in_group_flag]\n",
    "    \n",
    "    evaluator_test = EvaluatorHoldout(URM_validation, cutoff_list=[cutoff], ignore_users=users_not_in_group)\n",
    "    evaluator_power = EvaluatorHoldout(val_powerful, cutoff_list=[cutoff], ignore_users=users_not_in_group)\n",
    "\n",
    "    for label, recommender in recommender_object_dict.items():\n",
    "        if(label == \"SLIMElasticNetRecommender\"):\n",
    "            result_df, _ = evaluator_power.evaluateRecommender(recommender)\n",
    "        else:\n",
    "            result_df, _ = evaluator_test.evaluateRecommender(recommender)\n",
    "        if label in MAP_recommender_per_group:\n",
    "            MAP_recommender_per_group[label].append(result_df.loc[cutoff][\"MAP\"])\n",
    "        else:\n",
    "            MAP_recommender_per_group[label] = [result_df.loc[cutoff][\"MAP\"]]"
   ]
  },
  {
   "cell_type": "code",
   "execution_count": null,
   "metadata": {},
   "outputs": [
    {
     "data": {
      "image/png": "[encoded data removed]",
      "text/plain": [
       "<Figure size 1600x900 with 1 Axes>"
      ]
     },
     "metadata": {},
     "output_type": "display_data"
    }
   ],
   "source": [
    "import matplotlib.pyplot as plt\n",
    "%matplotlib inline  \n",
    "\n",
    "_ = plt.figure(figsize=(16, 9))\n",
    "for label, recommender in recommender_object_dict.items():\n",
    "    results = MAP_recommender_per_group[label]\n",
    "    plt.scatter(x=np.arange(0,len(results)), y=results, label=label)\n",
    "plt.ylabel('MAP')\n",
    "plt.xlabel('User Group')\n",
    "plt.legend()\n",
    "plt.show()"
   ]
  }
 ],
 "metadata": {
  "kernelspec": {
   "display_name": "Python 3.9.15 ('tensorflow')",
   "language": "python",
   "name": "python3"
  },
  "language_info": {
   "codemirror_mode": {
    "name": "ipython",
    "version": 3
   },
   "file_extension": ".py",
   "mimetype": "text/x-python",
   "name": "python",
   "nbconvert_exporter": "python",
   "pygments_lexer": "ipython3",
   "version": "3.9.15"
  },
  "orig_nbformat": 4,
  "vscode": {
   "interpreter": {
    "hash": "924875a864510efb8ec566d64580ebd057fcb8e77e67729a27391833cbf8b66e"
   }
  }
 },
 "nbformat": 4,
 "nbformat_minor": 2
}
