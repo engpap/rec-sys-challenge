{
 "cells": [
  {
   "cell_type": "code",
   "execution_count": 10,
   "metadata": {},
   "outputs": [
    {
     "data": {
      "text/plain": [
       "True"
      ]
     },
     "execution_count": 10,
     "metadata": {},
     "output_type": "execute_result"
    }
   ],
   "source": [
    "import scipy.sparse as sps\n",
    "from Data_manager.split_functions.split_train_validation_random_holdout import split_train_in_two_percentage_global_sample\n",
    "import pandas as pd\n",
    "import numpy as np\n",
    "from pandas.api.types import CategoricalDtype\n",
    "from Evaluation.Evaluator import EvaluatorHoldout\n",
    "from Data_Handler.DataReader import DataReader\n",
    "import scipy.sparse as sps\n",
    "from collections import Counter\n",
    "from tqdm import tqdm\n",
    "# imports for .env usage\n",
    "import os\n",
    "from dotenv import load_dotenv\n",
    "load_dotenv()\n",
    "\n"
   ]
  },
  {
   "cell_type": "code",
   "execution_count": 11,
   "metadata": {},
   "outputs": [
    {
     "name": "stdout",
     "output_type": "stream",
     "text": [
      "Warning: 2806 (6.74 %) of 41629 users have no sampled items\n",
      "Warning: 2922 (7.02 %) of 41634 users have no sampled items\n"
     ]
    }
   ],
   "source": [
    "from Data_Handler.DataReader import DataReader \n",
    "dataReader=DataReader()\n",
    "urm=dataReader.load_augmented_binary_urm()\n",
    "powerful_urm=dataReader.load_powerful_binary_urm()\n",
    "\n",
    "URM_train, URM_validation = split_train_in_two_percentage_global_sample(urm, train_percentage = 0.9)\n",
    "train_powerful, val_powerful = split_train_in_two_percentage_global_sample(powerful_urm, train_percentage = 0.9)\n",
    "#train_pad, val_pad = split_train_in_two_percentage_global_sample(urm_pad, train_percentage = 0.9)"
   ]
  },
  {
   "cell_type": "code",
   "execution_count": 12,
   "metadata": {},
   "outputs": [
    {
     "data": {
      "text/plain": [
       "(array([59, 19, 97, ..., 21, 51, 21], dtype=int32), (41629,))"
      ]
     },
     "execution_count": 12,
     "metadata": {},
     "output_type": "execute_result"
    }
   ],
   "source": [
    "profile_length = np.ediff1d(sps.csr_matrix(URM_train).indptr)\n",
    "profile_length, profile_length.shape"
   ]
  },
  {
   "cell_type": "code",
   "execution_count": 13,
   "metadata": {},
   "outputs": [
    {
     "data": {
      "text/plain": [
       "2081"
      ]
     },
     "execution_count": 13,
     "metadata": {},
     "output_type": "execute_result"
    }
   ],
   "source": [
    "block_size = int(len(profile_length)*0.05)\n",
    "block_size"
   ]
  },
  {
   "cell_type": "code",
   "execution_count": 14,
   "metadata": {},
   "outputs": [
    {
     "data": {
      "text/plain": [
       "array([38965, 38400, 25061, ..., 19407,  8693, 12454])"
      ]
     },
     "execution_count": 14,
     "metadata": {},
     "output_type": "execute_result"
    }
   ],
   "source": [
    "sorted_users = np.argsort(profile_length)\n",
    "sorted_users"
   ]
  },
  {
   "cell_type": "code",
   "execution_count": 15,
   "metadata": {},
   "outputs": [
    {
     "name": "stdout",
     "output_type": "stream",
     "text": [
      "Group 0, #users in group 2081, average p.len 11.41, median 12.0, min 5, max 13\n",
      "Group 1, #users in group 2081, average p.len 14.34, median 14.0, min 13, max 15\n",
      "Group 2, #users in group 2081, average p.len 15.96, median 16.0, min 15, max 17\n",
      "Group 3, #users in group 2081, average p.len 17.37, median 17.0, min 17, max 18\n",
      "Group 4, #users in group 2081, average p.len 18.52, median 19.0, min 18, max 19\n",
      "Group 5, #users in group 2081, average p.len 19.70, median 20.0, min 19, max 20\n",
      "Group 6, #users in group 2081, average p.len 20.92, median 21.0, min 20, max 22\n",
      "Group 7, #users in group 2081, average p.len 22.28, median 22.0, min 22, max 23\n",
      "Group 8, #users in group 2081, average p.len 23.53, median 24.0, min 23, max 24\n",
      "Group 9, #users in group 2081, average p.len 25.02, median 25.0, min 24, max 26\n",
      "Group 10, #users in group 2081, average p.len 26.58, median 27.0, min 26, max 27\n",
      "Group 11, #users in group 2081, average p.len 28.46, median 28.0, min 27, max 29\n",
      "Group 12, #users in group 2081, average p.len 30.61, median 31.0, min 29, max 32\n",
      "Group 13, #users in group 2081, average p.len 33.14, median 33.0, min 32, max 35\n",
      "Group 14, #users in group 2081, average p.len 36.29, median 36.0, min 35, max 38\n",
      "Group 15, #users in group 2081, average p.len 40.31, median 40.0, min 38, max 43\n",
      "Group 16, #users in group 2081, average p.len 45.65, median 45.0, min 43, max 49\n",
      "Group 17, #users in group 2081, average p.len 53.48, median 53.0, min 49, max 59\n",
      "Group 18, #users in group 2081, average p.len 66.55, median 66.0, min 59, max 77\n",
      "Group 19, #users in group 2081, average p.len 119.04, median 100.0, min 77, max 512\n"
     ]
    }
   ],
   "source": [
    "for group_id in range(0, 20):\n",
    "    start_pos = group_id * block_size\n",
    "    end_pos = min((group_id+1) * block_size, len(profile_length))\n",
    "    \n",
    "    users_in_group = sorted_users[start_pos:end_pos]\n",
    "    \n",
    "    users_in_group_p_len = profile_length[users_in_group]\n",
    "    \n",
    "    print(\"Group {}, #users in group {}, average p.len {:.2f}, median {}, min {}, max {}\".format(\n",
    "        group_id, \n",
    "        users_in_group.shape[0],\n",
    "        users_in_group_p_len.mean(),\n",
    "        np.median(users_in_group_p_len),\n",
    "        users_in_group_p_len.min(),\n",
    "        users_in_group_p_len.max()))"
   ]
  },
  {
   "cell_type": "code",
   "execution_count": 16,
   "metadata": {},
   "outputs": [
    {
     "name": "stdout",
     "output_type": "stream",
     "text": [
      "SLIMElasticNetRecommender: URM Detected 338 ( 1.2%) items with no interactions.\n",
      "SLIMElasticNetRecommender: Processed 5579 (19.9%) in 5.00 min. Items per second: 18.59\n",
      "SLIMElasticNetRecommender: Processed 11460 (41.0%) in 10.00 min. Items per second: 19.10\n",
      "SLIMElasticNetRecommender: Processed 17313 (61.9%) in 15.00 min. Items per second: 19.23\n",
      "SLIMElasticNetRecommender: Processed 23106 (82.6%) in 20.00 min. Items per second: 19.25\n",
      "SLIMElasticNetRecommender: Processed 27968 (100.0%) in 24.39 min. Items per second: 19.11\n",
      "Unable to load Cython Compute_Similarity, reverting to Python\n",
      "Similarity column 41629 (100.0%), 582.14 column/sec. Elapsed time 1.19 min\n",
      "Unable to load Cython Compute_Similarity, reverting to Python\n",
      "Similarity column 24507 (100.0%), 634.65 column/sec. Elapsed time 38.62 sec\n",
      "RP3betaRecommender: Similarity column 24507 (100.0%), 1742.74 column/sec. Elapsed time 14.06 sec\n"
     ]
    }
   ],
   "source": [
    "from Recommenders.NonPersonalizedRecommender import TopPop\n",
    "from Recommenders.KNN.UserKNNCFRecommender import UserKNNCFRecommender\n",
    "from Recommenders.KNN.ItemKNNCFRecommender import ItemKNNCFRecommender\n",
    "from Recommenders.SLIM.Cython.SLIM_BPR_Cython import SLIM_BPR_Cython\n",
    "from Recommenders.SLIM.SLIMElasticNetRecommender import SLIMElasticNetRecommender\n",
    "from Recommenders.GraphBased.P3alphaRecommender import P3alphaRecommender\n",
    "from Recommenders.GraphBased.RP3betaRecommender import RP3betaRecommender\n",
    "from Recommenders.MatrixFactorization.Cython.MatrixFactorization_Cython import MatrixFactorization_BPR_Cython, MatrixFactorization_FunkSVD_Cython, MatrixFactorization_AsySVD_Cython\n",
    "from Recommenders.MatrixFactorization.PureSVDRecommender import PureSVDRecommender\n",
    "from Recommenders.MatrixFactorization.IALSRecommender import IALSRecommender\n",
    "from Recommenders.MatrixFactorization.NMFRecommender import NMFRecommender\n",
    "from Recommenders.KNN.ItemKNNCBFRecommender import ItemKNNCBFRecommender\n",
    "from Recommenders.KNN.ItemKNN_CFCBF_Hybrid_Recommender import ItemKNN_CFCBF_Hybrid_Recommender\n",
    "from Recommenders.FactorizationMachines.LightFMRecommender import LightFMItemHybridRecommender\n",
    "\n",
    "MAP_recommender_per_group = {}\n",
    "\n",
    "collaborative_recommender_class = {\n",
    "        \"SLIMElasticNetRecommender\": SLIMElasticNetRecommender,\n",
    "        \"UserKNNCF\": UserKNNCFRecommender,\n",
    "        \"ItemKNNCF\": ItemKNNCFRecommender,\n",
    "        \"RP3beta\": RP3betaRecommender,\n",
    "        \"TopPop\": TopPop,\n",
    "}\n",
    "\n",
    "recommender_object_dict = {}\n",
    "recommended_items_for_each_user = {}\n",
    "\n",
    "for label, recommender_class in collaborative_recommender_class.items():\n",
    "    if(label == \"SLIMElasticNetRecommender\"):\n",
    "        recommender_object = recommender_class(train_powerful)\n",
    "        recommender_object.fit()\n",
    "    else:\n",
    "        recommender_object = recommender_class(URM_train)\n",
    "        recommender_object.fit()\n",
    "    recommender_object_dict[label] = recommender_object\n"
   ]
  },
  {
   "cell_type": "code",
   "execution_count": 17,
   "metadata": {},
   "outputs": [
    {
     "name": "stdout",
     "output_type": "stream",
     "text": [
      "EvaluatorHoldout: Ignoring 2806 ( 6.7%) Users that have less than 1 test interactions\n"
     ]
    }
   ],
   "source": [
    "evaluator=EvaluatorHoldout(URM_validation, cutoff_list=[10])"
   ]
  },
  {
   "cell_type": "code",
   "execution_count": 18,
   "metadata": {},
   "outputs": [
    {
     "name": "stdout",
     "output_type": "stream",
     "text": [
      "Group 0, #users in group 2081, average p.len 11.41, median 12.0, min 5, max 13\n",
      "EvaluatorHoldout: Ignoring 2806 ( 6.7%) Users that have less than 1 test interactions\n",
      "EvaluatorHoldout: Ignoring 39548 Users\n",
      "EvaluatorHoldout: Ignoring 2922 ( 7.0%) Users that have less than 1 test interactions\n",
      "EvaluatorHoldout: Ignoring 39548 Users\n",
      "EvaluatorHoldout: Processed 1551 (100.0%) in 1.48 sec. Users per second: 1051\n",
      "EvaluatorHoldout: Processed 1783 (100.0%) in 1.73 sec. Users per second: 1032\n",
      "EvaluatorHoldout: Processed 1783 (100.0%) in 1.82 sec. Users per second: 979\n",
      "EvaluatorHoldout: Processed 1783 (100.0%) in 1.34 sec. Users per second: 1334\n",
      "EvaluatorHoldout: Processed 1783 (100.0%) in 1.51 sec. Users per second: 1178\n",
      "Group 1, #users in group 2081, average p.len 14.34, median 14.0, min 13, max 15\n",
      "EvaluatorHoldout: Ignoring 2806 ( 6.7%) Users that have less than 1 test interactions\n",
      "EvaluatorHoldout: Ignoring 39548 Users\n",
      "EvaluatorHoldout: Ignoring 2922 ( 7.0%) Users that have less than 1 test interactions\n",
      "EvaluatorHoldout: Ignoring 39548 Users\n",
      "EvaluatorHoldout: Processed 1699 (100.0%) in 1.70 sec. Users per second: 1000\n",
      "EvaluatorHoldout: Processed 1816 (100.0%) in 1.84 sec. Users per second: 989\n",
      "EvaluatorHoldout: Processed 1816 (100.0%) in 1.96 sec. Users per second: 926\n",
      "EvaluatorHoldout: Processed 1816 (100.0%) in 1.41 sec. Users per second: 1286\n",
      "EvaluatorHoldout: Processed 1816 (100.0%) in 1.54 sec. Users per second: 1180\n",
      "Group 2, #users in group 2081, average p.len 15.96, median 16.0, min 15, max 17\n",
      "EvaluatorHoldout: Ignoring 2806 ( 6.7%) Users that have less than 1 test interactions\n",
      "EvaluatorHoldout: Ignoring 39548 Users\n",
      "EvaluatorHoldout: Ignoring 2922 ( 7.0%) Users that have less than 1 test interactions\n",
      "EvaluatorHoldout: Ignoring 39548 Users\n",
      "EvaluatorHoldout: Processed 1756 (100.0%) in 1.72 sec. Users per second: 1021\n",
      "EvaluatorHoldout: Processed 1819 (100.0%) in 1.88 sec. Users per second: 967\n",
      "EvaluatorHoldout: Processed 1819 (100.0%) in 2.02 sec. Users per second: 900\n",
      "EvaluatorHoldout: Processed 1819 (100.0%) in 1.45 sec. Users per second: 1255\n",
      "EvaluatorHoldout: Processed 1819 (100.0%) in 1.56 sec. Users per second: 1169\n",
      "Group 3, #users in group 2081, average p.len 17.37, median 17.0, min 17, max 18\n",
      "EvaluatorHoldout: Ignoring 2806 ( 6.7%) Users that have less than 1 test interactions\n",
      "EvaluatorHoldout: Ignoring 39548 Users\n",
      "EvaluatorHoldout: Ignoring 2922 ( 7.0%) Users that have less than 1 test interactions\n",
      "EvaluatorHoldout: Ignoring 39548 Users\n",
      "EvaluatorHoldout: Processed 1820 (100.0%) in 1.82 sec. Users per second: 1002\n",
      "EvaluatorHoldout: Processed 1823 (100.0%) in 1.90 sec. Users per second: 958\n",
      "EvaluatorHoldout: Processed 1823 (100.0%) in 2.04 sec. Users per second: 892\n",
      "EvaluatorHoldout: Processed 1823 (100.0%) in 1.48 sec. Users per second: 1232\n",
      "EvaluatorHoldout: Processed 1823 (100.0%) in 1.55 sec. Users per second: 1173\n",
      "Group 4, #users in group 2081, average p.len 18.52, median 19.0, min 18, max 19\n",
      "EvaluatorHoldout: Ignoring 2806 ( 6.7%) Users that have less than 1 test interactions\n",
      "EvaluatorHoldout: Ignoring 39548 Users\n",
      "EvaluatorHoldout: Ignoring 2922 ( 7.0%) Users that have less than 1 test interactions\n",
      "EvaluatorHoldout: Ignoring 39548 Users\n",
      "EvaluatorHoldout: Processed 1857 (100.0%) in 1.86 sec. Users per second: 998\n",
      "EvaluatorHoldout: Processed 1867 (100.0%) in 1.94 sec. Users per second: 961\n",
      "EvaluatorHoldout: Processed 1867 (100.0%) in 2.14 sec. Users per second: 871\n",
      "EvaluatorHoldout: Processed 1867 (100.0%) in 1.52 sec. Users per second: 1229\n",
      "EvaluatorHoldout: Processed 1867 (100.0%) in 1.59 sec. Users per second: 1175\n",
      "Group 5, #users in group 2081, average p.len 19.70, median 20.0, min 19, max 20\n",
      "EvaluatorHoldout: Ignoring 2806 ( 6.7%) Users that have less than 1 test interactions\n",
      "EvaluatorHoldout: Ignoring 39548 Users\n",
      "EvaluatorHoldout: Ignoring 2922 ( 7.0%) Users that have less than 1 test interactions\n",
      "EvaluatorHoldout: Ignoring 39548 Users\n",
      "EvaluatorHoldout: Processed 1868 (100.0%) in 1.92 sec. Users per second: 974\n",
      "EvaluatorHoldout: Processed 1852 (100.0%) in 1.95 sec. Users per second: 952\n",
      "EvaluatorHoldout: Processed 1852 (100.0%) in 2.17 sec. Users per second: 855\n",
      "EvaluatorHoldout: Processed 1852 (100.0%) in 1.52 sec. Users per second: 1222\n",
      "EvaluatorHoldout: Processed 1852 (100.0%) in 1.58 sec. Users per second: 1173\n",
      "Group 6, #users in group 2081, average p.len 20.92, median 21.0, min 20, max 22\n",
      "EvaluatorHoldout: Ignoring 2806 ( 6.7%) Users that have less than 1 test interactions\n",
      "EvaluatorHoldout: Ignoring 39548 Users\n",
      "EvaluatorHoldout: Ignoring 2922 ( 7.0%) Users that have less than 1 test interactions\n",
      "EvaluatorHoldout: Ignoring 39548 Users\n",
      "EvaluatorHoldout: Processed 1894 (100.0%) in 1.97 sec. Users per second: 964\n",
      "EvaluatorHoldout: Processed 1891 (100.0%) in 2.00 sec. Users per second: 944\n",
      "EvaluatorHoldout: Processed 1891 (100.0%) in 2.23 sec. Users per second: 848\n",
      "EvaluatorHoldout: Processed 1891 (100.0%) in 1.54 sec. Users per second: 1227\n",
      "EvaluatorHoldout: Processed 1891 (100.0%) in 1.57 sec. Users per second: 1206\n",
      "Group 7, #users in group 2081, average p.len 22.28, median 22.0, min 22, max 23\n",
      "EvaluatorHoldout: Ignoring 2806 ( 6.7%) Users that have less than 1 test interactions\n",
      "EvaluatorHoldout: Ignoring 39548 Users\n",
      "EvaluatorHoldout: Ignoring 2922 ( 7.0%) Users that have less than 1 test interactions\n",
      "EvaluatorHoldout: Ignoring 39548 Users\n",
      "EvaluatorHoldout: Processed 1913 (100.0%) in 1.98 sec. Users per second: 966\n",
      "EvaluatorHoldout: Processed 1887 (100.0%) in 1.98 sec. Users per second: 955\n",
      "EvaluatorHoldout: Processed 1887 (100.0%) in 2.24 sec. Users per second: 841\n",
      "EvaluatorHoldout: Processed 1887 (100.0%) in 1.54 sec. Users per second: 1223\n",
      "EvaluatorHoldout: Processed 1887 (100.0%) in 1.58 sec. Users per second: 1197\n",
      "Group 8, #users in group 2081, average p.len 23.53, median 24.0, min 23, max 24\n",
      "EvaluatorHoldout: Ignoring 2806 ( 6.7%) Users that have less than 1 test interactions\n",
      "EvaluatorHoldout: Ignoring 39548 Users\n",
      "EvaluatorHoldout: Ignoring 2922 ( 7.0%) Users that have less than 1 test interactions\n",
      "EvaluatorHoldout: Ignoring 39548 Users\n",
      "EvaluatorHoldout: Processed 1959 (100.0%) in 2.06 sec. Users per second: 953\n",
      "EvaluatorHoldout: Processed 1892 (100.0%) in 2.02 sec. Users per second: 937\n",
      "EvaluatorHoldout: Processed 1892 (100.0%) in 2.25 sec. Users per second: 842\n",
      "EvaluatorHoldout: Processed 1892 (100.0%) in 1.55 sec. Users per second: 1219\n",
      "EvaluatorHoldout: Processed 1892 (100.0%) in 1.56 sec. Users per second: 1211\n",
      "Group 9, #users in group 2081, average p.len 25.02, median 25.0, min 24, max 26\n",
      "EvaluatorHoldout: Ignoring 2806 ( 6.7%) Users that have less than 1 test interactions\n",
      "EvaluatorHoldout: Ignoring 39548 Users\n",
      "EvaluatorHoldout: Ignoring 2922 ( 7.0%) Users that have less than 1 test interactions\n",
      "EvaluatorHoldout: Ignoring 39548 Users\n",
      "EvaluatorHoldout: Processed 1973 (100.0%) in 2.10 sec. Users per second: 937\n",
      "EvaluatorHoldout: Processed 1930 (100.0%) in 2.08 sec. Users per second: 927\n",
      "EvaluatorHoldout: Processed 1930 (100.0%) in 2.35 sec. Users per second: 821\n",
      "EvaluatorHoldout: Processed 1930 (100.0%) in 1.61 sec. Users per second: 1199\n",
      "EvaluatorHoldout: Processed 1930 (100.0%) in 1.60 sec. Users per second: 1208\n",
      "Group 10, #users in group 2081, average p.len 26.58, median 27.0, min 26, max 27\n",
      "EvaluatorHoldout: Ignoring 2806 ( 6.7%) Users that have less than 1 test interactions\n",
      "EvaluatorHoldout: Ignoring 39548 Users\n",
      "EvaluatorHoldout: Ignoring 2922 ( 7.0%) Users that have less than 1 test interactions\n",
      "EvaluatorHoldout: Ignoring 39548 Users\n",
      "EvaluatorHoldout: Processed 1973 (100.0%) in 2.18 sec. Users per second: 907\n",
      "EvaluatorHoldout: Processed 1934 (100.0%) in 2.18 sec. Users per second: 886\n",
      "EvaluatorHoldout: Processed 1934 (100.0%) in 2.41 sec. Users per second: 804\n",
      "EvaluatorHoldout: Processed 1934 (100.0%) in 1.62 sec. Users per second: 1196\n",
      "EvaluatorHoldout: Processed 1934 (100.0%) in 1.59 sec. Users per second: 1218\n",
      "Group 11, #users in group 2081, average p.len 28.46, median 28.0, min 27, max 29\n",
      "EvaluatorHoldout: Ignoring 2806 ( 6.7%) Users that have less than 1 test interactions\n",
      "EvaluatorHoldout: Ignoring 39548 Users\n",
      "EvaluatorHoldout: Ignoring 2922 ( 7.0%) Users that have less than 1 test interactions\n",
      "EvaluatorHoldout: Ignoring 39548 Users\n",
      "EvaluatorHoldout: Processed 2014 (100.0%) in 2.27 sec. Users per second: 887\n",
      "EvaluatorHoldout: Processed 1957 (100.0%) in 2.27 sec. Users per second: 861\n",
      "EvaluatorHoldout: Processed 1957 (100.0%) in 2.47 sec. Users per second: 792\n",
      "EvaluatorHoldout: Processed 1957 (100.0%) in 1.67 sec. Users per second: 1172\n",
      "EvaluatorHoldout: Processed 1957 (100.0%) in 1.58 sec. Users per second: 1238\n",
      "Group 12, #users in group 2081, average p.len 30.61, median 31.0, min 29, max 32\n",
      "EvaluatorHoldout: Ignoring 2806 ( 6.7%) Users that have less than 1 test interactions\n",
      "EvaluatorHoldout: Ignoring 39548 Users\n",
      "EvaluatorHoldout: Ignoring 2922 ( 7.0%) Users that have less than 1 test interactions\n",
      "EvaluatorHoldout: Ignoring 39548 Users\n",
      "EvaluatorHoldout: Processed 2026 (100.0%) in 2.35 sec. Users per second: 863\n",
      "EvaluatorHoldout: Processed 1985 (100.0%) in 2.38 sec. Users per second: 832\n",
      "EvaluatorHoldout: Processed 1985 (100.0%) in 2.55 sec. Users per second: 779\n",
      "EvaluatorHoldout: Processed 1985 (100.0%) in 1.71 sec. Users per second: 1164\n",
      "EvaluatorHoldout: Processed 1985 (100.0%) in 1.62 sec. Users per second: 1226\n",
      "Group 13, #users in group 2081, average p.len 33.14, median 33.0, min 32, max 35\n",
      "EvaluatorHoldout: Ignoring 2806 ( 6.7%) Users that have less than 1 test interactions\n",
      "EvaluatorHoldout: Ignoring 39548 Users\n",
      "EvaluatorHoldout: Ignoring 2922 ( 7.0%) Users that have less than 1 test interactions\n",
      "EvaluatorHoldout: Ignoring 39548 Users\n",
      "EvaluatorHoldout: Processed 2036 (100.0%) in 2.39 sec. Users per second: 851\n",
      "EvaluatorHoldout: Processed 2008 (100.0%) in 2.53 sec. Users per second: 793\n",
      "EvaluatorHoldout: Processed 2008 (100.0%) in 2.59 sec. Users per second: 776\n",
      "EvaluatorHoldout: Processed 2008 (100.0%) in 1.74 sec. Users per second: 1154\n",
      "EvaluatorHoldout: Processed 2008 (100.0%) in 1.61 sec. Users per second: 1244\n",
      "Group 14, #users in group 2081, average p.len 36.29, median 36.0, min 35, max 38\n",
      "EvaluatorHoldout: Ignoring 2806 ( 6.7%) Users that have less than 1 test interactions\n",
      "EvaluatorHoldout: Ignoring 39548 Users\n",
      "EvaluatorHoldout: Ignoring 2922 ( 7.0%) Users that have less than 1 test interactions\n",
      "EvaluatorHoldout: Ignoring 39548 Users\n",
      "EvaluatorHoldout: Processed 2051 (100.0%) in 2.50 sec. Users per second: 819\n",
      "EvaluatorHoldout: Processed 2033 (100.0%) in 2.62 sec. Users per second: 777\n",
      "EvaluatorHoldout: Processed 2033 (100.0%) in 2.72 sec. Users per second: 748\n",
      "EvaluatorHoldout: Processed 2033 (100.0%) in 1.79 sec. Users per second: 1136\n",
      "EvaluatorHoldout: Processed 2033 (100.0%) in 1.64 sec. Users per second: 1236\n",
      "Group 15, #users in group 2081, average p.len 40.31, median 40.0, min 38, max 43\n",
      "EvaluatorHoldout: Ignoring 2806 ( 6.7%) Users that have less than 1 test interactions\n",
      "EvaluatorHoldout: Ignoring 39548 Users\n",
      "EvaluatorHoldout: Ignoring 2922 ( 7.0%) Users that have less than 1 test interactions\n",
      "EvaluatorHoldout: Ignoring 39548 Users\n",
      "EvaluatorHoldout: Processed 2065 (100.0%) in 2.60 sec. Users per second: 793\n",
      "EvaluatorHoldout: Processed 2043 (100.0%) in 2.80 sec. Users per second: 728\n",
      "EvaluatorHoldout: Processed 2043 (100.0%) in 2.80 sec. Users per second: 729\n",
      "EvaluatorHoldout: Processed 2043 (100.0%) in 1.84 sec. Users per second: 1111\n",
      "EvaluatorHoldout: Processed 2043 (100.0%) in 1.63 sec. Users per second: 1253\n",
      "Group 16, #users in group 2081, average p.len 45.65, median 45.0, min 43, max 49\n",
      "EvaluatorHoldout: Ignoring 2806 ( 6.7%) Users that have less than 1 test interactions\n",
      "EvaluatorHoldout: Ignoring 39548 Users\n",
      "EvaluatorHoldout: Ignoring 2922 ( 7.0%) Users that have less than 1 test interactions\n",
      "EvaluatorHoldout: Ignoring 39548 Users\n",
      "EvaluatorHoldout: Processed 2074 (100.0%) in 2.70 sec. Users per second: 769\n",
      "EvaluatorHoldout: Processed 2059 (100.0%) in 2.95 sec. Users per second: 698\n",
      "EvaluatorHoldout: Processed 2059 (100.0%) in 2.93 sec. Users per second: 704\n",
      "EvaluatorHoldout: Processed 2059 (100.0%) in 1.90 sec. Users per second: 1083\n",
      "EvaluatorHoldout: Processed 2059 (100.0%) in 1.68 sec. Users per second: 1224\n",
      "Group 17, #users in group 2081, average p.len 53.48, median 53.0, min 49, max 59\n",
      "EvaluatorHoldout: Ignoring 2806 ( 6.7%) Users that have less than 1 test interactions\n",
      "EvaluatorHoldout: Ignoring 39548 Users\n",
      "EvaluatorHoldout: Ignoring 2922 ( 7.0%) Users that have less than 1 test interactions\n",
      "EvaluatorHoldout: Ignoring 39548 Users\n",
      "EvaluatorHoldout: Processed 2080 (100.0%) in 2.84 sec. Users per second: 734\n",
      "EvaluatorHoldout: Processed 2074 (100.0%) in 3.15 sec. Users per second: 659\n",
      "EvaluatorHoldout: Processed 2074 (100.0%) in 3.12 sec. Users per second: 665\n",
      "EvaluatorHoldout: Processed 2074 (100.0%) in 2.00 sec. Users per second: 1036\n",
      "EvaluatorHoldout: Processed 2074 (100.0%) in 1.70 sec. Users per second: 1221\n",
      "Group 18, #users in group 2081, average p.len 66.55, median 66.0, min 59, max 77\n",
      "EvaluatorHoldout: Ignoring 2806 ( 6.7%) Users that have less than 1 test interactions\n",
      "EvaluatorHoldout: Ignoring 39548 Users\n",
      "EvaluatorHoldout: Ignoring 2922 ( 7.0%) Users that have less than 1 test interactions\n",
      "EvaluatorHoldout: Ignoring 39548 Users\n",
      "EvaluatorHoldout: Processed 2085 (100.0%) in 2.96 sec. Users per second: 705\n",
      "EvaluatorHoldout: Processed 2080 (100.0%) in 3.39 sec. Users per second: 613\n",
      "EvaluatorHoldout: Processed 2080 (100.0%) in 3.30 sec. Users per second: 630\n",
      "EvaluatorHoldout: Processed 2080 (100.0%) in 2.10 sec. Users per second: 992\n",
      "EvaluatorHoldout: Processed 2080 (100.0%) in 1.69 sec. Users per second: 1233\n",
      "Group 19, #users in group 2081, average p.len 119.04, median 100.0, min 77, max 512\n",
      "EvaluatorHoldout: Ignoring 2806 ( 6.7%) Users that have less than 1 test interactions\n",
      "EvaluatorHoldout: Ignoring 39548 Users\n",
      "EvaluatorHoldout: Ignoring 2922 ( 7.0%) Users that have less than 1 test interactions\n",
      "EvaluatorHoldout: Ignoring 39548 Users\n",
      "EvaluatorHoldout: Processed 2085 (100.0%) in 3.30 sec. Users per second: 632\n",
      "EvaluatorHoldout: Processed 2081 (100.0%) in 3.64 sec. Users per second: 572\n",
      "EvaluatorHoldout: Processed 2081 (100.0%) in 4.00 sec. Users per second: 520\n",
      "EvaluatorHoldout: Processed 2081 (100.0%) in 2.49 sec. Users per second: 836\n",
      "EvaluatorHoldout: Processed 2081 (100.0%) in 1.76 sec. Users per second: 1182\n"
     ]
    }
   ],
   "source": [
    "from evaluator import evaluate\n",
    "cutoff = 10\n",
    "\n",
    "for group_id in range(0, 20):\n",
    "    \n",
    "    start_pos = group_id*block_size\n",
    "    end_pos = min((group_id+1)*block_size, len(profile_length))\n",
    "    \n",
    "    users_in_group = sorted_users[start_pos:end_pos]\n",
    "    \n",
    "    users_in_group_p_len = profile_length[users_in_group]\n",
    "    \n",
    "    print(\"Group {}, #users in group {}, average p.len {:.2f}, median {}, min {}, max {}\".format(\n",
    "        group_id, \n",
    "        users_in_group.shape[0],\n",
    "        users_in_group_p_len.mean(),\n",
    "        np.median(users_in_group_p_len),\n",
    "        users_in_group_p_len.min(),\n",
    "        users_in_group_p_len.max()))\n",
    "    \n",
    "    \n",
    "    users_not_in_group_flag = np.isin(sorted_users, users_in_group, invert=True)\n",
    "    users_not_in_group = sorted_users[users_not_in_group_flag]\n",
    "    \n",
    "    evaluator_test = EvaluatorHoldout(URM_validation, cutoff_list=[cutoff], ignore_users=users_not_in_group)\n",
    "    evaluator_power = EvaluatorHoldout(val_powerful, cutoff_list=[cutoff], ignore_users=users_not_in_group)\n",
    "    #evaluator_pad = EvaluatorHoldout(val_pad, cutoff_list=[cutoff], ignore_users=users_not_in_group)\n",
    "\n",
    "    for label, recommender in recommender_object_dict.items():\n",
    "        if(label == \"SLIMElasticNetRecommender\"):\n",
    "            #map=evaluate(recommended_items_for_each_user,val_powerful,target)\n",
    "            result_df, _ = evaluator_power.evaluateRecommender(recommender)\n",
    "        \n",
    "        else:\n",
    "            #map=evaluate(recommended_items_for_each_user,URM_validation,target)\n",
    "            result_df, _ = evaluator_test.evaluateRecommender(recommender)\n",
    "        if label in MAP_recommender_per_group:\n",
    "            MAP_recommender_per_group[label].append(result_df.loc[cutoff][\"MAP\"])\n",
    "            #MAP_recommender_per_group[label].append(map)\n",
    "        else:\n",
    "            MAP_recommender_per_group[label] = [result_df.loc[cutoff][\"MAP\"]]\n",
    "            #MAP_recommender_per_group[label] = [map]\n"
   ]
  },
  {
   "cell_type": "code",
   "execution_count": 19,
   "metadata": {},
   "outputs": [
    {
     "data": {
      "image/png": "[encoded data removed]",
      "text/plain": [
       "<Figure size 1600x900 with 1 Axes>"
      ]
     },
     "metadata": {},
     "output_type": "display_data"
    }
   ],
   "source": [
    "import matplotlib.pyplot as plt\n",
    "%matplotlib inline  \n",
    "\n",
    "_ = plt.figure(figsize=(16, 9))\n",
    "for label, recommender in recommender_object_dict.items():\n",
    "    results = MAP_recommender_per_group[label]\n",
    "    plt.scatter(x=np.arange(0,len(results)), y=results, label=label)\n",
    "plt.ylabel('MAP')\n",
    "plt.xlabel('User Group')\n",
    "plt.legend()\n",
    "plt.show()"
   ]
  }
 ],
 "metadata": {
  "kernelspec": {
   "display_name": "Python 3.9.15 ('tensorflow')",
   "language": "python",
   "name": "python3"
  },
  "language_info": {
   "codemirror_mode": {
    "name": "ipython",
    "version": 3
   },
   "file_extension": ".py",
   "mimetype": "text/x-python",
   "name": "python",
   "nbconvert_exporter": "python",
   "pygments_lexer": "ipython3",
   "version": "3.9.15"
  },
  "orig_nbformat": 4,
  "vscode": {
   "interpreter": {
    "hash": "924875a864510efb8ec566d64580ebd057fcb8e77e67729a27391833cbf8b66e"
   }
  }
 },
 "nbformat": 4,
 "nbformat_minor": 2
}
