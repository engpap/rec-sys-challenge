{
 "cells": [
  {
   "cell_type": "code",
   "execution_count": 10,
   "metadata": {},
   "outputs": [
    {
     "data": {
      "text/plain": [
       "True"
      ]
     },
     "execution_count": 10,
     "metadata": {},
     "output_type": "execute_result"
    }
   ],
   "source": [
    "import scipy.sparse as sps\n",
    "from Data_manager.split_functions.split_train_validation_random_holdout import split_train_in_two_percentage_global_sample\n",
    "import pandas as pd\n",
    "import numpy as np\n",
    "from pandas.api.types import CategoricalDtype\n",
    "from Evaluation.Evaluator import EvaluatorHoldout\n",
    "from Data_Handler.DataReader import DataReader\n",
    "import scipy.sparse as sps\n",
    "from collections import Counter\n",
    "from tqdm import tqdm\n",
    "# imports for .env usage\n",
    "import os\n",
    "from dotenv import load_dotenv\n",
    "load_dotenv()\n",
    "\n"
   ]
  },
  {
   "cell_type": "code",
   "execution_count": 11,
   "metadata": {},
   "outputs": [
    {
     "name": "stdout",
     "output_type": "stream",
     "text": [
      "Making augmented URM and ICM of the same shape...\n",
      "Warning: 2812 (6.75 %) of 41629 users have no sampled items\n"
     ]
    }
   ],
   "source": [
    "from Data_Handler.DataReader import DataReader \n",
    "dataReader=DataReader()\n",
    "'''urm=dataReader.load_augmented_binary_urm()\n",
    "powerful_urm=dataReader.load_powerful_binary_urm()\n",
    "URM_pad,icm = dataReader.pad_with_zeros_ICMandURM(urm)\n",
    "URM_train, URM_validation = split_train_in_two_percentage_global_sample(urm, train_percentage = 0.9)\n",
    "train_powerful, val_powerful = split_train_in_two_percentage_global_sample(powerful_urm, train_percentage = 0.9)\n",
    "train_pad, val_pad = split_train_in_two_percentage_global_sample(URM_pad, train_percentage = 0.9)'''\n",
    "\n",
    "URM = dataReader.load_augmented_binary_urm()\n",
    "URM_aug,ICM = dataReader.pad_with_zeros_ICMandURM(URM)\n",
    "\n",
    "URM_train_aug, URM_validation = split_train_in_two_percentage_global_sample(URM_aug, train_percentage = 0.9)\n",
    "URM_train_pow = dataReader.stackMatrixes(URM_train_aug)\n",
    "UCM = dataReader.load_aug_ucm()\n"
   ]
  },
  {
   "cell_type": "code",
   "execution_count": 12,
   "metadata": {},
   "outputs": [
    {
     "data": {
      "text/plain": [
       "(array([60, 18, 93, ..., 20, 46, 20], dtype=int32), (41629,))"
      ]
     },
     "execution_count": 12,
     "metadata": {},
     "output_type": "execute_result"
    }
   ],
   "source": [
    "profile_length = np.ediff1d(sps.csr_matrix(URM_train_aug).indptr)\n",
    "profile_length, profile_length.shape"
   ]
  },
  {
   "cell_type": "code",
   "execution_count": 13,
   "metadata": {},
   "outputs": [
    {
     "data": {
      "text/plain": [
       "2081"
      ]
     },
     "execution_count": 13,
     "metadata": {},
     "output_type": "execute_result"
    }
   ],
   "source": [
    "block_size = int(len(profile_length)*0.05)\n",
    "block_size"
   ]
  },
  {
   "cell_type": "code",
   "execution_count": 14,
   "metadata": {},
   "outputs": [
    {
     "data": {
      "text/plain": [
       "array([37420, 38400, 39474, ..., 19407,  8693, 12454], dtype=int64)"
      ]
     },
     "execution_count": 14,
     "metadata": {},
     "output_type": "execute_result"
    }
   ],
   "source": [
    "sorted_users = np.argsort(profile_length)\n",
    "sorted_users"
   ]
  },
  {
   "cell_type": "code",
   "execution_count": 15,
   "metadata": {},
   "outputs": [
    {
     "name": "stdout",
     "output_type": "stream",
     "text": [
      "Group 0, #users in group 2081, average p.len 11.41, median 12.0, min 4, max 13\n",
      "Group 1, #users in group 2081, average p.len 14.32, median 14.0, min 13, max 15\n",
      "Group 2, #users in group 2081, average p.len 15.90, median 16.0, min 15, max 17\n",
      "Group 3, #users in group 2081, average p.len 17.38, median 17.0, min 17, max 18\n",
      "Group 4, #users in group 2081, average p.len 18.57, median 19.0, min 18, max 19\n",
      "Group 5, #users in group 2081, average p.len 19.73, median 20.0, min 19, max 20\n",
      "Group 6, #users in group 2081, average p.len 20.97, median 21.0, min 20, max 22\n",
      "Group 7, #users in group 2081, average p.len 22.28, median 22.0, min 22, max 23\n",
      "Group 8, #users in group 2081, average p.len 23.53, median 24.0, min 23, max 24\n",
      "Group 9, #users in group 2081, average p.len 25.00, median 25.0, min 24, max 26\n",
      "Group 10, #users in group 2081, average p.len 26.56, median 27.0, min 26, max 27\n",
      "Group 11, #users in group 2081, average p.len 28.46, median 28.0, min 27, max 29\n",
      "Group 12, #users in group 2081, average p.len 30.59, median 31.0, min 29, max 32\n",
      "Group 13, #users in group 2081, average p.len 33.16, median 33.0, min 32, max 35\n",
      "Group 14, #users in group 2081, average p.len 36.29, median 36.0, min 35, max 38\n",
      "Group 15, #users in group 2081, average p.len 40.33, median 40.0, min 38, max 43\n",
      "Group 16, #users in group 2081, average p.len 45.72, median 46.0, min 43, max 49\n",
      "Group 17, #users in group 2081, average p.len 53.50, median 53.0, min 49, max 59\n",
      "Group 18, #users in group 2081, average p.len 66.48, median 66.0, min 59, max 77\n",
      "Group 19, #users in group 2081, average p.len 118.96, median 100.0, min 77, max 516\n"
     ]
    }
   ],
   "source": [
    "for group_id in range(0, 20):\n",
    "    start_pos = group_id * block_size\n",
    "    end_pos = min((group_id+1) * block_size, len(profile_length))\n",
    "    \n",
    "    users_in_group = sorted_users[start_pos:end_pos]\n",
    "    \n",
    "    users_in_group_p_len = profile_length[users_in_group]\n",
    "    \n",
    "    print(\"Group {}, #users in group {}, average p.len {:.2f}, median {}, min {}, max {}\".format(\n",
    "        group_id, \n",
    "        users_in_group.shape[0],\n",
    "        users_in_group_p_len.mean(),\n",
    "        np.median(users_in_group_p_len),\n",
    "        users_in_group_p_len.min(),\n",
    "        users_in_group_p_len.max()))"
   ]
  },
  {
   "cell_type": "code",
   "execution_count": 16,
   "metadata": {},
   "outputs": [
    {
     "name": "stdout",
     "output_type": "stream",
     "text": [
      "Similarity column 27968 (100.0%), 2771.51 column/sec. Elapsed time 10.09 sec\n",
      "RP3betaRecommender: Similarity column 27968 (100.0%), 1032.17 column/sec. Elapsed time 27.10 sec\n",
      "UserKNNCFRecommender: URM Detected 3461 (12.4%) items with no interactions.\n",
      "Similarity column 41629 (100.0%), 1620.41 column/sec. Elapsed time 25.69 sec\n",
      "RP3betaRecommender: URM Detected 3461 (12.4%) items with no interactions.\n",
      "RP3betaRecommender: Similarity column 27968 (100.0%), 2553.67 column/sec. Elapsed time 10.95 sec\n",
      "SLIMElasticNetRecommender: Processed 2543 ( 9.1%) in 5.00 min. Items per second: 8.47\n",
      "SLIMElasticNetRecommender: Processed 5272 (18.9%) in 10.00 min. Items per second: 8.78\n",
      "SLIMElasticNetRecommender: Processed 7980 (28.5%) in 15.00 min. Items per second: 8.86\n",
      "SLIMElasticNetRecommender: Processed 10793 (38.6%) in 20.00 min. Items per second: 8.99\n",
      "SLIMElasticNetRecommender: Processed 13581 (48.6%) in 25.00 min. Items per second: 9.05\n",
      "SLIMElasticNetRecommender: Processed 16397 (58.6%) in 30.01 min. Items per second: 9.11\n",
      "SLIMElasticNetRecommender: Processed 19195 (68.6%) in 35.01 min. Items per second: 9.14\n",
      "SLIMElasticNetRecommender: Processed 22015 (78.7%) in 40.01 min. Items per second: 9.17\n",
      "SLIMElasticNetRecommender: Processed 25122 (89.8%) in 45.01 min. Items per second: 9.30\n",
      "SLIMElasticNetRecommender: Processed 27968 (100.0%) in 46.58 min. Items per second: 10.01\n",
      "EASE_R_Recommender: URM Detected 3461 (12.4%) items with no interactions.\n",
      "EASE_R_Recommender: Fitting model... \n"
     ]
    },
    {
     "name": "stderr",
     "output_type": "stream",
     "text": [
      "c:\\rec-sys-challenge\\Recommenders\\EASE_R\\EASE_R_Recommender.py:73: RuntimeWarning: invalid value encountered in divide\n",
      "  B = P / (-np.diag(P))\n"
     ]
    },
    {
     "name": "stdout",
     "output_type": "stream",
     "text": [
      "EASE_R_Recommender: Fitting model... done in 1.20 min\n"
     ]
    }
   ],
   "source": [
    "from Recommenders.KNN.UserKNNCFRecommender import UserKNNCFRecommender\n",
    "from Recommenders.KNN.ItemKNNCFRecommender import ItemKNNCFRecommender\n",
    "from Recommenders.GraphBased.RP3betaRecommender import RP3betaRecommender\n",
    "from Recommenders.KNN.ItemKNNCBFRecommender import ItemKNNCBFRecommender\n",
    "from Recommenders.EASE_R.EASE_R_Recommender import EASE_R_Recommender\n",
    "from Recommenders.SLIM.SLIMElasticNetRecommender import SLIMElasticNetRecommender\n",
    "from Recommenders.KNN.UserKNN_CFCBF_Hybrid_Recommender import UserKNN_CFCBF_Hybrid_Recommender\n",
    "from hybrid import *\n",
    "from Recommenders.SLIM.SLIMElasticNetRecommender import *\n",
    "from Recommenders.KNN.ItemKNN_CFCBF_Hybrid_Recommender import ItemKNN_CFCBF_Hybrid_Recommender\n",
    "\n",
    "from Recommenders.FactorizationMachines.LightFMRecommender import LightFMItemHybridRecommender\n",
    "\n",
    "MAP_recommender_per_group = {}\n",
    "\n",
    "ItemKNNCF = ItemKNNCFRecommender(URM_train_pow)\n",
    "ItemKNNCF.fit()\n",
    "\n",
    "RP3beta_pow = RP3betaRecommender(URM_train_pow)\n",
    "RP3beta_pow.fit(alpha=0.3648761546066018,beta=0.5058870363874656, topK=480, normalize_similarity=True)\n",
    "\n",
    "UserKNNCF = UserKNNCFRecommender(URM_train_aug)\n",
    "UserKNNCF.fit()\n",
    "\n",
    "RP3beta_aug = RP3betaRecommender(URM_train_aug)\n",
    "RP3beta_aug.fit(alpha=0.6951524535062256,beta=0.39985511876562174, topK=82, normalize_similarity=True)\n",
    "\n",
    "S_SLIM = SLIMElasticNetRecommender(URM_train_pow)\n",
    "S_SLIM.fit()\n",
    "\n",
    "EASE_R = EASE_R_Recommender(URM_train_aug)\n",
    "EASE_R.fit()\n",
    "\n",
    "_ItemKNN_CFCBF_Hybrid_Recommender = ItemKNN_CFCBF_Hybrid_Recommender(URM_train_aug,ICM)\n",
    "_ItemKNN_CFCBF_Hybrid_Recommender.fit(0.011278462705558101,topK=661,shrink=36)\n",
    "\n",
    "_UserKNN_CFCBF_Hybrid_Recommender = UserKNN_CFCBF_Hybrid_Recommender(URM_train_aug,UCM)\n",
    "_UserKNN_CFCBF_Hybrid_Recommender.fit(0.01,topK=669,shrink=50)"
   ]
  },
  {
   "cell_type": "code",
   "execution_count": 17,
   "metadata": {},
   "outputs": [
    {
     "name": "stdout",
     "output_type": "stream",
     "text": [
      "SLIMElasticNetRecommender: Processed 2448 ( 8.8%) in 5.00 min. Items per second: 8.15\n",
      "SLIMElasticNetRecommender: Processed 5074 (18.1%) in 10.00 min. Items per second: 8.45\n",
      "SLIMElasticNetRecommender: Processed 7793 (27.9%) in 15.00 min. Items per second: 8.66\n",
      "SLIMElasticNetRecommender: Processed 10501 (37.5%) in 20.00 min. Items per second: 8.75\n",
      "SLIMElasticNetRecommender: Processed 13250 (47.4%) in 25.00 min. Items per second: 8.83\n",
      "SLIMElasticNetRecommender: Processed 15977 (57.1%) in 30.00 min. Items per second: 8.87\n",
      "SLIMElasticNetRecommender: Processed 18735 (67.0%) in 35.01 min. Items per second: 8.92\n",
      "SLIMElasticNetRecommender: Processed 21459 (76.7%) in 40.01 min. Items per second: 8.94\n",
      "SLIMElasticNetRecommender: Processed 24219 (86.6%) in 45.01 min. Items per second: 8.97\n",
      "SLIMElasticNetRecommender: Processed 27968 (100.0%) in 47.44 min. Items per second: 9.82\n",
      "RP3betaRecommender: URM Detected 3461 (12.4%) items with no interactions.\n",
      "RP3betaRecommender: Similarity column 27968 (100.0%), 2599.44 column/sec. Elapsed time 10.76 sec\n",
      "RP3betaRecommender: Similarity column 27968 (100.0%), 1822.76 column/sec. Elapsed time 15.34 sec\n",
      "EASE_R_Recommender: URM Detected 3461 (12.4%) items with no interactions.\n",
      "EASE_R_Recommender: Fitting model... \n"
     ]
    },
    {
     "ename": "MemoryError",
     "evalue": "Unable to allocate 5.83 GiB for an array with shape (27968, 27968) and data type float64",
     "output_type": "error",
     "traceback": [
      "\u001b[1;31m---------------------------------------------------------------------------\u001b[0m",
      "\u001b[1;31mMemoryError\u001b[0m                               Traceback (most recent call last)",
      "Cell \u001b[1;32mIn [17], line 56\u001b[0m\n\u001b[0;32m     54\u001b[0m \u001b[39melse\u001b[39;00m:\n\u001b[0;32m     55\u001b[0m     recommender_object \u001b[39m=\u001b[39m recommender_class(URM_train_aug)\n\u001b[1;32m---> 56\u001b[0m     recommender_object\u001b[39m.\u001b[39;49mfit()\n\u001b[0;32m     57\u001b[0m recommender_object_dict[label] \u001b[39m=\u001b[39m recommender_object\n",
      "File \u001b[1;32mc:\\rec-sys-challenge\\Recommenders\\EASE_R\\EASE_R_Recommender.py:71\u001b[0m, in \u001b[0;36mEASE_R_Recommender.fit\u001b[1;34m(self, topK, l2_norm, normalize_matrix)\u001b[0m\n\u001b[0;32m     68\u001b[0m diag_indices \u001b[39m=\u001b[39m np\u001b[39m.\u001b[39mdiag_indices(grahm_matrix\u001b[39m.\u001b[39mshape[\u001b[39m0\u001b[39m])\n\u001b[0;32m     69\u001b[0m grahm_matrix[diag_indices] \u001b[39m+\u001b[39m\u001b[39m=\u001b[39m l2_norm\n\u001b[1;32m---> 71\u001b[0m P \u001b[39m=\u001b[39m np\u001b[39m.\u001b[39;49mlinalg\u001b[39m.\u001b[39;49minv(grahm_matrix)\n\u001b[0;32m     73\u001b[0m B \u001b[39m=\u001b[39m P \u001b[39m/\u001b[39m (\u001b[39m-\u001b[39mnp\u001b[39m.\u001b[39mdiag(P))\n\u001b[0;32m     75\u001b[0m B[diag_indices] \u001b[39m=\u001b[39m \u001b[39m0.0\u001b[39m\n",
      "File \u001b[1;32m<__array_function__ internals>:180\u001b[0m, in \u001b[0;36minv\u001b[1;34m(*args, **kwargs)\u001b[0m\n",
      "File \u001b[1;32mc:\\Users\\andre\\AppData\\Local\\Programs\\Python\\Python310\\lib\\site-packages\\numpy\\linalg\\linalg.py:552\u001b[0m, in \u001b[0;36minv\u001b[1;34m(a)\u001b[0m\n\u001b[0;32m    550\u001b[0m signature \u001b[39m=\u001b[39m \u001b[39m'\u001b[39m\u001b[39mD->D\u001b[39m\u001b[39m'\u001b[39m \u001b[39mif\u001b[39;00m isComplexType(t) \u001b[39melse\u001b[39;00m \u001b[39m'\u001b[39m\u001b[39md->d\u001b[39m\u001b[39m'\u001b[39m\n\u001b[0;32m    551\u001b[0m extobj \u001b[39m=\u001b[39m get_linalg_error_extobj(_raise_linalgerror_singular)\n\u001b[1;32m--> 552\u001b[0m ainv \u001b[39m=\u001b[39m _umath_linalg\u001b[39m.\u001b[39;49minv(a, signature\u001b[39m=\u001b[39;49msignature, extobj\u001b[39m=\u001b[39;49mextobj)\n\u001b[0;32m    553\u001b[0m \u001b[39mreturn\u001b[39;00m wrap(ainv\u001b[39m.\u001b[39mastype(result_t, copy\u001b[39m=\u001b[39m\u001b[39mFalse\u001b[39;00m))\n",
      "\u001b[1;31mMemoryError\u001b[0m: Unable to allocate 5.83 GiB for an array with shape (27968, 27968) and data type float64"
     ]
    }
   ],
   "source": [
    "collaborative_recommender_class = {\n",
    "        \"SLIMElasticNetRecommender\": SLIMElasticNetRecommender,\n",
    "        #\"UserKNNCF\": UserKNNCFRecommender,\n",
    "        #\"ItemKNNCF\": ItemKNNCFRecommender,\n",
    "        \"RP3betaRecommender_aug\": RP3betaRecommender,\n",
    "        \"RP3betaRecommender_pow\": RP3betaRecommender,\n",
    "        \"EASE_R\": EASE_R_Recommender,\n",
    "        \"HybridRecommender_5\" : HybridRecommender_5,\n",
    "        \"Hybrid_SSLIM_EASER\": Hybrid_SSLIM_EASER,\n",
    "        \"Hybrid_SSLIM_RP3B_aug\": Hybrid_SSLIM_RP3B_aug,\n",
    "        \"Hybrid_UserKNNCF_RP3B_aug\": Hybrid_UserKNNCF_RP3B_aug,\n",
    "        \"Hybrid_UserKNNCF_ItemKNNCF\": Hybrid_UserKNNCF_ItemKNNCF,\n",
    "        \"Hybrid_User_and_Item_KNN_CFCBF_Hybrid\": Hybrid_User_and_Item_KNN_CFCBF_Hybrid,\n",
    "}\n",
    "\n",
    "recommender_object_dict = {}\n",
    "recommended_items_for_each_user = {}\n",
    "\n",
    "for label, recommender_class in collaborative_recommender_class.items():\n",
    "    if(label == \"SLIMElasticNetRecommender\" or label == \"RP3betaRecommender_pow\"):\n",
    "        recommender_object = recommender_class(URM_train_pow)\n",
    "        recommender_object.fit()\n",
    "    \n",
    "    elif label == \"HybridRecommender_5\":\n",
    "        recommender_object = recommender_class(URM_train_aug, URM_train_pow, UserKNNCF, RP3beta_pow, S_SLIM, EASE_R)\n",
    "        recommender_object.fit()\n",
    "    \n",
    "    elif label == \"Hybrid_SSLIM_EASER\":\n",
    "            recommender_object = recommender_class(URM_train_aug, URM_train_pow, S_SLIM, EASE_R)\n",
    "            recommender_object.fit(SSLIM_weight=0.563368095251961, EASE_R_weight=0.0)\n",
    "    \n",
    "    elif label == \"Hybrid_SSLIM_RP3B_aug\":\n",
    "            recommender_object = recommender_class(URM_train_aug, URM_train_pow, S_SLIM, RP3beta_aug)\n",
    "            recommender_object.fit(SSLIM_weight= 0.8157521052599057, RP3B_weight=0.22946157569349823)\n",
    "    \n",
    "    elif label == \"Hybrid_UserKNNCF_RP3B_aug\":\n",
    "            recommender_object = recommender_class(URM_train_aug, URM_train_pow, UserKNNCF, RP3beta_aug)\n",
    "            recommender_object.fit(UserKNNCF_weight= 0.2995420066475148, RP3B_weight=0.9911264072270123)\n",
    "\n",
    "    elif label == \"Hybrid_UserKNNCF_ItemKNNCF\":\n",
    "            recommender_object = recommender_class(URM_train_aug, URM_train_pow, UserKNNCF, ItemKNNCF)\n",
    "            recommender_object.fit(UserKNNCF_weight= 0.03661957054894694, ItemKNNCF_weight= 0.10080088393558931)\n",
    "\n",
    "    elif(label== 'Hybrid_User_and_Item_KNN_CFCBF_Hybrid'):\n",
    "        recommender_object = recommender_class(URM_train_aug,URM_train_pow,_ItemKNN_CFCBF_Hybrid_Recommender,_UserKNN_CFCBF_Hybrid_Recommender)\n",
    "        recommender_object.fit(ItemKNN_CFCBF_Hybrid_Recommender_weight=0.5120927410823415,UserKNN_CFCBF_Hybrid_Recommender_weight=0.5991013721829745)\n",
    "\n",
    "    else:\n",
    "        recommender_object = recommender_class(URM_train_aug)\n",
    "        recommender_object.fit()\n",
    "        \n",
    "    recommender_object_dict[label] = recommender_object\n"
   ]
  },
  {
   "cell_type": "code",
   "execution_count": null,
   "metadata": {},
   "outputs": [
    {
     "name": "stdout",
     "output_type": "stream",
     "text": [
      "EvaluatorHoldout: Ignoring 2816 ( 6.8%) Users that have less than 1 test interactions\n"
     ]
    }
   ],
   "source": [
    "evaluator=EvaluatorHoldout(URM_validation, cutoff_list=[10])"
   ]
  },
  {
   "cell_type": "code",
   "execution_count": null,
   "metadata": {},
   "outputs": [
    {
     "name": "stdout",
     "output_type": "stream",
     "text": [
      "Group 0, #users in group 2081, average p.len 11.44, median 12.0, min 3, max 13\n",
      "EvaluatorHoldout: Ignoring 2816 ( 6.8%) Users that have less than 1 test interactions\n",
      "EvaluatorHoldout: Ignoring 39548 Users\n",
      "EvaluatorHoldout: Processed 1797 (100.0%) in 1.52 sec. Users per second: 1181\n",
      "EvaluatorHoldout: Processed 1797 (100.0%) in 0.91 sec. Users per second: 1976\n",
      "EvaluatorHoldout: Processed 1797 (100.0%) in 0.95 sec. Users per second: 1893\n",
      "EvaluatorHoldout: Processed 1797 (100.0%) in 1.19 sec. Users per second: 1506\n",
      "EvaluatorHoldout: Processed 1797 (100.0%) in 4.85 sec. Users per second: 370\n",
      "EvaluatorHoldout: Processed 1797 (100.0%) in 2.84 sec. Users per second: 633\n",
      "EvaluatorHoldout: Processed 1797 (100.0%) in 2.55 sec. Users per second: 705\n",
      "EvaluatorHoldout: Processed 1797 (100.0%) in 2.70 sec. Users per second: 666\n",
      "EvaluatorHoldout: Processed 1797 (100.0%) in 3.59 sec. Users per second: 501\n",
      "Group 1, #users in group 2081, average p.len 14.32, median 14.0, min 13, max 15\n",
      "EvaluatorHoldout: Ignoring 2816 ( 6.8%) Users that have less than 1 test interactions\n",
      "EvaluatorHoldout: Ignoring 39548 Users\n",
      "EvaluatorHoldout: Processed 1822 (100.0%) in 1.25 sec. Users per second: 1463\n",
      "EvaluatorHoldout: Processed 1822 (100.0%) in 0.87 sec. Users per second: 2100\n",
      "EvaluatorHoldout: Processed 1822 (100.0%) in 0.87 sec. Users per second: 2106\n",
      "EvaluatorHoldout: Processed 1822 (100.0%) in 1.11 sec. Users per second: 1641\n",
      "EvaluatorHoldout: Processed 1822 (100.0%) in 4.21 sec. Users per second: 432\n",
      "EvaluatorHoldout: Processed 1822 (100.0%) in 2.72 sec. Users per second: 670\n",
      "EvaluatorHoldout: Processed 1822 (100.0%) in 2.81 sec. Users per second: 647\n",
      "EvaluatorHoldout: Processed 1822 (100.0%) in 2.80 sec. Users per second: 652\n",
      "EvaluatorHoldout: Processed 1822 (100.0%) in 3.23 sec. Users per second: 564\n",
      "Group 2, #users in group 2081, average p.len 15.89, median 16.0, min 15, max 17\n",
      "EvaluatorHoldout: Ignoring 2816 ( 6.8%) Users that have less than 1 test interactions\n",
      "EvaluatorHoldout: Ignoring 39548 Users\n",
      "EvaluatorHoldout: Processed 1816 (100.0%) in 1.24 sec. Users per second: 1460\n",
      "EvaluatorHoldout: Processed 1816 (100.0%) in 0.86 sec. Users per second: 2116\n",
      "EvaluatorHoldout: Processed 1816 (100.0%) in 0.86 sec. Users per second: 2119\n",
      "EvaluatorHoldout: Processed 1816 (100.0%) in 1.11 sec. Users per second: 1641\n",
      "EvaluatorHoldout: Processed 1816 (100.0%) in 3.95 sec. Users per second: 460\n",
      "EvaluatorHoldout: Processed 1816 (100.0%) in 2.64 sec. Users per second: 687\n",
      "EvaluatorHoldout: Processed 1816 (100.0%) in 2.69 sec. Users per second: 674\n",
      "EvaluatorHoldout: Processed 1816 (100.0%) in 2.79 sec. Users per second: 650\n",
      "EvaluatorHoldout: Processed 1816 (100.0%) in 3.26 sec. Users per second: 557\n",
      "Group 3, #users in group 2081, average p.len 17.37, median 17.0, min 17, max 18\n",
      "EvaluatorHoldout: Ignoring 2816 ( 6.8%) Users that have less than 1 test interactions\n",
      "EvaluatorHoldout: Ignoring 39548 Users\n",
      "EvaluatorHoldout: Processed 1839 (100.0%) in 1.30 sec. Users per second: 1411\n",
      "EvaluatorHoldout: Processed 1839 (100.0%) in 0.87 sec. Users per second: 2114\n",
      "EvaluatorHoldout: Processed 1839 (100.0%) in 0.87 sec. Users per second: 2110\n",
      "EvaluatorHoldout: Processed 1839 (100.0%) in 1.13 sec. Users per second: 1626\n",
      "EvaluatorHoldout: Processed 1839 (100.0%) in 3.91 sec. Users per second: 471\n",
      "EvaluatorHoldout: Processed 1839 (100.0%) in 2.77 sec. Users per second: 664\n",
      "EvaluatorHoldout: Processed 1839 (100.0%) in 2.69 sec. Users per second: 685\n",
      "EvaluatorHoldout: Processed 1839 (100.0%) in 2.83 sec. Users per second: 649\n",
      "EvaluatorHoldout: Processed 1839 (100.0%) in 3.37 sec. Users per second: 546\n",
      "Group 4, #users in group 2081, average p.len 18.54, median 19.0, min 18, max 19\n",
      "EvaluatorHoldout: Ignoring 2816 ( 6.8%) Users that have less than 1 test interactions\n",
      "EvaluatorHoldout: Ignoring 39548 Users\n",
      "EvaluatorHoldout: Processed 1817 (100.0%) in 1.32 sec. Users per second: 1371\n",
      "EvaluatorHoldout: Processed 1817 (100.0%) in 0.88 sec. Users per second: 2069\n",
      "EvaluatorHoldout: Processed 1817 (100.0%) in 0.90 sec. Users per second: 2029\n",
      "EvaluatorHoldout: Processed 1817 (100.0%) in 1.15 sec. Users per second: 1587\n",
      "EvaluatorHoldout: Processed 1817 (100.0%) in 4.23 sec. Users per second: 430\n",
      "EvaluatorHoldout: Processed 1817 (100.0%) in 2.85 sec. Users per second: 638\n",
      "EvaluatorHoldout: Processed 1817 (100.0%) in 2.81 sec. Users per second: 647\n",
      "EvaluatorHoldout: Processed 1817 (100.0%) in 2.83 sec. Users per second: 643\n",
      "EvaluatorHoldout: Processed 1817 (100.0%) in 3.37 sec. Users per second: 539\n",
      "Group 5, #users in group 2081, average p.len 19.73, median 20.0, min 19, max 20\n",
      "EvaluatorHoldout: Ignoring 2816 ( 6.8%) Users that have less than 1 test interactions\n",
      "EvaluatorHoldout: Ignoring 39548 Users\n",
      "EvaluatorHoldout: Processed 1850 (100.0%) in 1.38 sec. Users per second: 1338\n",
      "EvaluatorHoldout: Processed 1850 (100.0%) in 0.89 sec. Users per second: 2070\n",
      "EvaluatorHoldout: Processed 1850 (100.0%) in 0.88 sec. Users per second: 2093\n",
      "EvaluatorHoldout: Processed 1850 (100.0%) in 1.14 sec. Users per second: 1628\n",
      "EvaluatorHoldout: Processed 1850 (100.0%) in 3.84 sec. Users per second: 482\n",
      "EvaluatorHoldout: Processed 1850 (100.0%) in 2.88 sec. Users per second: 643\n",
      "EvaluatorHoldout: Processed 1850 (100.0%) in 2.77 sec. Users per second: 669\n",
      "EvaluatorHoldout: Processed 1850 (100.0%) in 2.93 sec. Users per second: 631\n",
      "EvaluatorHoldout: Processed 1850 (100.0%) in 3.47 sec. Users per second: 533\n",
      "Group 6, #users in group 2081, average p.len 21.00, median 21.0, min 20, max 22\n",
      "EvaluatorHoldout: Ignoring 2816 ( 6.8%) Users that have less than 1 test interactions\n",
      "EvaluatorHoldout: Ignoring 39548 Users\n",
      "EvaluatorHoldout: Processed 1883 (100.0%) in 1.44 sec. Users per second: 1310\n",
      "EvaluatorHoldout: Processed 1883 (100.0%) in 0.90 sec. Users per second: 2092\n",
      "EvaluatorHoldout: Processed 1883 (100.0%) in 0.89 sec. Users per second: 2105\n",
      "EvaluatorHoldout: Processed 1883 (100.0%) in 1.16 sec. Users per second: 1621\n",
      "EvaluatorHoldout: Processed 1883 (100.0%) in 3.88 sec. Users per second: 485\n",
      "EvaluatorHoldout: Processed 1883 (100.0%) in 2.94 sec. Users per second: 640\n",
      "EvaluatorHoldout: Processed 1883 (100.0%) in 2.84 sec. Users per second: 663\n",
      "EvaluatorHoldout: Processed 1883 (100.0%) in 3.04 sec. Users per second: 620\n",
      "EvaluatorHoldout: Processed 1883 (100.0%) in 3.58 sec. Users per second: 527\n",
      "Group 7, #users in group 2081, average p.len 22.28, median 22.0, min 22, max 23\n",
      "EvaluatorHoldout: Ignoring 2816 ( 6.8%) Users that have less than 1 test interactions\n",
      "EvaluatorHoldout: Ignoring 39548 Users\n",
      "EvaluatorHoldout: Processed 1898 (100.0%) in 1.46 sec. Users per second: 1299\n",
      "EvaluatorHoldout: Processed 1898 (100.0%) in 0.90 sec. Users per second: 2107\n",
      "EvaluatorHoldout: Processed 1898 (100.0%) in 0.91 sec. Users per second: 2092\n",
      "EvaluatorHoldout: Processed 1898 (100.0%) in 1.18 sec. Users per second: 1610\n",
      "EvaluatorHoldout: Processed 1898 (100.0%) in 3.98 sec. Users per second: 477\n",
      "EvaluatorHoldout: Processed 1898 (100.0%) in 3.01 sec. Users per second: 631\n",
      "EvaluatorHoldout: Processed 1898 (100.0%) in 2.93 sec. Users per second: 649\n",
      "EvaluatorHoldout: Processed 1898 (100.0%) in 3.02 sec. Users per second: 629\n",
      "EvaluatorHoldout: Processed 1898 (100.0%) in 3.62 sec. Users per second: 524\n",
      "Group 8, #users in group 2081, average p.len 23.52, median 24.0, min 23, max 24\n",
      "EvaluatorHoldout: Ignoring 2816 ( 6.8%) Users that have less than 1 test interactions\n",
      "EvaluatorHoldout: Ignoring 39548 Users\n",
      "EvaluatorHoldout: Processed 1895 (100.0%) in 1.50 sec. Users per second: 1267\n",
      "EvaluatorHoldout: Processed 1895 (100.0%) in 0.91 sec. Users per second: 2083\n",
      "EvaluatorHoldout: Processed 1895 (100.0%) in 0.91 sec. Users per second: 2087\n",
      "EvaluatorHoldout: Processed 1895 (100.0%) in 1.19 sec. Users per second: 1591\n",
      "EvaluatorHoldout: Processed 1895 (100.0%) in 3.98 sec. Users per second: 476\n",
      "EvaluatorHoldout: Processed 1895 (100.0%) in 3.03 sec. Users per second: 626\n",
      "EvaluatorHoldout: Processed 1895 (100.0%) in 2.93 sec. Users per second: 647\n",
      "EvaluatorHoldout: Processed 1895 (100.0%) in 3.06 sec. Users per second: 620\n",
      "EvaluatorHoldout: Processed 1895 (100.0%) in 3.73 sec. Users per second: 508\n",
      "Group 9, #users in group 2081, average p.len 25.04, median 25.0, min 24, max 26\n",
      "EvaluatorHoldout: Ignoring 2816 ( 6.8%) Users that have less than 1 test interactions\n",
      "EvaluatorHoldout: Ignoring 39548 Users\n",
      "EvaluatorHoldout: Processed 1926 (100.0%) in 1.61 sec. Users per second: 1199\n",
      "EvaluatorHoldout: Processed 1926 (100.0%) in 0.97 sec. Users per second: 1981\n",
      "EvaluatorHoldout: Processed 1926 (100.0%) in 0.96 sec. Users per second: 2005\n",
      "EvaluatorHoldout: Processed 1926 (100.0%) in 1.26 sec. Users per second: 1533\n",
      "EvaluatorHoldout: Processed 1926 (100.0%) in 4.27 sec. Users per second: 452\n",
      "EvaluatorHoldout: Processed 1926 (100.0%) in 3.23 sec. Users per second: 597\n",
      "EvaluatorHoldout: Processed 1926 (100.0%) in 3.05 sec. Users per second: 632\n",
      "EvaluatorHoldout: Processed 1926 (100.0%) in 3.24 sec. Users per second: 595\n",
      "EvaluatorHoldout: Processed 1926 (100.0%) in 4.04 sec. Users per second: 477\n",
      "Group 10, #users in group 2081, average p.len 26.61, median 27.0, min 26, max 28\n",
      "EvaluatorHoldout: Ignoring 2816 ( 6.8%) Users that have less than 1 test interactions\n",
      "EvaluatorHoldout: Ignoring 39548 Users\n",
      "EvaluatorHoldout: Processed 1920 (100.0%) in 1.64 sec. Users per second: 1173\n",
      "EvaluatorHoldout: Processed 1920 (100.0%) in 0.97 sec. Users per second: 1974\n",
      "EvaluatorHoldout: Processed 1920 (100.0%) in 0.93 sec. Users per second: 2065\n",
      "EvaluatorHoldout: Processed 1920 (100.0%) in 1.29 sec. Users per second: 1487\n",
      "EvaluatorHoldout: Processed 1920 (100.0%) in 4.16 sec. Users per second: 461\n",
      "EvaluatorHoldout: Processed 1920 (100.0%) in 3.17 sec. Users per second: 606\n",
      "EvaluatorHoldout: Processed 1920 (100.0%) in 3.03 sec. Users per second: 634\n",
      "EvaluatorHoldout: Processed 1920 (100.0%) in 3.14 sec. Users per second: 611\n",
      "EvaluatorHoldout: Processed 1920 (100.0%) in 3.89 sec. Users per second: 493\n",
      "Group 11, #users in group 2081, average p.len 28.49, median 28.0, min 28, max 29\n",
      "EvaluatorHoldout: Ignoring 2816 ( 6.8%) Users that have less than 1 test interactions\n",
      "EvaluatorHoldout: Ignoring 39548 Users\n",
      "EvaluatorHoldout: Processed 1961 (100.0%) in 1.66 sec. Users per second: 1183\n",
      "EvaluatorHoldout: Processed 1961 (100.0%) in 0.95 sec. Users per second: 2066\n",
      "EvaluatorHoldout: Processed 1961 (100.0%) in 0.94 sec. Users per second: 2084\n",
      "EvaluatorHoldout: Processed 1961 (100.0%) in 1.28 sec. Users per second: 1526\n",
      "EvaluatorHoldout: Processed 1961 (100.0%) in 3.83 sec. Users per second: 512\n",
      "EvaluatorHoldout: Processed 1961 (100.0%) in 3.32 sec. Users per second: 590\n",
      "EvaluatorHoldout: Processed 1961 (100.0%) in 3.13 sec. Users per second: 626\n",
      "EvaluatorHoldout: Processed 1961 (100.0%) in 3.28 sec. Users per second: 599\n",
      "EvaluatorHoldout: Processed 1961 (100.0%) in 3.98 sec. Users per second: 493\n",
      "Group 12, #users in group 2081, average p.len 30.65, median 31.0, min 29, max 32\n",
      "EvaluatorHoldout: Ignoring 2816 ( 6.8%) Users that have less than 1 test interactions\n",
      "EvaluatorHoldout: Ignoring 39548 Users\n",
      "EvaluatorHoldout: Processed 1991 (100.0%) in 1.70 sec. Users per second: 1169\n",
      "EvaluatorHoldout: Processed 1991 (100.0%) in 0.94 sec. Users per second: 2110\n",
      "EvaluatorHoldout: Processed 1991 (100.0%) in 0.96 sec. Users per second: 2084\n",
      "EvaluatorHoldout: Processed 1991 (100.0%) in 1.33 sec. Users per second: 1494\n",
      "EvaluatorHoldout: Processed 1991 (100.0%) in 3.44 sec. Users per second: 578\n",
      "EvaluatorHoldout: Processed 1991 (100.0%) in 3.40 sec. Users per second: 585\n",
      "EvaluatorHoldout: Processed 1991 (100.0%) in 3.25 sec. Users per second: 613\n",
      "EvaluatorHoldout: Processed 1991 (100.0%) in 3.39 sec. Users per second: 588\n",
      "EvaluatorHoldout: Processed 1991 (100.0%) in 4.32 sec. Users per second: 460\n",
      "Group 13, #users in group 2081, average p.len 33.16, median 33.0, min 32, max 35\n",
      "EvaluatorHoldout: Ignoring 2816 ( 6.8%) Users that have less than 1 test interactions\n",
      "EvaluatorHoldout: Ignoring 39548 Users\n",
      "EvaluatorHoldout: Processed 2012 (100.0%) in 1.77 sec. Users per second: 1139\n",
      "EvaluatorHoldout: Processed 2012 (100.0%) in 0.97 sec. Users per second: 2084\n",
      "EvaluatorHoldout: Processed 2012 (100.0%) in 0.97 sec. Users per second: 2084\n",
      "EvaluatorHoldout: Processed 2012 (100.0%) in 1.40 sec. Users per second: 1440\n",
      "EvaluatorHoldout: Processed 2012 (100.0%) in 3.81 sec. Users per second: 528\n",
      "EvaluatorHoldout: Processed 2012 (100.0%) in 3.71 sec. Users per second: 543\n",
      "EvaluatorHoldout: Processed 2012 (100.0%) in 3.40 sec. Users per second: 592\n",
      "EvaluatorHoldout: Processed 2012 (100.0%) in 3.57 sec. Users per second: 563\n",
      "EvaluatorHoldout: Processed 2012 (100.0%) in 4.45 sec. Users per second: 452\n",
      "Group 14, #users in group 2081, average p.len 36.34, median 36.0, min 35, max 38\n",
      "EvaluatorHoldout: Ignoring 2816 ( 6.8%) Users that have less than 1 test interactions\n",
      "EvaluatorHoldout: Ignoring 39548 Users\n",
      "EvaluatorHoldout: Processed 2028 (100.0%) in 1.87 sec. Users per second: 1086\n",
      "EvaluatorHoldout: Processed 2028 (100.0%) in 1.01 sec. Users per second: 2003\n",
      "EvaluatorHoldout: Processed 2028 (100.0%) in 1.01 sec. Users per second: 2011\n",
      "EvaluatorHoldout: Processed 2028 (100.0%) in 1.43 sec. Users per second: 1417\n",
      "EvaluatorHoldout: Processed 2028 (100.0%) in 3.84 sec. Users per second: 527\n",
      "EvaluatorHoldout: Processed 2028 (100.0%) in 3.81 sec. Users per second: 532\n",
      "EvaluatorHoldout: Processed 2028 (100.0%) in 3.46 sec. Users per second: 586\n",
      "EvaluatorHoldout: Processed 2028 (100.0%) in 3.68 sec. Users per second: 551\n",
      "EvaluatorHoldout: Processed 2028 (100.0%) in 4.68 sec. Users per second: 434\n",
      "Group 15, #users in group 2081, average p.len 40.34, median 40.0, min 38, max 43\n",
      "EvaluatorHoldout: Ignoring 2816 ( 6.8%) Users that have less than 1 test interactions\n",
      "EvaluatorHoldout: Ignoring 39548 Users\n",
      "EvaluatorHoldout: Processed 2053 (100.0%) in 1.94 sec. Users per second: 1058\n",
      "EvaluatorHoldout: Processed 2053 (100.0%) in 1.03 sec. Users per second: 1992\n",
      "EvaluatorHoldout: Processed 2053 (100.0%) in 1.04 sec. Users per second: 1978\n",
      "EvaluatorHoldout: Processed 2053 (100.0%) in 1.48 sec. Users per second: 1389\n",
      "EvaluatorHoldout: Processed 2053 (100.0%) in 3.93 sec. Users per second: 522\n",
      "EvaluatorHoldout: Processed 2053 (100.0%) in 3.87 sec. Users per second: 530\n",
      "EvaluatorHoldout: Processed 2053 (100.0%) in 3.62 sec. Users per second: 567\n",
      "EvaluatorHoldout: Processed 2053 (100.0%) in 4.08 sec. Users per second: 503\n",
      "EvaluatorHoldout: Processed 2053 (100.0%) in 4.81 sec. Users per second: 427\n",
      "Group 16, #users in group 2081, average p.len 45.65, median 46.0, min 43, max 49\n",
      "EvaluatorHoldout: Ignoring 2816 ( 6.8%) Users that have less than 1 test interactions\n",
      "EvaluatorHoldout: Ignoring 39548 Users\n",
      "EvaluatorHoldout: Processed 2070 (100.0%) in 2.03 sec. Users per second: 1021\n",
      "EvaluatorHoldout: Processed 2070 (100.0%) in 1.04 sec. Users per second: 1999\n",
      "EvaluatorHoldout: Processed 2070 (100.0%) in 1.03 sec. Users per second: 2001\n",
      "EvaluatorHoldout: Processed 2070 (100.0%) in 1.55 sec. Users per second: 1338\n",
      "EvaluatorHoldout: Processed 2070 (100.0%) in 4.03 sec. Users per second: 513\n",
      "EvaluatorHoldout: Processed 2070 (100.0%) in 4.00 sec. Users per second: 517\n",
      "EvaluatorHoldout: Processed 2070 (100.0%) in 3.63 sec. Users per second: 570\n",
      "EvaluatorHoldout: Processed 2070 (100.0%) in 3.92 sec. Users per second: 529\n",
      "EvaluatorHoldout: Processed 2070 (100.0%) in 5.05 sec. Users per second: 410\n",
      "Group 17, #users in group 2081, average p.len 53.41, median 53.0, min 49, max 59\n",
      "EvaluatorHoldout: Ignoring 2816 ( 6.8%) Users that have less than 1 test interactions\n",
      "EvaluatorHoldout: Ignoring 39548 Users\n",
      "EvaluatorHoldout: Processed 2071 (100.0%) in 2.08 sec. Users per second: 994\n",
      "EvaluatorHoldout: Processed 2071 (100.0%) in 1.04 sec. Users per second: 1992\n",
      "EvaluatorHoldout: Processed 2071 (100.0%) in 1.05 sec. Users per second: 1967\n",
      "EvaluatorHoldout: Processed 2071 (100.0%) in 1.62 sec. Users per second: 1278\n",
      "EvaluatorHoldout: Processed 2071 (100.0%) in 4.19 sec. Users per second: 494\n",
      "EvaluatorHoldout: Processed 2071 (100.0%) in 4.11 sec. Users per second: 504\n",
      "EvaluatorHoldout: Processed 2071 (100.0%) in 3.78 sec. Users per second: 548\n",
      "EvaluatorHoldout: Processed 2071 (100.0%) in 4.08 sec. Users per second: 507\n",
      "EvaluatorHoldout: Processed 2071 (100.0%) in 5.27 sec. Users per second: 393\n",
      "Group 18, #users in group 2081, average p.len 66.42, median 66.0, min 59, max 77\n",
      "EvaluatorHoldout: Ignoring 2816 ( 6.8%) Users that have less than 1 test interactions\n",
      "EvaluatorHoldout: Ignoring 39548 Users\n",
      "EvaluatorHoldout: Processed 2075 (100.0%) in 2.20 sec. Users per second: 942\n",
      "EvaluatorHoldout: Processed 2075 (100.0%) in 1.08 sec. Users per second: 1929\n",
      "EvaluatorHoldout: Processed 2075 (100.0%) in 1.08 sec. Users per second: 1927\n",
      "EvaluatorHoldout: Processed 2075 (100.0%) in 1.77 sec. Users per second: 1175\n",
      "EvaluatorHoldout: Processed 2075 (100.0%) in 4.61 sec. Users per second: 450\n",
      "EvaluatorHoldout: Processed 2075 (100.0%) in 4.44 sec. Users per second: 467\n",
      "EvaluatorHoldout: Processed 2075 (100.0%) in 3.87 sec. Users per second: 536\n",
      "EvaluatorHoldout: Processed 2075 (100.0%) in 4.28 sec. Users per second: 485\n",
      "EvaluatorHoldout: Processed 2075 (100.0%) in 5.64 sec. Users per second: 368\n",
      "Group 19, #users in group 2081, average p.len 118.98, median 100.0, min 77, max 513\n",
      "EvaluatorHoldout: Ignoring 2816 ( 6.8%) Users that have less than 1 test interactions\n",
      "EvaluatorHoldout: Ignoring 39548 Users\n",
      "EvaluatorHoldout: Processed 2080 (100.0%) in 2.46 sec. Users per second: 847\n",
      "EvaluatorHoldout: Processed 2080 (100.0%) in 1.19 sec. Users per second: 1748\n",
      "EvaluatorHoldout: Processed 2080 (100.0%) in 1.18 sec. Users per second: 1761\n",
      "EvaluatorHoldout: Processed 2080 (100.0%) in 2.24 sec. Users per second: 929\n",
      "EvaluatorHoldout: Processed 2080 (100.0%) in 5.36 sec. Users per second: 388\n",
      "EvaluatorHoldout: Processed 2080 (100.0%) in 5.29 sec. Users per second: 393\n",
      "EvaluatorHoldout: Processed 2080 (100.0%) in 4.28 sec. Users per second: 486\n",
      "EvaluatorHoldout: Processed 2080 (100.0%) in 4.54 sec. Users per second: 458\n",
      "EvaluatorHoldout: Processed 2080 (100.0%) in 6.43 sec. Users per second: 324\n"
     ]
    }
   ],
   "source": [
    "from evaluator import evaluate\n",
    "cutoff = 10\n",
    "\n",
    "for group_id in range(0, 20):\n",
    "    \n",
    "    start_pos = group_id*block_size\n",
    "    end_pos = min((group_id+1)*block_size, len(profile_length))\n",
    "    \n",
    "    users_in_group = sorted_users[start_pos:end_pos]\n",
    "    \n",
    "    users_in_group_p_len = profile_length[users_in_group]\n",
    "    \n",
    "    print(\"Group {}, #users in group {}, average p.len {:.2f}, median {}, min {}, max {}\".format(\n",
    "        group_id, \n",
    "        users_in_group.shape[0],\n",
    "        users_in_group_p_len.mean(),\n",
    "        np.median(users_in_group_p_len),\n",
    "        users_in_group_p_len.min(),\n",
    "        users_in_group_p_len.max()))\n",
    "    \n",
    "    \n",
    "    users_not_in_group_flag = np.isin(sorted_users, users_in_group, invert=True)\n",
    "    users_not_in_group = sorted_users[users_not_in_group_flag]\n",
    "    \n",
    "    evaluator_test = EvaluatorHoldout(URM_validation, cutoff_list=[cutoff], ignore_users=users_not_in_group)\n",
    "    #evaluator_power = EvaluatorHoldout(val_powerful, cutoff_list=[cutoff], ignore_users=users_not_in_group)\n",
    "    #evaluator_pad = EvaluatorHoldout(val_pad, cutoff_list=[cutoff], ignore_users=users_not_in_group)\n",
    "\n",
    "    for label, recommender in recommender_object_dict.items():\n",
    "        '''if(label == \"SLIMElasticNetRecommender\"):\n",
    "            #map=evaluate(recommended_items_for_each_user,val_powerful,target)\n",
    "            result_df, _ = evaluator_power.evaluateRecommender(recommender)'''\n",
    "        \n",
    "        #map=evaluate(recommended_items_for_each_user,URM_validation,target)\n",
    "        result_df, _ = evaluator_test.evaluateRecommender(recommender)\n",
    "            \n",
    "        if label in MAP_recommender_per_group:\n",
    "            MAP_recommender_per_group[label].append(result_df.loc[cutoff][\"MAP\"])\n",
    "            #MAP_recommender_per_group[label].append(map)\n",
    "        else:\n",
    "            MAP_recommender_per_group[label] = [result_df.loc[cutoff][\"MAP\"]]\n",
    "            #MAP_recommender_per_group[label] = [map]\n"
   ]
  },
  {
   "cell_type": "code",
   "execution_count": null,
   "metadata": {},
   "outputs": [
    {
     "name": "stdout",
     "output_type": "stream",
     "text": [
      "20\n",
      "20\n",
      "20\n",
      "20\n",
      "20\n",
      "20\n",
      "20\n",
      "20\n"
     ]
    },
    {
     "data": {
      "image/png": "[encoded data removed]",
      "text/plain": [
       "<Figure size 1600x900 with 1 Axes>"
      ]
     },
     "metadata": {},
     "output_type": "display_data"
    }
   ],
   "source": [
    "import matplotlib.pyplot as plt\n",
    "%matplotlib inline  \n",
    "\n",
    "_ = plt.figure(figsize=(16, 9))\n",
    "for label, recommender in recommender_object_dict.items():\n",
    "    if label != \"HybridRecommender_5\":\n",
    "        results = MAP_recommender_per_group[label]\n",
    "        plt.scatter(x=np.arange(0,len(results)), y=results, label=label)\n",
    "        print(len(results))\n",
    "plt.ylabel('MAP')\n",
    "plt.xlabel('User Group')\n",
    "plt.legend()\n",
    "plt.show()"
   ]
  },
  {
   "cell_type": "code",
   "execution_count": null,
   "metadata": {},
   "outputs": [
    {
     "ename": "NameError",
     "evalue": "name 'plt' is not defined",
     "output_type": "error",
     "traceback": [
      "\u001b[0;31m---------------------------------------------------------------------------\u001b[0m",
      "\u001b[0;31mNameError\u001b[0m                                 Traceback (most recent call last)",
      "Cell \u001b[0;32mIn [1], line 3\u001b[0m\n\u001b[1;32m      1\u001b[0m \u001b[39mimport\u001b[39;00m \u001b[39mmatplotlib\u001b[39;00m\u001b[39m.\u001b[39;00m\u001b[39mpyplot\u001b[39;00m \u001b[39mas\u001b[39;00m \u001b[39mpyplot\u001b[39;00m\n\u001b[1;32m      2\u001b[0m get_ipython()\u001b[39m.\u001b[39mrun_line_magic(\u001b[39m'\u001b[39m\u001b[39mmatplotlib\u001b[39m\u001b[39m'\u001b[39m, \u001b[39m'\u001b[39m\u001b[39minline\u001b[39m\u001b[39m'\u001b[39m)\n\u001b[0;32m----> 3\u001b[0m _ \u001b[39m=\u001b[39m plt\u001b[39m.\u001b[39mfigure(figsize\u001b[39m=\u001b[39m(\u001b[39m16\u001b[39m, \u001b[39m9\u001b[39m))\n\u001b[1;32m      5\u001b[0m results \u001b[39m=\u001b[39m MAP_recommender_per_group[\u001b[39m\"\u001b[39m\u001b[39mHybrid_SSLIM_EASER\u001b[39m\u001b[39m\"\u001b[39m]\n\u001b[1;32m      6\u001b[0m pyplot\u001b[39m.\u001b[39mplot(np\u001b[39m.\u001b[39marange(\u001b[39m0\u001b[39m,\u001b[39mlen\u001b[39m(results)),results, label\u001b[39m=\u001b[39m\u001b[39m\"\u001b[39m\u001b[39mHybrid_SSLIM_EASER\u001b[39m\u001b[39m\"\u001b[39m)\n",
      "\u001b[0;31mNameError\u001b[0m: name 'plt' is not defined"
     ]
    }
   ],
   "source": [
    "import matplotlib.pyplot as pyplot\n",
    "%matplotlib inline\n",
    "_ = plt.figure(figsize=(16, 9))\n",
    "\n",
    "results = MAP_recommender_per_group[\"Hybrid_SSLIM_EASER\"]\n",
    "pyplot.plot(np.arange(0,len(results)),results, label=\"Hybrid_SSLIM_EASER\")\n",
    "results = MAP_recommender_per_group[\"Hybrid_SSLIM_RP3B_aug\"]\n",
    "pyplot.plot(np.arange(0,len(results)),results, label=\"Hybrid_SSLIM_RP3B_aug\")\n",
    "results = MAP_recommender_per_group[\"Hybrid_UserKNNCF_RP3B_aug\"]\n",
    "pyplot.plot(np.arange(0,len(results)),results, label=\"Hybrid_UserKNNCF_RP3B_aug\")\n",
    "results = MAP_recommender_per_group[\"Hybrid_UserKNNCF_ItemKNNCF\"]\n",
    "pyplot.plot(np.arange(0,len(results)),results, label=\"Hybrid_UserKNNCF_ItemKNNCF\")\n",
    "pyplot.ylabel('MAP')\n",
    "pyplot.xlabel('User Group')\n",
    "pyplot.legend()\n",
    "pyplot.show()\n",
    "\n",
    "'''\n",
    "\"SLIMElasticNetRecommender\": SLIMElasticNetRecommender,\n",
    "        \"UserKNNCF\": UserKNNCFRecommender,\n",
    "        \"ItemKNNCF\": ItemKNNCFRecommender,\n",
    "        \"RP3betaRecommender_aug\": RP3betaRecommender,\n",
    "        \"RP3betaRecommender_pow\": RP3betaRecommender,\n",
    "        \"EASE_R\": EASE_R_Recommender,\n",
    "        \"HybridRecommender_5\" : HybridRecommender_5,\n",
    "        \"Hybrid_SSLIM_EASER\": Hybrid_SSLIM_EASER,\n",
    "'''"
   ]
  }
 ],
 "metadata": {
  "kernelspec": {
   "display_name": "Python 3",
   "language": "python",
   "name": "python3"
  },
  "language_info": {
   "codemirror_mode": {
    "name": "ipython",
    "version": 3
   },
   "file_extension": ".py",
   "mimetype": "text/x-python",
   "name": "python",
   "nbconvert_exporter": "python",
   "pygments_lexer": "ipython3",
   "version": "3.10.8"
  },
  "orig_nbformat": 4,
  "vscode": {
   "interpreter": {
    "hash": "6847c98a8f86b01c6a19c518cd2f366693b80566b266804d5ca763cbb223f52b"
   }
  }
 },
 "nbformat": 4,
 "nbformat_minor": 2
}
