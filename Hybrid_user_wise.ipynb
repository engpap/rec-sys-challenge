{
 "cells": [
  {
   "cell_type": "code",
   "execution_count": 45,
   "metadata": {},
   "outputs": [
    {
     "data": {
      "text/plain": [
       "True"
      ]
     },
     "execution_count": 45,
     "metadata": {},
     "output_type": "execute_result"
    }
   ],
   "source": [
    "import scipy.sparse as sps\n",
    "from Data_manager.split_functions.split_train_validation_random_holdout import split_train_in_two_percentage_global_sample\n",
    "import pandas as pd\n",
    "import numpy as np\n",
    "from pandas.api.types import CategoricalDtype\n",
    "from Evaluation.Evaluator import EvaluatorHoldout\n",
    "from Data_Handler.DataReader import DataReader\n",
    "import scipy.sparse as sps\n",
    "from collections import Counter\n",
    "from tqdm import tqdm\n",
    "# imports for .env usage\n",
    "import os\n",
    "from dotenv import load_dotenv\n",
    "load_dotenv()\n",
    "\n"
   ]
  },
  {
   "cell_type": "code",
   "execution_count": 33,
   "metadata": {},
   "outputs": [
    {
     "name": "stdout",
     "output_type": "stream",
     "text": [
      "4877\n",
      "Warning: 2865 (6.88 %) of 41629 users have no sampled items\n"
     ]
    }
   ],
   "source": [
    "dataReader = DataReader()\n",
    "URM = dataReader.load_augmented_binary_urm()\n",
    "URM_aug,icm = dataReader.pad_with_zeros_ICMandURM(URM)\n",
    "\n",
    "URM_train_aug, URM_validation = split_train_in_two_percentage_global_sample(URM_aug, train_percentage = 0.9)\n",
    "URM_train_pow = dataReader.stackMatrixes(URM_train_aug)"
   ]
  },
  {
   "cell_type": "code",
   "execution_count": 34,
   "metadata": {},
   "outputs": [
    {
     "data": {
      "text/plain": [
       "(array([58, 20, 94, ..., 22, 48, 19], dtype=int32), (41629,))"
      ]
     },
     "execution_count": 34,
     "metadata": {},
     "output_type": "execute_result"
    }
   ],
   "source": [
    "profile_length = np.ediff1d(sps.csr_matrix(URM_train_aug).indptr)\n",
    "profile_length, profile_length.shape"
   ]
  },
  {
   "cell_type": "code",
   "execution_count": 35,
   "metadata": {},
   "outputs": [
    {
     "data": {
      "text/plain": [
       "2081"
      ]
     },
     "execution_count": 35,
     "metadata": {},
     "output_type": "execute_result"
    }
   ],
   "source": [
    "block_size = int(len(profile_length)*0.05)\n",
    "block_size"
   ]
  },
  {
   "cell_type": "code",
   "execution_count": 36,
   "metadata": {},
   "outputs": [
    {
     "data": {
      "text/plain": [
       "array([21852, 25061, 38400, ..., 19407, 12454,  8693], dtype=int64)"
      ]
     },
     "execution_count": 36,
     "metadata": {},
     "output_type": "execute_result"
    }
   ],
   "source": [
    "sorted_users = np.argsort(profile_length)\n",
    "sorted_users"
   ]
  },
  {
   "cell_type": "code",
   "execution_count": 37,
   "metadata": {},
   "outputs": [
    {
     "name": "stdout",
     "output_type": "stream",
     "text": [
      "Group 0, #users in group 2081, average p.len 11.43, median 12.0, min 3, max 13\n",
      "Group 1, #users in group 2081, average p.len 14.30, median 14.0, min 13, max 15\n",
      "Group 2, #users in group 2081, average p.len 15.95, median 16.0, min 15, max 17\n",
      "Group 3, #users in group 2081, average p.len 17.37, median 17.0, min 17, max 18\n",
      "Group 4, #users in group 2081, average p.len 18.56, median 19.0, min 18, max 19\n",
      "Group 5, #users in group 2081, average p.len 19.71, median 20.0, min 19, max 20\n",
      "Group 6, #users in group 2081, average p.len 20.96, median 21.0, min 20, max 22\n",
      "Group 7, #users in group 2081, average p.len 22.28, median 22.0, min 22, max 23\n",
      "Group 8, #users in group 2081, average p.len 23.54, median 24.0, min 23, max 24\n",
      "Group 9, #users in group 2081, average p.len 24.98, median 25.0, min 24, max 26\n"
     ]
    }
   ],
   "source": [
    "for group_id in range(0, 10):\n",
    "    start_pos = group_id * block_size\n",
    "    end_pos = min((group_id+1) * block_size, len(profile_length))\n",
    "    \n",
    "    users_in_group = sorted_users[start_pos:end_pos]\n",
    "    \n",
    "    users_in_group_p_len = profile_length[users_in_group]\n",
    "    \n",
    "    print(\"Group {}, #users in group {}, average p.len {:.2f}, median {}, min {}, max {}\".format(\n",
    "        group_id, \n",
    "        users_in_group.shape[0],\n",
    "        users_in_group_p_len.mean(),\n",
    "        np.median(users_in_group_p_len),\n",
    "        users_in_group_p_len.min(),\n",
    "        users_in_group_p_len.max()))"
   ]
  },
  {
   "cell_type": "code",
   "execution_count": 38,
   "metadata": {},
   "outputs": [
    {
     "name": "stdout",
     "output_type": "stream",
     "text": [
      "UserKNNCFRecommender: URM Detected 3461 (12.4%) items with no interactions.\n",
      "Similarity column 41629 (100.0%), 1358.52 column/sec. Elapsed time 30.64 sec\n",
      "ItemKNNCFRecommender: URM Detected 3461 (12.4%) items with no interactions.\n",
      "Similarity column 27968 (100.0%), 4160.34 column/sec. Elapsed time 6.72 sec\n",
      "RP3betaRecommender: Similarity column 27968 (100.0%), 911.49 column/sec. Elapsed time 30.68 sec\n"
     ]
    }
   ],
   "source": [
    "from Recommenders.NonPersonalizedRecommender import TopPop\n",
    "from Recommenders.KNN.UserKNNCFRecommender import UserKNNCFRecommender\n",
    "from Recommenders.KNN.ItemKNNCFRecommender import ItemKNNCFRecommender\n",
    "from Recommenders.SLIM.Cython.SLIM_BPR_Cython import SLIM_BPR_Cython\n",
    "from Recommenders.SLIM.SLIMElasticNetRecommender import SLIMElasticNetRecommender\n",
    "from Recommenders.GraphBased.P3alphaRecommender import P3alphaRecommender\n",
    "from Recommenders.GraphBased.RP3betaRecommender import RP3betaRecommender\n",
    "from Recommenders.MatrixFactorization.Cython.MatrixFactorization_Cython import MatrixFactorization_BPR_Cython, MatrixFactorization_FunkSVD_Cython, MatrixFactorization_AsySVD_Cython\n",
    "from Recommenders.MatrixFactorization.PureSVDRecommender import PureSVDRecommender\n",
    "from Recommenders.MatrixFactorization.IALSRecommender import IALSRecommender\n",
    "from Recommenders.MatrixFactorization.NMFRecommender import NMFRecommender\n",
    "from Recommenders.KNN.ItemKNNCBFRecommender import ItemKNNCBFRecommender\n",
    "from Recommenders.KNN.ItemKNN_CFCBF_Hybrid_Recommender import ItemKNN_CFCBF_Hybrid_Recommender\n",
    "from Recommenders.FactorizationMachines.LightFMRecommender import LightFMItemHybridRecommender\n",
    "\n",
    "MAP_recommender_per_group = {}\n",
    "\n",
    "collaborative_recommender_class = {\n",
    "        #\"SLIMElasticNetRecommender\": SLIMElasticNetRecommender,\n",
    "        \"UserKNNCF\": UserKNNCFRecommender,\n",
    "        \"ItemKNNCF\": ItemKNNCFRecommender,\n",
    "        \"RP3beta\": RP3betaRecommender,\n",
    "        #\"TopPop\": TopPop,\n",
    "}\n",
    "\n",
    "recommender_object_dict = {}\n",
    "recommended_items_for_each_user = {}\n",
    "\n",
    "for label, recommender_class in collaborative_recommender_class.items():\n",
    "    if(label == \"SLIMElasticNetRecommender\" or label== 'RP3beta'):\n",
    "        recommender_object = recommender_class(URM_train_pow)\n",
    "        recommender_object.fit()\n",
    "    else:\n",
    "        recommender_object = recommender_class(URM_train_aug)\n",
    "        recommender_object.fit()\n",
    "    recommender_object_dict[label] = recommender_object\n"
   ]
  },
  {
   "cell_type": "code",
   "execution_count": 39,
   "metadata": {},
   "outputs": [
    {
     "name": "stdout",
     "output_type": "stream",
     "text": [
      "EvaluatorHoldout: Ignoring 2865 ( 6.9%) Users that have less than 1 test interactions\n"
     ]
    }
   ],
   "source": [
    "evaluator=EvaluatorHoldout(URM_validation, cutoff_list=[10])"
   ]
  },
  {
   "cell_type": "code",
   "execution_count": 40,
   "metadata": {},
   "outputs": [
    {
     "data": {
      "text/plain": [
       "(41629, 27968)"
      ]
     },
     "execution_count": 40,
     "metadata": {},
     "output_type": "execute_result"
    }
   ],
   "source": [
    "URM_validation.shape"
   ]
  },
  {
   "cell_type": "code",
   "execution_count": 41,
   "metadata": {},
   "outputs": [
    {
     "data": {
      "text/plain": [
       "(41629, 27968)"
      ]
     },
     "execution_count": 41,
     "metadata": {},
     "output_type": "execute_result"
    }
   ],
   "source": [
    "URM_train_aug.shape"
   ]
  },
  {
   "cell_type": "code",
   "execution_count": 42,
   "metadata": {},
   "outputs": [
    {
     "data": {
      "text/plain": [
       "<41634x27968 sparse matrix of type '<class 'numpy.float64'>'\n",
       "\twith 1422265 stored elements in Compressed Sparse Row format>"
      ]
     },
     "execution_count": 42,
     "metadata": {},
     "output_type": "execute_result"
    }
   ],
   "source": [
    "URM_train_pow"
   ]
  },
  {
   "cell_type": "code",
   "execution_count": 43,
   "metadata": {},
   "outputs": [
    {
     "name": "stdout",
     "output_type": "stream",
     "text": [
      "Group 0, #users in group 2081, average p.len 11.43, median 12.0, min 3, max 13\n",
      "EvaluatorHoldout: Ignoring 2865 ( 6.9%) Users that have less than 1 test interactions\n",
      "EvaluatorHoldout: Ignoring 39548 Users\n",
      "EvaluatorHoldout: Processed 1791 (100.0%) in 3.36 sec. Users per second: 533\n",
      "EvaluatorHoldout: Processed 1791 (100.0%) in 3.50 sec. Users per second: 512\n",
      "EvaluatorHoldout: Processed 1791 (100.0%) in 3.00 sec. Users per second: 596\n",
      "Group 1, #users in group 2081, average p.len 14.30, median 14.0, min 13, max 15\n",
      "EvaluatorHoldout: Ignoring 2865 ( 6.9%) Users that have less than 1 test interactions\n",
      "EvaluatorHoldout: Ignoring 39548 Users\n",
      "EvaluatorHoldout: Processed 1807 (100.0%) in 3.48 sec. Users per second: 519\n",
      "EvaluatorHoldout: Processed 1807 (100.0%) in 3.43 sec. Users per second: 527\n",
      "EvaluatorHoldout: Processed 1807 (100.0%) in 2.69 sec. Users per second: 673\n",
      "Group 2, #users in group 2081, average p.len 15.95, median 16.0, min 15, max 17\n",
      "EvaluatorHoldout: Ignoring 2865 ( 6.9%) Users that have less than 1 test interactions\n",
      "EvaluatorHoldout: Ignoring 39548 Users\n",
      "EvaluatorHoldout: Processed 1852 (100.0%) in 3.28 sec. Users per second: 564\n",
      "EvaluatorHoldout: Processed 1852 (100.0%) in 3.64 sec. Users per second: 509\n",
      "EvaluatorHoldout: Processed 1852 (100.0%) in 2.95 sec. Users per second: 627\n",
      "Group 3, #users in group 2081, average p.len 17.37, median 17.0, min 17, max 18\n",
      "EvaluatorHoldout: Ignoring 2865 ( 6.9%) Users that have less than 1 test interactions\n",
      "EvaluatorHoldout: Ignoring 39548 Users\n",
      "EvaluatorHoldout: Processed 1799 (100.0%) in 3.44 sec. Users per second: 524\n",
      "EvaluatorHoldout: Processed 1799 (100.0%) in 3.68 sec. Users per second: 489\n",
      "EvaluatorHoldout: Processed 1799 (100.0%) in 3.28 sec. Users per second: 549\n",
      "Group 4, #users in group 2081, average p.len 18.56, median 19.0, min 18, max 19\n",
      "EvaluatorHoldout: Ignoring 2865 ( 6.9%) Users that have less than 1 test interactions\n",
      "EvaluatorHoldout: Ignoring 39548 Users\n",
      "EvaluatorHoldout: Processed 1825 (100.0%) in 4.11 sec. Users per second: 444\n",
      "EvaluatorHoldout: Processed 1825 (100.0%) in 3.84 sec. Users per second: 475\n",
      "EvaluatorHoldout: Processed 1825 (100.0%) in 3.27 sec. Users per second: 559\n",
      "Group 5, #users in group 2081, average p.len 19.71, median 20.0, min 19, max 20\n",
      "EvaluatorHoldout: Ignoring 2865 ( 6.9%) Users that have less than 1 test interactions\n",
      "EvaluatorHoldout: Ignoring 39548 Users\n",
      "EvaluatorHoldout: Processed 1831 (100.0%) in 2.96 sec. Users per second: 619\n",
      "EvaluatorHoldout: Processed 1831 (100.0%) in 4.13 sec. Users per second: 444\n",
      "EvaluatorHoldout: Processed 1831 (100.0%) in 4.53 sec. Users per second: 404\n",
      "Group 6, #users in group 2081, average p.len 20.96, median 21.0, min 20, max 22\n",
      "EvaluatorHoldout: Ignoring 2865 ( 6.9%) Users that have less than 1 test interactions\n",
      "EvaluatorHoldout: Ignoring 39548 Users\n",
      "EvaluatorHoldout: Processed 1883 (100.0%) in 4.14 sec. Users per second: 455\n",
      "EvaluatorHoldout: Processed 1883 (100.0%) in 3.73 sec. Users per second: 504\n",
      "EvaluatorHoldout: Processed 1883 (100.0%) in 3.39 sec. Users per second: 555\n",
      "Group 7, #users in group 2081, average p.len 22.28, median 22.0, min 22, max 23\n",
      "EvaluatorHoldout: Ignoring 2865 ( 6.9%) Users that have less than 1 test interactions\n",
      "EvaluatorHoldout: Ignoring 39548 Users\n",
      "EvaluatorHoldout: Processed 1892 (100.0%) in 5.34 sec. Users per second: 354\n",
      "EvaluatorHoldout: Processed 1892 (100.0%) in 5.09 sec. Users per second: 372\n",
      "EvaluatorHoldout: Processed 1892 (100.0%) in 3.65 sec. Users per second: 518\n",
      "Group 8, #users in group 2081, average p.len 23.54, median 24.0, min 23, max 24\n",
      "EvaluatorHoldout: Ignoring 2865 ( 6.9%) Users that have less than 1 test interactions\n",
      "EvaluatorHoldout: Ignoring 39548 Users\n",
      "EvaluatorHoldout: Processed 1891 (100.0%) in 3.53 sec. Users per second: 536\n",
      "EvaluatorHoldout: Processed 1891 (100.0%) in 3.85 sec. Users per second: 491\n",
      "EvaluatorHoldout: Processed 1891 (100.0%) in 3.90 sec. Users per second: 484\n",
      "Group 9, #users in group 2081, average p.len 24.98, median 25.0, min 24, max 26\n",
      "EvaluatorHoldout: Ignoring 2865 ( 6.9%) Users that have less than 1 test interactions\n",
      "EvaluatorHoldout: Ignoring 39548 Users\n",
      "EvaluatorHoldout: Processed 1935 (100.0%) in 5.29 sec. Users per second: 365\n",
      "EvaluatorHoldout: Processed 1935 (100.0%) in 5.47 sec. Users per second: 354\n",
      "EvaluatorHoldout: Processed 1935 (100.0%) in 4.21 sec. Users per second: 459\n",
      "Group 10, #users in group 2081, average p.len 26.58, median 27.0, min 26, max 27\n",
      "EvaluatorHoldout: Ignoring 2865 ( 6.9%) Users that have less than 1 test interactions\n",
      "EvaluatorHoldout: Ignoring 39548 Users\n",
      "EvaluatorHoldout: Processed 1926 (100.0%) in 4.91 sec. Users per second: 392\n",
      "EvaluatorHoldout: Processed 1926 (100.0%) in 4.12 sec. Users per second: 467\n",
      "EvaluatorHoldout: Processed 1926 (100.0%) in 3.43 sec. Users per second: 562\n",
      "Group 11, #users in group 2081, average p.len 28.44, median 28.0, min 27, max 29\n",
      "EvaluatorHoldout: Ignoring 2865 ( 6.9%) Users that have less than 1 test interactions\n",
      "EvaluatorHoldout: Ignoring 39548 Users\n",
      "EvaluatorHoldout: Processed 1974 (100.0%) in 4.68 sec. Users per second: 422\n",
      "EvaluatorHoldout: Processed 1974 (100.0%) in 5.07 sec. Users per second: 389\n",
      "EvaluatorHoldout: Processed 1974 (100.0%) in 3.97 sec. Users per second: 497\n",
      "Group 12, #users in group 2081, average p.len 30.61, median 31.0, min 29, max 32\n",
      "EvaluatorHoldout: Ignoring 2865 ( 6.9%) Users that have less than 1 test interactions\n",
      "EvaluatorHoldout: Ignoring 39548 Users\n",
      "EvaluatorHoldout: Processed 1977 (100.0%) in 4.14 sec. Users per second: 478\n",
      "EvaluatorHoldout: Processed 1977 (100.0%) in 4.45 sec. Users per second: 444\n",
      "EvaluatorHoldout: Processed 1977 (100.0%) in 3.47 sec. Users per second: 570\n",
      "Group 13, #users in group 2081, average p.len 33.15, median 33.0, min 32, max 35\n",
      "EvaluatorHoldout: Ignoring 2865 ( 6.9%) Users that have less than 1 test interactions\n",
      "EvaluatorHoldout: Ignoring 39548 Users\n",
      "EvaluatorHoldout: Processed 2001 (100.0%) in 4.16 sec. Users per second: 481\n",
      "EvaluatorHoldout: Processed 2001 (100.0%) in 4.58 sec. Users per second: 437\n",
      "EvaluatorHoldout: Processed 2001 (100.0%) in 3.60 sec. Users per second: 556\n",
      "Group 14, #users in group 2081, average p.len 36.29, median 36.0, min 35, max 38\n",
      "EvaluatorHoldout: Ignoring 2865 ( 6.9%) Users that have less than 1 test interactions\n",
      "EvaluatorHoldout: Ignoring 39548 Users\n",
      "EvaluatorHoldout: Processed 2029 (100.0%) in 4.77 sec. Users per second: 426\n",
      "EvaluatorHoldout: Processed 2029 (100.0%) in 4.73 sec. Users per second: 429\n",
      "EvaluatorHoldout: Processed 2029 (100.0%) in 3.78 sec. Users per second: 536\n",
      "Group 15, #users in group 2081, average p.len 40.28, median 40.0, min 38, max 43\n",
      "EvaluatorHoldout: Ignoring 2865 ( 6.9%) Users that have less than 1 test interactions\n",
      "EvaluatorHoldout: Ignoring 39548 Users\n",
      "EvaluatorHoldout: Processed 2050 (100.0%) in 4.51 sec. Users per second: 454\n",
      "EvaluatorHoldout: Processed 2050 (100.0%) in 4.20 sec. Users per second: 488\n",
      "EvaluatorHoldout: Processed 2050 (100.0%) in 2.87 sec. Users per second: 714\n",
      "Group 16, #users in group 2081, average p.len 45.68, median 46.0, min 43, max 49\n",
      "EvaluatorHoldout: Ignoring 2865 ( 6.9%) Users that have less than 1 test interactions\n",
      "EvaluatorHoldout: Ignoring 39548 Users\n",
      "EvaluatorHoldout: Processed 2064 (100.0%) in 3.95 sec. Users per second: 522\n",
      "EvaluatorHoldout: Processed 2064 (100.0%) in 4.07 sec. Users per second: 507\n",
      "EvaluatorHoldout: Processed 2064 (100.0%) in 3.54 sec. Users per second: 583\n",
      "Group 17, #users in group 2081, average p.len 53.46, median 53.0, min 49, max 59\n",
      "EvaluatorHoldout: Ignoring 2865 ( 6.9%) Users that have less than 1 test interactions\n",
      "EvaluatorHoldout: Ignoring 39548 Users\n",
      "EvaluatorHoldout: Processed 2071 (100.0%) in 4.75 sec. Users per second: 436\n",
      "EvaluatorHoldout: Processed 2071 (100.0%) in 4.44 sec. Users per second: 467\n",
      "EvaluatorHoldout: Processed 2071 (100.0%) in 3.14 sec. Users per second: 659\n",
      "Group 18, #users in group 2081, average p.len 66.46, median 66.0, min 59, max 77\n",
      "EvaluatorHoldout: Ignoring 2865 ( 6.9%) Users that have less than 1 test interactions\n",
      "EvaluatorHoldout: Ignoring 39548 Users\n",
      "EvaluatorHoldout: Processed 2076 (100.0%) in 4.37 sec. Users per second: 476\n",
      "EvaluatorHoldout: Processed 2076 (100.0%) in 4.51 sec. Users per second: 461\n",
      "EvaluatorHoldout: Processed 2076 (100.0%) in 3.35 sec. Users per second: 620\n",
      "Group 19, #users in group 2081, average p.len 119.13, median 100.0, min 77, max 515\n",
      "EvaluatorHoldout: Ignoring 2865 ( 6.9%) Users that have less than 1 test interactions\n",
      "EvaluatorHoldout: Ignoring 39548 Users\n",
      "EvaluatorHoldout: Processed 2081 (100.0%) in 4.43 sec. Users per second: 469\n",
      "EvaluatorHoldout: Processed 2081 (100.0%) in 5.17 sec. Users per second: 403\n",
      "EvaluatorHoldout: Processed 2081 (100.0%) in 3.54 sec. Users per second: 588\n"
     ]
    }
   ],
   "source": [
    "from evaluator import evaluate\n",
    "cutoff = 10\n",
    "\n",
    "for group_id in range(0, 20):\n",
    "    \n",
    "    start_pos = group_id*block_size\n",
    "    end_pos = min((group_id+1)*block_size, len(profile_length))\n",
    "    \n",
    "    users_in_group = sorted_users[start_pos:end_pos]\n",
    "    \n",
    "    users_in_group_p_len = profile_length[users_in_group]\n",
    "    \n",
    "    print(\"Group {}, #users in group {}, average p.len {:.2f}, median {}, min {}, max {}\".format(\n",
    "        group_id, \n",
    "        users_in_group.shape[0],\n",
    "        users_in_group_p_len.mean(),\n",
    "        np.median(users_in_group_p_len),\n",
    "        users_in_group_p_len.min(),\n",
    "        users_in_group_p_len.max()))\n",
    "    \n",
    "    \n",
    "    users_not_in_group_flag = np.isin(sorted_users, users_in_group, invert=True)\n",
    "    users_not_in_group = sorted_users[users_not_in_group_flag]\n",
    "    \n",
    "    evaluator_test = EvaluatorHoldout(URM_validation, cutoff_list=[cutoff], ignore_users=users_not_in_group)\n",
    "    #evaluator_power = EvaluatorHoldout(URM_validation_aug, cutoff_list=[cutoff], ignore_users=users_not_in_group)\n",
    "    #evaluator_pad = EvaluatorHoldout(val_pad, cutoff_list=[cutoff], ignore_users=users_not_in_group)\n",
    "\n",
    "    for label, recommender in recommender_object_dict.items():\n",
    "        #if(label == \"SLIMElasticNetRecommender\"):\n",
    "            #map=evaluate(recommended_items_for_each_user,val_powerful,target)\n",
    "        #    result_df, _ = evaluator_power.evaluateRecommender(recommender)\n",
    "\n",
    "        #elif label == \"LightFMItemHybridRecommender\":\n",
    "            #result_df, _ = evaluator_pad.evaluateRecommender(recommender)\n",
    "        \n",
    "        #else:\n",
    "            #map=evaluate(recommended_items_for_each_user,URM_validation,target)\n",
    "            #result_df, _ = evaluator_test.evaluateRecommender(recommender)\n",
    "        result_df, _ = evaluator_test.evaluateRecommender(recommender)\n",
    "        if label in MAP_recommender_per_group:\n",
    "            MAP_recommender_per_group[label].append(result_df.loc[cutoff][\"MAP\"])\n",
    "            #MAP_recommender_per_group[label].append(map)\n",
    "        else:\n",
    "            MAP_recommender_per_group[label] = [result_df.loc[cutoff][\"MAP\"]]\n",
    "            #MAP_recommender_per_group[label] = [map]\n"
   ]
  },
  {
   "cell_type": "code",
   "execution_count": 44,
   "metadata": {},
   "outputs": [
    {
     "data": {
      "image/png": "[encoded data removed]",
      "text/plain": [
       "<Figure size 1600x900 with 1 Axes>"
      ]
     },
     "metadata": {},
     "output_type": "display_data"
    }
   ],
   "source": [
    "import matplotlib.pyplot as plt\n",
    "%matplotlib inline  \n",
    "\n",
    "_ = plt.figure(figsize=(16, 9))\n",
    "for label, recommender in recommender_object_dict.items():\n",
    "    results = MAP_recommender_per_group[label]\n",
    "    plt.scatter(x=np.arange(0,len(results)), y=results, label=label)\n",
    "plt.ylabel('MAP')\n",
    "plt.xlabel('User Group')\n",
    "plt.legend()\n",
    "plt.show()"
   ]
  }
 ],
 "metadata": {
  "kernelspec": {
   "display_name": "Python 3.10.8 64-bit",
   "language": "python",
   "name": "python3"
  },
  "language_info": {
   "codemirror_mode": {
    "name": "ipython",
    "version": 3
   },
   "file_extension": ".py",
   "mimetype": "text/x-python",
   "name": "python",
   "nbconvert_exporter": "python",
   "pygments_lexer": "ipython3",
   "version": "3.10.8"
  },
  "orig_nbformat": 4,
  "vscode": {
   "interpreter": {
    "hash": "6847c98a8f86b01c6a19c518cd2f366693b80566b266804d5ca763cbb223f52b"
   }
  }
 },
 "nbformat": 4,
 "nbformat_minor": 2
}
