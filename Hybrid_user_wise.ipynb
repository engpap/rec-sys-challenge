{
 "cells": [
  {
   "cell_type": "code",
   "execution_count": 8,
   "metadata": {},
   "outputs": [
    {
     "data": {
      "text/plain": [
       "True"
      ]
     },
     "execution_count": 8,
     "metadata": {},
     "output_type": "execute_result"
    }
   ],
   "source": [
    "import scipy.sparse as sps\n",
    "from Data_manager.split_functions.split_train_validation_random_holdout import split_train_in_two_percentage_global_sample\n",
    "import pandas as pd\n",
    "import numpy as np\n",
    "from pandas.api.types import CategoricalDtype\n",
    "from Evaluation.Evaluator import EvaluatorHoldout\n",
    "from Data_Handler.DataReader import DataReader\n",
    "import scipy.sparse as sps\n",
    "from collections import Counter\n",
    "from tqdm import tqdm\n",
    "# imports for .env usage\n",
    "import os\n",
    "from dotenv import load_dotenv\n",
    "load_dotenv()\n",
    "\n"
   ]
  },
  {
   "cell_type": "code",
   "execution_count": 9,
   "metadata": {},
   "outputs": [
    {
     "name": "stdout",
     "output_type": "stream",
     "text": [
      "4877\n",
      "Warning: 2868 (6.89 %) of 41629 users have no sampled items\n"
     ]
    }
   ],
   "source": [
    "from Data_Handler.DataReader import DataReader \n",
    "dataReader=DataReader()\n",
    "'''urm=dataReader.load_augmented_binary_urm()\n",
    "powerful_urm=dataReader.load_powerful_binary_urm()\n",
    "URM_pad,icm = dataReader.pad_with_zeros_ICMandURM(urm)\n",
    "URM_train, URM_validation = split_train_in_two_percentage_global_sample(urm, train_percentage = 0.9)\n",
    "train_powerful, val_powerful = split_train_in_two_percentage_global_sample(powerful_urm, train_percentage = 0.9)\n",
    "train_pad, val_pad = split_train_in_two_percentage_global_sample(URM_pad, train_percentage = 0.9)'''\n",
    "\n",
    "URM = dataReader.load_augmented_binary_urm()\n",
    "URM_aug,icm = dataReader.pad_with_zeros_ICMandURM(URM)\n",
    "\n",
    "URM_train_aug, URM_validation = split_train_in_two_percentage_global_sample(URM_aug, train_percentage = 0.9)\n",
    "URM_train_pow = dataReader.stackMatrixes(URM_train_aug)"
   ]
  },
  {
   "cell_type": "code",
   "execution_count": 10,
   "metadata": {},
   "outputs": [
    {
     "data": {
      "text/plain": [
       "(array([57, 21, 93, ..., 22, 49, 20], dtype=int32), (41629,))"
      ]
     },
     "execution_count": 10,
     "metadata": {},
     "output_type": "execute_result"
    }
   ],
   "source": [
    "profile_length = np.ediff1d(sps.csr_matrix(URM_train_aug).indptr)\n",
    "profile_length, profile_length.shape"
   ]
  },
  {
   "cell_type": "code",
   "execution_count": 11,
   "metadata": {},
   "outputs": [
    {
     "data": {
      "text/plain": [
       "4162"
      ]
     },
     "execution_count": 11,
     "metadata": {},
     "output_type": "execute_result"
    }
   ],
   "source": [
    "block_size = int(len(profile_length)*0.1)\n",
    "block_size"
   ]
  },
  {
   "cell_type": "code",
   "execution_count": 12,
   "metadata": {},
   "outputs": [
    {
     "data": {
      "text/plain": [
       "array([37398, 21852, 38400, ..., 19407,  8693, 12454])"
      ]
     },
     "execution_count": 12,
     "metadata": {},
     "output_type": "execute_result"
    }
   ],
   "source": [
    "sorted_users = np.argsort(profile_length)\n",
    "sorted_users"
   ]
  },
  {
   "cell_type": "code",
   "execution_count": 13,
   "metadata": {},
   "outputs": [
    {
     "name": "stdout",
     "output_type": "stream",
     "text": [
      "Group 0, #users in group 4162, average p.len 12.88, median 13.0, min 4, max 15\n",
      "Group 1, #users in group 4162, average p.len 16.63, median 17.0, min 15, max 18\n",
      "Group 2, #users in group 4162, average p.len 19.15, median 19.0, min 18, max 20\n",
      "Group 3, #users in group 4162, average p.len 21.63, median 22.0, min 20, max 23\n",
      "Group 4, #users in group 4162, average p.len 24.27, median 24.0, min 23, max 26\n",
      "Group 5, #users in group 4162, average p.len 27.50, median 27.0, min 26, max 29\n",
      "Group 6, #users in group 4162, average p.len 31.82, median 32.0, min 29, max 35\n",
      "Group 7, #users in group 4162, average p.len 38.39, median 38.0, min 35, max 43\n",
      "Group 8, #users in group 4162, average p.len 49.57, median 49.0, min 43, max 59\n",
      "Group 9, #users in group 4162, average p.len 92.74, median 77.0, min 59, max 517\n"
     ]
    }
   ],
   "source": [
    "for group_id in range(0, 10):\n",
    "    start_pos = group_id * block_size\n",
    "    end_pos = min((group_id+1) * block_size, len(profile_length))\n",
    "    \n",
    "    users_in_group = sorted_users[start_pos:end_pos]\n",
    "    \n",
    "    users_in_group_p_len = profile_length[users_in_group]\n",
    "    \n",
    "    print(\"Group {}, #users in group {}, average p.len {:.2f}, median {}, min {}, max {}\".format(\n",
    "        group_id, \n",
    "        users_in_group.shape[0],\n",
    "        users_in_group_p_len.mean(),\n",
    "        np.median(users_in_group_p_len),\n",
    "        users_in_group_p_len.min(),\n",
    "        users_in_group_p_len.max()))"
   ]
  },
  {
   "cell_type": "code",
   "execution_count": 14,
   "metadata": {},
   "outputs": [
    {
     "name": "stdout",
     "output_type": "stream",
     "text": [
      "UserKNNCFRecommender: URM Detected 3461 (12.4%) items with no interactions.\n",
      "Unable to load Cython Compute_Similarity, reverting to Python\n",
      "Similarity column 41629 (100.0%), 676.82 column/sec. Elapsed time 1.03 min\n",
      "RP3betaRecommender: Similarity column 27968 (100.0%), 1803.76 column/sec. Elapsed time 15.51 sec\n",
      "SLIMElasticNetRecommender: Processed 8203 (29.3%) in 5.00 min. Items per second: 27.34\n",
      "SLIMElasticNetRecommender: Processed 16964 (60.7%) in 10.00 min. Items per second: 28.27\n",
      "SLIMElasticNetRecommender: Processed 27968 (100.0%) in 14.71 min. Items per second: 31.69\n",
      "UserKNNCFRecommender: URM Detected 3461 (12.4%) items with no interactions.\n",
      "Unable to load Cython Compute_Similarity, reverting to Python\n",
      "Similarity column 41629 (100.0%), 838.67 column/sec. Elapsed time 49.64 sec\n",
      "ItemKNNCFRecommender: URM Detected 3461 (12.4%) items with no interactions.\n",
      "Unable to load Cython Compute_Similarity, reverting to Python\n",
      "Similarity column 27968 (100.0%), 955.20 column/sec. Elapsed time 29.28 sec\n",
      "RP3betaRecommender: Similarity column 27968 (100.0%), 1843.80 column/sec. Elapsed time 15.17 sec\n",
      "EASE_R_Recommender: URM Detected 3461 (12.4%) items with no interactions.\n",
      "EASE_R_Recommender: Fitting model... \n",
      "EASE_R_Recommender: Fitting model... done in 4.71 min\n",
      "Hybrid_Recommender_4: URM Detected 3461 (12.4%) items with no interactions.\n"
     ]
    },
    {
     "ename": "TypeError",
     "evalue": "HybridRecommender_4.__init__() missing 3 required positional arguments: 'UserKNNCF', 'RP3beta_pow', and 'S_SLIM'",
     "output_type": "error",
     "traceback": [
      "\u001b[1;31m---------------------------------------------------------------------------\u001b[0m",
      "\u001b[1;31mTypeError\u001b[0m                                 Traceback (most recent call last)",
      "Cell \u001b[1;32mIn [7], line 29\u001b[0m\n\u001b[0;32m     27\u001b[0m     recommender_object\u001b[39m.\u001b[39mfit()\n\u001b[0;32m     28\u001b[0m \u001b[39melif\u001b[39;00m label \u001b[39m==\u001b[39m \u001b[39m\"\u001b[39m\u001b[39mHybridRecommender_4\u001b[39m\u001b[39m\"\u001b[39m:\n\u001b[1;32m---> 29\u001b[0m     recommender_object \u001b[39m=\u001b[39m recommender_class(URM_train_aug, URM_train_pow)\n\u001b[0;32m     30\u001b[0m     recommender_object\u001b[39m.\u001b[39mfit(UserKNNCF_tier1_weight\u001b[39m=\u001b[39m\u001b[39m0.9\u001b[39m, RP3beta_pow_tier1_weight\u001b[39m=\u001b[39m\u001b[39m0.6\u001b[39m,UserKNNCF_tier2_weight\u001b[39m=\u001b[39m\u001b[39m0.7\u001b[39m, RP3beta_pow_tier2_weight\u001b[39m=\u001b[39m\u001b[39m0.9\u001b[39m, RP3beta_pow_tier3_weight\u001b[39m=\u001b[39m\u001b[39m0.6\u001b[39m, S_SLIM_tier3_weight\u001b[39m=\u001b[39m\u001b[39m1.0\u001b[39m)\n\u001b[0;32m     32\u001b[0m \u001b[39melse\u001b[39;00m:\n",
      "\u001b[1;31mTypeError\u001b[0m: HybridRecommender_4.__init__() missing 3 required positional arguments: 'UserKNNCF', 'RP3beta_pow', and 'S_SLIM'"
     ]
    }
   ],
   "source": [
    "from Recommenders.KNN.UserKNNCFRecommender import UserKNNCFRecommender\n",
    "from Recommenders.KNN.ItemKNNCFRecommender import ItemKNNCFRecommender\n",
    "from Recommenders.GraphBased.RP3betaRecommender import RP3betaRecommender\n",
    "from Recommenders.KNN.ItemKNNCBFRecommender import ItemKNNCBFRecommender\n",
    "from Recommenders.EASE_R.EASE_R_Recommender import EASE_R_Recommender\n",
    "from Recommenders.SLIM.SLIMElasticNetRecommender import SLIMElasticNetRecommender\n",
    "from hybrid import HybridRecommender_4\n",
    "from Recommenders.SLIM.SLIMElasticNetRecommender import *\n",
    "from Recommenders.KNN.ItemKNN_CFCBF_Hybrid_Recommender import ItemKNN_CFCBF_Hybrid_Recommender\n",
    "\n",
    "from Recommenders.FactorizationMachines.LightFMRecommender import LightFMItemHybridRecommender\n",
    "\n",
    "MAP_recommender_per_group = {}\n",
    "\n",
    "UserKNNCF = UserKNNCFRecommender(URM_train_aug)\n",
    "UserKNNCF.fit()\n",
    "\n",
    "RP3beta_pow = RP3betaRecommender(URM_train_pow)\n",
    "RP3beta_pow.fit(alpha=0.3648761546066018,beta=0.5058870363874656, topK=480, normalize_similarity=True)\n",
    "\n",
    "S_SLIM = SLIMElasticNetRecommender(URM_train_pow)\n",
    "S_SLIM.fit()\n",
    "\n",
    "collaborative_recommender_class = {\n",
    "        \"SLIMElasticNetRecommender\": SLIMElasticNetRecommender,\n",
    "        \"UserKNNCF\": UserKNNCFRecommender,\n",
    "        \"ItemKNNCF\": ItemKNNCFRecommender,\n",
    "        \"RP3betaRecommender\": RP3betaRecommender,\n",
    "        \"EASE_R\": EASE_R_Recommender,\n",
    "        \"Hybrid_Recommender_4\" : HybridRecommender_4,\n",
    "}\n",
    "\n",
    "recommender_object_dict = {}\n",
    "recommended_items_for_each_user = {}\n",
    "\n",
    "for label, recommender_class in collaborative_recommender_class.items():\n",
    "    if(label == \"SLIMElasticNetRecommender\" or label== \"RP3betaRecommender\"):\n",
    "        recommender_object = recommender_class(URM_train_pow)\n",
    "        recommender_object.fit()\n",
    "    elif label == \"HybridRecommender_4\":\n",
    "        recommender_object = recommender_class(URM_train_aug, URM_train_pow, UserKNNCF, RP3beta_pow, S_SLIM)\n",
    "        recommender_object.fit(UserKNNCF_tier1_weight=0.9, RP3beta_pow_tier1_weight=0.6,UserKNNCF_tier2_weight=0.7, RP3beta_pow_tier2_weight=0.9, RP3beta_pow_tier3_weight=0.6, S_SLIM_tier3_weight=1.0)\n",
    "\n",
    "    else:\n",
    "        recommender_object = recommender_class(URM_train_aug)\n",
    "        recommender_object.fit()\n",
    "    recommender_object_dict[label] = recommender_object\n"
   ]
  },
  {
   "cell_type": "code",
   "execution_count": 15,
   "metadata": {},
   "outputs": [
    {
     "name": "stdout",
     "output_type": "stream",
     "text": [
      "EvaluatorHoldout: Ignoring 2868 ( 6.9%) Users that have less than 1 test interactions\n"
     ]
    }
   ],
   "source": [
    "evaluator=EvaluatorHoldout(URM_validation, cutoff_list=[10])"
   ]
  },
  {
   "cell_type": "code",
   "execution_count": 16,
   "metadata": {},
   "outputs": [
    {
     "name": "stdout",
     "output_type": "stream",
     "text": [
      "Group 0, #users in group 4162, average p.len 12.88, median 13.0, min 4, max 15\n",
      "EvaluatorHoldout: Ignoring 2868 ( 6.9%) Users that have less than 1 test interactions\n",
      "EvaluatorHoldout: Ignoring 37467 Users\n",
      "EvaluatorHoldout: Processed 3578 (100.0%) in 2.74 sec. Users per second: 1307\n",
      "EvaluatorHoldout: Processed 3578 (100.0%) in 2.93 sec. Users per second: 1222\n",
      "EvaluatorHoldout: Processed 3578 (100.0%) in 2.00 sec. Users per second: 1793\n",
      "EvaluatorHoldout: Processed 3578 (100.0%) in 1.93 sec. Users per second: 1854\n",
      "EvaluatorHoldout: Processed 3578 (100.0%) in 6.01 sec. Users per second: 595\n",
      "Group 1, #users in group 4162, average p.len 16.63, median 17.0, min 15, max 18\n",
      "EvaluatorHoldout: Ignoring 2868 ( 6.9%) Users that have less than 1 test interactions\n",
      "EvaluatorHoldout: Ignoring 37467 Users\n",
      "EvaluatorHoldout: Processed 3636 (100.0%) in 2.53 sec. Users per second: 1436\n",
      "EvaluatorHoldout: Processed 3636 (100.0%) in 2.75 sec. Users per second: 1323\n",
      "EvaluatorHoldout: Processed 3636 (100.0%) in 1.82 sec. Users per second: 1997\n",
      "EvaluatorHoldout: Processed 3636 (100.0%) in 2.03 sec. Users per second: 1791\n",
      "EvaluatorHoldout: Processed 3636 (100.0%) in 5.80 sec. Users per second: 627\n",
      "Group 2, #users in group 4162, average p.len 19.15, median 19.0, min 18, max 20\n",
      "EvaluatorHoldout: Ignoring 2868 ( 6.9%) Users that have less than 1 test interactions\n",
      "EvaluatorHoldout: Ignoring 37467 Users\n",
      "EvaluatorHoldout: Processed 3659 (100.0%) in 2.54 sec. Users per second: 1440\n",
      "EvaluatorHoldout: Processed 3659 (100.0%) in 2.84 sec. Users per second: 1287\n",
      "EvaluatorHoldout: Processed 3659 (100.0%) in 1.88 sec. Users per second: 1947\n",
      "EvaluatorHoldout: Processed 3659 (100.0%) in 2.06 sec. Users per second: 1774\n",
      "EvaluatorHoldout: Processed 3659 (100.0%) in 6.18 sec. Users per second: 592\n",
      "Group 3, #users in group 4162, average p.len 21.63, median 22.0, min 20, max 23\n",
      "EvaluatorHoldout: Ignoring 2868 ( 6.9%) Users that have less than 1 test interactions\n",
      "EvaluatorHoldout: Ignoring 37467 Users\n",
      "EvaluatorHoldout: Processed 3761 (100.0%) in 2.59 sec. Users per second: 1450\n",
      "EvaluatorHoldout: Processed 3761 (100.0%) in 3.01 sec. Users per second: 1249\n",
      "EvaluatorHoldout: Processed 3761 (100.0%) in 1.98 sec. Users per second: 1896\n",
      "EvaluatorHoldout: Processed 3761 (100.0%) in 2.18 sec. Users per second: 1722\n",
      "EvaluatorHoldout: Processed 3761 (100.0%) in 6.11 sec. Users per second: 616\n",
      "Group 4, #users in group 4162, average p.len 24.27, median 24.0, min 23, max 26\n",
      "EvaluatorHoldout: Ignoring 2868 ( 6.9%) Users that have less than 1 test interactions\n",
      "EvaluatorHoldout: Ignoring 37467 Users\n",
      "EvaluatorHoldout: Processed 3823 (100.0%) in 2.73 sec. Users per second: 1399\n",
      "EvaluatorHoldout: Processed 3823 (100.0%) in 3.19 sec. Users per second: 1199\n",
      "EvaluatorHoldout: Processed 3823 (100.0%) in 2.09 sec. Users per second: 1826\n",
      "EvaluatorHoldout: Processed 3823 (100.0%) in 2.25 sec. Users per second: 1697\n",
      "EvaluatorHoldout: Processed 3823 (100.0%) in 6.33 sec. Users per second: 604\n",
      "Group 5, #users in group 4162, average p.len 27.50, median 27.0, min 26, max 29\n",
      "EvaluatorHoldout: Ignoring 2868 ( 6.9%) Users that have less than 1 test interactions\n",
      "EvaluatorHoldout: Ignoring 37467 Users\n",
      "EvaluatorHoldout: Processed 3894 (100.0%) in 2.94 sec. Users per second: 1323\n",
      "EvaluatorHoldout: Processed 3894 (100.0%) in 3.32 sec. Users per second: 1172\n",
      "EvaluatorHoldout: Processed 3894 (100.0%) in 2.19 sec. Users per second: 1779\n",
      "EvaluatorHoldout: Processed 3894 (100.0%) in 2.37 sec. Users per second: 1645\n",
      "EvaluatorHoldout: Processed 3894 (100.0%) in 6.48 sec. Users per second: 601\n",
      "Group 6, #users in group 4162, average p.len 31.82, median 32.0, min 29, max 35\n",
      "EvaluatorHoldout: Ignoring 2868 ( 6.9%) Users that have less than 1 test interactions\n",
      "EvaluatorHoldout: Ignoring 37467 Users\n",
      "EvaluatorHoldout: Processed 4028 (100.0%) in 3.22 sec. Users per second: 1251\n",
      "EvaluatorHoldout: Processed 4028 (100.0%) in 3.57 sec. Users per second: 1129\n",
      "EvaluatorHoldout: Processed 4028 (100.0%) in 2.35 sec. Users per second: 1712\n",
      "EvaluatorHoldout: Processed 4028 (100.0%) in 2.45 sec. Users per second: 1643\n",
      "EvaluatorHoldout: Processed 4028 (100.0%) in 5.03 sec. Users per second: 800\n",
      "Group 7, #users in group 4162, average p.len 38.39, median 38.0, min 35, max 43\n",
      "EvaluatorHoldout: Ignoring 2868 ( 6.9%) Users that have less than 1 test interactions\n",
      "EvaluatorHoldout: Ignoring 37467 Users\n",
      "EvaluatorHoldout: Processed 4077 (100.0%) in 3.56 sec. Users per second: 1144\n",
      "EvaluatorHoldout: Processed 4077 (100.0%) in 3.77 sec. Users per second: 1080\n",
      "EvaluatorHoldout: Processed 4077 (100.0%) in 2.52 sec. Users per second: 1620\n",
      "EvaluatorHoldout: Processed 4077 (100.0%) in 2.56 sec. Users per second: 1590\n",
      "EvaluatorHoldout: Processed 4077 (100.0%) in 5.43 sec. Users per second: 751\n",
      "Group 8, #users in group 4162, average p.len 49.57, median 49.0, min 43, max 59\n",
      "EvaluatorHoldout: Ignoring 2868 ( 6.9%) Users that have less than 1 test interactions\n",
      "EvaluatorHoldout: Ignoring 37467 Users\n",
      "EvaluatorHoldout: Processed 4136 (100.0%) in 4.04 sec. Users per second: 1023\n",
      "EvaluatorHoldout: Processed 4136 (100.0%) in 4.11 sec. Users per second: 1007\n",
      "EvaluatorHoldout: Processed 4136 (100.0%) in 2.80 sec. Users per second: 1476\n",
      "EvaluatorHoldout: Processed 4136 (100.0%) in 2.78 sec. Users per second: 1485\n",
      "EvaluatorHoldout: Processed 4136 (100.0%) in 5.76 sec. Users per second: 718\n",
      "Group 9, #users in group 4162, average p.len 92.74, median 77.0, min 59, max 517\n",
      "EvaluatorHoldout: Ignoring 2868 ( 6.9%) Users that have less than 1 test interactions\n",
      "EvaluatorHoldout: Ignoring 37467 Users\n",
      "EvaluatorHoldout: Processed 4160 (100.0%) in 4.60 sec. Users per second: 904\n",
      "EvaluatorHoldout: Processed 4160 (100.0%) in 5.16 sec. Users per second: 806\n",
      "EvaluatorHoldout: Processed 4160 (100.0%) in 3.40 sec. Users per second: 1223\n",
      "EvaluatorHoldout: Processed 4160 (100.0%) in 3.51 sec. Users per second: 1185\n",
      "EvaluatorHoldout: Processed 4160 (100.0%) in 6.43 sec. Users per second: 647\n"
     ]
    }
   ],
   "source": [
    "from evaluator import evaluate\n",
    "cutoff = 10\n",
    "\n",
    "for group_id in range(0, 10):\n",
    "    \n",
    "    start_pos = group_id*block_size\n",
    "    end_pos = min((group_id+1)*block_size, len(profile_length))\n",
    "    \n",
    "    users_in_group = sorted_users[start_pos:end_pos]\n",
    "    \n",
    "    users_in_group_p_len = profile_length[users_in_group]\n",
    "    \n",
    "    print(\"Group {}, #users in group {}, average p.len {:.2f}, median {}, min {}, max {}\".format(\n",
    "        group_id, \n",
    "        users_in_group.shape[0],\n",
    "        users_in_group_p_len.mean(),\n",
    "        np.median(users_in_group_p_len),\n",
    "        users_in_group_p_len.min(),\n",
    "        users_in_group_p_len.max()))\n",
    "    \n",
    "    \n",
    "    users_not_in_group_flag = np.isin(sorted_users, users_in_group, invert=True)\n",
    "    users_not_in_group = sorted_users[users_not_in_group_flag]\n",
    "    \n",
    "    evaluator_test = EvaluatorHoldout(URM_validation, cutoff_list=[cutoff], ignore_users=users_not_in_group)\n",
    "    #evaluator_power = EvaluatorHoldout(val_powerful, cutoff_list=[cutoff], ignore_users=users_not_in_group)\n",
    "    #evaluator_pad = EvaluatorHoldout(val_pad, cutoff_list=[cutoff], ignore_users=users_not_in_group)\n",
    "\n",
    "    for label, recommender in recommender_object_dict.items():\n",
    "        '''if(label == \"SLIMElasticNetRecommender\"):\n",
    "            #map=evaluate(recommended_items_for_each_user,val_powerful,target)\n",
    "            result_df, _ = evaluator_power.evaluateRecommender(recommender)'''\n",
    "        \n",
    "        #map=evaluate(recommended_items_for_each_user,URM_validation,target)\n",
    "        result_df, _ = evaluator_test.evaluateRecommender(recommender)\n",
    "            \n",
    "        if label in MAP_recommender_per_group:\n",
    "            MAP_recommender_per_group[label].append(result_df.loc[cutoff][\"MAP\"])\n",
    "            #MAP_recommender_per_group[label].append(map)\n",
    "        else:\n",
    "            MAP_recommender_per_group[label] = [result_df.loc[cutoff][\"MAP\"]]\n",
    "            #MAP_recommender_per_group[label] = [map]\n"
   ]
  },
  {
   "cell_type": "code",
   "execution_count": 17,
   "metadata": {},
   "outputs": [
    {
     "name": "stdout",
     "output_type": "stream",
     "text": [
      "10\n",
      "10\n",
      "10\n",
      "10\n",
      "10\n"
     ]
    },
    {
     "data": {
      "image/png": "[encoded data removed]",
      "text/plain": [
       "<Figure size 1600x900 with 1 Axes>"
      ]
     },
     "metadata": {},
     "output_type": "display_data"
    }
   ],
   "source": [
    "import matplotlib.pyplot as plt\n",
    "%matplotlib inline  \n",
    "\n",
    "_ = plt.figure(figsize=(16, 9))\n",
    "for label, recommender in recommender_object_dict.items():\n",
    "    results = MAP_recommender_per_group[label]\n",
    "    plt.scatter(x=np.arange(0,len(results)), y=results, label=label)\n",
    "    print(len(results))\n",
    "plt.ylabel('MAP')\n",
    "plt.xlabel('User Group')\n",
    "plt.legend()\n",
    "plt.show()"
   ]
  }
 ],
 "metadata": {
  "kernelspec": {
   "display_name": "tensorflow",
   "language": "python",
   "name": "python3"
  },
  "language_info": {
   "codemirror_mode": {
    "name": "ipython",
    "version": 3
   },
   "file_extension": ".py",
   "mimetype": "text/x-python",
   "name": "python",
   "nbconvert_exporter": "python",
   "pygments_lexer": "ipython3",
   "version": "3.9.15"
  },
  "orig_nbformat": 4,
  "vscode": {
   "interpreter": {
    "hash": "924875a864510efb8ec566d64580ebd057fcb8e77e67729a27391833cbf8b66e"
   }
  }
 },
 "nbformat": 4,
 "nbformat_minor": 2
}
