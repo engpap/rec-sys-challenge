{
 "cells": [
  {
   "cell_type": "code",
   "execution_count": 8,
   "metadata": {},
   "outputs": [
    {
     "data": {
      "text/plain": [
       "True"
      ]
     },
     "execution_count": 8,
     "metadata": {},
     "output_type": "execute_result"
    }
   ],
   "source": [
    "import scipy.sparse as sps\n",
    "from Data_manager.split_functions.split_train_validation_random_holdout import split_train_in_two_percentage_global_sample\n",
    "import pandas as pd\n",
    "import numpy as np\n",
    "from pandas.api.types import CategoricalDtype\n",
    "from Evaluation.Evaluator import EvaluatorHoldout\n",
    "from Data_Handler.DataReader import DataReader\n",
    "import scipy.sparse as sps\n",
    "from collections import Counter\n",
    "from tqdm import tqdm\n",
    "# imports for .env usage\n",
    "import os\n",
    "from dotenv import load_dotenv\n",
    "load_dotenv()\n",
    "\n"
   ]
  },
  {
   "cell_type": "code",
   "execution_count": 9,
   "metadata": {},
   "outputs": [
    {
     "name": "stdout",
     "output_type": "stream",
     "text": [
      "4877\n",
      "Warning: 2925 (7.03 %) of 41629 users have no sampled items\n"
     ]
    }
   ],
   "source": [
    "from Data_Handler.DataReader import DataReader \n",
    "dataReader=DataReader()\n",
    "'''urm=dataReader.load_augmented_binary_urm()\n",
    "powerful_urm=dataReader.load_powerful_binary_urm()\n",
    "URM_pad,icm = dataReader.pad_with_zeros_ICMandURM(urm)\n",
    "URM_train, URM_validation = split_train_in_two_percentage_global_sample(urm, train_percentage = 0.9)\n",
    "train_powerful, val_powerful = split_train_in_two_percentage_global_sample(powerful_urm, train_percentage = 0.9)\n",
    "train_pad, val_pad = split_train_in_two_percentage_global_sample(URM_pad, train_percentage = 0.9)'''\n",
    "\n",
    "URM = dataReader.load_augmented_binary_urm()\n",
    "URM_aug,icm = dataReader.pad_with_zeros_ICMandURM(URM)\n",
    "\n",
    "URM_train_aug, URM_validation = split_train_in_two_percentage_global_sample(URM_aug, train_percentage = 0.9)\n",
    "URM_train_pow = dataReader.stackMatrixes(URM_train_aug)"
   ]
  },
  {
   "cell_type": "code",
   "execution_count": 10,
   "metadata": {},
   "outputs": [
    {
     "data": {
      "text/plain": [
       "(array([61, 17, 95, ..., 21, 49, 22], dtype=int32), (41629,))"
      ]
     },
     "execution_count": 10,
     "metadata": {},
     "output_type": "execute_result"
    }
   ],
   "source": [
    "profile_length = np.ediff1d(sps.csr_matrix(URM_train_aug).indptr)\n",
    "profile_length, profile_length.shape"
   ]
  },
  {
   "cell_type": "code",
   "execution_count": 11,
   "metadata": {},
   "outputs": [
    {
     "data": {
      "text/plain": [
       "4162"
      ]
     },
     "execution_count": 11,
     "metadata": {},
     "output_type": "execute_result"
    }
   ],
   "source": [
    "block_size = int(len(profile_length)*0.1)\n",
    "block_size"
   ]
  },
  {
   "cell_type": "code",
   "execution_count": 12,
   "metadata": {},
   "outputs": [
    {
     "data": {
      "text/plain": [
       "array([38400, 27725, 38674, ..., 19407,  8693, 12454], dtype=int64)"
      ]
     },
     "execution_count": 12,
     "metadata": {},
     "output_type": "execute_result"
    }
   ],
   "source": [
    "sorted_users = np.argsort(profile_length)\n",
    "sorted_users"
   ]
  },
  {
   "cell_type": "code",
   "execution_count": 13,
   "metadata": {},
   "outputs": [
    {
     "name": "stdout",
     "output_type": "stream",
     "text": [
      "Group 0, #users in group 4162, average p.len 12.89, median 13.0, min 4, max 15\n",
      "Group 1, #users in group 4162, average p.len 16.67, median 17.0, min 15, max 18\n",
      "Group 2, #users in group 4162, average p.len 19.15, median 19.0, min 18, max 20\n",
      "Group 3, #users in group 4162, average p.len 21.62, median 22.0, min 20, max 23\n",
      "Group 4, #users in group 4162, average p.len 24.27, median 24.0, min 23, max 26\n",
      "Group 5, #users in group 4162, average p.len 27.55, median 28.0, min 26, max 29\n",
      "Group 6, #users in group 4162, average p.len 31.89, median 32.0, min 29, max 35\n",
      "Group 7, #users in group 4162, average p.len 38.27, median 38.0, min 35, max 43\n",
      "Group 8, #users in group 4162, average p.len 49.56, median 49.0, min 43, max 59\n",
      "Group 9, #users in group 4162, average p.len 92.73, median 77.0, min 59, max 517\n"
     ]
    }
   ],
   "source": [
    "for group_id in range(0, 10):\n",
    "    start_pos = group_id * block_size\n",
    "    end_pos = min((group_id+1) * block_size, len(profile_length))\n",
    "    \n",
    "    users_in_group = sorted_users[start_pos:end_pos]\n",
    "    \n",
    "    users_in_group_p_len = profile_length[users_in_group]\n",
    "    \n",
    "    print(\"Group {}, #users in group {}, average p.len {:.2f}, median {}, min {}, max {}\".format(\n",
    "        group_id, \n",
    "        users_in_group.shape[0],\n",
    "        users_in_group_p_len.mean(),\n",
    "        np.median(users_in_group_p_len),\n",
    "        users_in_group_p_len.min(),\n",
    "        users_in_group_p_len.max()))"
   ]
  },
  {
   "cell_type": "code",
   "execution_count": 14,
   "metadata": {},
   "outputs": [
    {
     "name": "stdout",
     "output_type": "stream",
     "text": [
      "SLIMElasticNetRecommender: Processed 1513 ( 5.4%) in 5.00 min. Items per second: 5.04\n"
     ]
    },
    {
     "ename": "KeyboardInterrupt",
     "evalue": "",
     "output_type": "error",
     "traceback": [
      "\u001b[1;31m---------------------------------------------------------------------------\u001b[0m",
      "\u001b[1;31mKeyboardInterrupt\u001b[0m                         Traceback (most recent call last)",
      "Cell \u001b[1;32mIn [14], line 28\u001b[0m\n\u001b[0;32m     26\u001b[0m \u001b[39mif\u001b[39;00m(label \u001b[39m==\u001b[39m \u001b[39m\"\u001b[39m\u001b[39mSLIMElasticNetRecommender\u001b[39m\u001b[39m\"\u001b[39m \u001b[39mor\u001b[39;00m label\u001b[39m==\u001b[39m \u001b[39m\"\u001b[39m\u001b[39mRP3betaRecommender\u001b[39m\u001b[39m\"\u001b[39m):\n\u001b[0;32m     27\u001b[0m     recommender_object \u001b[39m=\u001b[39m recommender_class(URM_train_pow)\n\u001b[1;32m---> 28\u001b[0m     recommender_object\u001b[39m.\u001b[39;49mfit()\n\u001b[0;32m     29\u001b[0m \u001b[39melif\u001b[39;00m label \u001b[39m==\u001b[39m \u001b[39m\"\u001b[39m\u001b[39mHybrid_Recommender_4\u001b[39m\u001b[39m\"\u001b[39m:\n\u001b[0;32m     30\u001b[0m     recommender_object \u001b[39m=\u001b[39m recommender_class(URM_train_aug, URM_train_pow, recommender_object_dict[\u001b[39m\"\u001b[39m\u001b[39mUserKNNCF\u001b[39m\u001b[39m\"\u001b[39m],recommender_object_dict[\u001b[39m\"\u001b[39m\u001b[39mRP3betaRecommender\u001b[39m\u001b[39m\"\u001b[39m], recommender_object_dict[\u001b[39m\"\u001b[39m\u001b[39mSLIMElasticNetRecommender\u001b[39m\u001b[39m\"\u001b[39m])\n",
      "File \u001b[1;32mc:\\Users\\andre\\AppData\\Local\\Programs\\Python\\Python310\\lib\\site-packages\\sklearn\\utils\\_testing.py:320\u001b[0m, in \u001b[0;36m_IgnoreWarnings.__call__.<locals>.wrapper\u001b[1;34m(*args, **kwargs)\u001b[0m\n\u001b[0;32m    318\u001b[0m \u001b[39mwith\u001b[39;00m warnings\u001b[39m.\u001b[39mcatch_warnings():\n\u001b[0;32m    319\u001b[0m     warnings\u001b[39m.\u001b[39msimplefilter(\u001b[39m\"\u001b[39m\u001b[39mignore\u001b[39m\u001b[39m\"\u001b[39m, \u001b[39mself\u001b[39m\u001b[39m.\u001b[39mcategory)\n\u001b[1;32m--> 320\u001b[0m     \u001b[39mreturn\u001b[39;00m fn(\u001b[39m*\u001b[39margs, \u001b[39m*\u001b[39m\u001b[39m*\u001b[39mkwargs)\n",
      "File \u001b[1;32mc:\\rec-sys-challenge\\Recommenders\\SLIM\\SLIMElasticNetRecommender.py:87\u001b[0m, in \u001b[0;36mSLIMElasticNetRecommender.fit\u001b[1;34m(self, l1_ratio, alpha, positive_only, topK)\u001b[0m\n\u001b[0;32m     84\u001b[0m URM_train\u001b[39m.\u001b[39mdata[start_pos: end_pos] \u001b[39m=\u001b[39m \u001b[39m0.0\u001b[39m\n\u001b[0;32m     86\u001b[0m \u001b[39m# fit one ElasticNet model per column\u001b[39;00m\n\u001b[1;32m---> 87\u001b[0m \u001b[39mself\u001b[39;49m\u001b[39m.\u001b[39;49mmodel\u001b[39m.\u001b[39;49mfit(URM_train, y)\n\u001b[0;32m     89\u001b[0m \u001b[39m# self.model.coef_ contains the coefficient of the ElasticNet model\u001b[39;00m\n\u001b[0;32m     90\u001b[0m \u001b[39m# let's keep only the non-zero values\u001b[39;00m\n\u001b[0;32m     91\u001b[0m nonzero_model_coef_index \u001b[39m=\u001b[39m \u001b[39mself\u001b[39m\u001b[39m.\u001b[39mmodel\u001b[39m.\u001b[39msparse_coef_\u001b[39m.\u001b[39mindices\n",
      "File \u001b[1;32mc:\\Users\\andre\\AppData\\Local\\Programs\\Python\\Python310\\lib\\site-packages\\sklearn\\linear_model\\_coordinate_descent.py:1054\u001b[0m, in \u001b[0;36mElasticNet.fit\u001b[1;34m(self, X, y, sample_weight, check_input)\u001b[0m\n\u001b[0;32m   1052\u001b[0m \u001b[39melse\u001b[39;00m:\n\u001b[0;32m   1053\u001b[0m     this_Xy \u001b[39m=\u001b[39m \u001b[39mNone\u001b[39;00m\n\u001b[1;32m-> 1054\u001b[0m _, this_coef, this_dual_gap, this_iter \u001b[39m=\u001b[39m \u001b[39mself\u001b[39;49m\u001b[39m.\u001b[39;49mpath(\n\u001b[0;32m   1055\u001b[0m     X,\n\u001b[0;32m   1056\u001b[0m     y[:, k],\n\u001b[0;32m   1057\u001b[0m     l1_ratio\u001b[39m=\u001b[39;49m\u001b[39mself\u001b[39;49m\u001b[39m.\u001b[39;49ml1_ratio,\n\u001b[0;32m   1058\u001b[0m     eps\u001b[39m=\u001b[39;49m\u001b[39mNone\u001b[39;49;00m,\n\u001b[0;32m   1059\u001b[0m     n_alphas\u001b[39m=\u001b[39;49m\u001b[39mNone\u001b[39;49;00m,\n\u001b[0;32m   1060\u001b[0m     alphas\u001b[39m=\u001b[39;49m[alpha],\n\u001b[0;32m   1061\u001b[0m     precompute\u001b[39m=\u001b[39;49mprecompute,\n\u001b[0;32m   1062\u001b[0m     Xy\u001b[39m=\u001b[39;49mthis_Xy,\n\u001b[0;32m   1063\u001b[0m     copy_X\u001b[39m=\u001b[39;49m\u001b[39mTrue\u001b[39;49;00m,\n\u001b[0;32m   1064\u001b[0m     coef_init\u001b[39m=\u001b[39;49mcoef_[k],\n\u001b[0;32m   1065\u001b[0m     verbose\u001b[39m=\u001b[39;49m\u001b[39mFalse\u001b[39;49;00m,\n\u001b[0;32m   1066\u001b[0m     return_n_iter\u001b[39m=\u001b[39;49m\u001b[39mTrue\u001b[39;49;00m,\n\u001b[0;32m   1067\u001b[0m     positive\u001b[39m=\u001b[39;49m\u001b[39mself\u001b[39;49m\u001b[39m.\u001b[39;49mpositive,\n\u001b[0;32m   1068\u001b[0m     check_input\u001b[39m=\u001b[39;49m\u001b[39mFalse\u001b[39;49;00m,\n\u001b[0;32m   1069\u001b[0m     \u001b[39m# from here on **params\u001b[39;49;00m\n\u001b[0;32m   1070\u001b[0m     tol\u001b[39m=\u001b[39;49m\u001b[39mself\u001b[39;49m\u001b[39m.\u001b[39;49mtol,\n\u001b[0;32m   1071\u001b[0m     X_offset\u001b[39m=\u001b[39;49mX_offset,\n\u001b[0;32m   1072\u001b[0m     X_scale\u001b[39m=\u001b[39;49mX_scale,\n\u001b[0;32m   1073\u001b[0m     max_iter\u001b[39m=\u001b[39;49m\u001b[39mself\u001b[39;49m\u001b[39m.\u001b[39;49mmax_iter,\n\u001b[0;32m   1074\u001b[0m     random_state\u001b[39m=\u001b[39;49m\u001b[39mself\u001b[39;49m\u001b[39m.\u001b[39;49mrandom_state,\n\u001b[0;32m   1075\u001b[0m     selection\u001b[39m=\u001b[39;49m\u001b[39mself\u001b[39;49m\u001b[39m.\u001b[39;49mselection,\n\u001b[0;32m   1076\u001b[0m     sample_weight\u001b[39m=\u001b[39;49msample_weight,\n\u001b[0;32m   1077\u001b[0m )\n\u001b[0;32m   1078\u001b[0m coef_[k] \u001b[39m=\u001b[39m this_coef[:, \u001b[39m0\u001b[39m]\n\u001b[0;32m   1079\u001b[0m dual_gaps_[k] \u001b[39m=\u001b[39m this_dual_gap[\u001b[39m0\u001b[39m]\n",
      "File \u001b[1;32mc:\\Users\\andre\\AppData\\Local\\Programs\\Python\\Python310\\lib\\site-packages\\sklearn\\linear_model\\_coordinate_descent.py:609\u001b[0m, in \u001b[0;36menet_path\u001b[1;34m(X, y, l1_ratio, eps, n_alphas, alphas, precompute, Xy, copy_X, coef_init, verbose, return_n_iter, positive, check_input, **params)\u001b[0m\n\u001b[0;32m    607\u001b[0m l2_reg \u001b[39m=\u001b[39m alpha \u001b[39m*\u001b[39m (\u001b[39m1.0\u001b[39m \u001b[39m-\u001b[39m l1_ratio) \u001b[39m*\u001b[39m n_samples\n\u001b[0;32m    608\u001b[0m \u001b[39mif\u001b[39;00m \u001b[39mnot\u001b[39;00m multi_output \u001b[39mand\u001b[39;00m sparse\u001b[39m.\u001b[39misspmatrix(X):\n\u001b[1;32m--> 609\u001b[0m     model \u001b[39m=\u001b[39m cd_fast\u001b[39m.\u001b[39;49msparse_enet_coordinate_descent(\n\u001b[0;32m    610\u001b[0m         w\u001b[39m=\u001b[39;49mcoef_,\n\u001b[0;32m    611\u001b[0m         alpha\u001b[39m=\u001b[39;49ml1_reg,\n\u001b[0;32m    612\u001b[0m         beta\u001b[39m=\u001b[39;49ml2_reg,\n\u001b[0;32m    613\u001b[0m         X_data\u001b[39m=\u001b[39;49mX\u001b[39m.\u001b[39;49mdata,\n\u001b[0;32m    614\u001b[0m         X_indices\u001b[39m=\u001b[39;49mX\u001b[39m.\u001b[39;49mindices,\n\u001b[0;32m    615\u001b[0m         X_indptr\u001b[39m=\u001b[39;49mX\u001b[39m.\u001b[39;49mindptr,\n\u001b[0;32m    616\u001b[0m         y\u001b[39m=\u001b[39;49my,\n\u001b[0;32m    617\u001b[0m         sample_weight\u001b[39m=\u001b[39;49msample_weight,\n\u001b[0;32m    618\u001b[0m         X_mean\u001b[39m=\u001b[39;49mX_sparse_scaling,\n\u001b[0;32m    619\u001b[0m         max_iter\u001b[39m=\u001b[39;49mmax_iter,\n\u001b[0;32m    620\u001b[0m         tol\u001b[39m=\u001b[39;49mtol,\n\u001b[0;32m    621\u001b[0m         rng\u001b[39m=\u001b[39;49mrng,\n\u001b[0;32m    622\u001b[0m         random\u001b[39m=\u001b[39;49mrandom,\n\u001b[0;32m    623\u001b[0m         positive\u001b[39m=\u001b[39;49mpositive,\n\u001b[0;32m    624\u001b[0m     )\n\u001b[0;32m    625\u001b[0m \u001b[39melif\u001b[39;00m multi_output:\n\u001b[0;32m    626\u001b[0m     model \u001b[39m=\u001b[39m cd_fast\u001b[39m.\u001b[39menet_coordinate_descent_multi_task(\n\u001b[0;32m    627\u001b[0m         coef_, l1_reg, l2_reg, X, y, max_iter, tol, rng, random\n\u001b[0;32m    628\u001b[0m     )\n",
      "\u001b[1;31mKeyboardInterrupt\u001b[0m: "
     ]
    }
   ],
   "source": [
    "from Recommenders.KNN.UserKNNCFRecommender import UserKNNCFRecommender\n",
    "from Recommenders.KNN.ItemKNNCFRecommender import ItemKNNCFRecommender\n",
    "from Recommenders.GraphBased.RP3betaRecommender import RP3betaRecommender\n",
    "from Recommenders.KNN.ItemKNNCBFRecommender import ItemKNNCBFRecommender\n",
    "from Recommenders.EASE_R.EASE_R_Recommender import EASE_R_Recommender\n",
    "from Recommenders.SLIM.SLIMElasticNetRecommender import SLIMElasticNetRecommender\n",
    "from hybrid import HybridRecommender_4\n",
    "from Recommenders.KNN.ItemKNN_CFCBF_Hybrid_Recommender import ItemKNN_CFCBF_Hybrid_Recommender\n",
    "from Recommenders.FactorizationMachines.LightFMRecommender import LightFMItemHybridRecommender\n",
    "\n",
    "MAP_recommender_per_group = {}\n",
    "\n",
    "collaborative_recommender_class = {\n",
    "        \"SLIMElasticNetRecommender\": SLIMElasticNetRecommender,\n",
    "        \"UserKNNCF\": UserKNNCFRecommender,\n",
    "        \"ItemKNNCF\": ItemKNNCFRecommender,\n",
    "        \"RP3betaRecommender\": RP3betaRecommender,\n",
    "        \"EASE_R\": EASE_R_Recommender,\n",
    "        \"Hybrid_Recommender_4\" : HybridRecommender_4,\n",
    "}\n",
    "\n",
    "recommender_object_dict = {}\n",
    "recommended_items_for_each_user = {}\n",
    "\n",
    "for label, recommender_class in collaborative_recommender_class.items():\n",
    "    if(label == \"SLIMElasticNetRecommender\" or label== \"RP3betaRecommender\"):\n",
    "        recommender_object = recommender_class(URM_train_pow)\n",
    "        recommender_object.fit()\n",
    "    elif label == \"Hybrid_Recommender_4\":\n",
    "        recommender_object = recommender_class(URM_train_aug, URM_train_pow, recommender_object_dict[\"UserKNNCF\"],recommender_object_dict[\"RP3betaRecommender\"], recommender_object_dict[\"SLIMElasticNetRecommender\"])\n",
    "        recommender_object.fit(UserKNNCF_tier1_weight=0.9, RP3beta_pow_tier1_weight=0.6,UserKNNCF_tier2_weight=0.7, RP3beta_pow_tier2_weight=0.9, RP3beta_pow_tier3_weight=0.6, S_SLIM_tier3_weight=1.0)\n",
    "\n",
    "    else:\n",
    "        recommender_object = recommender_class(URM_train_aug)\n",
    "        recommender_object.fit()\n",
    "    recommender_object_dict[label] = recommender_object\n"
   ]
  },
  {
   "cell_type": "code",
   "execution_count": null,
   "metadata": {},
   "outputs": [
    {
     "name": "stdout",
     "output_type": "stream",
     "text": [
      "EvaluatorHoldout: Ignoring 2823 ( 6.8%) Users that have less than 1 test interactions\n"
     ]
    }
   ],
   "source": [
    "evaluator=EvaluatorHoldout(URM_validation, cutoff_list=[10])"
   ]
  },
  {
   "cell_type": "code",
   "execution_count": null,
   "metadata": {},
   "outputs": [
    {
     "name": "stdout",
     "output_type": "stream",
     "text": [
      "Group 0, #users in group 4162, average p.len 12.88, median 13.0, min 4, max 15\n",
      "EvaluatorHoldout: Ignoring 2823 ( 6.8%) Users that have less than 1 test interactions\n",
      "EvaluatorHoldout: Ignoring 37467 Users\n",
      "EvaluatorHoldout: Processed 3618 (100.0%) in 1.98 sec. Users per second: 1828\n",
      "EvaluatorHoldout: Processed 3618 (100.0%) in 2.36 sec. Users per second: 1534\n",
      "EvaluatorHoldout: Processed 3618 (100.0%) in 2.65 sec. Users per second: 1363\n",
      "EvaluatorHoldout: Processed 3618 (100.0%) in 1.76 sec. Users per second: 2053\n",
      "EvaluatorHoldout: Processed 3618 (100.0%) in 1.50 sec. Users per second: 2416\n",
      "EvaluatorHoldout: Processed 3618 (100.0%) in 1.97 sec. Users per second: 1832\n",
      "EvaluatorHoldout: Processed 3618 (100.0%) in 5.81 sec. Users per second: 623\n",
      "Group 1, #users in group 4162, average p.len 16.66, median 17.0, min 15, max 18\n",
      "EvaluatorHoldout: Ignoring 2823 ( 6.8%) Users that have less than 1 test interactions\n",
      "EvaluatorHoldout: Ignoring 37467 Users\n",
      "EvaluatorHoldout: Processed 3647 (100.0%) in 2.15 sec. Users per second: 1700\n",
      "EvaluatorHoldout: Processed 3647 (100.0%) in 2.37 sec. Users per second: 1536\n",
      "EvaluatorHoldout: Processed 3647 (100.0%) in 2.73 sec. Users per second: 1336\n",
      "EvaluatorHoldout: Processed 3647 (100.0%) in 1.83 sec. Users per second: 1992\n",
      "EvaluatorHoldout: Processed 3647 (100.0%) in 1.45 sec. Users per second: 2509\n",
      "EvaluatorHoldout: Processed 3647 (100.0%) in 1.92 sec. Users per second: 1897\n",
      "EvaluatorHoldout: Processed 3647 (100.0%) in 5.97 sec. Users per second: 611\n",
      "Group 2, #users in group 4162, average p.len 19.15, median 19.0, min 18, max 20\n",
      "EvaluatorHoldout: Ignoring 2823 ( 6.8%) Users that have less than 1 test interactions\n",
      "EvaluatorHoldout: Ignoring 37467 Users\n",
      "EvaluatorHoldout: Processed 3710 (100.0%) in 2.29 sec. Users per second: 1620\n",
      "EvaluatorHoldout: Processed 3710 (100.0%) in 2.46 sec. Users per second: 1509\n",
      "EvaluatorHoldout: Processed 3710 (100.0%) in 2.90 sec. Users per second: 1278\n",
      "EvaluatorHoldout: Processed 3710 (100.0%) in 1.94 sec. Users per second: 1915\n",
      "EvaluatorHoldout: Processed 3710 (100.0%) in 1.51 sec. Users per second: 2464\n",
      "EvaluatorHoldout: Processed 3710 (100.0%) in 1.96 sec. Users per second: 1889\n",
      "EvaluatorHoldout: Processed 3710 (100.0%) in 6.07 sec. Users per second: 611\n",
      "Group 3, #users in group 4162, average p.len 21.58, median 22.0, min 20, max 23\n",
      "EvaluatorHoldout: Ignoring 2823 ( 6.8%) Users that have less than 1 test interactions\n",
      "EvaluatorHoldout: Ignoring 37467 Users\n",
      "EvaluatorHoldout: Processed 3785 (100.0%) in 2.45 sec. Users per second: 1547\n",
      "EvaluatorHoldout: Processed 3785 (100.0%) in 2.54 sec. Users per second: 1490\n",
      "EvaluatorHoldout: Processed 3785 (100.0%) in 3.05 sec. Users per second: 1242\n",
      "EvaluatorHoldout: Processed 3785 (100.0%) in 2.09 sec. Users per second: 1809\n",
      "EvaluatorHoldout: Processed 3785 (100.0%) in 1.54 sec. Users per second: 2464\n",
      "EvaluatorHoldout: Processed 3785 (100.0%) in 2.04 sec. Users per second: 1855\n",
      "EvaluatorHoldout: Processed 3785 (100.0%) in 6.37 sec. Users per second: 594\n",
      "Group 4, #users in group 4162, average p.len 24.27, median 24.0, min 23, max 26\n",
      "EvaluatorHoldout: Ignoring 2823 ( 6.8%) Users that have less than 1 test interactions\n",
      "EvaluatorHoldout: Ignoring 37467 Users\n",
      "EvaluatorHoldout: Processed 3837 (100.0%) in 2.62 sec. Users per second: 1466\n",
      "EvaluatorHoldout: Processed 3837 (100.0%) in 2.70 sec. Users per second: 1420\n",
      "EvaluatorHoldout: Processed 3837 (100.0%) in 3.17 sec. Users per second: 1209\n",
      "EvaluatorHoldout: Processed 3837 (100.0%) in 2.12 sec. Users per second: 1811\n",
      "EvaluatorHoldout: Processed 3837 (100.0%) in 1.51 sec. Users per second: 2546\n",
      "EvaluatorHoldout: Processed 3837 (100.0%) in 2.03 sec. Users per second: 1889\n",
      "EvaluatorHoldout: Processed 3837 (100.0%) in 6.68 sec. Users per second: 574\n",
      "Group 5, #users in group 4162, average p.len 27.54, median 28.0, min 26, max 29\n",
      "EvaluatorHoldout: Ignoring 2823 ( 6.8%) Users that have less than 1 test interactions\n",
      "EvaluatorHoldout: Ignoring 37467 Users\n",
      "EvaluatorHoldout: Processed 3888 (100.0%) in 2.83 sec. Users per second: 1375\n",
      "EvaluatorHoldout: Processed 3888 (100.0%) in 2.86 sec. Users per second: 1357\n",
      "EvaluatorHoldout: Processed 3888 (100.0%) in 3.30 sec. Users per second: 1178\n",
      "EvaluatorHoldout: Processed 3888 (100.0%) in 2.22 sec. Users per second: 1753\n",
      "EvaluatorHoldout: Processed 3888 (100.0%) in 1.47 sec. Users per second: 2647\n",
      "EvaluatorHoldout: Processed 3888 (100.0%) in 2.02 sec. Users per second: 1926\n",
      "EvaluatorHoldout: Processed 3888 (100.0%) in 6.35 sec. Users per second: 612\n",
      "Group 6, #users in group 4162, average p.len 31.91, median 32.0, min 29, max 35\n",
      "EvaluatorHoldout: Ignoring 2823 ( 6.8%) Users that have less than 1 test interactions\n",
      "EvaluatorHoldout: Ignoring 37467 Users\n",
      "EvaluatorHoldout: Processed 3974 (100.0%) in 3.01 sec. Users per second: 1322\n",
      "EvaluatorHoldout: Processed 3974 (100.0%) in 3.14 sec. Users per second: 1268\n",
      "EvaluatorHoldout: Processed 3974 (100.0%) in 3.54 sec. Users per second: 1122\n",
      "EvaluatorHoldout: Processed 3974 (100.0%) in 2.45 sec. Users per second: 1624\n",
      "EvaluatorHoldout: Processed 3974 (100.0%) in 1.49 sec. Users per second: 2658\n",
      "EvaluatorHoldout: Processed 3974 (100.0%) in 2.23 sec. Users per second: 1781\n",
      "EvaluatorHoldout: Processed 3974 (100.0%) in 5.01 sec. Users per second: 793\n",
      "Group 7, #users in group 4162, average p.len 38.37, median 38.0, min 35, max 43\n",
      "EvaluatorHoldout: Ignoring 2823 ( 6.8%) Users that have less than 1 test interactions\n",
      "EvaluatorHoldout: Ignoring 37467 Users\n",
      "EvaluatorHoldout: Processed 4053 (100.0%) in 3.36 sec. Users per second: 1208\n",
      "EvaluatorHoldout: Processed 4053 (100.0%) in 3.58 sec. Users per second: 1133\n",
      "EvaluatorHoldout: Processed 4053 (100.0%) in 3.77 sec. Users per second: 1076\n",
      "EvaluatorHoldout: Processed 4053 (100.0%) in 2.54 sec. Users per second: 1593\n",
      "EvaluatorHoldout: Processed 4053 (100.0%) in 1.50 sec. Users per second: 2701\n",
      "EvaluatorHoldout: Processed 4053 (100.0%) in 2.12 sec. Users per second: 1915\n",
      "EvaluatorHoldout: Processed 4053 (100.0%) in 5.34 sec. Users per second: 759\n",
      "Group 8, #users in group 4162, average p.len 49.52, median 49.0, min 43, max 59\n",
      "EvaluatorHoldout: Ignoring 2823 ( 6.8%) Users that have less than 1 test interactions\n",
      "EvaluatorHoldout: Ignoring 37467 Users\n",
      "EvaluatorHoldout: Processed 4126 (100.0%) in 3.60 sec. Users per second: 1147\n",
      "EvaluatorHoldout: Processed 4126 (100.0%) in 4.03 sec. Users per second: 1023\n",
      "EvaluatorHoldout: Processed 4126 (100.0%) in 4.14 sec. Users per second: 996\n",
      "EvaluatorHoldout: Processed 4126 (100.0%) in 2.80 sec. Users per second: 1476\n",
      "EvaluatorHoldout: Processed 4126 (100.0%) in 1.60 sec. Users per second: 2571\n",
      "EvaluatorHoldout: Processed 4126 (100.0%) in 2.15 sec. Users per second: 1922\n",
      "EvaluatorHoldout: Processed 4126 (100.0%) in 5.65 sec. Users per second: 730\n",
      "Group 9, #users in group 4162, average p.len 92.71, median 77.0, min 59, max 517\n",
      "EvaluatorHoldout: Ignoring 2823 ( 6.8%) Users that have less than 1 test interactions\n",
      "EvaluatorHoldout: Ignoring 37467 Users\n",
      "EvaluatorHoldout: Processed 4159 (100.0%) in 4.18 sec. Users per second: 995\n",
      "EvaluatorHoldout: Processed 4159 (100.0%) in 4.60 sec. Users per second: 905\n",
      "EvaluatorHoldout: Processed 4159 (100.0%) in 5.13 sec. Users per second: 810\n",
      "EvaluatorHoldout: Processed 4159 (100.0%) in 3.40 sec. Users per second: 1224\n",
      "EvaluatorHoldout: Processed 4159 (100.0%) in 1.66 sec. Users per second: 2508\n",
      "EvaluatorHoldout: Processed 4159 (100.0%) in 2.18 sec. Users per second: 1910\n",
      "EvaluatorHoldout: Processed 4159 (100.0%) in 6.26 sec. Users per second: 664\n"
     ]
    }
   ],
   "source": [
    "from evaluator import evaluate\n",
    "cutoff = 10\n",
    "\n",
    "for group_id in range(0, 10):\n",
    "    \n",
    "    start_pos = group_id*block_size\n",
    "    end_pos = min((group_id+1)*block_size, len(profile_length))\n",
    "    \n",
    "    users_in_group = sorted_users[start_pos:end_pos]\n",
    "    \n",
    "    users_in_group_p_len = profile_length[users_in_group]\n",
    "    \n",
    "    print(\"Group {}, #users in group {}, average p.len {:.2f}, median {}, min {}, max {}\".format(\n",
    "        group_id, \n",
    "        users_in_group.shape[0],\n",
    "        users_in_group_p_len.mean(),\n",
    "        np.median(users_in_group_p_len),\n",
    "        users_in_group_p_len.min(),\n",
    "        users_in_group_p_len.max()))\n",
    "    \n",
    "    \n",
    "    users_not_in_group_flag = np.isin(sorted_users, users_in_group, invert=True)\n",
    "    users_not_in_group = sorted_users[users_not_in_group_flag]\n",
    "    \n",
    "    evaluator_test = EvaluatorHoldout(URM_validation, cutoff_list=[cutoff], ignore_users=users_not_in_group)\n",
    "    #evaluator_power = EvaluatorHoldout(val_powerful, cutoff_list=[cutoff], ignore_users=users_not_in_group)\n",
    "    #evaluator_pad = EvaluatorHoldout(val_pad, cutoff_list=[cutoff], ignore_users=users_not_in_group)\n",
    "\n",
    "    for label, recommender in recommender_object_dict.items():\n",
    "        '''if(label == \"SLIMElasticNetRecommender\"):\n",
    "            #map=evaluate(recommended_items_for_each_user,val_powerful,target)\n",
    "            result_df, _ = evaluator_power.evaluateRecommender(recommender)'''\n",
    "        \n",
    "        #map=evaluate(recommended_items_for_each_user,URM_validation,target)\n",
    "        result_df, _ = evaluator_test.evaluateRecommender(recommender)\n",
    "            \n",
    "        if label in MAP_recommender_per_group:\n",
    "            MAP_recommender_per_group[label].append(result_df.loc[cutoff][\"MAP\"])\n",
    "            #MAP_recommender_per_group[label].append(map)\n",
    "        else:\n",
    "            MAP_recommender_per_group[label] = [result_df.loc[cutoff][\"MAP\"]]\n",
    "            #MAP_recommender_per_group[label] = [map]\n"
   ]
  },
  {
   "cell_type": "code",
   "execution_count": null,
   "metadata": {},
   "outputs": [
    {
     "name": "stdout",
     "output_type": "stream",
     "text": [
      "10\n",
      "10\n",
      "10\n",
      "10\n",
      "10\n",
      "10\n",
      "10\n"
     ]
    },
    {
     "data": {
      "image/png": "[encoded data removed]",
      "text/plain": [
       "<Figure size 1600x900 with 1 Axes>"
      ]
     },
     "metadata": {},
     "output_type": "display_data"
    }
   ],
   "source": [
    "import matplotlib.pyplot as plt\n",
    "%matplotlib inline  \n",
    "\n",
    "_ = plt.figure(figsize=(16, 9))\n",
    "for label, recommender in recommender_object_dict.items():\n",
    "    results = MAP_recommender_per_group[label]\n",
    "    plt.scatter(x=np.arange(0,len(results)), y=results, label=label)\n",
    "    print(len(results))\n",
    "plt.ylabel('MAP')\n",
    "plt.xlabel('User Group')\n",
    "plt.legend()\n",
    "plt.show()"
   ]
  }
 ],
 "metadata": {
  "kernelspec": {
   "display_name": "Python 3",
   "language": "python",
   "name": "python3"
  },
  "language_info": {
   "codemirror_mode": {
    "name": "ipython",
    "version": 3
   },
   "file_extension": ".py",
   "mimetype": "text/x-python",
   "name": "python",
   "nbconvert_exporter": "python",
   "pygments_lexer": "ipython3",
   "version": "3.10.8"
  },
  "orig_nbformat": 4,
  "vscode": {
   "interpreter": {
    "hash": "6847c98a8f86b01c6a19c518cd2f366693b80566b266804d5ca763cbb223f52b"
   }
  }
 },
 "nbformat": 4,
 "nbformat_minor": 2
}
