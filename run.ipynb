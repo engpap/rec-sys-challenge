{
 "cells": [
  {
   "cell_type": "code",
   "execution_count": 3,
   "metadata": {},
   "outputs": [
    {
     "name": "stdout",
     "output_type": "stream",
     "text": [
      "Using randomized datasets. k=5, val_percentage=0.1\n",
      "Starting optimization: N_folds=5, Recommender=HybridRecommender_2\n",
      "Iteration No: 1 started. Evaluating function at random point.\n"
     ]
    },
    {
     "ename": "TypeError",
     "evalue": "HybridRecommender_2.fit() got an unexpected keyword argument 'ItemKNNCFRecommenderWeight'",
     "output_type": "error",
     "traceback": [
      "\u001b[1;31m---------------------------------------------------------------------------\u001b[0m",
      "\u001b[1;31mTypeError\u001b[0m                                 Traceback (most recent call last)",
      "Cell \u001b[1;32mIn [3], line 19\u001b[0m\n\u001b[0;32m     16\u001b[0m n_random_starts\u001b[39m=\u001b[39m\u001b[39m1\u001b[39m\n\u001b[0;32m     18\u001b[0m rec_class \u001b[39m=\u001b[39m HybridRecommender_2\n\u001b[1;32m---> 19\u001b[0m optimize_parameters(\n\u001b[0;32m     20\u001b[0m     URMrecommender_class\u001b[39m=\u001b[39;49mrec_class,\n\u001b[0;32m     21\u001b[0m     validation_percentage\u001b[39m=\u001b[39;49mval_percentage,\n\u001b[0;32m     22\u001b[0m     n_random_starts\u001b[39m=\u001b[39;49mn_random_starts,\n\u001b[0;32m     23\u001b[0m     k\u001b[39m=\u001b[39;49mk,\n\u001b[0;32m     24\u001b[0m     n_calls\u001b[39m=\u001b[39;49mn_calls,\n\u001b[0;32m     25\u001b[0m     limit_at\u001b[39m=\u001b[39;49mlimit_at,\n\u001b[0;32m     26\u001b[0m     forest\u001b[39m=\u001b[39;49m\u001b[39mTrue\u001b[39;49;00m,\n\u001b[0;32m     27\u001b[0m     xi\u001b[39m=\u001b[39;49m\u001b[39m0.001\u001b[39;49m\n\u001b[0;32m     28\u001b[0m )\n",
      "File \u001b[1;32mc:\\rec-sys-challenge\\k_fold_optimization\\optimize_parameters.py:157\u001b[0m, in \u001b[0;36moptimize_parameters\u001b[1;34m(URMrecommender_class, n_calls, k, validation_percentage, n_random_starts, seed, limit_at, forest, xi)\u001b[0m\n\u001b[0;32m    137\u001b[0m     res_gp \u001b[39m=\u001b[39m skopt\u001b[39m.\u001b[39mgp_minimize(\n\u001b[0;32m    138\u001b[0m         objective,\n\u001b[0;32m    139\u001b[0m         space,\n\u001b[1;32m   (...)\u001b[0m\n\u001b[0;32m    154\u001b[0m         y0\u001b[39m=\u001b[39mys,\n\u001b[0;32m    155\u001b[0m     )\n\u001b[0;32m    156\u001b[0m \u001b[39melse\u001b[39;00m:\n\u001b[1;32m--> 157\u001b[0m     res_gp \u001b[39m=\u001b[39m skopt\u001b[39m.\u001b[39;49mforest_minimize(\n\u001b[0;32m    158\u001b[0m         objective,\n\u001b[0;32m    159\u001b[0m         space,\n\u001b[0;32m    160\u001b[0m         n_calls\u001b[39m=\u001b[39;49mn_calls,\n\u001b[0;32m    161\u001b[0m         n_random_starts\u001b[39m=\u001b[39;49mn_random_starts,\n\u001b[0;32m    162\u001b[0m         verbose\u001b[39m=\u001b[39;49m\u001b[39mTrue\u001b[39;49;00m,\n\u001b[0;32m    163\u001b[0m         x0\u001b[39m=\u001b[39;49mxs,\n\u001b[0;32m    164\u001b[0m         y0\u001b[39m=\u001b[39;49mys,\n\u001b[0;32m    165\u001b[0m         acq_func\u001b[39m=\u001b[39;49m\u001b[39m\"\u001b[39;49m\u001b[39mEI\u001b[39;49m\u001b[39m\"\u001b[39;49m,\n\u001b[0;32m    166\u001b[0m         xi\u001b[39m=\u001b[39;49mxi\n\u001b[0;32m    167\u001b[0m     )\n\u001b[0;32m    169\u001b[0m \u001b[39mprint\u001b[39m(\u001b[39m\"\u001b[39m\u001b[39mWriting a total of \u001b[39m\u001b[39m{}\u001b[39;00m\u001b[39m points for \u001b[39m\u001b[39m{}\u001b[39;00m\u001b[39m. Newly added records: \u001b[39m\u001b[39m{}\u001b[39;00m\u001b[39m\"\u001b[39m\u001b[39m.\u001b[39mformat(\u001b[39mlen\u001b[39m(res_gp\u001b[39m.\u001b[39mx_iters), name,\n\u001b[0;32m    170\u001b[0m                                                                             n_calls))\n\u001b[0;32m    172\u001b[0m \u001b[39m# _store_xy(slim_name, res_gp.x_iters, res_gp.func_vals)\u001b[39;00m\n",
      "File \u001b[1;32mc:\\Users\\andre\\AppData\\Local\\Programs\\Python\\Python310\\lib\\site-packages\\skopt\\optimizer\\forest.py:186\u001b[0m, in \u001b[0;36mforest_minimize\u001b[1;34m(func, dimensions, base_estimator, n_calls, n_random_starts, n_initial_points, acq_func, initial_point_generator, x0, y0, random_state, verbose, callback, n_points, xi, kappa, n_jobs, model_queue_size)\u001b[0m\n\u001b[0;32m     10\u001b[0m \u001b[39mdef\u001b[39;00m \u001b[39mforest_minimize\u001b[39m(func, dimensions, base_estimator\u001b[39m=\u001b[39m\u001b[39m\"\u001b[39m\u001b[39mET\u001b[39m\u001b[39m\"\u001b[39m, n_calls\u001b[39m=\u001b[39m\u001b[39m100\u001b[39m,\n\u001b[0;32m     11\u001b[0m                     n_random_starts\u001b[39m=\u001b[39m\u001b[39mNone\u001b[39;00m, n_initial_points\u001b[39m=\u001b[39m\u001b[39m10\u001b[39m, acq_func\u001b[39m=\u001b[39m\u001b[39m\"\u001b[39m\u001b[39mEI\u001b[39m\u001b[39m\"\u001b[39m,\n\u001b[0;32m     12\u001b[0m                     initial_point_generator\u001b[39m=\u001b[39m\u001b[39m\"\u001b[39m\u001b[39mrandom\u001b[39m\u001b[39m\"\u001b[39m,\n\u001b[0;32m     13\u001b[0m                     x0\u001b[39m=\u001b[39m\u001b[39mNone\u001b[39;00m, y0\u001b[39m=\u001b[39m\u001b[39mNone\u001b[39;00m, random_state\u001b[39m=\u001b[39m\u001b[39mNone\u001b[39;00m, verbose\u001b[39m=\u001b[39m\u001b[39mFalse\u001b[39;00m,\n\u001b[0;32m     14\u001b[0m                     callback\u001b[39m=\u001b[39m\u001b[39mNone\u001b[39;00m, n_points\u001b[39m=\u001b[39m\u001b[39m10000\u001b[39m, xi\u001b[39m=\u001b[39m\u001b[39m0.01\u001b[39m, kappa\u001b[39m=\u001b[39m\u001b[39m1.96\u001b[39m,\n\u001b[0;32m     15\u001b[0m                     n_jobs\u001b[39m=\u001b[39m\u001b[39m1\u001b[39m, model_queue_size\u001b[39m=\u001b[39m\u001b[39mNone\u001b[39;00m):\n\u001b[0;32m     16\u001b[0m     \u001b[39m\"\"\"Sequential optimisation using decision trees.\u001b[39;00m\n\u001b[0;32m     17\u001b[0m \n\u001b[0;32m     18\u001b[0m \u001b[39m    A tree based regression model is used to model the expensive to evaluate\u001b[39;00m\n\u001b[1;32m   (...)\u001b[0m\n\u001b[0;32m    184\u001b[0m \u001b[39m        :class:`skopt.dummy_minimize`, :class:`skopt.gbrt_minimize`\u001b[39;00m\n\u001b[0;32m    185\u001b[0m \u001b[39m    \"\"\"\u001b[39;00m\n\u001b[1;32m--> 186\u001b[0m     \u001b[39mreturn\u001b[39;00m base_minimize(func, dimensions, base_estimator,\n\u001b[0;32m    187\u001b[0m                          n_calls\u001b[39m=\u001b[39;49mn_calls, n_points\u001b[39m=\u001b[39;49mn_points,\n\u001b[0;32m    188\u001b[0m                          n_random_starts\u001b[39m=\u001b[39;49mn_random_starts,\n\u001b[0;32m    189\u001b[0m                          n_initial_points\u001b[39m=\u001b[39;49mn_initial_points,\n\u001b[0;32m    190\u001b[0m                          initial_point_generator\u001b[39m=\u001b[39;49minitial_point_generator,\n\u001b[0;32m    191\u001b[0m                          x0\u001b[39m=\u001b[39;49mx0, y0\u001b[39m=\u001b[39;49my0, random_state\u001b[39m=\u001b[39;49mrandom_state,\n\u001b[0;32m    192\u001b[0m                          n_jobs\u001b[39m=\u001b[39;49mn_jobs,\n\u001b[0;32m    193\u001b[0m                          acq_func\u001b[39m=\u001b[39;49macq_func,\n\u001b[0;32m    194\u001b[0m                          xi\u001b[39m=\u001b[39;49mxi, kappa\u001b[39m=\u001b[39;49mkappa, verbose\u001b[39m=\u001b[39;49mverbose,\n\u001b[0;32m    195\u001b[0m                          callback\u001b[39m=\u001b[39;49mcallback, acq_optimizer\u001b[39m=\u001b[39;49m\u001b[39m\"\u001b[39;49m\u001b[39msampling\u001b[39;49m\u001b[39m\"\u001b[39;49m,\n\u001b[0;32m    196\u001b[0m                          model_queue_size\u001b[39m=\u001b[39;49mmodel_queue_size)\n",
      "File \u001b[1;32mc:\\Users\\andre\\AppData\\Local\\Programs\\Python\\Python310\\lib\\site-packages\\skopt\\optimizer\\base.py:299\u001b[0m, in \u001b[0;36mbase_minimize\u001b[1;34m(func, dimensions, base_estimator, n_calls, n_random_starts, n_initial_points, initial_point_generator, acq_func, acq_optimizer, x0, y0, random_state, verbose, callback, n_points, n_restarts_optimizer, xi, kappa, n_jobs, model_queue_size)\u001b[0m\n\u001b[0;32m    297\u001b[0m \u001b[39mfor\u001b[39;00m n \u001b[39min\u001b[39;00m \u001b[39mrange\u001b[39m(n_calls):\n\u001b[0;32m    298\u001b[0m     next_x \u001b[39m=\u001b[39m optimizer\u001b[39m.\u001b[39mask()\n\u001b[1;32m--> 299\u001b[0m     next_y \u001b[39m=\u001b[39m func(next_x)\n\u001b[0;32m    300\u001b[0m     result \u001b[39m=\u001b[39m optimizer\u001b[39m.\u001b[39mtell(next_x, next_y)\n\u001b[0;32m    301\u001b[0m     result\u001b[39m.\u001b[39mspecs \u001b[39m=\u001b[39m specs\n",
      "File \u001b[1;32mc:\\Users\\andre\\AppData\\Local\\Programs\\Python\\Python310\\lib\\site-packages\\skopt\\utils.py:789\u001b[0m, in \u001b[0;36muse_named_args.<locals>.decorator.<locals>.wrapper\u001b[1;34m(x)\u001b[0m\n\u001b[0;32m    786\u001b[0m arg_dict \u001b[39m=\u001b[39m {dim\u001b[39m.\u001b[39mname: value \u001b[39mfor\u001b[39;00m dim, value \u001b[39min\u001b[39;00m \u001b[39mzip\u001b[39m(dimensions, x)}\n\u001b[0;32m    788\u001b[0m \u001b[39m# Call the wrapped objective function with the named arguments.\u001b[39;00m\n\u001b[1;32m--> 789\u001b[0m objective_value \u001b[39m=\u001b[39m func(\u001b[39m*\u001b[39m\u001b[39m*\u001b[39marg_dict)\n\u001b[0;32m    791\u001b[0m \u001b[39mreturn\u001b[39;00m objective_value\n",
      "File \u001b[1;32mc:\\rec-sys-challenge\\k_fold_optimization\\optimize_parameters.py:98\u001b[0m, in \u001b[0;36moptimize_parameters.<locals>.objective\u001b[1;34m(**params)\u001b[0m\n\u001b[0;32m     96\u001b[0m scores \u001b[39m=\u001b[39m []\n\u001b[0;32m     97\u001b[0m \u001b[39mfor\u001b[39;00m recommender, test \u001b[39min\u001b[39;00m \u001b[39mzip\u001b[39m(recommenders, URM_tests):\n\u001b[1;32m---> 98\u001b[0m     recommender\u001b[39m.\u001b[39mfit(\u001b[39m*\u001b[39m\u001b[39m*\u001b[39mparams)\n\u001b[0;32m     99\u001b[0m     _, _, MAP \u001b[39m=\u001b[39m k_fold_optimization\u001b[39m.\u001b[39mevaluate\u001b[39m.\u001b[39mevaluate_algorithm(test, recommender)\n\u001b[0;32m    100\u001b[0m     scores\u001b[39m.\u001b[39mappend(\u001b[39m-\u001b[39mMAP)\n",
      "\u001b[1;31mTypeError\u001b[0m: HybridRecommender_2.fit() got an unexpected keyword argument 'ItemKNNCFRecommenderWeight'"
     ]
    }
   ],
   "source": [
    "from k_fold_optimization.optimize_parameters import optimize_parameters\n",
    "\n",
    "from Recommenders.SLIM.SLIMElasticNetRecommender import *\n",
    "from Recommenders.KNN.ItemKNNCFRecommender import ItemKNNCFRecommender\n",
    "from Recommenders.KNN.UserKNNCFRecommender import UserKNNCFRecommender\n",
    "from Recommenders.GraphBased.RP3betaRecommender import RP3betaRecommender\n",
    "from hybrid import *\n",
    "\n",
    "\n",
    "if __name__ == '__main__':\n",
    "    val_percentage = 0.1\n",
    "    k = 5  # old version: k=10\n",
    "    limit_at = 5\n",
    "    n_calls = 500\n",
    "\n",
    "    n_random_starts=1\n",
    "\n",
    "    rec_class = HybridRecommender_2\n",
    "    optimize_parameters(\n",
    "        URMrecommender_class=rec_class,\n",
    "        validation_percentage=val_percentage,\n",
    "        n_random_starts=n_random_starts,\n",
    "        k=k,\n",
    "        n_calls=n_calls,\n",
    "        limit_at=limit_at,\n",
    "        forest=True,\n",
    "        xi=0.001\n",
    "    )"
   ]
  }
 ],
 "metadata": {
  "kernelspec": {
   "display_name": "Python 3.10.8 64-bit",
   "language": "python",
   "name": "python3"
  },
  "language_info": {
   "codemirror_mode": {
    "name": "ipython",
    "version": 3
   },
   "file_extension": ".py",
   "mimetype": "text/x-python",
   "name": "python",
   "nbconvert_exporter": "python",
   "pygments_lexer": "ipython3",
   "version": "3.10.8"
  },
  "orig_nbformat": 4,
  "vscode": {
   "interpreter": {
    "hash": "6847c98a8f86b01c6a19c518cd2f366693b80566b266804d5ca763cbb223f52b"
   }
  }
 },
 "nbformat": 4,
 "nbformat_minor": 2
}
