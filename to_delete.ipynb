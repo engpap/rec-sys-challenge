{
 "cells": [
  {
   "cell_type": "code",
   "execution_count": 1,
   "metadata": {},
   "outputs": [
    {
     "name": "stdout",
     "output_type": "stream",
     "text": [
      "--->  23091\n",
      "==> 24507\n",
      "Warning: 2855 (6.86 %) of 41629 users have no sampled items\n",
      "ItemKNNCFRecommender: URM Detected 3461 (12.4%) items with no interactions.\n",
      "Similarity column 27968 (100.0%), 4313.03 column/sec. Elapsed time 6.48 sec\n",
      "UserKNNCFRecommender: URM Detected 3461 (12.4%) items with no interactions.\n",
      "Similarity column 41629 (100.0%), 1344.56 column/sec. Elapsed time 30.96 sec\n",
      "ListCombinationHybrid: URM Detected 3461 (12.4%) items with no interactions.\n"
     ]
    },
    {
     "name": "stderr",
     "output_type": "stream",
     "text": [
      "100%|██████████| 41116/41116 [02:08<00:00, 319.30it/s]\n",
      "100%|██████████| 41116/41116 [00:02<00:00, 15244.25it/s]"
     ]
    },
    {
     "name": "stdout",
     "output_type": "stream",
     "text": [
      "MAP score: 0.034229716072742056\n"
     ]
    },
    {
     "name": "stderr",
     "output_type": "stream",
     "text": [
      "\n"
     ]
    }
   ],
   "source": [
    "from hybrid import ListCombinationHybrid\n",
    "from Recommenders.KNN.ItemKNNCFRecommender import *\n",
    "from Recommenders.KNN.UserKNNCFRecommender import *\n",
    "from Data_Handler.DataReader import DataReader\n",
    "from evaluator import evaluate\n",
    "from tqdm import tqdm\n",
    "from Data_manager.split_functions.split_train_validation_random_holdout import split_train_in_two_percentage_global_sample\n",
    "\n",
    "dataReader = DataReader()\n",
    "\n",
    "target = dataReader.load_target()\n",
    "URM = dataReader.load_augmented_binary_urm()\n",
    "URM_aug, ICM = dataReader.pad_with_zeros_ICMandURM(URM)\n",
    "\n",
    "URM_train_aug, URM_validation = split_train_in_two_percentage_global_sample( URM_aug, train_percentage=0.9)\n",
    "\n",
    "ItemKNNCF = ItemKNNCFRecommender(URM_train_aug)\n",
    "ItemKNNCF.fit()\n",
    "\n",
    "UserKNNCF = UserKNNCFRecommender(URM_train_aug)\n",
    "UserKNNCF.fit()\n",
    "\n",
    "\n",
    "recommender = ListCombinationHybrid(URM_train_aug,ItemKNNCF,UserKNNCF)\n",
    "recommender.fit()\n",
    "\n",
    "recommended_items_for_each_user = {}\n",
    "for user_id in tqdm(target):\n",
    "    recommended_items = recommender.recommend(\n",
    "        user_id, cutoff=10, remove_seen_flag=True)\n",
    "    recommended_items_for_each_user[int(user_id)] = recommended_items\n",
    "\n",
    "# Evaluate recommended items\n",
    "map = evaluate(recommended_items_for_each_user, URM_validation, target)\n",
    "print('MAP score: {}'.format(map))\n"
   ]
  }
 ],
 "metadata": {
  "kernelspec": {
   "display_name": "Python 3",
   "language": "python",
   "name": "python3"
  },
  "language_info": {
   "codemirror_mode": {
    "name": "ipython",
    "version": 3
   },
   "file_extension": ".py",
   "mimetype": "text/x-python",
   "name": "python",
   "nbconvert_exporter": "python",
   "pygments_lexer": "ipython3",
   "version": "3.10.8"
  },
  "orig_nbformat": 4,
  "vscode": {
   "interpreter": {
    "hash": "6847c98a8f86b01c6a19c518cd2f366693b80566b266804d5ca763cbb223f52b"
   }
  }
 },
 "nbformat": 4,
 "nbformat_minor": 2
}
