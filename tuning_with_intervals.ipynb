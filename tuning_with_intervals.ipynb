{
 "cells": [
  {
   "cell_type": "code",
   "execution_count": 2,
   "metadata": {},
   "outputs": [],
   "source": [
    "from Recommenders.KNN.ItemKNNCFRecommender import ItemKNNCFRecommender\n",
    "from Evaluation.Evaluator import EvaluatorHoldout\n",
    "from Recommenders.MatrixFactorization.PureSVDRecommender import PureSVDRecommender\n",
    "from Recommenders.KNN.ItemKNNCBFRecommender import ItemKNNCBFRecommender\n",
    "from Recommenders.KNN.ItemKNNSimilarityHybridRecommender import ItemKNNSimilarityHybridRecommender\n",
    "from Data_manager.split_functions.split_train_validation_random_holdout import split_train_in_two_percentage_global_sample\n",
    "import numpy as np\n",
    "from operator import itemgetter\n",
    "\n",
    "import pandas as pd  # data processing, CSV file I/O (e.g. pd.read_csv)\n",
    "import scipy.sparse as sps"
   ]
  },
  {
   "cell_type": "code",
   "execution_count": 3,
   "metadata": {},
   "outputs": [],
   "source": [
    "from Data_Handler.DataReader import DataReader \n",
    "dataReader=DataReader()\n",
    "URM_all=dataReader.load_augmented_binary_urm()\n",
    "powerful_urm=dataReader.load_powerful_binary_urm()\n",
    "\n",
    "#URM_train, URM_validation = split_train_in_two_percentage_global_sample(urm, train_percentage = 0.9)\n",
    "#train_powerful, val_powerful = split_train_in_two_percentage_global_sample(powerful_urm, train_percentage = 0.9)"
   ]
  },
  {
   "cell_type": "code",
<<<<<<< HEAD
   "execution_count": 4,
=======
   "execution_count": 43,
>>>>>>> slim
   "metadata": {},
   "outputs": [
    {
     "name": "stdout",
     "output_type": "stream",
     "text": [
<<<<<<< HEAD
      "Warning: 319 (0.77 %) of 41629 users have no sampled items\n",
      "EvaluatorHoldout: Ignoring 319 ( 0.8%) Users that have less than 1 test interactions\n"
=======
      "Warning: 291 (0.70 %) of 41629 users have no sampled items\n",
      "(41629, 24507)\n",
      "(41629, 24507)\n",
      "EvaluatorHoldout: Ignoring 291 ( 0.7%) Users that have less than 1 test interactions\n"
>>>>>>> slim
     ]
    }
   ],
   "source": [
    "URM_train, URM_validation = split_train_in_two_percentage_global_sample(URM_all, train_percentage = 0.80)\n",
    "evaluator_validation = EvaluatorHoldout(URM_validation, cutoff_list=[10])"
   ]
  },
  {
   "cell_type": "code",
<<<<<<< HEAD
   "execution_count": 10,
=======
   "execution_count": 39,
>>>>>>> slim
   "metadata": {},
   "outputs": [
    {
     "name": "stdout",
     "output_type": "stream",
     "text": [
      "Unable to load Cython Compute_Similarity, reverting to Python\n",
<<<<<<< HEAD
      "Similarity column 24507 (100.0%), 1322.78 column/sec. Elapsed time 18.53 sec\n",
      "EvaluatorHoldout: Processed 41310 (100.0%) in 9.66 sec. Users per second: 4276\n",
      "       PRECISION PRECISION_RECALL_MIN_DEN    RECALL       MAP MAP_MIN_DEN  \\\n",
      "cutoff                                                                      \n",
      "10      0.058681                 0.079174  0.068587  0.029221    0.038956   \n",
      "\n",
      "             MRR      NDCG        F1  HIT_RATE ARHR_ALL_HITS  ...  \\\n",
      "cutoff                                                        ...   \n",
      "10      0.183422  0.082124  0.063248  0.366618      0.229251  ...   \n",
      "\n",
      "       COVERAGE_USER COVERAGE_USER_HIT USERS_IN_GT DIVERSITY_GINI  \\\n",
      "cutoff                                                              \n",
      "10          0.992337          0.363809    0.992337       0.043861   \n",
      "\n",
      "       SHANNON_ENTROPY RATIO_DIVERSITY_HERFINDAHL RATIO_DIVERSITY_GINI  \\\n",
      "cutoff                                                                   \n",
      "10            9.764294                   0.996596             0.086362   \n",
      "\n",
      "       RATIO_SHANNON_ENTROPY RATIO_AVERAGE_POPULARITY RATIO_NOVELTY  \n",
      "cutoff                                                               \n",
      "10                  0.723579                 3.000057      0.277008  \n",
      "\n",
      "[1 rows x 27 columns]\n",
      "Unable to load Cython Compute_Similarity, reverting to Python\n",
      "Similarity column 24507 (100.0%), 1775.64 column/sec. Elapsed time 13.80 sec\n",
      "EvaluatorHoldout: Processed 41310 (100.0%) in 9.74 sec. Users per second: 4242\n",
      "       PRECISION PRECISION_RECALL_MIN_DEN    RECALL      MAP MAP_MIN_DEN  \\\n",
      "cutoff                                                                     \n",
      "10      0.058669                 0.079165  0.068584  0.02921    0.038946   \n",
      "\n",
      "             MRR      NDCG       F1  HIT_RATE ARHR_ALL_HITS  ...  \\\n",
      "cutoff                                                       ...   \n",
      "10      0.183377  0.082107  0.06324  0.366618       0.22918  ...   \n",
      "\n",
      "       COVERAGE_USER COVERAGE_USER_HIT USERS_IN_GT DIVERSITY_GINI  \\\n",
      "cutoff                                                              \n",
      "10          0.992337          0.363809    0.992337       0.043611   \n",
      "\n",
      "       SHANNON_ENTROPY RATIO_DIVERSITY_HERFINDAHL RATIO_DIVERSITY_GINI  \\\n",
      "cutoff                                                                   \n",
      "10             9.75906                   0.996591             0.085869   \n",
      "\n",
      "       RATIO_SHANNON_ENTROPY RATIO_AVERAGE_POPULARITY RATIO_NOVELTY  \n",
      "cutoff                                                               \n",
      "10                  0.723191                 3.002753      0.276905  \n",
      "\n",
      "[1 rows x 27 columns]\n",
=======
      "Similarity column 24507 (100.0%), 1449.70 column/sec. Elapsed time 16.90 sec\n",
      "EvaluatorHoldout: Processed 41293 (100.0%) in 12.39 sec. Users per second: 3332\n",
      "{'PRECISION': {10: 0.05877509505242034}, 'PRECISION_RECALL_MIN_DEN': {10: 0.07953087094587757}, 'RECALL': {10: 0.068724601448325}, 'MAP': {10: 0.029331034046662496}, 'MAP_MIN_DEN': {10: 0.03887849147252289}, 'MRR': {10: 0.18357680247891364}, 'NDCG': {10: 0.08212248806781493}, 'F1': {10: 0.06336164074777062}, 'HIT_RATE': {10: 0.36473494296854186}, 'ARHR_ALL_HITS': {10: 0.2296895511326569}, 'NOVELTY': {10: 0.004558569894615962}, 'AVERAGE_POPULARITY': {10: 0.15186199239700923}, 'DIVERSITY_MEAN_INTER_LIST': {10: 0.9624897836779019}, 'DIVERSITY_HERFINDAHL': {10: 0.9962466474889883}, 'COVERAGE_ITEM': {10: 0.45729791488146243}, 'COVERAGE_ITEM_HIT': {10: 0.0721834577875709}, 'ITEMS_IN_GT': {10: 0.998327008609785}, 'COVERAGE_USER': {10: 0.9919287035480074}, 'COVERAGE_USER_HIT': {10: 0.3617910591174422}, 'USERS_IN_GT': {10: 0.9919287035480074}, 'DIVERSITY_GINI': {10: 0.04425019827198269}, 'SHANNON_ENTROPY': {10: 9.769615569434334}, 'RATIO_DIVERSITY_HERFINDAHL': {10: 0.9965753677884159}, 'RATIO_DIVERSITY_GINI': {10: 0.08715226654389939}, 'RATIO_SHANNON_ENTROPY': {10: 0.724045941335804}, 'RATIO_AVERAGE_POPULARITY': {10: 2.9953689549497713}, 'RATIO_NOVELTY': {10: 0.2771300188906599}}\n",
      "<class 'dict'>\n",
      "[('topK=10', 'shrink=0', {10: 0.029331034046662496})]\n",
>>>>>>> slim
      "Unable to load Cython Compute_Similarity, reverting to Python\n"
     ]
    },
    {
     "ename": "KeyboardInterrupt",
     "evalue": "",
     "output_type": "error",
     "traceback": [
      "\u001b[0;31m---------------------------------------------------------------------------\u001b[0m",
      "\u001b[0;31mKeyboardInterrupt\u001b[0m                         Traceback (most recent call last)",
<<<<<<< HEAD
      "Cell \u001b[0;32mIn [10], line 6\u001b[0m\n\u001b[1;32m      4\u001b[0m \u001b[39mfor\u001b[39;00m shrink \u001b[39min\u001b[39;00m [\u001b[39m0\u001b[39m, \u001b[39m10\u001b[39m, \u001b[39m50\u001b[39m, \u001b[39m100\u001b[39m, \u001b[39m200\u001b[39m, \u001b[39m500\u001b[39m]:\n\u001b[1;32m      5\u001b[0m     recommender \u001b[39m=\u001b[39m ItemKNNCFRecommender(URM_train)\n\u001b[0;32m----> 6\u001b[0m     recommender\u001b[39m.\u001b[39;49mfit(topK\u001b[39m=\u001b[39;49mtopK, shrink\u001b[39m=\u001b[39;49mshrink)\n\u001b[1;32m      8\u001b[0m     result_df, _ \u001b[39m=\u001b[39m evaluator_validation\u001b[39m.\u001b[39mevaluateRecommender(recommender)\n\u001b[1;32m      9\u001b[0m     \u001b[39mprint\u001b[39m(result_df)\n",
      "File \u001b[0;32m~/Desktop/UNIVERSITA/MAGISTRALE/PRIMO ANNO/PRIMO SEMESTRE/RECOMMENDER SYSTEMS/Challenge/Git Folder/rec-sys-challenge/Recommenders/KNN/ItemKNNCFRecommender.py:55\u001b[0m, in \u001b[0;36mItemKNNCFRecommender.fit\u001b[0;34m(self, topK, shrink, similarity, normalize, feature_weighting, URM_bias, **similarity_args)\u001b[0m\n\u001b[1;32m     50\u001b[0m     \u001b[39mself\u001b[39m\u001b[39m.\u001b[39mURM_train \u001b[39m=\u001b[39m check_matrix(\u001b[39mself\u001b[39m\u001b[39m.\u001b[39mURM_train, \u001b[39m'\u001b[39m\u001b[39mcsr\u001b[39m\u001b[39m'\u001b[39m)\n\u001b[1;32m     52\u001b[0m similarity \u001b[39m=\u001b[39m Compute_Similarity(\u001b[39mself\u001b[39m\u001b[39m.\u001b[39mURM_train, shrink\u001b[39m=\u001b[39mshrink, topK\u001b[39m=\u001b[39mtopK, normalize\u001b[39m=\u001b[39mnormalize, similarity \u001b[39m=\u001b[39m similarity, \u001b[39m*\u001b[39m\u001b[39m*\u001b[39msimilarity_args)\n\u001b[0;32m---> 55\u001b[0m \u001b[39mself\u001b[39m\u001b[39m.\u001b[39mW_sparse \u001b[39m=\u001b[39m similarity\u001b[39m.\u001b[39;49mcompute_similarity()\n\u001b[1;32m     56\u001b[0m \u001b[39mself\u001b[39m\u001b[39m.\u001b[39mW_sparse \u001b[39m=\u001b[39m check_matrix(\u001b[39mself\u001b[39m\u001b[39m.\u001b[39mW_sparse, \u001b[39mformat\u001b[39m\u001b[39m=\u001b[39m\u001b[39m'\u001b[39m\u001b[39mcsr\u001b[39m\u001b[39m'\u001b[39m)\n",
      "File \u001b[0;32m~/Desktop/UNIVERSITA/MAGISTRALE/PRIMO ANNO/PRIMO SEMESTRE/RECOMMENDER SYSTEMS/Challenge/Git Folder/rec-sys-challenge/Recommenders/Similarity/Compute_Similarity.py:126\u001b[0m, in \u001b[0;36mCompute_Similarity.compute_similarity\u001b[0;34m(self, **args)\u001b[0m\n\u001b[1;32m    124\u001b[0m \u001b[39mdef\u001b[39;00m \u001b[39mcompute_similarity\u001b[39m(\u001b[39mself\u001b[39m,  \u001b[39m*\u001b[39m\u001b[39m*\u001b[39margs):\n\u001b[0;32m--> 126\u001b[0m     \u001b[39mreturn\u001b[39;00m \u001b[39mself\u001b[39;49m\u001b[39m.\u001b[39;49mcompute_similarity_object\u001b[39m.\u001b[39;49mcompute_similarity(\u001b[39m*\u001b[39;49m\u001b[39m*\u001b[39;49margs)\n",
      "File \u001b[0;32m~/Desktop/UNIVERSITA/MAGISTRALE/PRIMO ANNO/PRIMO SEMESTRE/RECOMMENDER SYSTEMS/Challenge/Git Folder/rec-sys-challenge/Recommenders/Similarity/Compute_Similarity_Python.py:399\u001b[0m, in \u001b[0;36mCompute_Similarity_Python.compute_similarity\u001b[0;34m(self, start_col, end_col, block_size)\u001b[0m\n\u001b[1;32m    395\u001b[0m         relevant_items_partition \u001b[39m=\u001b[39m relevant_items_partition[non_zero_mask]\n\u001b[1;32m    396\u001b[0m         this_column_weights \u001b[39m=\u001b[39m this_column_weights[non_zero_mask]\n\u001b[1;32m    398\u001b[0m     similarity_builder\u001b[39m.\u001b[39madd_data_lists(row_list_to_add\u001b[39m=\u001b[39mrelevant_items_partition,\n\u001b[0;32m--> 399\u001b[0m                                       col_list_to_add\u001b[39m=\u001b[39mnp\u001b[39m.\u001b[39mones(\u001b[39mlen\u001b[39m(relevant_items_partition), dtype \u001b[39m=\u001b[39m np\u001b[39m.\u001b[39;49mint) \u001b[39m*\u001b[39m columnIndex,\n\u001b[1;32m    400\u001b[0m                                       data_list_to_add\u001b[39m=\u001b[39mthis_column_weights)\n\u001b[1;32m    402\u001b[0m \u001b[39m# Add previous block size\u001b[39;00m\n\u001b[1;32m    403\u001b[0m start_col_block \u001b[39m+\u001b[39m\u001b[39m=\u001b[39m this_block_size\n",
      "File \u001b[0;32m~/opt/miniconda3/envs/tensorflow/lib/python3.9/site-packages/numpy/__init__.py:295\u001b[0m, in \u001b[0;36m__getattr__\u001b[0;34m(attr)\u001b[0m\n\u001b[1;32m    293\u001b[0m     \u001b[39mpass\u001b[39;00m\n\u001b[1;32m    294\u001b[0m \u001b[39melse\u001b[39;00m:\n\u001b[0;32m--> 295\u001b[0m     warnings\u001b[39m.\u001b[39;49mwarn(msg, \u001b[39mDeprecationWarning\u001b[39;49;00m, stacklevel\u001b[39m=\u001b[39;49m\u001b[39m2\u001b[39;49m)\n\u001b[1;32m    296\u001b[0m     \u001b[39mreturn\u001b[39;00m val\n\u001b[1;32m    298\u001b[0m \u001b[39m# Importing Tester requires importing all of UnitTest which is not a\u001b[39;00m\n\u001b[1;32m    299\u001b[0m \u001b[39m# cheap import Since it is mainly used in test suits, we lazy import it\u001b[39;00m\n\u001b[1;32m    300\u001b[0m \u001b[39m# here to save on the order of 10 ms of import time for most users\u001b[39;00m\n\u001b[1;32m    301\u001b[0m \u001b[39m#\u001b[39;00m\n\u001b[1;32m    302\u001b[0m \u001b[39m# The previous way Tester was imported also had a side effect of adding\u001b[39;00m\n\u001b[1;32m    303\u001b[0m \u001b[39m# the full `numpy.testing` namespace\u001b[39;00m\n",
=======
      "Cell \u001b[0;32mIn [39], line 6\u001b[0m\n\u001b[1;32m      4\u001b[0m \u001b[39mfor\u001b[39;00m shrink \u001b[39min\u001b[39;00m [\u001b[39m0\u001b[39m, \u001b[39m10\u001b[39m, \u001b[39m50\u001b[39m, \u001b[39m100\u001b[39m, \u001b[39m200\u001b[39m, \u001b[39m500\u001b[39m]:\n\u001b[1;32m      5\u001b[0m     recommender \u001b[39m=\u001b[39m ItemKNNCFRecommender(URM_train)\n\u001b[0;32m----> 6\u001b[0m     recommender\u001b[39m.\u001b[39;49mfit(topK\u001b[39m=\u001b[39;49mtopK, shrink\u001b[39m=\u001b[39;49mshrink)\n\u001b[1;32m      8\u001b[0m     result_dict, _ \u001b[39m=\u001b[39m evaluator_validation\u001b[39m.\u001b[39mevaluateRecommender(recommender)\n\u001b[1;32m      9\u001b[0m     result_dict \u001b[39m=\u001b[39m result_dict\u001b[39m.\u001b[39mto_dict()\n",
      "File \u001b[0;32m~/Desktop/UNIVERSITA/MAGISTRALE/PRIMO ANNO/PRIMO SEMESTRE/RECOMMENDER SYSTEMS/Challenge/Git Folder/rec-sys-challenge/Recommenders/KNN/ItemKNNCFRecommender.py:55\u001b[0m, in \u001b[0;36mItemKNNCFRecommender.fit\u001b[0;34m(self, topK, shrink, similarity, normalize, feature_weighting, URM_bias, **similarity_args)\u001b[0m\n\u001b[1;32m     50\u001b[0m     \u001b[39mself\u001b[39m\u001b[39m.\u001b[39mURM_train \u001b[39m=\u001b[39m check_matrix(\u001b[39mself\u001b[39m\u001b[39m.\u001b[39mURM_train, \u001b[39m'\u001b[39m\u001b[39mcsr\u001b[39m\u001b[39m'\u001b[39m)\n\u001b[1;32m     52\u001b[0m similarity \u001b[39m=\u001b[39m Compute_Similarity(\u001b[39mself\u001b[39m\u001b[39m.\u001b[39mURM_train, shrink\u001b[39m=\u001b[39mshrink, topK\u001b[39m=\u001b[39mtopK, normalize\u001b[39m=\u001b[39mnormalize, similarity \u001b[39m=\u001b[39m similarity, \u001b[39m*\u001b[39m\u001b[39m*\u001b[39msimilarity_args)\n\u001b[0;32m---> 55\u001b[0m \u001b[39mself\u001b[39m\u001b[39m.\u001b[39mW_sparse \u001b[39m=\u001b[39m similarity\u001b[39m.\u001b[39;49mcompute_similarity()\n\u001b[1;32m     56\u001b[0m \u001b[39mself\u001b[39m\u001b[39m.\u001b[39mW_sparse \u001b[39m=\u001b[39m check_matrix(\u001b[39mself\u001b[39m\u001b[39m.\u001b[39mW_sparse, \u001b[39mformat\u001b[39m\u001b[39m=\u001b[39m\u001b[39m'\u001b[39m\u001b[39mcsr\u001b[39m\u001b[39m'\u001b[39m)\n",
      "File \u001b[0;32m~/Desktop/UNIVERSITA/MAGISTRALE/PRIMO ANNO/PRIMO SEMESTRE/RECOMMENDER SYSTEMS/Challenge/Git Folder/rec-sys-challenge/Recommenders/Similarity/Compute_Similarity.py:126\u001b[0m, in \u001b[0;36mCompute_Similarity.compute_similarity\u001b[0;34m(self, **args)\u001b[0m\n\u001b[1;32m    124\u001b[0m \u001b[39mdef\u001b[39;00m \u001b[39mcompute_similarity\u001b[39m(\u001b[39mself\u001b[39m,  \u001b[39m*\u001b[39m\u001b[39m*\u001b[39margs):\n\u001b[0;32m--> 126\u001b[0m     \u001b[39mreturn\u001b[39;00m \u001b[39mself\u001b[39;49m\u001b[39m.\u001b[39;49mcompute_similarity_object\u001b[39m.\u001b[39;49mcompute_similarity(\u001b[39m*\u001b[39;49m\u001b[39m*\u001b[39;49margs)\n",
      "File \u001b[0;32m~/Desktop/UNIVERSITA/MAGISTRALE/PRIMO ANNO/PRIMO SEMESTRE/RECOMMENDER SYSTEMS/Challenge/Git Folder/rec-sys-challenge/Recommenders/Similarity/Compute_Similarity_Python.py:344\u001b[0m, in \u001b[0;36mCompute_Similarity_Python.compute_similarity\u001b[0;34m(self, start_col, end_col, block_size)\u001b[0m\n\u001b[1;32m    342\u001b[0m     this_block_weights \u001b[39m=\u001b[39m \u001b[39mself\u001b[39m\u001b[39m.\u001b[39mdataMatrix_weighted\u001b[39m.\u001b[39mT\u001b[39m.\u001b[39mdot(item_data)\n\u001b[1;32m    343\u001b[0m \u001b[39melse\u001b[39;00m:\n\u001b[0;32m--> 344\u001b[0m     this_block_weights \u001b[39m=\u001b[39m \u001b[39mself\u001b[39;49m\u001b[39m.\u001b[39;49mdataMatrix\u001b[39m.\u001b[39;49mT\u001b[39m.\u001b[39;49mdot(item_data)\n\u001b[1;32m    347\u001b[0m \u001b[39mfor\u001b[39;00m col_index_in_block \u001b[39min\u001b[39;00m \u001b[39mrange\u001b[39m(this_block_size):\n\u001b[1;32m    349\u001b[0m     \u001b[39mif\u001b[39;00m this_block_size \u001b[39m==\u001b[39m \u001b[39m1\u001b[39m:\n",
      "File \u001b[0;32m~/opt/miniconda3/envs/tensorflow/lib/python3.9/site-packages/scipy/sparse/_base.py:416\u001b[0m, in \u001b[0;36mspmatrix.dot\u001b[0;34m(self, other)\u001b[0m\n\u001b[1;32m    414\u001b[0m     \u001b[39mreturn\u001b[39;00m \u001b[39mself\u001b[39m \u001b[39m*\u001b[39m other\n\u001b[1;32m    415\u001b[0m \u001b[39melse\u001b[39;00m:\n\u001b[0;32m--> 416\u001b[0m     \u001b[39mreturn\u001b[39;00m \u001b[39mself\u001b[39;49m \u001b[39m@\u001b[39;49m other\n",
      "File \u001b[0;32m~/opt/miniconda3/envs/tensorflow/lib/python3.9/site-packages/scipy/sparse/_base.py:630\u001b[0m, in \u001b[0;36mspmatrix.__matmul__\u001b[0;34m(self, other)\u001b[0m\n\u001b[1;32m    627\u001b[0m \u001b[39mif\u001b[39;00m isscalarlike(other):\n\u001b[1;32m    628\u001b[0m     \u001b[39mraise\u001b[39;00m \u001b[39mValueError\u001b[39;00m(\u001b[39m\"\u001b[39m\u001b[39mScalar operands are not allowed, \u001b[39m\u001b[39m\"\u001b[39m\n\u001b[1;32m    629\u001b[0m                      \u001b[39m\"\u001b[39m\u001b[39muse \u001b[39m\u001b[39m'\u001b[39m\u001b[39m*\u001b[39m\u001b[39m'\u001b[39m\u001b[39m instead\u001b[39m\u001b[39m\"\u001b[39m)\n\u001b[0;32m--> 630\u001b[0m \u001b[39mreturn\u001b[39;00m \u001b[39mself\u001b[39;49m\u001b[39m.\u001b[39;49m_mul_dispatch(other)\n",
      "File \u001b[0;32m~/opt/miniconda3/envs/tensorflow/lib/python3.9/site-packages/scipy/sparse/_base.py:532\u001b[0m, in \u001b[0;36mspmatrix._mul_dispatch\u001b[0;34m(self, other)\u001b[0m\n\u001b[1;32m    530\u001b[0m         \u001b[39mreturn\u001b[39;00m \u001b[39mself\u001b[39m\u001b[39m.\u001b[39m_mul_vector(other\u001b[39m.\u001b[39mravel())\u001b[39m.\u001b[39mreshape(M, \u001b[39m1\u001b[39m)\n\u001b[1;32m    531\u001b[0m     \u001b[39melif\u001b[39;00m other\u001b[39m.\u001b[39mndim \u001b[39m==\u001b[39m \u001b[39m2\u001b[39m \u001b[39mand\u001b[39;00m other\u001b[39m.\u001b[39mshape[\u001b[39m0\u001b[39m] \u001b[39m==\u001b[39m N:\n\u001b[0;32m--> 532\u001b[0m         \u001b[39mreturn\u001b[39;00m \u001b[39mself\u001b[39;49m\u001b[39m.\u001b[39;49m_mul_multivector(other)\n\u001b[1;32m    534\u001b[0m \u001b[39mif\u001b[39;00m isscalarlike(other):\n\u001b[1;32m    535\u001b[0m     \u001b[39m# scalar value\u001b[39;00m\n\u001b[1;32m    536\u001b[0m     \u001b[39mreturn\u001b[39;00m \u001b[39mself\u001b[39m\u001b[39m.\u001b[39m_mul_scalar(other)\n",
      "File \u001b[0;32m~/opt/miniconda3/envs/tensorflow/lib/python3.9/site-packages/scipy/sparse/_compressed.py:502\u001b[0m, in \u001b[0;36m_cs_matrix._mul_multivector\u001b[0;34m(self, other)\u001b[0m\n\u001b[1;32m    500\u001b[0m \u001b[39m# csr_matvecs or csc_matvecs\u001b[39;00m\n\u001b[1;32m    501\u001b[0m fn \u001b[39m=\u001b[39m \u001b[39mgetattr\u001b[39m(_sparsetools, \u001b[39mself\u001b[39m\u001b[39m.\u001b[39mformat \u001b[39m+\u001b[39m \u001b[39m'\u001b[39m\u001b[39m_matvecs\u001b[39m\u001b[39m'\u001b[39m)\n\u001b[0;32m--> 502\u001b[0m fn(M, N, n_vecs, \u001b[39mself\u001b[39;49m\u001b[39m.\u001b[39;49mindptr, \u001b[39mself\u001b[39;49m\u001b[39m.\u001b[39;49mindices, \u001b[39mself\u001b[39;49m\u001b[39m.\u001b[39;49mdata,\n\u001b[1;32m    503\u001b[0m    other\u001b[39m.\u001b[39;49mravel(), result\u001b[39m.\u001b[39;49mravel())\n\u001b[1;32m    505\u001b[0m \u001b[39mreturn\u001b[39;00m result\n",
>>>>>>> slim
      "\u001b[0;31mKeyboardInterrupt\u001b[0m: "
     ]
    }
   ],
   "source": [
    "MAP=[]\n",
    "\n",
    "for topK in [10, 50, 100, 200, 500]:\n",
    "    for shrink in [0, 10, 50, 100, 200, 500]:\n",
    "        recommender = ItemKNNCFRecommender(URM_train)\n",
    "        recommender.fit(topK=topK, shrink=shrink)\n",
    "\n",
<<<<<<< HEAD
    "        result_df, _ = evaluator_validation.evaluateRecommender(recommender)\n",
    "        print(result_df)\n",
    "        #result_df = result_df.drop(['cutoff'], axis = 1)\n",
    "        result_df = result_df.to_dict()\n",
    "        #print(result_df)\n",
    "        #print(type(result_df))\n",
    "        #MAP.append(('topK={}'.format(topK),'shrink={}'.format(shrink),result_df[\"MAP\"]))\n",
    "        #print(MAP)"
=======
    "        result_dict, _ = evaluator_validation.evaluateRecommender(recommender)\n",
    "        result_dict = result_dict.to_dict()\n",
    "        print(result_dict)\n",
    "        print(type(result_dict))\n",
    "        MAP.append(('topK={}'.format(topK),'shrink={}'.format(shrink),result_dict[\"MAP\"]))\n",
    "        print(MAP)"
>>>>>>> slim
   ]
  },
  {
   "cell_type": "code",
   "execution_count": 34,
   "metadata": {},
   "outputs": [
    {
     "data": {
      "text/plain": [
       "['topK=10',\n",
       " 'shrink=0',\n",
       " 0.029331034046662496,\n",
       " 'topK=10',\n",
       " 'shrink=10',\n",
       " 0.029323209591231945,\n",
       " 'topK=10',\n",
       " 'shrink=50',\n",
       " 0.029311150973356393,\n",
       " 'topK=10',\n",
       " 'shrink=100',\n",
       " 0.029297173240092123,\n",
       " 'topK=10',\n",
       " 'shrink=200',\n",
       " 0.029306732299066364,\n",
       " 'topK=10',\n",
       " 'shrink=500',\n",
       " 0.029275828487013125,\n",
       " 'topK=50',\n",
       " 'shrink=0',\n",
       " 0.0309715077193209,\n",
       " 'topK=50',\n",
       " 'shrink=10',\n",
       " 0.03097090228982921,\n",
       " 'topK=50',\n",
       " 'shrink=50',\n",
       " 0.030967871298373986,\n",
       " 'topK=50',\n",
       " 'shrink=100',\n",
       " 0.03096935508112821,\n",
       " 'topK=50',\n",
       " 'shrink=200',\n",
       " 0.03094246344070651,\n",
       " 'topK=50',\n",
       " 'shrink=500',\n",
       " 0.030922445827513335,\n",
       " 'topK=100',\n",
       " 'shrink=0',\n",
       " 0.031228393374639618,\n",
       " 'topK=100',\n",
       " 'shrink=10',\n",
       " 0.031221891254098806,\n",
       " 'topK=100',\n",
       " 'shrink=50',\n",
       " 0.031210596630581736,\n",
       " 'topK=100',\n",
       " 'shrink=100',\n",
       " 0.031197507821571144,\n",
       " 'topK=100',\n",
       " 'shrink=200',\n",
       " 0.031215748547256134,\n",
       " 'topK=100',\n",
       " 'shrink=500',\n",
       " 0.031150191104298265,\n",
       " 'topK=200',\n",
       " 'shrink=0',\n",
       " 0.03089011685365652,\n",
       " 'topK=200',\n",
       " 'shrink=10',\n",
       " 0.030884634353259624,\n",
       " 'topK=200',\n",
       " 'shrink=50',\n",
       " 0.03087967944141976,\n",
       " 'topK=200',\n",
       " 'shrink=100',\n",
       " 0.03087360208252227,\n",
       " 'topK=200',\n",
       " 'shrink=200',\n",
       " 0.03085948500437499,\n",
       " 'topK=200',\n",
       " 'shrink=500',\n",
       " 0.030826235393291476,\n",
       " 'topK=500',\n",
       " 'shrink=0',\n",
       " 0.030359589561087294,\n",
       " 'topK=500',\n",
       " 'shrink=10',\n",
       " 0.03036455504391826,\n",
       " 'topK=500',\n",
       " 'shrink=50',\n",
       " 0.030364776073732707,\n",
       " 'topK=500',\n",
       " 'shrink=100',\n",
       " 0.030357284124022874,\n",
       " 'topK=500',\n",
       " 'shrink=200',\n",
       " 0.030339146225251478,\n",
       " 'topK=500',\n",
       " 'shrink=500',\n",
       " 0.030314349563070806]"
      ]
     },
     "execution_count": 34,
     "metadata": {},
     "output_type": "execute_result"
    }
   ],
   "source": [
    "MAP"
   ]
  },
  {
   "cell_type": "code",
   "execution_count": 28,
   "metadata": {},
   "outputs": [
    {
     "ename": "TypeError",
     "evalue": "'str' object is not callable",
     "output_type": "error",
     "traceback": [
      "\u001b[0;31m---------------------------------------------------------------------------\u001b[0m",
      "\u001b[0;31mTypeError\u001b[0m                                 Traceback (most recent call last)",
      "Cell \u001b[0;32mIn [28], line 1\u001b[0m\n\u001b[0;32m----> 1\u001b[0m max_tuple \u001b[39m=\u001b[39m \u001b[39mmax\u001b[39;49m(MAP, key\u001b[39m=\u001b[39;49m\u001b[39mstr\u001b[39;49m(itemgetter(\u001b[39m2\u001b[39;49m)))\n\u001b[1;32m      2\u001b[0m \u001b[39mprint\u001b[39m(\u001b[39m'\u001b[39m\u001b[39mThe best combination for the ICF recommender is (\u001b[39m\u001b[39m{}\u001b[39;00m\u001b[39m,\u001b[39m\u001b[39m{}\u001b[39;00m\u001b[39m), with a MAP = \u001b[39m\u001b[39m{}\u001b[39;00m\u001b[39m'\u001b[39m\u001b[39m.\u001b[39mformat(max_tuple[\u001b[39m0\u001b[39m],max_tuple[\u001b[39m1\u001b[39m], max_tuple[\u001b[39m2\u001b[39m]))\n",
      "\u001b[0;31mTypeError\u001b[0m: 'str' object is not callable"
     ]
    }
   ],
   "source": [
    "max_tuple = max(MAP, key=itemgetter(2))\n",
    "print('The best combination for the ICF recommender is ({},{}), with a MAP = {}'.format(max_tuple[0],max_tuple[1], max_tuple[2]))"
   ]
  },
  {
   "cell_type": "code",
   "execution_count": 6,
   "metadata": {},
   "outputs": [
    {
     "name": "stdout",
     "output_type": "stream",
     "text": [
      "PureSVDRecommender: Computing SVD decomposition...\n",
      "PureSVDRecommender: Computing SVD decomposition... done in 0.27 sec\n",
      "EvaluatorHoldout: Processed 41311 (100.0%) in 22.34 sec. Users per second: 1849\n"
     ]
    },
    {
     "ename": "KeyError",
     "evalue": "10",
     "output_type": "error",
     "traceback": [
      "\u001b[0;31m---------------------------------------------------------------------------\u001b[0m",
      "\u001b[0;31mKeyError\u001b[0m                                  Traceback (most recent call last)",
      "File \u001b[0;32m~/opt/miniconda3/envs/tensorflow/lib/python3.9/site-packages/pandas/core/indexes/base.py:3803\u001b[0m, in \u001b[0;36mIndex.get_loc\u001b[0;34m(self, key, method, tolerance)\u001b[0m\n\u001b[1;32m   3802\u001b[0m \u001b[39mtry\u001b[39;00m:\n\u001b[0;32m-> 3803\u001b[0m     \u001b[39mreturn\u001b[39;00m \u001b[39mself\u001b[39;49m\u001b[39m.\u001b[39;49m_engine\u001b[39m.\u001b[39;49mget_loc(casted_key)\n\u001b[1;32m   3804\u001b[0m \u001b[39mexcept\u001b[39;00m \u001b[39mKeyError\u001b[39;00m \u001b[39mas\u001b[39;00m err:\n",
      "File \u001b[0;32m~/opt/miniconda3/envs/tensorflow/lib/python3.9/site-packages/pandas/_libs/index.pyx:138\u001b[0m, in \u001b[0;36mpandas._libs.index.IndexEngine.get_loc\u001b[0;34m()\u001b[0m\n",
      "File \u001b[0;32m~/opt/miniconda3/envs/tensorflow/lib/python3.9/site-packages/pandas/_libs/index.pyx:165\u001b[0m, in \u001b[0;36mpandas._libs.index.IndexEngine.get_loc\u001b[0;34m()\u001b[0m\n",
      "File \u001b[0;32mpandas/_libs/hashtable_class_helper.pxi:5745\u001b[0m, in \u001b[0;36mpandas._libs.hashtable.PyObjectHashTable.get_item\u001b[0;34m()\u001b[0m\n",
      "File \u001b[0;32mpandas/_libs/hashtable_class_helper.pxi:5753\u001b[0m, in \u001b[0;36mpandas._libs.hashtable.PyObjectHashTable.get_item\u001b[0;34m()\u001b[0m\n",
      "\u001b[0;31mKeyError\u001b[0m: 10",
      "\nThe above exception was the direct cause of the following exception:\n",
      "\u001b[0;31mKeyError\u001b[0m                                  Traceback (most recent call last)",
      "Cell \u001b[0;32mIn [6], line 9\u001b[0m\n\u001b[1;32m      5\u001b[0m recommender\u001b[39m.\u001b[39mfit(num_factors \u001b[39m=\u001b[39m num_factors)\n\u001b[1;32m      7\u001b[0m result_dict, _ \u001b[39m=\u001b[39m evaluator_validation\u001b[39m.\u001b[39mevaluateRecommender(recommender)\n\u001b[0;32m----> 9\u001b[0m MAP\u001b[39m.\u001b[39mappend((\u001b[39m'\u001b[39m\u001b[39mnumber of factors=\u001b[39m\u001b[39m{}\u001b[39;00m\u001b[39m'\u001b[39m\u001b[39m.\u001b[39mformat(num_factors),result_dict[\u001b[39m10\u001b[39;49m][\u001b[39m\"\u001b[39m\u001b[39mMAP\u001b[39m\u001b[39m\"\u001b[39m]))\n",
      "File \u001b[0;32m~/opt/miniconda3/envs/tensorflow/lib/python3.9/site-packages/pandas/core/frame.py:3805\u001b[0m, in \u001b[0;36mDataFrame.__getitem__\u001b[0;34m(self, key)\u001b[0m\n\u001b[1;32m   3803\u001b[0m \u001b[39mif\u001b[39;00m \u001b[39mself\u001b[39m\u001b[39m.\u001b[39mcolumns\u001b[39m.\u001b[39mnlevels \u001b[39m>\u001b[39m \u001b[39m1\u001b[39m:\n\u001b[1;32m   3804\u001b[0m     \u001b[39mreturn\u001b[39;00m \u001b[39mself\u001b[39m\u001b[39m.\u001b[39m_getitem_multilevel(key)\n\u001b[0;32m-> 3805\u001b[0m indexer \u001b[39m=\u001b[39m \u001b[39mself\u001b[39;49m\u001b[39m.\u001b[39;49mcolumns\u001b[39m.\u001b[39;49mget_loc(key)\n\u001b[1;32m   3806\u001b[0m \u001b[39mif\u001b[39;00m is_integer(indexer):\n\u001b[1;32m   3807\u001b[0m     indexer \u001b[39m=\u001b[39m [indexer]\n",
      "File \u001b[0;32m~/opt/miniconda3/envs/tensorflow/lib/python3.9/site-packages/pandas/core/indexes/base.py:3805\u001b[0m, in \u001b[0;36mIndex.get_loc\u001b[0;34m(self, key, method, tolerance)\u001b[0m\n\u001b[1;32m   3803\u001b[0m     \u001b[39mreturn\u001b[39;00m \u001b[39mself\u001b[39m\u001b[39m.\u001b[39m_engine\u001b[39m.\u001b[39mget_loc(casted_key)\n\u001b[1;32m   3804\u001b[0m \u001b[39mexcept\u001b[39;00m \u001b[39mKeyError\u001b[39;00m \u001b[39mas\u001b[39;00m err:\n\u001b[0;32m-> 3805\u001b[0m     \u001b[39mraise\u001b[39;00m \u001b[39mKeyError\u001b[39;00m(key) \u001b[39mfrom\u001b[39;00m \u001b[39merr\u001b[39;00m\n\u001b[1;32m   3806\u001b[0m \u001b[39mexcept\u001b[39;00m \u001b[39mTypeError\u001b[39;00m:\n\u001b[1;32m   3807\u001b[0m     \u001b[39m# If we have a listlike key, _check_indexing_error will raise\u001b[39;00m\n\u001b[1;32m   3808\u001b[0m     \u001b[39m#  InvalidIndexError. Otherwise we fall through and re-raise\u001b[39;00m\n\u001b[1;32m   3809\u001b[0m     \u001b[39m#  the TypeError.\u001b[39;00m\n\u001b[1;32m   3810\u001b[0m     \u001b[39mself\u001b[39m\u001b[39m.\u001b[39m_check_indexing_error(key)\n",
      "\u001b[0;31mKeyError\u001b[0m: 10"
     ]
    }
   ],
   "source": [
    "MAP=[]\n",
    "\n",
    "for num_factors in np.logspace(1,15,10, base=2).astype(int):\n",
    "    recommender = PureSVDRecommender(URM_train)\n",
    "    recommender.fit(num_factors = num_factors)\n",
    "\n",
    "    result_dict, _ = evaluator_validation.evaluateRecommender(recommender)\n",
    "\n",
    "    MAP.append(('number of factors={}'.format(num_factors),result_dict[10][\"MAP\"]))"
   ]
  }
 ],
 "metadata": {
  "kernelspec": {
   "display_name": "Python 3.9.15 ('tensorflow')",
   "language": "python",
   "name": "python3"
  },
  "language_info": {
   "codemirror_mode": {
    "name": "ipython",
    "version": 3
   },
   "file_extension": ".py",
   "mimetype": "text/x-python",
   "name": "python",
   "nbconvert_exporter": "python",
   "pygments_lexer": "ipython3",
<<<<<<< HEAD
   "version": "3.9.15 | packaged by conda-forge | (main, Nov 22 2022, 08:48:25) \n[Clang 14.0.6 ]"
=======
   "version": "3.9.15"
>>>>>>> slim
  },
  "orig_nbformat": 4,
  "vscode": {
   "interpreter": {
    "hash": "924875a864510efb8ec566d64580ebd057fcb8e77e67729a27391833cbf8b66e"
   }
  }
 },
 "nbformat": 4,
 "nbformat_minor": 2
}
