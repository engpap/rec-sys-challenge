{
 "cells": [
  {
   "cell_type": "code",
   "execution_count": 4,
   "metadata": {},
   "outputs": [
    {
     "data": {
      "text/plain": [
       "[2, 0, 1]"
      ]
     },
     "execution_count": 4,
     "metadata": {},
     "output_type": "execute_result"
    }
   ],
   "source": [
    "\n",
    "presentations = {0:2,1:5,2:1,3:1,4:2,5:3}\n",
    "recommended_items=[0,1,2]\n",
    "\n",
    "presentations_items_ids=presentations.copy().keys()\n",
    "\n",
    "for key in presentations_items_ids:\n",
    "    if(key not in recommended_items):\n",
    "        del presentations[key]\n",
    "\n",
    "sorted_presentations = sorted(presentations.items(), key=lambda x:x[1], reverse=True) # discending order\n",
    "sorted_presentations = dict(sorted_presentations)\n",
    "\n",
    "new_ranking= sorted(recommended_items, key=lambda x:sorted_presentations[x], reverse=False) # ascending order\n",
    "new_ranking"
   ]
  }
 ],
 "metadata": {
  "kernelspec": {
   "display_name": "Python 3.10.8 64-bit",
   "language": "python",
   "name": "python3"
  },
  "language_info": {
   "codemirror_mode": {
    "name": "ipython",
    "version": 3
   },
   "file_extension": ".py",
   "mimetype": "text/x-python",
   "name": "python",
   "nbconvert_exporter": "python",
   "pygments_lexer": "ipython3",
   "version": "3.10.8 (tags/v3.10.8:aaaf517, Oct 11 2022, 16:50:30) [MSC v.1933 64 bit (AMD64)]"
  },
  "orig_nbformat": 4,
  "vscode": {
   "interpreter": {
    "hash": "6847c98a8f86b01c6a19c518cd2f366693b80566b266804d5ca763cbb223f52b"
   }
  }
 },
 "nbformat": 4,
 "nbformat_minor": 2
}
