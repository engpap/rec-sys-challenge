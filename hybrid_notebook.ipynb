{
 "cells": [
  {
   "cell_type": "code",
   "execution_count": 29,
   "metadata": {},
   "outputs": [],
   "source": [
    "from Data_Handler.DataReader import DataReader\n",
    "from Data_manager.split_functions.split_train_validation_random_holdout import split_train_in_two_percentage_global_sample\n",
    "from Recommenders.EASE_R.EASE_R_Recommender import EASE_R_Recommender\n",
    "from impressions import Impressions\n",
    "from hybrid import *\n",
    "from tqdm import tqdm\n",
    "from evaluator import evaluate\n",
    "import pandas as pd\n",
    "import numpy as np\n",
    "from Evaluation.Evaluator import EvaluatorHoldout\n",
    "from Recommenders.DataIO import DataIO\n",
    "from HyperparameterTuning.SearchBayesianSkopt import SearchBayesianSkopt\n",
    "from HyperparameterTuning.SearchAbstractClass import SearchInputRecommenderArgs\n",
    "from skopt.space import Real, Integer, Categorical\n",
    "import os"
   ]
  },
  {
   "cell_type": "code",
   "execution_count": 30,
   "metadata": {},
   "outputs": [
    {
     "name": "stdout",
     "output_type": "stream",
     "text": [
      ">>> number of target users: 41116\n",
      "Making augmented URM and ICM of the same shape...\n",
      "Warning: 2857 (6.86 %) of 41629 users have no sampled items\n",
      "EvaluatorHoldout: Ignoring 2857 ( 6.9%) Users that have less than 1 test interactions\n"
     ]
    }
   ],
   "source": [
    "dataReader = DataReader()\n",
    "\n",
    "target = dataReader.load_target()\n",
    "\n",
    "URM = dataReader.load_augmented_binary_urm()\n",
    "URM_aug,icm = dataReader.pad_with_zeros_ICMandURM(URM)\n",
    "\n",
    "URM_train_aug, URM_validation = split_train_in_two_percentage_global_sample(URM_aug, train_percentage = 0.9)\n",
    "URM_train_pow = dataReader.stackMatrixes(URM_train_aug)\n",
    "UCM = dataReader.load_aug_ucm()\n",
    "\n",
    "\n",
    "evaluator_validation = EvaluatorHoldout(URM_validation, [10])"
   ]
  },
  {
   "cell_type": "code",
   "execution_count": 31,
   "metadata": {},
   "outputs": [
    {
     "name": "stdout",
     "output_type": "stream",
     "text": [
      "UserKNNCFRecommender: URM Detected 3461 (12.4%) items with no interactions.\n",
      "Unable to load Cython Compute_Similarity, reverting to Python\n",
      "Similarity column 41629 (100.0%), 569.60 column/sec. Elapsed time 1.22 min\n"
     ]
    }
   ],
   "source": [
    "UserKNNCF = UserKNNCFRecommender(URM_train_aug)\n",
    "UserKNNCF.fit()"
   ]
  },
  {
   "cell_type": "code",
   "execution_count": 32,
   "metadata": {},
   "outputs": [
    {
     "name": "stdout",
     "output_type": "stream",
     "text": [
      "Unable to load Cython Compute_Similarity, reverting to Python\n",
      "Similarity column 27968 (100.0%), 567.72 column/sec. Elapsed time 49.26 sec\n"
     ]
    }
   ],
   "source": [
    "ItemKNNCF = ItemKNNCFRecommender(URM_train_pow)\n",
    "ItemKNNCF.fit()"
   ]
  },
  {
   "cell_type": "code",
   "execution_count": 33,
   "metadata": {},
   "outputs": [
    {
     "name": "stdout",
     "output_type": "stream",
     "text": [
      "RP3betaRecommender: URM Detected 3461 (12.4%) items with no interactions.\n",
      "RP3betaRecommender: Similarity column 27968 (100.0%), 3570.52 column/sec. Elapsed time 7.83 sec\n"
     ]
    }
   ],
   "source": [
    "RP3beta_aug = RP3betaRecommender(URM_train_aug)\n",
    "RP3beta_aug.fit(alpha=0.6951524535062256,beta=0.39985511876562174, topK=82, normalize_similarity=True)"
   ]
  },
  {
   "cell_type": "code",
   "execution_count": 34,
   "metadata": {},
   "outputs": [
    {
     "name": "stdout",
     "output_type": "stream",
     "text": [
      "RP3betaRecommender: Similarity column 27968 (100.0%), 1349.05 column/sec. Elapsed time 20.73 sec\n"
     ]
    }
   ],
   "source": [
    "RP3beta_pow = RP3betaRecommender(URM_train_pow)\n",
    "RP3beta_pow.fit(alpha=0.3648761546066018,beta=0.5058870363874656, topK=480, normalize_similarity=True)"
   ]
  },
  {
   "cell_type": "code",
   "execution_count": 35,
   "metadata": {},
   "outputs": [
    {
     "name": "stdout",
     "output_type": "stream",
     "text": [
      "SLIMElasticNetRecommender: Processed 5685 (20.3%) in 5.00 min. Items per second: 18.95\n",
      "SLIMElasticNetRecommender: Processed 11709 (41.9%) in 10.00 min. Items per second: 19.51\n",
      "SLIMElasticNetRecommender: Processed 17742 (63.4%) in 15.00 min. Items per second: 19.71\n",
      "SLIMElasticNetRecommender: Processed 23773 (85.0%) in 20.00 min. Items per second: 19.81\n",
      "SLIMElasticNetRecommender: Processed 27968 (100.0%) in 21.09 min. Items per second: 22.10\n"
     ]
    }
   ],
   "source": [
    "S_SLIM = SLIMElasticNetRecommender(URM_train_pow)\n",
    "S_SLIM.fit()"
   ]
  },
  {
   "cell_type": "code",
   "execution_count": 36,
   "metadata": {},
   "outputs": [
    {
     "name": "stdout",
     "output_type": "stream",
     "text": [
      "EASE_R_Recommender: URM Detected 3461 (12.4%) items with no interactions.\n",
      "EASE_R_Recommender: Fitting model... \n",
      "EASE_R_Recommender: Fitting model... done in 6.21 min\n"
     ]
    }
   ],
   "source": [
    "EASE_R = EASE_R_Recommender(URM_train_aug)\n",
    "EASE_R.fit()"
   ]
  },
  {
   "cell_type": "code",
   "execution_count": 37,
   "metadata": {},
   "outputs": [
    {
     "name": "stdout",
     "output_type": "stream",
     "text": [
      "Hybrid_layer1: URM Detected 3461 (12.4%) items with no interactions.\n"
     ]
    }
   ],
   "source": [
    "Hybrid_SSLIM_EASER = Hybrid_SSLIM_EASER(URM_train_aug, URM_train_pow, S_SLIM, EASE_R)\n",
    "Hybrid_SSLIM_EASER.fit(SSLIM_weight=0.563368095251961, EASE_R_weight=0.0)"
   ]
  },
  {
   "cell_type": "code",
   "execution_count": 38,
   "metadata": {},
   "outputs": [
    {
     "name": "stdout",
     "output_type": "stream",
     "text": [
      "Hybrid_SSLIM_RP3B_aug: URM Detected 3461 (12.4%) items with no interactions.\n"
     ]
    }
   ],
   "source": [
    "Hybrid_SSLIM_RP3B_aug = Hybrid_SSLIM_RP3B_aug(URM_train_aug, URM_train_pow, S_SLIM, RP3beta_aug)\n",
    "Hybrid_SSLIM_RP3B_aug.fit(SSLIM_weight= 0.8157521052599057, RP3B_weight=0.22946157569349823)"
   ]
  },
  {
   "cell_type": "code",
   "execution_count": 39,
   "metadata": {},
   "outputs": [
    {
     "name": "stdout",
     "output_type": "stream",
     "text": [
      "Hybrid_Recommender_5: URM Detected 3461 (12.4%) items with no interactions.\n"
     ]
    }
   ],
   "source": [
    "HybridRecommender_5 = HybridRecommender_5(URM_train_aug, URM_train_pow, UserKNNCF, RP3beta_pow, S_SLIM, EASE_R)\n",
    "HybridRecommender_5.fit()"
   ]
  },
  {
   "cell_type": "code",
   "execution_count": 40,
   "metadata": {},
   "outputs": [
    {
     "name": "stdout",
     "output_type": "stream",
     "text": [
      "Hybrid_of_Hybrids: URM Detected 3461 (12.4%) items with no interactions.\n"
     ]
    }
   ],
   "source": [
    "recommender = Hybrid_of_Hybrids(URM_train_aug, URM_train_pow, UCM, HybridRecommender_5, Hybrid_SSLIM_EASER, Hybrid_SSLIM_RP3B_aug)\n",
    "recommender.fit(Hybrid_1_tier1_weight=0.09906699744028494, Hybrid_1_tier2_weight=0.2713344803469841, Hybrid_2_tier2_weight = 0.6798129679473879)"
   ]
  },
  {
   "cell_type": "code",
   "execution_count": 43,
   "metadata": {},
   "outputs": [
    {
     "name": "stderr",
     "output_type": "stream",
     "text": [
      "  0%|          | 1/41116 [00:00<05:31, 123.97it/s]\n"
     ]
    },
    {
     "ename": "AttributeError",
     "evalue": "'Hybrid_of_Hybrids' object has no attribute 'Hybrid_2_tier1_weight'",
     "output_type": "error",
     "traceback": [
      "\u001b[0;31m---------------------------------------------------------------------------\u001b[0m",
      "\u001b[0;31mAttributeError\u001b[0m                            Traceback (most recent call last)",
      "Cell \u001b[0;32mIn [43], line 5\u001b[0m\n\u001b[1;32m      3\u001b[0m recommended_items_for_each_user \u001b[39m=\u001b[39m {}\n\u001b[1;32m      4\u001b[0m \u001b[39mfor\u001b[39;00m user_id \u001b[39min\u001b[39;00m tqdm(target):\n\u001b[0;32m----> 5\u001b[0m     recommended_items \u001b[39m=\u001b[39m recommender\u001b[39m.\u001b[39;49mrecommend(\n\u001b[1;32m      6\u001b[0m         user_id, cutoff\u001b[39m=\u001b[39;49m\u001b[39m10\u001b[39;49m, remove_seen_flag\u001b[39m=\u001b[39;49m\u001b[39mTrue\u001b[39;49;00m)\n\u001b[1;32m      7\u001b[0m     \u001b[39m# recommended_items=impressions.update_ranking(user_id,recommended_items,dataReader)\u001b[39;00m\n\u001b[1;32m      8\u001b[0m     recommended_items_for_each_user[\u001b[39mint\u001b[39m(user_id)] \u001b[39m=\u001b[39m recommended_items\n",
      "File \u001b[0;32m~/Desktop/UNIVERSITA/MAGISTRALE/PRIMO ANNO/PRIMO SEMESTRE/RECOMMENDER SYSTEMS/Challenge/Git Folder/rec-sys-challenge/Recommenders/BaseRecommender.py:147\u001b[0m, in \u001b[0;36mBaseRecommender.recommend\u001b[0;34m(self, user_id_array, cutoff, remove_seen_flag, items_to_compute, remove_top_pop_flag, remove_custom_items_flag, return_scores)\u001b[0m\n\u001b[1;32m    143\u001b[0m cutoff \u001b[39m=\u001b[39m \u001b[39mmin\u001b[39m(cutoff, \u001b[39mself\u001b[39m\u001b[39m.\u001b[39mURM_train\u001b[39m.\u001b[39mshape[\u001b[39m1\u001b[39m] \u001b[39m-\u001b[39m \u001b[39m1\u001b[39m)\n\u001b[1;32m    145\u001b[0m \u001b[39m# Compute the scores using the model-specific function\u001b[39;00m\n\u001b[1;32m    146\u001b[0m \u001b[39m# Vectorize over all users in user_id_array\u001b[39;00m\n\u001b[0;32m--> 147\u001b[0m scores_batch \u001b[39m=\u001b[39m \u001b[39mself\u001b[39;49m\u001b[39m.\u001b[39;49m_compute_item_score(user_id_array, items_to_compute\u001b[39m=\u001b[39;49mitems_to_compute)\n\u001b[1;32m    150\u001b[0m \u001b[39mfor\u001b[39;00m user_index \u001b[39min\u001b[39;00m \u001b[39mrange\u001b[39m(\u001b[39mlen\u001b[39m(user_id_array)):\n\u001b[1;32m    152\u001b[0m     user_id \u001b[39m=\u001b[39m user_id_array[user_index]\n",
      "File \u001b[0;32m~/Desktop/UNIVERSITA/MAGISTRALE/PRIMO ANNO/PRIMO SEMESTRE/RECOMMENDER SYSTEMS/Challenge/Git Folder/rec-sys-challenge/hybrid.py:1085\u001b[0m, in \u001b[0;36mHybrid_of_Hybrids._compute_item_score\u001b[0;34m(self, user_id_array, items_to_compute)\u001b[0m\n\u001b[1;32m   1081\u001b[0m     w1 \u001b[39m=\u001b[39m \u001b[39mself\u001b[39m\u001b[39m.\u001b[39mHybrid_1_tier1\u001b[39m.\u001b[39m_compute_item_score_per_user(\n\u001b[1;32m   1082\u001b[0m         user_id_array[i], items_to_compute)\n\u001b[1;32m   1083\u001b[0m     w1 \u001b[39m/\u001b[39m\u001b[39m=\u001b[39m LA\u001b[39m.\u001b[39mnorm(w1, \u001b[39m2\u001b[39m)\n\u001b[0;32m-> 1085\u001b[0m     w \u001b[39m=\u001b[39m \u001b[39mself\u001b[39m\u001b[39m.\u001b[39mHybrid_1_tier1_weight\u001b[39m*\u001b[39mw1\n\u001b[1;32m   1087\u001b[0m \u001b[39melse\u001b[39;00m:  \u001b[39m# TIER 2\u001b[39;00m\n\u001b[1;32m   1089\u001b[0m     w1 \u001b[39m=\u001b[39m \u001b[39mself\u001b[39m\u001b[39m.\u001b[39mHybrid_1_tier2\u001b[39m.\u001b[39m_compute_item_score_per_user(\n\u001b[1;32m   1090\u001b[0m         user_id_array[i], items_to_compute)\n",
      "\u001b[0;31mAttributeError\u001b[0m: 'Hybrid_of_Hybrids' object has no attribute 'Hybrid_2_tier1_weight'"
     ]
    }
   ],
   "source": [
    "f = open(\"submission.csv\", \"w+\")\n",
    "f.write(\"user_id,item_list\\n\")\n",
    "recommended_items_for_each_user = {}\n",
    "for user_id in tqdm(target):\n",
    "    recommended_items = recommender.recommend(\n",
    "        user_id, cutoff=10, remove_seen_flag=True)\n",
    "    # recommended_items=impressions.update_ranking(user_id,recommended_items,dataReader)\n",
    "    recommended_items_for_each_user[int(user_id)] = recommended_items\n",
    "    well_formatted = \" \".join([str(x) for x in recommended_items])\n",
    "    f.write(f\"{user_id}, {well_formatted}\\n\")\n",
    "\n",
    "# Evaluate recommended items\n",
    "map = evaluate(recommended_items_for_each_user, URM_validation, target)\n",
    "print('MAP score: {}'.format(map))"
   ]
  }
 ],
 "metadata": {
  "kernelspec": {
   "display_name": "Python 3.9.15 ('tensorflow')",
   "language": "python",
   "name": "python3"
  },
  "language_info": {
   "codemirror_mode": {
    "name": "ipython",
    "version": 3
   },
   "file_extension": ".py",
   "mimetype": "text/x-python",
   "name": "python",
   "nbconvert_exporter": "python",
   "pygments_lexer": "ipython3",
   "version": "3.9.15 | packaged by conda-forge | (main, Nov 22 2022, 08:48:25) \n[Clang 14.0.6 ]"
  },
  "orig_nbformat": 4,
  "vscode": {
   "interpreter": {
    "hash": "924875a864510efb8ec566d64580ebd057fcb8e77e67729a27391833cbf8b66e"
   }
  }
 },
 "nbformat": 4,
 "nbformat_minor": 2
}
