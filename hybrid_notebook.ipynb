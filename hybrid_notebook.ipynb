{
 "cells": [
  {
   "cell_type": "code",
   "execution_count": 29,
   "metadata": {},
   "outputs": [],
   "source": [
    "from Data_Handler.DataReader import DataReader\n",
    "from Data_manager.split_functions.split_train_validation_random_holdout import split_train_in_two_percentage_global_sample\n",
    "from Recommenders.EASE_R.EASE_R_Recommender import EASE_R_Recommender\n",
    "from impressions import Impressions\n",
    "from hybrid import *\n",
    "from tqdm import tqdm\n",
    "from evaluator import evaluate\n",
    "import pandas as pd\n",
    "import numpy as np\n",
    "from Evaluation.Evaluator import EvaluatorHoldout\n",
    "from Recommenders.DataIO import DataIO\n",
    "from HyperparameterTuning.SearchBayesianSkopt import SearchBayesianSkopt\n",
    "from HyperparameterTuning.SearchAbstractClass import SearchInputRecommenderArgs\n",
    "from skopt.space import Real, Integer, Categorical\n",
    "import os"
   ]
  },
  {
   "cell_type": "code",
   "execution_count": null,
   "metadata": {},
   "outputs": [],
   "source": [
    "class Linear_Hybrid(BaseRecommender):\n",
    "    RECOMMENDER_NAME = \"Linear_Hybrid\"\n",
    "\n",
    "    def __init__(self, URM_train, recommender_1, recommender_2, recommender_3, recommender_4, recommender_5):\n",
    "        super(Linear_Hybrid, self).__init__(URM_train)\n",
    "\n",
    "        self.URM_train = sps.csr_matrix(URM_train)\n",
    "        self.recommender_1 = recommender_1\n",
    "        self.recommender_2 = recommender_2\n",
    "        \n",
    "        \n",
    "    def fit(self, norm=2, alpha = 0.5, beta =0.5, teta = 0.5, gamma = 0.5):\n",
    "\n",
    "        self.alpha = alpha\n",
    "        self.beta = beta\n",
    "        self.teta = teta\n",
    "        self.gamma = gamma\n",
    "        self.norm = norm\n",
    "\n",
    "\n",
    "    def _compute_item_score(self, user_id_array, items_to_compute):\n",
    "        \n",
    "        item_weights_1 = self.recommender_1._compute_item_score(user_id_array,items_to_compute)\n",
    "        item_weights_2 = self.recommender_2._compute_item_score(user_id_array,items_to_compute)\n",
    "        item_weights_3 = self.recommender_3._compute_item_score(user_id_array,items_to_compute)\n",
    "        item_weights_4 = self.recommender_4._compute_item_score(user_id_array,items_to_compute)\n",
    "        item_weights_5 = self.recommender_5._compute_item_score(user_id_array,items_to_compute)\n",
    "        norm_item_weights_1 = LA.norm(item_weights_1, self.norm)\n",
    "        norm_item_weights_2 = LA.norm(item_weights_2, self.norm)\n",
    "        norm_item_weights_3 = LA.norm(item_weights_3, self.norm)\n",
    "        norm_item_weights_4 = LA.norm(item_weights_4, self.norm)\n",
    "        norm_item_weights_5 = LA.norm(item_weights_5, self.norm)\n",
    "\n",
    "\n",
    "        \n",
    "        '''\n",
    "        if norm_item_weights_1 == 0:\n",
    "            raise ValueError(\"Norm {} of item weights for recommender 1 is zero. Avoiding division by zero\".format(self.norm))\n",
    "        \n",
    "        if norm_item_weights_2 == 0:\n",
    "            raise ValueError(\"Norm {} of item weights for recommender 2 is zero. Avoiding division by zero\".format(self.norm))\n",
    "          if norm_item_weights_2 == 0 and self.recommender_2==EASE_R_Recommender:\n",
    "            item_weights = (item_weights_1 / norm_item_weights_1)\n",
    "        else:\n",
    "            item_weights = (item_weights_1 / norm_item_weights_1) * self.alpha + (item_weights_2 / norm_item_weights_2) * (1-self.alpha)\n",
    "        return item_weights\n",
    "        '''\n",
    "      \n",
    "        item_weights = (item_weights_1 / norm_item_weights_1) * self.alpha + (item_weights_2 / norm_item_weights_2) * self.beta + (item_weights_3 / norm_item_weights_3) * self.teta + (item_weights_4 / norm_item_weights_4) * self.gamma + self.teta + (item_weights_5 / norm_item_weights_5) * (1-self.alpha-self.beta-self.teta-self.gamma)\n",
    "        \n",
    "        return item_weights"
   ]
  },
  {
   "cell_type": "code",
   "execution_count": 30,
   "metadata": {},
   "outputs": [
    {
     "name": "stdout",
     "output_type": "stream",
     "text": [
      ">>> number of target users: 41116\n",
      "Making augmented URM and ICM of the same shape...\n",
      "Warning: 2857 (6.86 %) of 41629 users have no sampled items\n",
      "EvaluatorHoldout: Ignoring 2857 ( 6.9%) Users that have less than 1 test interactions\n"
     ]
    }
   ],
   "source": [
    "dataReader = DataReader()\n",
    "\n",
    "target = dataReader.load_target()\n",
    "\n",
    "URM = dataReader.load_augmented_binary_urm()\n",
    "URM_aug,icm = dataReader.pad_with_zeros_ICMandURM(URM)\n",
    "\n",
    "URM_train_aug, URM_validation = split_train_in_two_percentage_global_sample(URM_aug, train_percentage = 0.9)\n",
    "URM_train_pow = dataReader.stackMatrixes(URM_train_aug)\n",
    "UCM = dataReader.load_aug_ucm()\n",
    "\n",
    "\n",
    "evaluator_validation = EvaluatorHoldout(URM_validation, [10])"
   ]
  },
  {
   "cell_type": "code",
   "execution_count": 31,
   "metadata": {},
   "outputs": [
    {
     "name": "stdout",
     "output_type": "stream",
     "text": [
      "UserKNNCFRecommender: URM Detected 3461 (12.4%) items with no interactions.\n",
      "Unable to load Cython Compute_Similarity, reverting to Python\n",
      "Similarity column 41629 (100.0%), 569.60 column/sec. Elapsed time 1.22 min\n"
     ]
    }
   ],
   "source": [
    "UserKNNCF = UserKNNCFRecommender(URM_train_aug)\n",
    "UserKNNCF.fit()"
   ]
  },
  {
   "cell_type": "code",
   "execution_count": 32,
   "metadata": {},
   "outputs": [
    {
     "name": "stdout",
     "output_type": "stream",
     "text": [
      "Unable to load Cython Compute_Similarity, reverting to Python\n",
      "Similarity column 27968 (100.0%), 567.72 column/sec. Elapsed time 49.26 sec\n"
     ]
    }
   ],
   "source": [
    "ItemKNNCF = ItemKNNCFRecommender(URM_train_pow)\n",
    "ItemKNNCF.fit()"
   ]
  },
  {
   "cell_type": "code",
   "execution_count": 33,
   "metadata": {},
   "outputs": [
    {
     "name": "stdout",
     "output_type": "stream",
     "text": [
      "RP3betaRecommender: URM Detected 3461 (12.4%) items with no interactions.\n",
      "RP3betaRecommender: Similarity column 27968 (100.0%), 3570.52 column/sec. Elapsed time 7.83 sec\n"
     ]
    }
   ],
   "source": [
    "RP3beta_aug = RP3betaRecommender(URM_train_aug)\n",
    "RP3beta_aug.fit()"
   ]
  },
  {
   "cell_type": "code",
   "execution_count": 34,
   "metadata": {},
   "outputs": [
    {
     "name": "stdout",
     "output_type": "stream",
     "text": [
      "RP3betaRecommender: Similarity column 27968 (100.0%), 1349.05 column/sec. Elapsed time 20.73 sec\n"
     ]
    }
   ],
   "source": [
    "RP3beta_pow = RP3betaRecommender(URM_train_pow)\n",
    "RP3beta_pow.fit(alpha=0.3648761546066018,beta=0.5058870363874656, topK=480, normalize_similarity=True)"
   ]
  },
  {
   "cell_type": "code",
   "execution_count": 35,
   "metadata": {},
   "outputs": [
    {
     "name": "stdout",
     "output_type": "stream",
     "text": [
      "SLIMElasticNetRecommender: Processed 5685 (20.3%) in 5.00 min. Items per second: 18.95\n",
      "SLIMElasticNetRecommender: Processed 11709 (41.9%) in 10.00 min. Items per second: 19.51\n",
      "SLIMElasticNetRecommender: Processed 17742 (63.4%) in 15.00 min. Items per second: 19.71\n",
      "SLIMElasticNetRecommender: Processed 23773 (85.0%) in 20.00 min. Items per second: 19.81\n",
      "SLIMElasticNetRecommender: Processed 27968 (100.0%) in 21.09 min. Items per second: 22.10\n"
     ]
    }
   ],
   "source": [
    "S_SLIM = SLIMElasticNetRecommender(URM_train_pow)\n",
    "S_SLIM.fit()"
   ]
  },
  {
   "cell_type": "code",
   "execution_count": 36,
   "metadata": {},
   "outputs": [
    {
     "name": "stdout",
     "output_type": "stream",
     "text": [
      "EASE_R_Recommender: URM Detected 3461 (12.4%) items with no interactions.\n",
      "EASE_R_Recommender: Fitting model... \n",
      "EASE_R_Recommender: Fitting model... done in 6.21 min\n"
     ]
    }
   ],
   "source": [
    "EASE_R = EASE_R_Recommender(URM_train_aug)\n",
    "EASE_R.fit()"
   ]
  },
  {
   "cell_type": "code",
   "execution_count": 37,
   "metadata": {},
   "outputs": [
    {
     "name": "stdout",
     "output_type": "stream",
     "text": [
      "Hybrid_layer1: URM Detected 3461 (12.4%) items with no interactions.\n"
     ]
    }
   ],
   "source": [
    "Hybrid_SSLIM_EASER = Hybrid_SSLIM_EASER(URM_train_aug, URM_train_pow, S_SLIM, EASE_R)\n",
    "Hybrid_SSLIM_EASER.fit(SSLIM_weight=0.563368095251961, EASE_R_weight=0.0)"
   ]
  },
  {
   "cell_type": "code",
   "execution_count": null,
   "metadata": {},
   "outputs": [],
   "source": []
  }
 ],
 "metadata": {
  "kernelspec": {
   "display_name": "Python 3.9.15 ('tensorflow')",
   "language": "python",
   "name": "python3"
  },
  "language_info": {
   "codemirror_mode": {
    "name": "ipython",
    "version": 3
   },
   "file_extension": ".py",
   "mimetype": "text/x-python",
   "name": "python",
   "nbconvert_exporter": "python",
   "pygments_lexer": "ipython3",
   "version": "3.9.15 | packaged by conda-forge | (main, Nov 22 2022, 08:48:25) \n[Clang 14.0.6 ]"
  },
  "orig_nbformat": 4,
  "vscode": {
   "interpreter": {
    "hash": "924875a864510efb8ec566d64580ebd057fcb8e77e67729a27391833cbf8b66e"
   }
  }
 },
 "nbformat": 4,
 "nbformat_minor": 2
}
