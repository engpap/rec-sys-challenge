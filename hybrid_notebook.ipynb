{
 "cells": [
  {
   "cell_type": "code",
   "execution_count": 14,
   "metadata": {},
   "outputs": [],
   "source": [
    "from Data_Handler.DataReader import DataReader\n",
    "from Data_manager.split_functions.split_train_validation_random_holdout import split_train_in_two_percentage_global_sample\n",
    "from Recommenders.EASE_R.EASE_R_Recommender import EASE_R_Recommender\n",
    "from impressions import Impressions\n",
    "from hybrid import *\n",
    "from tqdm import tqdm\n",
    "from evaluator import evaluate\n",
    "import pandas as pd\n",
    "import numpy as np\n",
    "# Read & split data\n",
    "dataReader = DataReader()"
   ]
  },
  {
   "cell_type": "code",
   "execution_count": 15,
   "metadata": {},
   "outputs": [
    {
     "name": "stdout",
     "output_type": "stream",
     "text": [
      ">>> number of target users: 41116\n",
      "4877\n",
      "Warning: 2760 (6.63 %) of 41629 users have no sampled items\n"
     ]
    }
   ],
   "source": [
    "target = dataReader.load_target()\n",
    "\n",
    "URM = dataReader.load_augmented_binary_urm()\n",
    "URM_aug,icm = dataReader.pad_with_zeros_ICMandURM(URM)\n",
    "\n",
    "URM_train_aug, URM_validation = split_train_in_two_percentage_global_sample(URM_aug, train_percentage = 0.9)\n",
    "URM_train_pow = dataReader.stackMatrixes(URM_train_aug)"
   ]
  },
  {
   "cell_type": "code",
   "execution_count": 16,
   "metadata": {},
   "outputs": [
    {
     "name": "stdout",
     "output_type": "stream",
     "text": [
      "UserKNNCFRecommender: URM Detected 3461 (12.4%) items with no interactions.\n",
      "Unable to load Cython Compute_Similarity, reverting to Python\n",
      "Similarity column 41629 (100.0%), 591.53 column/sec. Elapsed time 1.17 min\n",
      "SLIMElasticNetRecommender: Processed 5866 (21.0%) in 5.00 min. Items per second: 19.55\n",
      "SLIMElasticNetRecommender: Processed 11969 (42.8%) in 10.00 min. Items per second: 19.94\n",
      "SLIMElasticNetRecommender: Processed 18063 (64.6%) in 15.00 min. Items per second: 20.07\n",
      "SLIMElasticNetRecommender: Processed 24166 (86.4%) in 20.00 min. Items per second: 20.14\n",
      "SLIMElasticNetRecommender: Processed 27968 (100.0%) in 20.77 min. Items per second: 22.44\n",
      "EASE_R_Recommender: Fitting model... \n",
      "EASE_R_Recommender: Fitting model... done in 6.27 min\n"
     ]
    }
   ],
   "source": [
    "UserKNNCF = UserKNNCFRecommender(URM_train_aug)\n",
    "UserKNNCF.fit()\n",
    "\n",
    "#RP3beta_pow = RP3betaRecommender(URM_train_pow)\n",
    "#RP3beta_pow.fit(alpha=0.3648761546066018,beta=0.5058870363874656, topK=480, normalize_similarity=True)\n",
    "\n",
    "S_SLIM = SLIMElasticNetRecommender(URM_train_pow)\n",
    "S_SLIM.fit()\n",
    "\n",
    "EASE_R = EASE_R_Recommender(URM_train_pow)\n",
    "EASE_R.fit()"
   ]
  },
  {
   "cell_type": "code",
   "execution_count": 17,
   "metadata": {},
   "outputs": [
    {
     "name": "stdout",
     "output_type": "stream",
     "text": [
      "RP3betaRecommender: URM Detected 3461 (12.4%) items with no interactions.\n",
      "RP3betaRecommender: Similarity column 27968 (100.0%), 3491.69 column/sec. Elapsed time 8.01 sec\n"
     ]
    }
   ],
   "source": [
    "RP3beta_aug = RP3betaRecommender(URM_train_aug)\n",
    "RP3beta_aug.fit(alpha=0.6951524535062256,beta=0.39985511876562174, topK=82, normalize_similarity=True)"
   ]
  },
  {
   "cell_type": "code",
   "execution_count": 21,
   "metadata": {},
   "outputs": [
    {
     "name": "stdout",
     "output_type": "stream",
     "text": [
      "RP3betaRecommender: Similarity column 27968 (100.0%), 1354.09 column/sec. Elapsed time 20.65 sec\n"
     ]
    }
   ],
   "source": [
    "RP3beta_pow = RP3betaRecommender(URM_train_pow)\n",
    "RP3beta_pow.fit(alpha=0.3648761546066018,beta=0.5058870363874656, topK=480, normalize_similarity=True)"
   ]
  },
  {
   "cell_type": "code",
   "execution_count": 26,
   "metadata": {},
   "outputs": [
    {
     "name": "stdout",
     "output_type": "stream",
     "text": [
      "Hybrid_Recommender_5: URM Detected 3461 (12.4%) items with no interactions.\n"
     ]
    }
   ],
   "source": [
    "# Instantiate and fit hybrid recommender\n",
    "recommender = HybridRecommender_5(URM_train_aug, URM_train_aug,RP3beta_pow, S_SLIM, EASE_R, UserKNNCF)\n",
    "#recommender = HybridRecommender(URM_train)\n",
    "recommender.fit(UserKNNCF_tier1_weight=6345269660425519, RP3beta_pow_tier1_weight= 0.33158219696928976, EASE_R_tier1_weight=0.09597531837611298, UserKNNCF_tier2_weight=0.9792376938449392, RP3beta_pow_tier2_weight=0.570238999126259, EASE_R_tier2_weight=0.38860109710692725, RP3beta_pow_tier3_weight=0.722924027983384, S_SLIM_tier3_weight=0.8268022628613843, EASE_R_tier3_weight=0.06536164657983635, S_SLIM_tier4_weight= 0.9465915892992056, EASE_R_tier4_weight= 0.4292689877661564)\n",
    "#'UserKNNCF_tier1_weight': 0.6345269660425519, 'RP3beta_pow_tier1_weight': 0.33158219696928976, 'EASE_R_tier1_weight': 0.09597531837611298, 'UserKNNCF_tier2_weight': 0.9792376938449392, 'RP3beta_pow_tier2_weight': 0.570238999126259, 'EASE_R_tier2_weight': 0.38860109710692725, 'RP3beta_pow_tier3_weight': 0.722924027983384, 'S_SLIM_tier3_weight': 0.8268022628613843, 'EASE_R_tier3_weight': 0.06536164657983635, 'S_SLIM_tier4_weight': 0.9465915892992056, 'EASE_R_tier4_weight': 0.4292689877661564"
   ]
  },
  {
   "cell_type": "code",
   "execution_count": 27,
   "metadata": {},
   "outputs": [
    {
     "name": "stderr",
     "output_type": "stream",
     "text": [
      "100%|██████████| 41116/41116 [00:57<00:00, 719.39it/s]\n"
     ]
    }
   ],
   "source": [
    "# Create CSV for submission\n",
    "f = open(\"submission.csv\", \"w+\")\n",
    "f.write(\"user_id,item_list\\n\")\n",
    "recommended_items_for_each_user = {}\n",
    "for user_id in tqdm(target):\n",
    "    recommended_items = recommender.recommend(user_id, cutoff=10, remove_seen_flag=True)\n",
    "    #recommended_items=impressions.update_ranking(user_id,recommended_items,dataReader)\n",
    "    recommended_items_for_each_user[int(user_id)]=recommended_items\n",
    "    well_formatted = \" \".join([str(x) for x in recommended_items])\n",
    "    f.write(f\"{user_id}, {well_formatted}\\n\")"
   ]
  },
  {
   "cell_type": "code",
   "execution_count": 28,
   "metadata": {},
   "outputs": [
    {
     "name": "stderr",
     "output_type": "stream",
     "text": [
      "100%|██████████| 41116/41116 [00:01<00:00, 37667.09it/s]"
     ]
    },
    {
     "name": "stdout",
     "output_type": "stream",
     "text": [
      "MAP score: 0.034669620779269356\n"
     ]
    },
    {
     "name": "stderr",
     "output_type": "stream",
     "text": [
      "\n"
     ]
    }
   ],
   "source": [
    "# Evaluare recommended items\n",
    "map=evaluate(recommended_items_for_each_user,URM_validation,target)\n",
    "print('MAP score: {}'.format(map))"
   ]
  }
 ],
 "metadata": {
  "kernelspec": {
   "display_name": "Python 3.9.15 ('tensorflow')",
   "language": "python",
   "name": "python3"
  },
  "language_info": {
   "codemirror_mode": {
    "name": "ipython",
    "version": 3
   },
   "file_extension": ".py",
   "mimetype": "text/x-python",
   "name": "python",
   "nbconvert_exporter": "python",
   "pygments_lexer": "ipython3",
   "version": "3.9.15 | packaged by conda-forge | (main, Nov 22 2022, 08:48:25) \n[Clang 14.0.6 ]"
  },
  "orig_nbformat": 4,
  "vscode": {
   "interpreter": {
    "hash": "924875a864510efb8ec566d64580ebd057fcb8e77e67729a27391833cbf8b66e"
   }
  }
 },
 "nbformat": 4,
 "nbformat_minor": 2
}
