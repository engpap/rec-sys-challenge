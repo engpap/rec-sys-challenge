{
 "cells": [
  {
   "cell_type": "code",
   "execution_count": 40,
   "metadata": {},
   "outputs": [],
   "source": [
    "from Data_Handler.DataReader import DataReader\n",
    "from Data_manager.split_functions.split_train_validation_random_holdout import split_train_in_two_percentage_global_sample\n",
    "from impressions import Impressions\n",
    "from hybrid import *\n",
    "from tqdm import tqdm\n",
    "from evaluator import evaluate\n",
    "import pandas as pd\n",
    "import numpy as np\n",
    "# Read & split data\n",
    "dataReader = DataReader()"
   ]
  },
  {
   "cell_type": "code",
   "execution_count": 41,
   "metadata": {},
   "outputs": [
    {
     "name": "stdout",
     "output_type": "stream",
     "text": [
      ">>> number of target users: 41116\n",
      "4877\n",
      "Warning: 2870 (6.89 %) of 41629 users have no sampled items\n"
     ]
    }
   ],
   "source": [
    "target = dataReader.load_target()\n",
    "\n",
    "URM = dataReader.load_augmented_binary_urm()\n",
    "URM_aug,icm = dataReader.pad_with_zeros_ICMandURM(URM)\n",
    "\n",
    "URM_train_aug, URM_validation = split_train_in_two_percentage_global_sample(URM_aug, train_percentage = 0.9)\n",
    "URM_train_pow = dataReader.stackMatrixes(URM_train_aug)"
   ]
  },
  {
   "cell_type": "code",
   "execution_count": 42,
   "metadata": {},
   "outputs": [
    {
     "name": "stdout",
     "output_type": "stream",
     "text": [
      "Hybrid_Recommender_4: URM Detected 3461 (12.4%) items with no interactions.\n",
      "UserKNNCFRecommender: URM Detected 3461 (12.4%) items with no interactions.\n",
      "Unable to load Cython Compute_Similarity, reverting to Python\n",
      "Similarity column 41629 (100.0%), 746.35 column/sec. Elapsed time 55.78 sec\n",
      "RP3betaRecommender: Similarity column 27968 (100.0%), 1735.38 column/sec. Elapsed time 16.12 sec\n",
      "SLIMElasticNetRecommender: Processed 7799 (27.9%) in 5.00 min. Items per second: 25.99\n",
      "SLIMElasticNetRecommender: Processed 15854 (56.7%) in 10.00 min. Items per second: 26.42\n",
      "SLIMElasticNetRecommender: Processed 23623 (84.5%) in 15.00 min. Items per second: 26.24\n",
      "SLIMElasticNetRecommender: Processed 27968 (100.0%) in 15.89 min. Items per second: 29.33\n"
     ]
    }
   ],
   "source": [
    "# Instantiate and fit hybrid recommender\n",
    "recommender = HybridRecommender_4(URM_train_aug, URM_train_pow)\n",
    "#recommender = HybridRecommender(URM_train)\n",
    "recommender.fit(UserKNNCF_tier1_weight=0.4, RP3beta_pow_tier1_weight=0.6,UserKNNCF_tier2_weight=0.2, RP3beta_pow_tier2_weight=0.8, RP3beta_pow_tier3_weight=0.5, S_SLIM_tier3_weight=0.8)"
   ]
  },
  {
   "cell_type": "code",
   "execution_count": 43,
   "metadata": {},
   "outputs": [
    {
     "name": "stderr",
     "output_type": "stream",
     "text": [
      "100%|██████████| 41116/41116 [00:49<00:00, 832.46it/s]\n"
     ]
    }
   ],
   "source": [
    "# Create CSV for submission\n",
    "f = open(\"submission.csv\", \"w+\")\n",
    "f.write(\"user_id,item_list\\n\")\n",
    "recommended_items_for_each_user = {}\n",
    "for user_id in tqdm(target):\n",
    "    recommended_items = recommender.recommend(user_id, cutoff=10, remove_seen_flag=True)\n",
    "    #recommended_items=impressions.update_ranking(user_id,recommended_items,dataReader)\n",
    "    recommended_items_for_each_user[int(user_id)]=recommended_items\n",
    "    well_formatted = \" \".join([str(x) for x in recommended_items])\n",
    "    f.write(f\"{user_id}, {well_formatted}\\n\")"
   ]
  },
  {
   "cell_type": "code",
   "execution_count": 44,
   "metadata": {},
   "outputs": [
    {
     "name": "stderr",
     "output_type": "stream",
     "text": [
      "100%|██████████| 41116/41116 [00:00<00:00, 51844.75it/s]"
     ]
    },
    {
     "name": "stdout",
     "output_type": "stream",
     "text": [
      "MAP score: 0.040385383312785086\n"
     ]
    },
    {
     "name": "stderr",
     "output_type": "stream",
     "text": [
      "\n"
     ]
    }
   ],
   "source": [
    "# Evaluare recommended items\n",
    "map=evaluate(recommended_items_for_each_user,URM_validation,target)\n",
    "print('MAP score: {}'.format(map))"
   ]
  }
 ],
 "metadata": {
  "kernelspec": {
   "display_name": "Python 3.9.15 ('tensorflow')",
   "language": "python",
   "name": "python3"
  },
  "language_info": {
   "codemirror_mode": {
    "name": "ipython",
    "version": 3
   },
   "file_extension": ".py",
   "mimetype": "text/x-python",
   "name": "python",
   "nbconvert_exporter": "python",
   "pygments_lexer": "ipython3",
   "version": "3.9.15"
  },
  "orig_nbformat": 4,
  "vscode": {
   "interpreter": {
    "hash": "924875a864510efb8ec566d64580ebd057fcb8e77e67729a27391833cbf8b66e"
   }
  }
 },
 "nbformat": 4,
 "nbformat_minor": 2
}
