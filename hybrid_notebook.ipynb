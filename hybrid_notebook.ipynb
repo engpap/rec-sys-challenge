{
 "cells": [
  {
   "cell_type": "code",
   "execution_count": 1,
   "metadata": {},
   "outputs": [],
   "source": [
    "from Data_Handler.DataReader import DataReader\n",
    "from Data_manager.split_functions.split_train_validation_random_holdout import split_train_in_two_percentage_global_sample\n",
    "from Recommenders.EASE_R.EASE_R_Recommender import EASE_R_Recommender\n",
    "from impressions import Impressions\n",
    "from hybrid import *\n",
    "from tqdm import tqdm\n",
    "from evaluator import evaluate\n",
    "import pandas as pd\n",
    "import numpy as np\n",
    "# Read & split data\n",
    "dataReader = DataReader()"
   ]
  },
  {
   "cell_type": "code",
   "execution_count": 2,
   "metadata": {},
   "outputs": [
    {
     "name": "stdout",
     "output_type": "stream",
     "text": [
      ">>> number of target users: 41116\n",
      "4877\n",
      "Warning: 2839 (6.82 %) of 41629 users have no sampled items\n"
     ]
    }
   ],
   "source": [
    "target = dataReader.load_target()\n",
    "\n",
    "URM = dataReader.load_augmented_binary_urm()\n",
    "URM_aug,icm = dataReader.pad_with_zeros_ICMandURM(URM)\n",
    "\n",
    "URM_train_aug, URM_validation = split_train_in_two_percentage_global_sample(URM_aug, train_percentage = 0.9)\n",
    "URM_train_pow = dataReader.stackMatrixes(URM_train_aug)"
   ]
  },
  {
   "cell_type": "code",
   "execution_count": 3,
   "metadata": {},
   "outputs": [
    {
     "name": "stdout",
     "output_type": "stream",
     "text": [
      "UserKNNCFRecommender: URM Detected 3461 (12.4%) items with no interactions.\n",
      "Unable to load Cython Compute_Similarity, reverting to Python\n",
      "Similarity column 41629 (100.0%), 655.53 column/sec. Elapsed time 1.06 min\n",
      "RP3betaRecommender: Similarity column 27968 (100.0%), 1640.48 column/sec. Elapsed time 17.05 sec\n",
      "SLIMElasticNetRecommender: Processed 7153 (25.6%) in 5.00 min. Items per second: 23.84\n"
     ]
    },
    {
     "ename": "KeyboardInterrupt",
     "evalue": "",
     "output_type": "error",
     "traceback": [
      "\u001b[0;31m---------------------------------------------------------------------------\u001b[0m",
      "\u001b[0;31mKeyboardInterrupt\u001b[0m                         Traceback (most recent call last)",
      "Cell \u001b[0;32mIn [3], line 8\u001b[0m\n\u001b[1;32m      5\u001b[0m RP3beta_pow\u001b[39m.\u001b[39mfit(alpha\u001b[39m=\u001b[39m\u001b[39m0.3648761546066018\u001b[39m,beta\u001b[39m=\u001b[39m\u001b[39m0.5058870363874656\u001b[39m, topK\u001b[39m=\u001b[39m\u001b[39m480\u001b[39m, normalize_similarity\u001b[39m=\u001b[39m\u001b[39mTrue\u001b[39;00m)\n\u001b[1;32m      7\u001b[0m S_SLIM \u001b[39m=\u001b[39m SLIMElasticNetRecommender(URM_train_pow)\n\u001b[0;32m----> 8\u001b[0m S_SLIM\u001b[39m.\u001b[39;49mfit()\n\u001b[1;32m     10\u001b[0m EASE_R \u001b[39m=\u001b[39m EASE_R_Recommender(URM_train_pow)\n\u001b[1;32m     11\u001b[0m EASE_R\u001b[39m.\u001b[39mfit()\n",
      "File \u001b[0;32m~/opt/miniconda3/envs/tensorflow/lib/python3.9/site-packages/sklearn/utils/_testing.py:320\u001b[0m, in \u001b[0;36m_IgnoreWarnings.__call__.<locals>.wrapper\u001b[0;34m(*args, **kwargs)\u001b[0m\n\u001b[1;32m    318\u001b[0m \u001b[39mwith\u001b[39;00m warnings\u001b[39m.\u001b[39mcatch_warnings():\n\u001b[1;32m    319\u001b[0m     warnings\u001b[39m.\u001b[39msimplefilter(\u001b[39m\"\u001b[39m\u001b[39mignore\u001b[39m\u001b[39m\"\u001b[39m, \u001b[39mself\u001b[39m\u001b[39m.\u001b[39mcategory)\n\u001b[0;32m--> 320\u001b[0m     \u001b[39mreturn\u001b[39;00m fn(\u001b[39m*\u001b[39;49margs, \u001b[39m*\u001b[39;49m\u001b[39m*\u001b[39;49mkwargs)\n",
      "File \u001b[0;32m~/Desktop/UNIVERSITA/MAGISTRALE/PRIMO ANNO/PRIMO SEMESTRE/RECOMMENDER SYSTEMS/Challenge/Git Folder/rec-sys-challenge/Recommenders/SLIM/SLIMElasticNetRecommender.py:87\u001b[0m, in \u001b[0;36mSLIMElasticNetRecommender.fit\u001b[0;34m(self, l1_ratio, alpha, positive_only, topK)\u001b[0m\n\u001b[1;32m     84\u001b[0m URM_train\u001b[39m.\u001b[39mdata[start_pos: end_pos] \u001b[39m=\u001b[39m \u001b[39m0.0\u001b[39m\n\u001b[1;32m     86\u001b[0m \u001b[39m# fit one ElasticNet model per column\u001b[39;00m\n\u001b[0;32m---> 87\u001b[0m \u001b[39mself\u001b[39;49m\u001b[39m.\u001b[39;49mmodel\u001b[39m.\u001b[39;49mfit(URM_train, y)\n\u001b[1;32m     89\u001b[0m \u001b[39m# self.model.coef_ contains the coefficient of the ElasticNet model\u001b[39;00m\n\u001b[1;32m     90\u001b[0m \u001b[39m# let's keep only the non-zero values\u001b[39;00m\n\u001b[1;32m     91\u001b[0m nonzero_model_coef_index \u001b[39m=\u001b[39m \u001b[39mself\u001b[39m\u001b[39m.\u001b[39mmodel\u001b[39m.\u001b[39msparse_coef_\u001b[39m.\u001b[39mindices\n",
      "File \u001b[0;32m~/opt/miniconda3/envs/tensorflow/lib/python3.9/site-packages/sklearn/linear_model/_coordinate_descent.py:1054\u001b[0m, in \u001b[0;36mElasticNet.fit\u001b[0;34m(self, X, y, sample_weight, check_input)\u001b[0m\n\u001b[1;32m   1052\u001b[0m \u001b[39melse\u001b[39;00m:\n\u001b[1;32m   1053\u001b[0m     this_Xy \u001b[39m=\u001b[39m \u001b[39mNone\u001b[39;00m\n\u001b[0;32m-> 1054\u001b[0m _, this_coef, this_dual_gap, this_iter \u001b[39m=\u001b[39m \u001b[39mself\u001b[39;49m\u001b[39m.\u001b[39;49mpath(\n\u001b[1;32m   1055\u001b[0m     X,\n\u001b[1;32m   1056\u001b[0m     y[:, k],\n\u001b[1;32m   1057\u001b[0m     l1_ratio\u001b[39m=\u001b[39;49m\u001b[39mself\u001b[39;49m\u001b[39m.\u001b[39;49ml1_ratio,\n\u001b[1;32m   1058\u001b[0m     eps\u001b[39m=\u001b[39;49m\u001b[39mNone\u001b[39;49;00m,\n\u001b[1;32m   1059\u001b[0m     n_alphas\u001b[39m=\u001b[39;49m\u001b[39mNone\u001b[39;49;00m,\n\u001b[1;32m   1060\u001b[0m     alphas\u001b[39m=\u001b[39;49m[alpha],\n\u001b[1;32m   1061\u001b[0m     precompute\u001b[39m=\u001b[39;49mprecompute,\n\u001b[1;32m   1062\u001b[0m     Xy\u001b[39m=\u001b[39;49mthis_Xy,\n\u001b[1;32m   1063\u001b[0m     copy_X\u001b[39m=\u001b[39;49m\u001b[39mTrue\u001b[39;49;00m,\n\u001b[1;32m   1064\u001b[0m     coef_init\u001b[39m=\u001b[39;49mcoef_[k],\n\u001b[1;32m   1065\u001b[0m     verbose\u001b[39m=\u001b[39;49m\u001b[39mFalse\u001b[39;49;00m,\n\u001b[1;32m   1066\u001b[0m     return_n_iter\u001b[39m=\u001b[39;49m\u001b[39mTrue\u001b[39;49;00m,\n\u001b[1;32m   1067\u001b[0m     positive\u001b[39m=\u001b[39;49m\u001b[39mself\u001b[39;49m\u001b[39m.\u001b[39;49mpositive,\n\u001b[1;32m   1068\u001b[0m     check_input\u001b[39m=\u001b[39;49m\u001b[39mFalse\u001b[39;49;00m,\n\u001b[1;32m   1069\u001b[0m     \u001b[39m# from here on **params\u001b[39;49;00m\n\u001b[1;32m   1070\u001b[0m     tol\u001b[39m=\u001b[39;49m\u001b[39mself\u001b[39;49m\u001b[39m.\u001b[39;49mtol,\n\u001b[1;32m   1071\u001b[0m     X_offset\u001b[39m=\u001b[39;49mX_offset,\n\u001b[1;32m   1072\u001b[0m     X_scale\u001b[39m=\u001b[39;49mX_scale,\n\u001b[1;32m   1073\u001b[0m     max_iter\u001b[39m=\u001b[39;49m\u001b[39mself\u001b[39;49m\u001b[39m.\u001b[39;49mmax_iter,\n\u001b[1;32m   1074\u001b[0m     random_state\u001b[39m=\u001b[39;49m\u001b[39mself\u001b[39;49m\u001b[39m.\u001b[39;49mrandom_state,\n\u001b[1;32m   1075\u001b[0m     selection\u001b[39m=\u001b[39;49m\u001b[39mself\u001b[39;49m\u001b[39m.\u001b[39;49mselection,\n\u001b[1;32m   1076\u001b[0m     sample_weight\u001b[39m=\u001b[39;49msample_weight,\n\u001b[1;32m   1077\u001b[0m )\n\u001b[1;32m   1078\u001b[0m coef_[k] \u001b[39m=\u001b[39m this_coef[:, \u001b[39m0\u001b[39m]\n\u001b[1;32m   1079\u001b[0m dual_gaps_[k] \u001b[39m=\u001b[39m this_dual_gap[\u001b[39m0\u001b[39m]\n",
      "File \u001b[0;32m~/opt/miniconda3/envs/tensorflow/lib/python3.9/site-packages/sklearn/linear_model/_coordinate_descent.py:609\u001b[0m, in \u001b[0;36menet_path\u001b[0;34m(X, y, l1_ratio, eps, n_alphas, alphas, precompute, Xy, copy_X, coef_init, verbose, return_n_iter, positive, check_input, **params)\u001b[0m\n\u001b[1;32m    607\u001b[0m l2_reg \u001b[39m=\u001b[39m alpha \u001b[39m*\u001b[39m (\u001b[39m1.0\u001b[39m \u001b[39m-\u001b[39m l1_ratio) \u001b[39m*\u001b[39m n_samples\n\u001b[1;32m    608\u001b[0m \u001b[39mif\u001b[39;00m \u001b[39mnot\u001b[39;00m multi_output \u001b[39mand\u001b[39;00m sparse\u001b[39m.\u001b[39misspmatrix(X):\n\u001b[0;32m--> 609\u001b[0m     model \u001b[39m=\u001b[39m cd_fast\u001b[39m.\u001b[39;49msparse_enet_coordinate_descent(\n\u001b[1;32m    610\u001b[0m         w\u001b[39m=\u001b[39;49mcoef_,\n\u001b[1;32m    611\u001b[0m         alpha\u001b[39m=\u001b[39;49ml1_reg,\n\u001b[1;32m    612\u001b[0m         beta\u001b[39m=\u001b[39;49ml2_reg,\n\u001b[1;32m    613\u001b[0m         X_data\u001b[39m=\u001b[39;49mX\u001b[39m.\u001b[39;49mdata,\n\u001b[1;32m    614\u001b[0m         X_indices\u001b[39m=\u001b[39;49mX\u001b[39m.\u001b[39;49mindices,\n\u001b[1;32m    615\u001b[0m         X_indptr\u001b[39m=\u001b[39;49mX\u001b[39m.\u001b[39;49mindptr,\n\u001b[1;32m    616\u001b[0m         y\u001b[39m=\u001b[39;49my,\n\u001b[1;32m    617\u001b[0m         sample_weight\u001b[39m=\u001b[39;49msample_weight,\n\u001b[1;32m    618\u001b[0m         X_mean\u001b[39m=\u001b[39;49mX_sparse_scaling,\n\u001b[1;32m    619\u001b[0m         max_iter\u001b[39m=\u001b[39;49mmax_iter,\n\u001b[1;32m    620\u001b[0m         tol\u001b[39m=\u001b[39;49mtol,\n\u001b[1;32m    621\u001b[0m         rng\u001b[39m=\u001b[39;49mrng,\n\u001b[1;32m    622\u001b[0m         random\u001b[39m=\u001b[39;49mrandom,\n\u001b[1;32m    623\u001b[0m         positive\u001b[39m=\u001b[39;49mpositive,\n\u001b[1;32m    624\u001b[0m     )\n\u001b[1;32m    625\u001b[0m \u001b[39melif\u001b[39;00m multi_output:\n\u001b[1;32m    626\u001b[0m     model \u001b[39m=\u001b[39m cd_fast\u001b[39m.\u001b[39menet_coordinate_descent_multi_task(\n\u001b[1;32m    627\u001b[0m         coef_, l1_reg, l2_reg, X, y, max_iter, tol, rng, random\n\u001b[1;32m    628\u001b[0m     )\n",
      "\u001b[0;31mKeyboardInterrupt\u001b[0m: "
     ]
    }
   ],
   "source": [
    "UserKNNCF = UserKNNCFRecommender(URM_train_aug)\n",
    "UserKNNCF.fit()\n",
    "\n",
    "RP3beta_pow = RP3betaRecommender(URM_train_pow)\n",
    "RP3beta_pow.fit(alpha=0.3648761546066018,beta=0.5058870363874656, topK=480, normalize_similarity=True)\n",
    "\n",
    "S_SLIM = SLIMElasticNetRecommender(URM_train_pow)\n",
    "S_SLIM.fit()\n",
    "\n",
    "EASE_R = EASE_R_Recommender(URM_train_pow)\n",
    "EASE_R.fit()"
   ]
  },
  {
   "cell_type": "code",
   "execution_count": null,
   "metadata": {},
   "outputs": [
    {
     "name": "stdout",
     "output_type": "stream",
     "text": [
      "Hybrid_Recommender_4: URM Detected 3461 (12.4%) items with no interactions.\n",
      "UserKNNCFRecommender: URM Detected 3461 (12.4%) items with no interactions.\n",
      "Unable to load Cython Compute_Similarity, reverting to Python\n",
      "Similarity column 41629 (100.0%), 746.35 column/sec. Elapsed time 55.78 sec\n",
      "RP3betaRecommender: Similarity column 27968 (100.0%), 1735.38 column/sec. Elapsed time 16.12 sec\n",
      "SLIMElasticNetRecommender: Processed 7799 (27.9%) in 5.00 min. Items per second: 25.99\n",
      "SLIMElasticNetRecommender: Processed 15854 (56.7%) in 10.00 min. Items per second: 26.42\n",
      "SLIMElasticNetRecommender: Processed 23623 (84.5%) in 15.00 min. Items per second: 26.24\n",
      "SLIMElasticNetRecommender: Processed 27968 (100.0%) in 15.89 min. Items per second: 29.33\n"
     ]
    }
   ],
   "source": [
    "# Instantiate and fit hybrid recommender\n",
    "recommender = HybridRecommender_5(URM_train_aug, URM_train_pow,RP3beta_pow, S_SLIM, EASE_R, UserKNNCF)\n",
    "#recommender = HybridRecommender(URM_train)\n",
    "recommender.fit(UserKNNCF_tier1_weight=0.5729283925580592, RP3beta_pow_tier1_weight= 0.5126995921400189, EASE_R_tier1_weight=0.35135124299835835, UserKNNCF_tier2_weight=0.9573738859277221, RP3beta_pow_tier2_weight=0.8130000344620287, EASE_R_tier2_weight=0.8407574723860113, RP3beta_pow_tier3_weight=0.8153126010122613, S_SLIM_tier3_weight=0.39864407118121825, EASE_R_tier3_weight=0.8181461648227059, S_SLIM_tier4_weight= 0.3513706238839294, EASE_R_tier4_weight= 0.009916836090967942)"
   ]
  },
  {
   "cell_type": "code",
   "execution_count": null,
   "metadata": {},
   "outputs": [
    {
     "name": "stderr",
     "output_type": "stream",
     "text": [
      "100%|██████████| 41116/41116 [00:49<00:00, 832.46it/s]\n"
     ]
    }
   ],
   "source": [
    "# Create CSV for submission\n",
    "f = open(\"submission.csv\", \"w+\")\n",
    "f.write(\"user_id,item_list\\n\")\n",
    "recommended_items_for_each_user = {}\n",
    "for user_id in tqdm(target):\n",
    "    recommended_items = recommender.recommend(user_id, cutoff=10, remove_seen_flag=True)\n",
    "    #recommended_items=impressions.update_ranking(user_id,recommended_items,dataReader)\n",
    "    recommended_items_for_each_user[int(user_id)]=recommended_items\n",
    "    well_formatted = \" \".join([str(x) for x in recommended_items])\n",
    "    f.write(f\"{user_id}, {well_formatted}\\n\")"
   ]
  },
  {
   "cell_type": "code",
   "execution_count": null,
   "metadata": {},
   "outputs": [
    {
     "name": "stderr",
     "output_type": "stream",
     "text": [
      "100%|██████████| 41116/41116 [00:00<00:00, 51844.75it/s]"
     ]
    },
    {
     "name": "stdout",
     "output_type": "stream",
     "text": [
      "MAP score: 0.040385383312785086\n"
     ]
    },
    {
     "name": "stderr",
     "output_type": "stream",
     "text": [
      "\n"
     ]
    }
   ],
   "source": [
    "# Evaluare recommended items\n",
    "map=evaluate(recommended_items_for_each_user,URM_validation,target)\n",
    "print('MAP score: {}'.format(map))"
   ]
  }
 ],
 "metadata": {
  "kernelspec": {
   "display_name": "Python 3.9.15 ('tensorflow')",
   "language": "python",
   "name": "python3"
  },
  "language_info": {
   "codemirror_mode": {
    "name": "ipython",
    "version": 3
   },
   "file_extension": ".py",
   "mimetype": "text/x-python",
   "name": "python",
   "nbconvert_exporter": "python",
   "pygments_lexer": "ipython3",
   "version": "3.9.15 | packaged by conda-forge | (main, Nov 22 2022, 08:48:25) \n[Clang 14.0.6 ]"
  },
  "orig_nbformat": 4,
  "vscode": {
   "interpreter": {
    "hash": "924875a864510efb8ec566d64580ebd057fcb8e77e67729a27391833cbf8b66e"
   }
  }
 },
 "nbformat": 4,
 "nbformat_minor": 2
}
