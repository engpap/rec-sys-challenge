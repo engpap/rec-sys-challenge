{
 "cells": [
  {
   "cell_type": "code",
   "execution_count": 1,
   "metadata": {},
   "outputs": [
    {
     "ename": "ModuleNotFoundError",
     "evalue": "No module named 'Data_Handler'",
     "output_type": "error",
     "traceback": [
      "\u001b[1;31m---------------------------------------------------------------------------\u001b[0m",
      "\u001b[1;31mModuleNotFoundError\u001b[0m                       Traceback (most recent call last)",
      "Cell \u001b[1;32mIn[1], line 1\u001b[0m\n\u001b[1;32m----> 1\u001b[0m \u001b[39mfrom\u001b[39;00m \u001b[39mData_Handler\u001b[39;00m\u001b[39m.\u001b[39;00m\u001b[39mDataReader\u001b[39;00m \u001b[39mimport\u001b[39;00m DataReader\n\u001b[0;32m      2\u001b[0m \u001b[39mimport\u001b[39;00m \u001b[39mnumpy\u001b[39;00m \u001b[39mas\u001b[39;00m \u001b[39mnp\u001b[39;00m\n\u001b[0;32m      3\u001b[0m \u001b[39mimport\u001b[39;00m \u001b[39mpandas\u001b[39;00m \u001b[39mas\u001b[39;00m \u001b[39mpd\u001b[39;00m\n",
      "\u001b[1;31mModuleNotFoundError\u001b[0m: No module named 'Data_Handler'"
     ]
    }
   ],
   "source": [
    "from Data_Handler.DataReader import DataReader\n",
    "import numpy as np\n",
    "import pandas as pd\n",
    "\n",
    "dataReader= DataReader()\n",
    "URM = dataReader.load_augmented_binary_urm()\n",
    "URM_aug,ICM = dataReader.pad_with_zeros_ICMandURM(URM)\n",
    "\n",
    "\n",
    "urm=dataReader.csr_to_dataframe(URM_aug,'UserID', 'ItemID','Data')\n",
    "icm=dataReader.load_icm_df()\n",
    "\n",
    "user_ids=urm['UserID'].values\n",
    "user_ids = np.unique(user_ids)\n",
    "print(user_ids)\n",
    "print(\"N_USERS-->{}\".format(len(user_ids)))\n",
    "\n",
    "item_ids=icm['item_id'].values\n",
    "item_ids = np.unique(item_ids)\n",
    "print(item_ids)\n",
    "\n",
    "feature_ids = icm['feature_id'].values\n",
    "feature_ids = np.unique(feature_ids)\n",
    "print(feature_ids)\n"
   ]
  },
  {
   "cell_type": "code",
   "execution_count": 9,
   "metadata": {},
   "outputs": [
    {
     "name": "stdout",
     "output_type": "stream",
     "text": [
      "ktm\n"
     ]
    }
   ],
   "source": [
    "f = open(\"data_aug_UCM.csv\", \"w+\")\n",
    "f.write(\"UserID,FeatureID,Data\\n\")\n",
    "\n",
    "# create an empty dataframe for storing UCM\n",
    "ucm = pd.DataFrame(columns=['UserID','FeatureID','Data'])\n",
    "\n",
    "# for each user we iterate over the URM\n",
    "for user_id in user_ids:\n",
    "    if(user_id==41628):\n",
    "        print(\"ktm\")\n",
    "    # Get the dataframe rows of the URM of a certain user\n",
    "    df = urm.loc[urm['UserID'] == user_id]\n",
    "    #print(df)\n",
    "    # Get the unique ids of items\n",
    "    item_ids_for_this_user = np.unique(df['ItemID'].values)\n",
    "    #print(item_ids_for_this_user)\n",
    "    if(item_ids_for_this_user.size>0):\n",
    "        # For each item the user has interacted with\n",
    "        for item_id in item_ids_for_this_user:\n",
    "            # Get the dataframe rows of ICM of a certain user\n",
    "            df = icm.loc[icm['item_id'] == item_id]\n",
    "            #print(df)\n",
    "            # Get the unique ids of features\n",
    "            feature_ids_for_items_of_this_user = np.unique(df['feature_id'].values)\n",
    "            #print(feature_ids_for_items_of_this_user)\n",
    "            # Create the dataframe to append to UCM\n",
    "            if(feature_ids_for_items_of_this_user.size>0):\n",
    "                for feature_id in feature_ids_for_items_of_this_user:\n",
    "                    #row_to_append = pd.DataFrame({'UserID': [user_id],'FeatureID': [feature_id], 'Data': [1]})\n",
    "                    #print(row_to_append)\n",
    "                    # Append at the end ot the dataframe UCM\n",
    "                    #ucm=pd.concat([ucm, row_to_append], ignore_index=True).sort_values(['UserID', 'FeatureID'])\n",
    "                    f.write(f\"{user_id},{feature_id},1\\n\")\n",
    "            else:\n",
    "                # to keep number of users consistent across all matrixes\n",
    "                f.write(f\"{user_id},1,0\\n\")\n",
    "    else:\n",
    "        #  to keep number of users consistent across all matrixes\n",
    "        f.write(f\"{user_id},1,0\\n\")\n"
   ]
  },
  {
   "cell_type": "code",
   "execution_count": 6,
   "metadata": {},
   "outputs": [
    {
     "name": "stdout",
     "output_type": "stream",
     "text": [
      "shape:(41597, 23091)\n",
      "41597\n"
     ]
    }
   ],
   "source": [
    "import numpy as np\n",
    "from Data_Handler.DataReader import DataReader\n",
    "ucm = DataReader().load_aug_ucm()\n",
    "print(\"shape:{}\".format(ucm.shape))\n",
    "ucm=DataReader().csr_to_dataframe(ucm)\n",
    "users=np.unique(ucm['UserID'])\n",
    "print(len(users))\n"
   ]
  },
  {
   "cell_type": "code",
   "execution_count": 16,
   "metadata": {},
   "outputs": [
    {
     "ename": "KeyboardInterrupt",
     "evalue": "",
     "output_type": "error",
     "traceback": [
      "\u001b[1;31m---------------------------------------------------------------------------\u001b[0m",
      "\u001b[1;31mKeyboardInterrupt\u001b[0m                         Traceback (most recent call last)",
      "Cell \u001b[1;32mIn [16], line 1\u001b[0m\n\u001b[1;32m----> 1\u001b[0m urm \u001b[39m=\u001b[39m DataReader()\u001b[39m.\u001b[39;49mload_augmented_binary_urm()\n\u001b[0;32m      2\u001b[0m \u001b[39mprint\u001b[39m(\u001b[39m\"\u001b[39m\u001b[39mshape:\u001b[39m\u001b[39m{}\u001b[39;00m\u001b[39m\"\u001b[39m\u001b[39m.\u001b[39mformat(urm\u001b[39m.\u001b[39mshape))\n\u001b[0;32m      3\u001b[0m urm\u001b[39m=\u001b[39mDataReader()\u001b[39m.\u001b[39mcsr_to_dataframe(urm)\n",
      "File \u001b[1;32mc:\\rec-sys-challenge\\Data_Handler\\DataReader.py:199\u001b[0m, in \u001b[0;36mload_augmented_binary_urm\u001b[1;34m(self)\u001b[0m\n\u001b[0;32m    194\u001b[0m \u001b[39mdef\u001b[39;00m \u001b[39mload_augmented_binary_urm\u001b[39m(\u001b[39mself\u001b[39m):\n\u001b[0;32m    195\u001b[0m     \u001b[39m\"\"\"Load urm in which pairs (user,item) are '1' iff user has either watched item or opened item's details page\u001b[39;00m\n\u001b[0;32m    196\u001b[0m \n\u001b[0;32m    197\u001b[0m \u001b[39m    Returns:\u001b[39;00m\n\u001b[0;32m    198\u001b[0m \u001b[39m        csr: urm as csr object\u001b[39;00m\n\u001b[1;32m--> 199\u001b[0m \u001b[39m    \"\"\"\u001b[39;00m\n\u001b[0;32m    200\u001b[0m     urm \u001b[39m=\u001b[39m \u001b[39mself\u001b[39m\u001b[39m.\u001b[39mload_augmented_binary_urm_df()\n\u001b[0;32m    201\u001b[0m     \u001b[39mreturn\u001b[39;00m \u001b[39mself\u001b[39m\u001b[39m.\u001b[39mdataframe_to_csr(urm,\u001b[39m'\u001b[39m\u001b[39mUserID\u001b[39m\u001b[39m'\u001b[39m,\u001b[39m'\u001b[39m\u001b[39mItemID\u001b[39m\u001b[39m'\u001b[39m,\u001b[39m'\u001b[39m\u001b[39mData\u001b[39m\u001b[39m'\u001b[39m)\n",
      "File \u001b[1;32mc:\\rec-sys-challenge\\Data_Handler\\DataReader.py:199\u001b[0m, in \u001b[0;36mload_augmented_binary_urm\u001b[1;34m(self)\u001b[0m\n\u001b[0;32m    194\u001b[0m \u001b[39mdef\u001b[39;00m \u001b[39mload_augmented_binary_urm\u001b[39m(\u001b[39mself\u001b[39m):\n\u001b[0;32m    195\u001b[0m     \u001b[39m\"\"\"Load urm in which pairs (user,item) are '1' iff user has either watched item or opened item's details page\u001b[39;00m\n\u001b[0;32m    196\u001b[0m \n\u001b[0;32m    197\u001b[0m \u001b[39m    Returns:\u001b[39;00m\n\u001b[0;32m    198\u001b[0m \u001b[39m        csr: urm as csr object\u001b[39;00m\n\u001b[1;32m--> 199\u001b[0m \u001b[39m    \"\"\"\u001b[39;00m\n\u001b[0;32m    200\u001b[0m     urm \u001b[39m=\u001b[39m \u001b[39mself\u001b[39m\u001b[39m.\u001b[39mload_augmented_binary_urm_df()\n\u001b[0;32m    201\u001b[0m     \u001b[39mreturn\u001b[39;00m \u001b[39mself\u001b[39m\u001b[39m.\u001b[39mdataframe_to_csr(urm,\u001b[39m'\u001b[39m\u001b[39mUserID\u001b[39m\u001b[39m'\u001b[39m,\u001b[39m'\u001b[39m\u001b[39mItemID\u001b[39m\u001b[39m'\u001b[39m,\u001b[39m'\u001b[39m\u001b[39mData\u001b[39m\u001b[39m'\u001b[39m)\n",
      "File \u001b[1;32m_pydevd_bundle/pydevd_cython.pyx:1586\u001b[0m, in \u001b[0;36m_pydevd_bundle.pydevd_cython.trace_dispatch\u001b[1;34m()\u001b[0m\n",
      "File \u001b[1;32m_pydevd_bundle/pydevd_cython.pyx:1443\u001b[0m, in \u001b[0;36m_pydevd_bundle.pydevd_cython.SafeCallWrapper.__call__\u001b[1;34m()\u001b[0m\n",
      "File \u001b[1;32m_pydevd_bundle/pydevd_cython.pyx:1820\u001b[0m, in \u001b[0;36m_pydevd_bundle.pydevd_cython.ThreadTracer.__call__\u001b[1;34m()\u001b[0m\n",
      "File \u001b[1;32m_pydevd_bundle/pydevd_cython.pyx:1368\u001b[0m, in \u001b[0;36m_pydevd_bundle.pydevd_cython.PyDBFrame.trace_dispatch\u001b[1;34m()\u001b[0m\n",
      "File \u001b[1;32m_pydevd_bundle/pydevd_cython.pyx:1330\u001b[0m, in \u001b[0;36m_pydevd_bundle.pydevd_cython.PyDBFrame.trace_dispatch\u001b[1;34m()\u001b[0m\n",
      "File \u001b[1;32m_pydevd_bundle/pydevd_cython.pyx:311\u001b[0m, in \u001b[0;36m_pydevd_bundle.pydevd_cython.PyDBFrame.do_wait_suspend\u001b[1;34m()\u001b[0m\n",
      "File \u001b[1;32m~\\AppData\\Roaming\\Python\\Python310\\site-packages\\debugpy\\_vendored\\pydevd\\pydevd.py:2062\u001b[0m, in \u001b[0;36mPyDB.do_wait_suspend\u001b[1;34m(self, thread, frame, event, arg, exception_type)\u001b[0m\n\u001b[0;32m   2059\u001b[0m             from_this_thread\u001b[39m.\u001b[39mappend(frame_custom_thread_id)\n\u001b[0;32m   2061\u001b[0m     \u001b[39mwith\u001b[39;00m \u001b[39mself\u001b[39m\u001b[39m.\u001b[39m_threads_suspended_single_notification\u001b[39m.\u001b[39mnotify_thread_suspended(thread_id, stop_reason):\n\u001b[1;32m-> 2062\u001b[0m         keep_suspended \u001b[39m=\u001b[39m \u001b[39mself\u001b[39;49m\u001b[39m.\u001b[39;49m_do_wait_suspend(thread, frame, event, arg, suspend_type, from_this_thread, frames_tracker)\n\u001b[0;32m   2064\u001b[0m frames_list \u001b[39m=\u001b[39m \u001b[39mNone\u001b[39;00m\n\u001b[0;32m   2066\u001b[0m \u001b[39mif\u001b[39;00m keep_suspended:\n\u001b[0;32m   2067\u001b[0m     \u001b[39m# This means that we should pause again after a set next statement.\u001b[39;00m\n",
      "File \u001b[1;32m~\\AppData\\Roaming\\Python\\Python310\\site-packages\\debugpy\\_vendored\\pydevd\\pydevd.py:2098\u001b[0m, in \u001b[0;36mPyDB._do_wait_suspend\u001b[1;34m(self, thread, frame, event, arg, suspend_type, from_this_thread, frames_tracker)\u001b[0m\n\u001b[0;32m   2095\u001b[0m         \u001b[39mself\u001b[39m\u001b[39m.\u001b[39m_call_input_hook()\n\u001b[0;32m   2097\u001b[0m     \u001b[39mself\u001b[39m\u001b[39m.\u001b[39mprocess_internal_commands()\n\u001b[1;32m-> 2098\u001b[0m     time\u001b[39m.\u001b[39;49msleep(\u001b[39m0.01\u001b[39;49m)\n\u001b[0;32m   2100\u001b[0m \u001b[39mself\u001b[39m\u001b[39m.\u001b[39mcancel_async_evaluation(get_current_thread_id(thread), \u001b[39mstr\u001b[39m(\u001b[39mid\u001b[39m(frame)))\n\u001b[0;32m   2102\u001b[0m \u001b[39m# process any stepping instructions\u001b[39;00m\n",
      "\u001b[1;31mKeyboardInterrupt\u001b[0m: "
     ]
    }
   ],
   "source": [
    "urm = DataReader().load_augmented_binary_urm()\n",
    "print(\"shape:{}\".format(urm.shape))\n",
    "urm=DataReader().csr_to_dataframe(urm)\n",
    "users=np.unique(ucm['UserID'])\n",
    "print(len(users))"
   ]
  }
 ],
 "metadata": {
  "kernelspec": {
   "display_name": "Python 3",
   "language": "python",
   "name": "python3"
  },
  "language_info": {
   "codemirror_mode": {
    "name": "ipython",
    "version": 3
   },
   "file_extension": ".py",
   "mimetype": "text/x-python",
   "name": "python",
   "nbconvert_exporter": "python",
   "pygments_lexer": "ipython3",
   "version": "3.11.3"
  },
  "orig_nbformat": 4,
  "vscode": {
   "interpreter": {
    "hash": "6847c98a8f86b01c6a19c518cd2f366693b80566b266804d5ca763cbb223f52b"
   }
  }
 },
 "nbformat": 4,
 "nbformat_minor": 2
}
