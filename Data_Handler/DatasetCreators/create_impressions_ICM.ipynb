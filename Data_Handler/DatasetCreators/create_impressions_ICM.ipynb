{
 "cells": [
  {
   "cell_type": "code",
   "execution_count": 64,
   "metadata": {},
   "outputs": [],
   "source": [
    "import pandas as pd\n",
    "import numpy as np\n",
    "import os\n",
    "from Data_Handler.DataReader import DataReader\n",
    "from collections import Counter"
   ]
  },
  {
   "cell_type": "code",
   "execution_count": 67,
   "metadata": {},
   "outputs": [
    {
     "name": "stdout",
     "output_type": "stream",
     "text": [
      "7532\n"
     ]
    },
    {
     "data": {
      "text/plain": [
       "'\\n# For padding purposes\\nfor item in remaining_items:\\n    f.write(f\"{item},{1},{0}\\n\")\\n    '"
      ]
     },
     "execution_count": 67,
     "metadata": {},
     "output_type": "execute_result"
    }
   ],
   "source": [
    "f = open(\"Dataset/impressions_ICM.csv\", \"w+\")\n",
    "f.write(\"ItemID,FeatureID,Data\\n\")\n",
    "\n",
    "\"\"\"\n",
    "Return a dictionary of dictionaries. For each UserID there is a dictionary of ItemIDs as keys and a number, corresponding to \n",
    "how many times that ItemID has been presented to the given UserID, as values.\n",
    "\n",
    "Args:\n",
    "    target (int): UserIDs on which count ItemIDs presentations occurences\n",
    "    items (numpy.array): ItemIDs on which count presentations occurences\n",
    "Returns:\n",
    "    dict: dictionary of dictionaries, for instance { user0:{item0:2, item1:23}, user1:{item2:11, item4:3} }\n",
    "\"\"\"\n",
    "\n",
    "df = pd.read_csv(filepath_or_buffer=os.getenv('INTERACTIONS_AND_IMPRESSIONS_PATH'),\n",
    "                    sep=',',\n",
    "                    names=[\n",
    "    'UserID', 'ItemID', 'Impressions', 'Data'],\n",
    "    header=0,\n",
    "    dtype={'UserID': np.int32, 'ItemID': np.int32, 'Impressions': np.object0, 'Data': np.int32})\n",
    "items = df['ItemID'].unique()\n",
    "df = df.drop(['UserID'], axis=1)\n",
    "df = df.drop(['Data'], axis=1)\n",
    "df = df.dropna()\n",
    "# add a comma at the end of each impression string in order to concat properly then\n",
    "df['Impressions'] = df['Impressions'].apply(lambda x: str(x)+',')\n",
    "df = df.groupby(['ItemID'], as_index=False)\n",
    "# to concat impressions of each user\n",
    "impressions_per_item = df['Impressions'].apply(sum)\n",
    "\n",
    "\n",
    "\n",
    "max_for_each_item=[]\n",
    "for item in items:\n",
    "    impressions = impressions_per_item[impressions_per_item['ItemID']== item]['Impressions']\n",
    "    if(impressions.size>0):\n",
    "        # Get impressions string for the item in the loop\n",
    "        impressions= impressions.iloc[0]\n",
    "        # Split the impressions strings\n",
    "        impressions= impressions.split(\",\")\n",
    "        # Remove last element which is a '' due to last ','\n",
    "        impressions= impressions[:-1]\n",
    "        # Convert into list of integers\n",
    "        impressions = [int(x) for x in impressions]\n",
    "        # Remove item itself because it is present in every list impressions\n",
    "        while(item in impressions):\n",
    "            impressions.remove(item)\n",
    "\n",
    "        # Count the impressions occurences\n",
    "        counts = Counter(impressions)\n",
    "        # Get the one most common\n",
    "        most_common = counts.most_common(1)\n",
    "        # Get the item occured the most and how many times, if it exists\n",
    "        if(len(most_common)>0):\n",
    "            impression_that_occurred_the_most, impression_occurences = most_common[0]\n",
    "            # Append to a list contating all max occurences for each item having impression lists\n",
    "            max_for_each_item.append(impression_occurences)\n",
    "\n",
    "# Get the max of max occurences of all items having impressions lists\n",
    "max_occurences = max(max_for_each_item)\n",
    "print(max_occurences)\n",
    "\n",
    "# For padding purposes\n",
    "#import copy\n",
    "#remaining_items = copy.deepcopy(items)\n",
    "\n",
    "\n",
    "# Create file\n",
    "for item in items:\n",
    "    impressions = impressions_per_item[impressions_per_item['ItemID']== item]['Impressions']\n",
    "    if(impressions.size>0):\n",
    "        # Get impressions string for the item in the loop\n",
    "        impressions= impressions.iloc[0]\n",
    "        # Split the impressions strings\n",
    "        impressions= impressions.split(\",\")\n",
    "        # Remove last element which is a '' due to last ','\n",
    "        impressions= impressions[:-1]\n",
    "        # Convert into list of integers\n",
    "        impressions = [int(x) for x in impressions]\n",
    "        # Remove item itself because it is present in every list impressions\n",
    "        while(item in impressions):\n",
    "            impressions.remove(item)\n",
    "\n",
    "        # Count impressions occurences for the item in the loop\n",
    "        counts = Counter(impressions)\n",
    "\n",
    "        # Remove duplicates before inserting into the file\n",
    "        for element in impressions:\n",
    "            while impressions.count(element) > 1:\n",
    "                impressions.remove(element)\n",
    "\n",
    "        # For each item and for each impression associated with\n",
    "        # Insert a line in the file with the number of impression occurences weighted by the maximum number of an impression occurence\n",
    "        for item_impression in impressions:\n",
    "            impressions_count_per_item = counts[item_impression]\n",
    "            f.write(f\"{item},{item_impression},{impressions_count_per_item/max_occurences}\\n\")\n",
    "\n",
    "            # For padding purposes\n",
    "            #if(item in remaining_items):\n",
    "            #    remaining_items.remove(item)\n",
    "\n",
    "'''\n",
    "# For padding purposes\n",
    "for item in remaining_items:\n",
    "    f.write(f\"{item},{1},{0}\\n\")\n",
    "    '''"
   ]
  }
 ],
 "metadata": {
  "kernelspec": {
   "display_name": "Python 3",
   "language": "python",
   "name": "python3"
  },
  "language_info": {
   "codemirror_mode": {
    "name": "ipython",
    "version": 3
   },
   "file_extension": ".py",
   "mimetype": "text/x-python",
   "name": "python",
   "nbconvert_exporter": "python",
   "pygments_lexer": "ipython3",
   "version": "3.10.8 (tags/v3.10.8:aaaf517, Oct 11 2022, 16:50:30) [MSC v.1933 64 bit (AMD64)]"
  },
  "orig_nbformat": 4,
  "vscode": {
   "interpreter": {
    "hash": "6847c98a8f86b01c6a19c518cd2f366693b80566b266804d5ca763cbb223f52b"
   }
  }
 },
 "nbformat": 4,
 "nbformat_minor": 2
}
