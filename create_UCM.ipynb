{
 "cells": [
  {
   "cell_type": "code",
   "execution_count": 2,
   "metadata": {},
   "outputs": [
    {
     "name": "stdout",
     "output_type": "stream",
     "text": [
      "4877\n",
      "[    0     1     2 ... 41626 41627 41628]\n",
      "[    0     1     2 ... 27965 27966 27967]\n",
      "[1 2 3 4 7]\n"
     ]
    }
   ],
   "source": [
    "from Data_Handler.DataReader import DataReader\n",
    "import numpy as np\n",
    "import pandas as pd\n",
    "\n",
    "dataReader= DataReader()\n",
    "URM = dataReader.load_augmented_binary_urm()\n",
    "URM_aug,ICM = dataReader.pad_with_zeros_ICMandURM(URM)\n",
    "\n",
    "\n",
    "\n",
    "urm=dataReader.csr_to_dataframe(URM_aug)\n",
    "icm=dataReader.load_icm_df()\n",
    "\n",
    "user_ids=urm['UserID'].values\n",
    "user_ids = np.unique(user_ids)\n",
    "print(user_ids)\n",
    "\n",
    "item_ids=urm['ItemID'].values\n",
    "item_ids = np.unique(item_ids)\n",
    "print(item_ids)\n",
    "\n",
    "feature_ids = icm['feature_id'].values\n",
    "feature_ids = np.unique(feature_ids)\n",
    "print(feature_ids)\n"
   ]
  },
  {
   "cell_type": "code",
   "execution_count": 6,
   "metadata": {},
   "outputs": [
    {
     "ename": "KeyboardInterrupt",
     "evalue": "",
     "output_type": "error",
     "traceback": [
      "\u001b[1;31m---------------------------------------------------------------------------\u001b[0m",
      "\u001b[1;31mKeyboardInterrupt\u001b[0m                         Traceback (most recent call last)",
      "Cell \u001b[1;32mIn [6], line 26\u001b[0m\n\u001b[0;32m     23\u001b[0m             row_to_append \u001b[39m=\u001b[39m pd\u001b[39m.\u001b[39mDataFrame({\u001b[39m'\u001b[39m\u001b[39mUserID\u001b[39m\u001b[39m'\u001b[39m: [user_id],\u001b[39m'\u001b[39m\u001b[39mFeatureID\u001b[39m\u001b[39m'\u001b[39m: [feature_id], \u001b[39m'\u001b[39m\u001b[39mData\u001b[39m\u001b[39m'\u001b[39m: [\u001b[39m1\u001b[39m]})\n\u001b[0;32m     24\u001b[0m             \u001b[39m#print(row_to_append)\u001b[39;00m\n\u001b[0;32m     25\u001b[0m             \u001b[39m# Append at the end ot the dataframe UCM\u001b[39;00m\n\u001b[1;32m---> 26\u001b[0m             ucm\u001b[39m=\u001b[39mpd\u001b[39m.\u001b[39;49mconcat([ucm, row_to_append], ignore_index\u001b[39m=\u001b[39;49m\u001b[39mTrue\u001b[39;49;00m)\u001b[39m.\u001b[39;49msort_values([\u001b[39m'\u001b[39;49m\u001b[39mUserID\u001b[39;49m\u001b[39m'\u001b[39;49m, \u001b[39m'\u001b[39;49m\u001b[39mFeatureID\u001b[39;49m\u001b[39m'\u001b[39;49m])\n\u001b[0;32m     27\u001b[0m             \u001b[39m#print(ucm)\u001b[39;00m\n\u001b[0;32m     28\u001b[0m \u001b[39mprint\u001b[39m(ucm)\n",
      "File \u001b[1;32mc:\\Users\\andre\\AppData\\Local\\Programs\\Python\\Python310\\lib\\site-packages\\pandas\\util\\_decorators.py:317\u001b[0m, in \u001b[0;36mdeprecate_nonkeyword_arguments.<locals>.decorate.<locals>.wrapper\u001b[1;34m(*args, **kwargs)\u001b[0m\n\u001b[0;32m    311\u001b[0m \u001b[39mif\u001b[39;00m \u001b[39mlen\u001b[39m(args) \u001b[39m>\u001b[39m num_allow_args:\n\u001b[0;32m    312\u001b[0m     warnings\u001b[39m.\u001b[39mwarn(\n\u001b[0;32m    313\u001b[0m         msg\u001b[39m.\u001b[39mformat(arguments\u001b[39m=\u001b[39marguments),\n\u001b[0;32m    314\u001b[0m         \u001b[39mFutureWarning\u001b[39;00m,\n\u001b[0;32m    315\u001b[0m         stacklevel\u001b[39m=\u001b[39mfind_stack_level(inspect\u001b[39m.\u001b[39mcurrentframe()),\n\u001b[0;32m    316\u001b[0m     )\n\u001b[1;32m--> 317\u001b[0m \u001b[39mreturn\u001b[39;00m func(\u001b[39m*\u001b[39margs, \u001b[39m*\u001b[39m\u001b[39m*\u001b[39mkwargs)\n",
      "File \u001b[1;32mc:\\Users\\andre\\AppData\\Local\\Programs\\Python\\Python310\\lib\\site-packages\\pandas\\core\\frame.py:6897\u001b[0m, in \u001b[0;36mDataFrame.sort_values\u001b[1;34m(self, by, axis, ascending, inplace, kind, na_position, ignore_index, key)\u001b[0m\n\u001b[0;32m   6889\u001b[0m     \u001b[39mif\u001b[39;00m key \u001b[39mis\u001b[39;00m \u001b[39mnot\u001b[39;00m \u001b[39mNone\u001b[39;00m:\n\u001b[0;32m   6890\u001b[0m         \u001b[39m# error: List comprehension has incompatible type List[Series];\u001b[39;00m\n\u001b[0;32m   6891\u001b[0m         \u001b[39m# expected List[ndarray]\u001b[39;00m\n\u001b[0;32m   6892\u001b[0m         keys \u001b[39m=\u001b[39m [\n\u001b[0;32m   6893\u001b[0m             Series(k, name\u001b[39m=\u001b[39mname)  \u001b[39m# type: ignore[misc]\u001b[39;00m\n\u001b[0;32m   6894\u001b[0m             \u001b[39mfor\u001b[39;00m (k, name) \u001b[39min\u001b[39;00m \u001b[39mzip\u001b[39m(keys, by)\n\u001b[0;32m   6895\u001b[0m         ]\n\u001b[1;32m-> 6897\u001b[0m     indexer \u001b[39m=\u001b[39m lexsort_indexer(\n\u001b[0;32m   6898\u001b[0m         keys, orders\u001b[39m=\u001b[39;49mascending, na_position\u001b[39m=\u001b[39;49mna_position, key\u001b[39m=\u001b[39;49mkey\n\u001b[0;32m   6899\u001b[0m     )\n\u001b[0;32m   6900\u001b[0m \u001b[39melif\u001b[39;00m \u001b[39mlen\u001b[39m(by):\n\u001b[0;32m   6901\u001b[0m     \u001b[39m# len(by) == 1\u001b[39;00m\n\u001b[0;32m   6903\u001b[0m     by \u001b[39m=\u001b[39m by[\u001b[39m0\u001b[39m]\n",
      "File \u001b[1;32mc:\\Users\\andre\\AppData\\Local\\Programs\\Python\\Python310\\lib\\site-packages\\pandas\\core\\sorting.py:373\u001b[0m, in \u001b[0;36mlexsort_indexer\u001b[1;34m(keys, orders, na_position, key)\u001b[0m\n\u001b[0;32m    370\u001b[0m     shape\u001b[39m.\u001b[39mappend(n)\n\u001b[0;32m    371\u001b[0m     labels\u001b[39m.\u001b[39mappend(codes)\n\u001b[1;32m--> 373\u001b[0m \u001b[39mreturn\u001b[39;00m indexer_from_factorized(labels, \u001b[39mtuple\u001b[39;49m(shape))\n",
      "File \u001b[1;32mc:\\Users\\andre\\AppData\\Local\\Programs\\Python\\Python310\\lib\\site-packages\\pandas\\core\\sorting.py:298\u001b[0m, in \u001b[0;36mindexer_from_factorized\u001b[1;34m(labels, shape, compress)\u001b[0m\n\u001b[0;32m    296\u001b[0m     ngroups \u001b[39m=\u001b[39m (ids\u001b[39m.\u001b[39msize \u001b[39mand\u001b[39;00m ids\u001b[39m.\u001b[39mmax()) \u001b[39m+\u001b[39m \u001b[39m1\u001b[39m\n\u001b[0;32m    297\u001b[0m \u001b[39melse\u001b[39;00m:\n\u001b[1;32m--> 298\u001b[0m     ids, obs \u001b[39m=\u001b[39m compress_group_index(ids, sort\u001b[39m=\u001b[39;49m\u001b[39mTrue\u001b[39;49;00m)\n\u001b[0;32m    299\u001b[0m     ngroups \u001b[39m=\u001b[39m \u001b[39mlen\u001b[39m(obs)\n\u001b[0;32m    301\u001b[0m \u001b[39mreturn\u001b[39;00m get_group_index_sorter(ids, ngroups)\n",
      "File \u001b[1;32mc:\\Users\\andre\\AppData\\Local\\Programs\\Python\\Python310\\lib\\site-packages\\pandas\\core\\sorting.py:697\u001b[0m, in \u001b[0;36mcompress_group_index\u001b[1;34m(group_index, sort)\u001b[0m\n\u001b[0;32m    694\u001b[0m comp_ids, obs_group_ids \u001b[39m=\u001b[39m table\u001b[39m.\u001b[39mget_labels_groupby(group_index)\n\u001b[0;32m    696\u001b[0m \u001b[39mif\u001b[39;00m sort \u001b[39mand\u001b[39;00m \u001b[39mlen\u001b[39m(obs_group_ids) \u001b[39m>\u001b[39m \u001b[39m0\u001b[39m:\n\u001b[1;32m--> 697\u001b[0m     obs_group_ids, comp_ids \u001b[39m=\u001b[39m _reorder_by_uniques(obs_group_ids, comp_ids)\n\u001b[0;32m    699\u001b[0m \u001b[39mreturn\u001b[39;00m ensure_int64(comp_ids), ensure_int64(obs_group_ids)\n",
      "File \u001b[1;32mc:\\Users\\andre\\AppData\\Local\\Programs\\Python\\Python310\\lib\\site-packages\\pandas\\core\\sorting.py:721\u001b[0m, in \u001b[0;36m_reorder_by_uniques\u001b[1;34m(uniques, labels)\u001b[0m\n\u001b[0;32m    719\u001b[0m \u001b[39m# reverse_indexer is where elements came from\u001b[39;00m\n\u001b[0;32m    720\u001b[0m reverse_indexer \u001b[39m=\u001b[39m np\u001b[39m.\u001b[39mempty(\u001b[39mlen\u001b[39m(sorter), dtype\u001b[39m=\u001b[39mnp\u001b[39m.\u001b[39mintp)\n\u001b[1;32m--> 721\u001b[0m reverse_indexer\u001b[39m.\u001b[39mput(sorter, np\u001b[39m.\u001b[39;49marange(\u001b[39mlen\u001b[39;49m(sorter)))\n\u001b[0;32m    723\u001b[0m mask \u001b[39m=\u001b[39m labels \u001b[39m<\u001b[39m \u001b[39m0\u001b[39m\n\u001b[0;32m    725\u001b[0m \u001b[39m# move labels to right locations (ie, unsort ascending labels)\u001b[39;00m\n",
      "\u001b[1;31mKeyboardInterrupt\u001b[0m: "
     ]
    }
   ],
   "source": [
    "# create an empty dataframe for storing UCM\n",
    "ucm = pd.DataFrame(columns=['UserID','FeatureID','Data'])\n",
    "\n",
    "# for each user we iterate over the URM\n",
    "for user_id in user_ids:\n",
    "    # Get the dataframe rows of the URM of a certain user\n",
    "    df = urm.loc[urm['UserID'] == user_id]\n",
    "    #print(df)\n",
    "    # Get the unique ids of items\n",
    "    item_ids_for_this_user = np.unique(df['ItemID'].values)\n",
    "    #print(item_ids_for_this_user)\n",
    "\n",
    "    # For each item the user has interacted with\n",
    "    for item_id in item_ids_for_this_user:\n",
    "        # Get the dataframe rows of ICM of a certain user\n",
    "        df = icm.loc[icm['item_id'] == item_id]\n",
    "        #print(df)\n",
    "        # Get the unique ids of features\n",
    "        feature_ids_for_items_of_this_user = np.unique(df['item_id'].values)\n",
    "        #print(feature_ids_for_items_of_this_user)\n",
    "        # Create the dataframe to append to UCM\n",
    "        for feature_id in feature_ids_for_items_of_this_user:\n",
    "            row_to_append = pd.DataFrame({'UserID': [user_id],'FeatureID': [feature_id], 'Data': [1]})\n",
    "            #print(row_to_append)\n",
    "            # Append at the end ot the dataframe UCM\n",
    "            ucm=pd.concat([ucm, row_to_append], ignore_index=True).sort_values(['UserID', 'FeatureID'])\n",
    "            #print(ucm)\n",
    "print(ucm)\n"
   ]
  },
  {
   "cell_type": "code",
   "execution_count": 7,
   "metadata": {},
   "outputs": [],
   "source": [
    "f = open(\"data_UCM.csv\", \"w+\")\n",
    "f.write(\"UserID,FeatureID,Data\\n\")\n",
    "\n",
    "# create an empty dataframe for storing UCM\n",
    "ucm = pd.DataFrame(columns=['UserID','FeatureID','Data'])\n",
    "\n",
    "# for each user we iterate over the URM\n",
    "for user_id in user_ids:\n",
    "    # Get the dataframe rows of the URM of a certain user\n",
    "    df = urm.loc[urm['UserID'] == user_id]\n",
    "    #print(df)\n",
    "    # Get the unique ids of items\n",
    "    item_ids_for_this_user = np.unique(df['ItemID'].values)\n",
    "    #print(item_ids_for_this_user)\n",
    "\n",
    "    # For each item the user has interacted with\n",
    "    for item_id in item_ids_for_this_user:\n",
    "        # Get the dataframe rows of ICM of a certain user\n",
    "        df = icm.loc[icm['item_id'] == item_id]\n",
    "        #print(df)\n",
    "        # Get the unique ids of features\n",
    "        feature_ids_for_items_of_this_user = np.unique(df['item_id'].values)\n",
    "        #print(feature_ids_for_items_of_this_user)\n",
    "        # Create the dataframe to append to UCM\n",
    "        for feature_id in feature_ids_for_items_of_this_user:\n",
    "            #row_to_append = pd.DataFrame({'UserID': [user_id],'FeatureID': [feature_id], 'Data': [1]})\n",
    "            #print(row_to_append)\n",
    "            # Append at the end ot the dataframe UCM\n",
    "            #ucm=pd.concat([ucm, row_to_append], ignore_index=True).sort_values(['UserID', 'FeatureID'])\n",
    "            f.write(f\"{user_id},{feature_id},1\\n\")"
   ]
  },
  {
   "cell_type": "code",
   "execution_count": 11,
   "metadata": {},
   "outputs": [
    {
     "name": "stdout",
     "output_type": "stream",
     "text": [
      "41597\n",
      "41597\n"
     ]
    }
   ],
   "source": [
    "import numpy as np\n",
    "from Data_Handler.DataReader import DataReader\n",
    "ucm = DataReader().load_aug_ucm()\n",
    "ucm=DataReader().csr_to_dataframe(ucm)\n",
    "users=np.unique(ucm['UserID'])\n",
    "print(len(users))\n",
    "\n",
    "urm = DataReader().load_augmented_binary_urm()\n",
    "urm=DataReader().csr_to_dataframe(urm)\n",
    "users=np.unique(ucm['UserID'])\n",
    "print(len(users))\n"
   ]
  }
 ],
 "metadata": {
  "kernelspec": {
   "display_name": "Python 3",
   "language": "python",
   "name": "python3"
  },
  "language_info": {
   "codemirror_mode": {
    "name": "ipython",
    "version": 3
   },
   "file_extension": ".py",
   "mimetype": "text/x-python",
   "name": "python",
   "nbconvert_exporter": "python",
   "pygments_lexer": "ipython3",
   "version": "3.10.8"
  },
  "orig_nbformat": 4,
  "vscode": {
   "interpreter": {
    "hash": "6847c98a8f86b01c6a19c518cd2f366693b80566b266804d5ca763cbb223f52b"
   }
  }
 },
 "nbformat": 4,
 "nbformat_minor": 2
}
