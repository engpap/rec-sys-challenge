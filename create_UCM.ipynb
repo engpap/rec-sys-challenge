{
 "cells": [
  {
   "cell_type": "code",
   "execution_count": 13,
   "metadata": {},
   "outputs": [
    {
     "name": "stdout",
     "output_type": "stream",
     "text": [
      "4877\n",
      "[    0     1     2 ... 41626 41627 41628]\n",
      "[    0     1     2 ... 27965 27966 27967]\n",
      "[1 2 3 4 7]\n"
     ]
    }
   ],
   "source": [
    "from Data_Handler.DataReader import DataReader\n",
    "import numpy as np\n",
    "import pandas as pd\n",
    "\n",
    "dataReader= DataReader()\n",
    "URM = dataReader.load_augmented_binary_urm()\n",
    "URM_aug,ICM = dataReader.pad_with_zeros_ICMandURM(URM)\n",
    "\n",
    "\n",
    "\n",
    "urm=dataReader.csr_to_dataframe(URM_aug)\n",
    "icm=dataReader.load_icm_df()\n",
    "\n",
    "user_ids=urm['UserID'].values\n",
    "user_ids = np.unique(user_ids)\n",
    "print(user_ids)\n",
    "\n",
    "item_ids=urm['ItemID'].values\n",
    "item_ids = np.unique(item_ids)\n",
    "print(item_ids)\n",
    "\n",
    "feature_ids = icm['feature_id'].values\n",
    "feature_ids = np.unique(feature_ids)\n",
    "print(feature_ids)\n"
   ]
  },
  {
   "cell_type": "code",
   "execution_count": 1,
   "metadata": {},
   "outputs": [
    {
     "ename": "NameError",
     "evalue": "name 'pd' is not defined",
     "output_type": "error",
     "traceback": [
      "\u001b[1;31m---------------------------------------------------------------------------\u001b[0m",
      "\u001b[1;31mNameError\u001b[0m                                 Traceback (most recent call last)",
      "Cell \u001b[1;32mIn [1], line 2\u001b[0m\n\u001b[0;32m      1\u001b[0m \u001b[39m# create an empty dataframe for storing UCM\u001b[39;00m\n\u001b[1;32m----> 2\u001b[0m ucm \u001b[39m=\u001b[39m pd\u001b[39m.\u001b[39mDataFrame(columns\u001b[39m=\u001b[39m[\u001b[39m'\u001b[39m\u001b[39mUserID\u001b[39m\u001b[39m'\u001b[39m,\u001b[39m'\u001b[39m\u001b[39mFeatureID\u001b[39m\u001b[39m'\u001b[39m,\u001b[39m'\u001b[39m\u001b[39mData\u001b[39m\u001b[39m'\u001b[39m])\n\u001b[0;32m      4\u001b[0m \u001b[39m# for each user we iterate over the URM\u001b[39;00m\n\u001b[0;32m      5\u001b[0m \u001b[39mfor\u001b[39;00m user_id \u001b[39min\u001b[39;00m user_ids:\n\u001b[0;32m      6\u001b[0m     \u001b[39m# Get the dataframe rows of the URM of a certain user\u001b[39;00m\n",
      "\u001b[1;31mNameError\u001b[0m: name 'pd' is not defined"
     ]
    }
   ],
   "source": [
    "# create an empty dataframe for storing UCM\n",
    "ucm = pd.DataFrame(columns=['UserID','FeatureID','Data'])\n",
    "\n",
    "# for each user we iterate over the URM\n",
    "for user_id in user_ids:\n",
    "    # Get the dataframe rows of the URM of a certain user\n",
    "    df = urm.loc[urm['UserID'] == user_id]\n",
    "    #print(df)\n",
    "    # Get the unique ids of items\n",
    "    item_ids_for_this_user = np.unique(df['ItemID'].values)\n",
    "    #print(item_ids_for_this_user)\n",
    "\n",
    "    # For each item the user has interacted with\n",
    "    for item_id in item_ids_for_this_user:\n",
    "        # Get the dataframe rows of ICM of a certain user\n",
    "        df = icm.loc[icm['item_id'] == item_id]\n",
    "        #print(df)\n",
    "        # Get the unique ids of features\n",
    "        feature_ids_for_items_of_this_user = np.unique(df['item_id'].values)\n",
    "        #print(feature_ids_for_items_of_this_user)\n",
    "        # Create the dataframe to append to UCM\n",
    "        for feature_id in feature_ids_for_items_of_this_user:\n",
    "            row_to_append = pd.DataFrame({'UserID': [user_id],'FeatureID': [feature_id], 'Data': [1]})\n",
    "            #print(row_to_append)\n",
    "            # Append at the end ot the dataframe UCM\n",
    "            ucm = ucm.append(row_to_append)\n",
    "            #print(ucm)\n",
    "\n"
   ]
  }
 ],
 "metadata": {
  "kernelspec": {
   "display_name": "Python 3",
   "language": "python",
   "name": "python3"
  },
  "language_info": {
   "codemirror_mode": {
    "name": "ipython",
    "version": 3
   },
   "file_extension": ".py",
   "mimetype": "text/x-python",
   "name": "python",
   "nbconvert_exporter": "python",
   "pygments_lexer": "ipython3",
   "version": "3.10.8"
  },
  "orig_nbformat": 4,
  "vscode": {
   "interpreter": {
    "hash": "6847c98a8f86b01c6a19c518cd2f366693b80566b266804d5ca763cbb223f52b"
   }
  }
 },
 "nbformat": 4,
 "nbformat_minor": 2
}
