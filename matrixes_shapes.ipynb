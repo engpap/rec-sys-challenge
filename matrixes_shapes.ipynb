{
 "cells": [
  {
   "cell_type": "code",
   "execution_count": 2,
   "metadata": {},
   "outputs": [],
   "source": [
    "from Data_Handler.DataReader import DataReader\n",
    "from Data_manager.split_functions.split_train_validation_random_holdout import split_train_in_two_percentage_global_sample\n",
    "from impressions import Impressions\n",
    "from hybrid import *\n",
    "from tqdm import tqdm\n",
    "from evaluator import evaluate\n",
    "import pandas as pd\n",
    "import numpy as np\n",
    "from Recommenders.EASE_R.EASE_R_Recommender import EASE_R_Recommender\n",
    "\n",
    "dataReader = DataReader()"
   ]
  },
  {
   "cell_type": "code",
   "execution_count": 3,
   "metadata": {},
   "outputs": [
    {
     "name": "stdout",
     "output_type": "stream",
     "text": [
      "URM_aug:  (41629, 27968)\n",
      "ICM:  (27968, 5)\n"
     ]
    }
   ],
   "source": [
    "URM = dataReader.load_augmented_binary_urm()\n",
    "URM_aug, ICM = dataReader.pad_with_zeros_ICMandURM(URM)\n",
    "print(\"URM_aug: \",URM_aug.shape)\n",
    "print(\"ICM: \",ICM.shape)"
   ]
  },
  {
   "cell_type": "code",
   "execution_count": 4,
   "metadata": {},
   "outputs": [
    {
     "name": "stdout",
     "output_type": "stream",
     "text": [
      "Warning: 2785 (6.69 %) of 41629 users have no sampled items\n",
      "(41634, 27968)\n"
     ]
    }
   ],
   "source": [
    "\n",
    "URM_train_aug, URM_validation = split_train_in_two_percentage_global_sample(URM_aug, train_percentage=0.9)\n",
    "#URM_train_super_pow = dataReader.stackMatrixes_with_impressions(URM_train_aug)\n",
    "URM_train_pow = dataReader.stackMatrixes(URM_train_aug)\n",
    "print(URM_train_pow.shape)"
   ]
  },
  {
   "cell_type": "code",
   "execution_count": 5,
   "metadata": {},
   "outputs": [
    {
     "name": "stdout",
     "output_type": "stream",
     "text": [
      "(27286, 7005)\n"
     ]
    }
   ],
   "source": [
    "ICM_stacked_with_binary_impressions = dataReader.load_ICM_stacked_with_binary_impressions(0.8)\n",
    "print(ICM_stacked_with_binary_impressions.shape) #(27286, 7005)"
   ]
  },
  {
   "cell_type": "code",
   "execution_count": 9,
   "metadata": {},
   "outputs": [
    {
     "name": "stdout",
     "output_type": "stream",
     "text": [
      "(41634, 27968)\n",
      "(27968, 7005)\n"
     ]
    }
   ],
   "source": [
    "\n",
    "URM_train_pow_padded, ICM_stacked_with_binary_impressions_padded = dataReader.pad_with_zeros_given_ICMandURM(ICM_stacked_with_binary_impressions, URM_train_pow) \n",
    "print(URM_train_pow_padded.shape) #(41629, 27286)\n",
    "print(ICM_stacked_with_binary_impressions_padded.shape) #(27286, 7005)"
   ]
  },
  {
   "cell_type": "code",
   "execution_count": 8,
   "metadata": {},
   "outputs": [
    {
     "name": "stdout",
     "output_type": "stream",
     "text": [
      "(48639, 27968)\n"
     ]
    }
   ],
   "source": [
    "URM_train_super_pow = dataReader.load_super_powerful_URM(URM_train_pow_padded, ICM_stacked_with_binary_impressions_padded, 0.8)\n",
    "print(URM_train_super_pow.shape)"
   ]
  },
  {
   "cell_type": "code",
   "execution_count": null,
   "metadata": {},
   "outputs": [],
   "source": [
    "URM_train_super_pow"
   ]
  }
 ],
 "metadata": {
  "kernelspec": {
   "display_name": "Python 3",
   "language": "python",
   "name": "python3"
  },
  "language_info": {
   "codemirror_mode": {
    "name": "ipython",
    "version": 3
   },
   "file_extension": ".py",
   "mimetype": "text/x-python",
   "name": "python",
   "nbconvert_exporter": "python",
   "pygments_lexer": "ipython3",
   "version": "3.10.8"
  },
  "orig_nbformat": 4,
  "vscode": {
   "interpreter": {
    "hash": "6847c98a8f86b01c6a19c518cd2f366693b80566b266804d5ca763cbb223f52b"
   }
  }
 },
 "nbformat": 4,
 "nbformat_minor": 2
}
