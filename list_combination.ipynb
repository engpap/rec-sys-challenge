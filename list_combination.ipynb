{
 "cells": [
  {
   "cell_type": "code",
   "execution_count": 9,
   "metadata": {},
   "outputs": [
    {
     "name": "stdout",
     "output_type": "stream",
     "text": [
      "--->  23091\n",
      "==> 24507\n",
      "Warning: 41629 (100.00 %) of 41629 users have no sampled items\n"
     ]
    }
   ],
   "source": [
    "from hybrid import ListCombinationHybrid\n",
    "from Recommenders.SLIM.SLIMElasticNetRecommender import SLIMElasticNetRecommender\n",
    "from Data_Handler.DataReader import DataReader\n",
    "from evaluator import evaluate\n",
    "from tqdm import tqdm\n",
    "from Data_manager.split_functions.split_train_validation_random_holdout import split_train_in_two_percentage_global_sample\n",
    "\n",
    "dataReader = DataReader()\n",
    "\n",
    "target = dataReader.load_target()\n",
    "URM = dataReader.load_augmented_binary_urm()\n",
    "URM_aug, ICM = dataReader.pad_with_zeros_ICMandURM(URM)\n",
    "URM_train_aug, URM_validation = split_train_in_two_percentage_global_sample( URM_aug, train_percentage=1.0)\n",
    "URM_train_pow = dataReader.stackMatrixes(URM_train_aug)\n",
    "\n",
    "ICM_stacked_with_weighted_impressions = dataReader.load_ICM_stacked_with_weighted_impressions()\n",
    "URM_train_aug, ICM = dataReader.pad_with_zeros_given_ICMandURM(ICM_stacked_with_weighted_impressions, URM_train_aug) \n",
    "URM_train_super_pow = dataReader.load_super_powerful_URM(URM_train_aug, ICM_stacked_with_weighted_impressions, 0.8)"
   ]
  },
  {
   "cell_type": "code",
   "execution_count": 10,
   "metadata": {},
   "outputs": [
    {
     "name": "stdout",
     "output_type": "stream",
     "text": [
      "SLIMElasticNetRecommender: Processed 2282 ( 8.2%) in 5.00 min. Items per second: 7.60\n",
      "SLIMElasticNetRecommender: Processed 4467 (16.0%) in 10.00 min. Items per second: 7.44\n",
      "SLIMElasticNetRecommender: Processed 6791 (24.3%) in 15.01 min. Items per second: 7.54\n",
      "SLIMElasticNetRecommender: Processed 9203 (32.9%) in 20.01 min. Items per second: 7.67\n",
      "SLIMElasticNetRecommender: Processed 11670 (41.7%) in 25.01 min. Items per second: 7.78\n",
      "SLIMElasticNetRecommender: Processed 14042 (50.2%) in 30.01 min. Items per second: 7.80\n",
      "SLIMElasticNetRecommender: Processed 16445 (58.8%) in 35.01 min. Items per second: 7.83\n",
      "SLIMElasticNetRecommender: Processed 18841 (67.4%) in 40.01 min. Items per second: 7.85\n",
      "SLIMElasticNetRecommender: Processed 21166 (75.7%) in 45.01 min. Items per second: 7.84\n",
      "SLIMElasticNetRecommender: Processed 23602 (84.4%) in 50.01 min. Items per second: 7.86\n",
      "SLIMElasticNetRecommender: Processed 27968 (100.0%) in 54.32 min. Items per second: 8.58\n"
     ]
    }
   ],
   "source": [
    "SSLIM_pow = SLIMElasticNetRecommender(URM_train_pow)\n",
    "SSLIM_pow.fit()"
   ]
  },
  {
   "cell_type": "code",
   "execution_count": 11,
   "metadata": {},
   "outputs": [
    {
     "name": "stdout",
     "output_type": "stream",
     "text": [
      "SLIMElasticNetRecommender: Processed 1746 ( 6.4%) in 5.00 min. Items per second: 5.82\n",
      "SLIMElasticNetRecommender: Processed 3571 (13.1%) in 10.00 min. Items per second: 5.95\n",
      "SLIMElasticNetRecommender: Processed 5488 (20.1%) in 15.00 min. Items per second: 6.10\n",
      "SLIMElasticNetRecommender: Processed 7319 (26.8%) in 20.01 min. Items per second: 6.10\n",
      "SLIMElasticNetRecommender: Processed 9170 (33.6%) in 25.01 min. Items per second: 6.11\n",
      "SLIMElasticNetRecommender: Processed 10972 (40.2%) in 30.01 min. Items per second: 6.09\n",
      "SLIMElasticNetRecommender: Processed 12603 (46.2%) in 35.01 min. Items per second: 6.00\n",
      "SLIMElasticNetRecommender: Processed 13511 (49.5%) in 1.04 hour. Items per second: 3.62\n",
      "SLIMElasticNetRecommender: Processed 14257 (52.2%) in 1.12 hour. Items per second: 3.53\n",
      "SLIMElasticNetRecommender: Processed 15128 (55.4%) in 1.20 hour. Items per second: 3.49\n",
      "SLIMElasticNetRecommender: Processed 15951 (58.4%) in 1.29 hour. Items per second: 3.44\n",
      "SLIMElasticNetRecommender: Processed 16941 (62.1%) in 1.37 hour. Items per second: 3.43\n",
      "SLIMElasticNetRecommender: Processed 17807 (65.2%) in 1.45 hour. Items per second: 3.40\n",
      "SLIMElasticNetRecommender: Processed 18570 (68.0%) in 1.54 hour. Items per second: 3.36\n",
      "SLIMElasticNetRecommender: Processed 19328 (70.8%) in 1.62 hour. Items per second: 3.31\n",
      "SLIMElasticNetRecommender: Processed 20128 (73.8%) in 1.70 hour. Items per second: 3.28\n",
      "SLIMElasticNetRecommender: Processed 20703 (75.9%) in 1.79 hour. Items per second: 3.22\n",
      "SLIMElasticNetRecommender: Processed 21239 (77.8%) in 1.87 hour. Items per second: 3.15\n",
      "SLIMElasticNetRecommender: Processed 21796 (79.9%) in 1.95 hour. Items per second: 3.10\n",
      "SLIMElasticNetRecommender: Processed 22511 (82.5%) in 2.04 hour. Items per second: 3.07\n",
      "SLIMElasticNetRecommender: Processed 23121 (84.7%) in 2.12 hour. Items per second: 3.03\n",
      "SLIMElasticNetRecommender: Processed 23720 (86.9%) in 2.20 hour. Items per second: 2.99\n",
      "SLIMElasticNetRecommender: Processed 24350 (89.2%) in 2.29 hour. Items per second: 2.96\n",
      "SLIMElasticNetRecommender: Processed 26084 (95.6%) in 2.37 hour. Items per second: 3.06\n",
      "SLIMElasticNetRecommender: Processed 27292 (100.0%) in 2.42 hour. Items per second: 3.14\n"
     ]
    }
   ],
   "source": [
    "SSLIM_super_pow = SLIMElasticNetRecommender(URM_train_super_pow)\n",
    "SSLIM_super_pow.fit(l1_ratio=0.01,alpha=0.001, topK=870)"
   ]
  },
  {
   "cell_type": "code",
   "execution_count": 13,
   "metadata": {},
   "outputs": [
    {
     "name": "stdout",
     "output_type": "stream",
     "text": [
      "ListCombinationHybrid: URM Detected 2785 (10.2%) items with no interactions.\n"
     ]
    },
    {
     "name": "stderr",
     "output_type": "stream",
     "text": [
      "100%|██████████| 41116/41116 [04:21<00:00, 157.39it/s]\n",
      "  0%|          | 0/41116 [00:00<?, ?it/s]\n"
     ]
    },
    {
     "ename": "IndexError",
     "evalue": "index 0 is out of bounds for axis 0 with size 0",
     "output_type": "error",
     "traceback": [
      "\u001b[1;31m---------------------------------------------------------------------------\u001b[0m",
      "\u001b[1;31mIndexError\u001b[0m                                Traceback (most recent call last)",
      "Cell \u001b[1;32mIn [13], line 15\u001b[0m\n\u001b[0;32m     12\u001b[0m     f\u001b[39m.\u001b[39mwrite(\u001b[39mf\u001b[39m\u001b[39m\"\u001b[39m\u001b[39m{\u001b[39;00muser_id\u001b[39m}\u001b[39;00m\u001b[39m, \u001b[39m\u001b[39m{\u001b[39;00mwell_formatted\u001b[39m}\u001b[39;00m\u001b[39m\\n\u001b[39;00m\u001b[39m\"\u001b[39m)\n\u001b[0;32m     14\u001b[0m \u001b[39m# Evaluate recommended items\u001b[39;00m\n\u001b[1;32m---> 15\u001b[0m \u001b[39mmap\u001b[39m \u001b[39m=\u001b[39m evaluate(recommended_items_for_each_user, URM_validation, target)\n\u001b[0;32m     16\u001b[0m \u001b[39mprint\u001b[39m(\u001b[39m'\u001b[39m\u001b[39mMAP score: \u001b[39m\u001b[39m{}\u001b[39;00m\u001b[39m'\u001b[39m\u001b[39m.\u001b[39mformat(\u001b[39mmap\u001b[39m))\n",
      "File \u001b[1;32mc:\\rec-sys-challenge\\evaluator.py:27\u001b[0m, in \u001b[0;36mevaluate\u001b[1;34m(recommended_items_for_each_user, urm_test, target)\u001b[0m\n\u001b[0;32m     24\u001b[0m relevant_items \u001b[39m=\u001b[39m urm_test\u001b[39m.\u001b[39mindices[user_profile_start:user_profile_end]\n\u001b[0;32m     26\u001b[0m \u001b[39mif\u001b[39;00m relevant_items\u001b[39m.\u001b[39msize \u001b[39m==\u001b[39m \u001b[39m0\u001b[39m:\n\u001b[1;32m---> 27\u001b[0m     relevant_items \u001b[39m=\u001b[39m np\u001b[39m.\u001b[39mzeros(urm_test\u001b[39m.\u001b[39;49mindices[\u001b[39m0\u001b[39;49m])\n\u001b[0;32m     29\u001b[0m accum_map \u001b[39m+\u001b[39m\u001b[39m=\u001b[39m mean_average_precision(recommended_items_for_each_user[\u001b[39mint\u001b[39m(user_id)], relevant_items)\n\u001b[0;32m     30\u001b[0m num_users_evaluated \u001b[39m+\u001b[39m\u001b[39m=\u001b[39m \u001b[39m1\u001b[39m\n",
      "\u001b[1;31mIndexError\u001b[0m: index 0 is out of bounds for axis 0 with size 0"
     ]
    }
   ],
   "source": [
    "recommender = ListCombinationHybrid(URM_train_aug,SSLIM_pow,SSLIM_super_pow)\n",
    "recommender.fit()\n",
    "\n",
    "f = open(\"submission.csv\", \"w+\")\n",
    "f.write(\"user_id,item_list\\n\")\n",
    "recommended_items_for_each_user = {}\n",
    "for user_id in tqdm(target):\n",
    "    recommended_items = recommender.recommend(\n",
    "        user_id, cutoff=10, remove_seen_flag=True)\n",
    "    recommended_items_for_each_user[int(user_id)] = recommended_items\n",
    "    well_formatted = \" \".join([str(x) for x in recommended_items])\n",
    "    f.write(f\"{user_id}, {well_formatted}\\n\")\n",
    "\n",
    "# Evaluate recommended items\n",
    "map = evaluate(recommended_items_for_each_user, URM_validation, target)\n",
    "print('MAP score: {}'.format(map))"
   ]
  }
 ],
 "metadata": {
  "kernelspec": {
   "display_name": "Python 3",
   "language": "python",
   "name": "python3"
  },
  "language_info": {
   "codemirror_mode": {
    "name": "ipython",
    "version": 3
   },
   "file_extension": ".py",
   "mimetype": "text/x-python",
   "name": "python",
   "nbconvert_exporter": "python",
   "pygments_lexer": "ipython3",
   "version": "3.10.8"
  },
  "orig_nbformat": 4,
  "vscode": {
   "interpreter": {
    "hash": "6847c98a8f86b01c6a19c518cd2f366693b80566b266804d5ca763cbb223f52b"
   }
  }
 },
 "nbformat": 4,
 "nbformat_minor": 2
}
